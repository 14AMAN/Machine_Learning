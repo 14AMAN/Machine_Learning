{
 "cells": [
  {
   "cell_type": "markdown",
   "metadata": {},
   "source": [
    "___\n",
    "\n",
    "<a href='http://www.pieriandata.com'> <img src='../Pierian_Data_Logo.png' /></a>\n",
    "___\n",
    "# Plotly and Cufflinks"
   ]
  },
  {
   "cell_type": "markdown",
   "metadata": {},
   "source": [
    "Plotly is a library that allows you to create interactive plots that you can use in dashboards or websites (you can save them as html files or static images).\n",
    "\n",
    "## Installation\n",
    "\n",
    "In order for this all to work, you'll need to install plotly and cufflinks to call plots directly off of a pandas dataframe. These libraries are not currently available through **conda** but are available through **pip**. Install the libraries at your command line/terminal using:\n",
    "\n",
    "    pip install plotly\n",
    "    pip install cufflinks\n",
    "\n",
    "** NOTE: Make sure you only have one installation of Python on your computer when you do this, otherwise the installation may not work. **\n",
    "\n",
    "## Imports and Set-up"
   ]
  },
  {
   "cell_type": "code",
   "execution_count": 1,
   "metadata": {
    "collapsed": true
   },
   "outputs": [],
   "source": [
    "import pandas as pd\n",
    "import numpy as np\n",
    "%matplotlib inline"
   ]
  },
  {
   "cell_type": "code",
   "execution_count": 2,
   "metadata": {
    "collapsed": false
   },
   "outputs": [
    {
     "name": "stdout",
     "output_type": "stream",
     "text": [
      "5.11.0\n"
     ]
    }
   ],
   "source": [
    "from plotly import __version__\n",
    "from plotly.offline import download_plotlyjs, init_notebook_mode, plot, iplot\n",
    "\n",
    "print(__version__) # requires version >= 1.9.0"
   ]
  },
  {
   "cell_type": "code",
   "execution_count": 3,
   "metadata": {
    "collapsed": true
   },
   "outputs": [],
   "source": [
    "import cufflinks as cf"
   ]
  },
  {
   "cell_type": "code",
   "execution_count": 4,
   "metadata": {
    "collapsed": false
   },
   "outputs": [
    {
     "data": {
      "text/html": [
       "        <script type=\"text/javascript\">\n",
       "        window.PlotlyConfig = {MathJaxConfig: 'local'};\n",
       "        if (window.MathJax && window.MathJax.Hub && window.MathJax.Hub.Config) {window.MathJax.Hub.Config({SVG: {font: \"STIX-Web\"}});}\n",
       "        if (typeof require !== 'undefined') {\n",
       "        require.undef(\"plotly\");\n",
       "        requirejs.config({\n",
       "            paths: {\n",
       "                'plotly': ['https://cdn.plot.ly/plotly-2.16.1.min']\n",
       "            }\n",
       "        });\n",
       "        require(['plotly'], function(Plotly) {\n",
       "            window._Plotly = Plotly;\n",
       "        });\n",
       "        }\n",
       "        </script>\n",
       "        "
      ]
     },
     "metadata": {},
     "output_type": "display_data"
    }
   ],
   "source": [
    "# For Notebooks\n",
    "init_notebook_mode(connected=True)"
   ]
  },
  {
   "cell_type": "code",
   "execution_count": 5,
   "metadata": {
    "collapsed": false
   },
   "outputs": [
    {
     "data": {
      "text/html": [
       "        <script type=\"text/javascript\">\n",
       "        window.PlotlyConfig = {MathJaxConfig: 'local'};\n",
       "        if (window.MathJax && window.MathJax.Hub && window.MathJax.Hub.Config) {window.MathJax.Hub.Config({SVG: {font: \"STIX-Web\"}});}\n",
       "        if (typeof require !== 'undefined') {\n",
       "        require.undef(\"plotly\");\n",
       "        requirejs.config({\n",
       "            paths: {\n",
       "                'plotly': ['https://cdn.plot.ly/plotly-2.16.1.min']\n",
       "            }\n",
       "        });\n",
       "        require(['plotly'], function(Plotly) {\n",
       "            window._Plotly = Plotly;\n",
       "        });\n",
       "        }\n",
       "        </script>\n",
       "        "
      ]
     },
     "metadata": {},
     "output_type": "display_data"
    }
   ],
   "source": [
    "# For offline use\n",
    "cf.go_offline()"
   ]
  },
  {
   "cell_type": "markdown",
   "metadata": {},
   "source": [
    "### Fake Data"
   ]
  },
  {
   "cell_type": "code",
   "execution_count": 6,
   "metadata": {
    "collapsed": false
   },
   "outputs": [],
   "source": [
    "df = pd.DataFrame(np.random.randn(100,4),columns='A B C D'.split())"
   ]
  },
  {
   "cell_type": "code",
   "execution_count": 7,
   "metadata": {
    "collapsed": false
   },
   "outputs": [
    {
     "data": {
      "text/html": [
       "<div>\n",
       "<style scoped>\n",
       "    .dataframe tbody tr th:only-of-type {\n",
       "        vertical-align: middle;\n",
       "    }\n",
       "\n",
       "    .dataframe tbody tr th {\n",
       "        vertical-align: top;\n",
       "    }\n",
       "\n",
       "    .dataframe thead th {\n",
       "        text-align: right;\n",
       "    }\n",
       "</style>\n",
       "<table border=\"1\" class=\"dataframe\">\n",
       "  <thead>\n",
       "    <tr style=\"text-align: right;\">\n",
       "      <th></th>\n",
       "      <th>A</th>\n",
       "      <th>B</th>\n",
       "      <th>C</th>\n",
       "      <th>D</th>\n",
       "    </tr>\n",
       "  </thead>\n",
       "  <tbody>\n",
       "    <tr>\n",
       "      <th>0</th>\n",
       "      <td>0.462571</td>\n",
       "      <td>-1.365801</td>\n",
       "      <td>0.797620</td>\n",
       "      <td>-0.016763</td>\n",
       "    </tr>\n",
       "    <tr>\n",
       "      <th>1</th>\n",
       "      <td>-0.397766</td>\n",
       "      <td>-0.635033</td>\n",
       "      <td>0.592224</td>\n",
       "      <td>0.580340</td>\n",
       "    </tr>\n",
       "    <tr>\n",
       "      <th>2</th>\n",
       "      <td>0.451348</td>\n",
       "      <td>-0.922502</td>\n",
       "      <td>-0.593656</td>\n",
       "      <td>-0.991484</td>\n",
       "    </tr>\n",
       "    <tr>\n",
       "      <th>3</th>\n",
       "      <td>-0.135870</td>\n",
       "      <td>-0.623606</td>\n",
       "      <td>0.022890</td>\n",
       "      <td>2.079745</td>\n",
       "    </tr>\n",
       "    <tr>\n",
       "      <th>4</th>\n",
       "      <td>0.866605</td>\n",
       "      <td>-0.183567</td>\n",
       "      <td>-0.736768</td>\n",
       "      <td>0.099633</td>\n",
       "    </tr>\n",
       "  </tbody>\n",
       "</table>\n",
       "</div>"
      ],
      "text/plain": [
       "          A         B         C         D\n",
       "0  0.462571 -1.365801  0.797620 -0.016763\n",
       "1 -0.397766 -0.635033  0.592224  0.580340\n",
       "2  0.451348 -0.922502 -0.593656 -0.991484\n",
       "3 -0.135870 -0.623606  0.022890  2.079745\n",
       "4  0.866605 -0.183567 -0.736768  0.099633"
      ]
     },
     "execution_count": 7,
     "metadata": {},
     "output_type": "execute_result"
    }
   ],
   "source": [
    "df.head()"
   ]
  },
  {
   "cell_type": "code",
   "execution_count": 8,
   "metadata": {
    "collapsed": true
   },
   "outputs": [],
   "source": [
    "df2 = pd.DataFrame({'Category':['A','B','C'],'Values':[32,43,50]})"
   ]
  },
  {
   "cell_type": "code",
   "execution_count": 9,
   "metadata": {
    "collapsed": false
   },
   "outputs": [
    {
     "data": {
      "text/html": [
       "<div>\n",
       "<style scoped>\n",
       "    .dataframe tbody tr th:only-of-type {\n",
       "        vertical-align: middle;\n",
       "    }\n",
       "\n",
       "    .dataframe tbody tr th {\n",
       "        vertical-align: top;\n",
       "    }\n",
       "\n",
       "    .dataframe thead th {\n",
       "        text-align: right;\n",
       "    }\n",
       "</style>\n",
       "<table border=\"1\" class=\"dataframe\">\n",
       "  <thead>\n",
       "    <tr style=\"text-align: right;\">\n",
       "      <th></th>\n",
       "      <th>Category</th>\n",
       "      <th>Values</th>\n",
       "    </tr>\n",
       "  </thead>\n",
       "  <tbody>\n",
       "    <tr>\n",
       "      <th>0</th>\n",
       "      <td>A</td>\n",
       "      <td>32</td>\n",
       "    </tr>\n",
       "    <tr>\n",
       "      <th>1</th>\n",
       "      <td>B</td>\n",
       "      <td>43</td>\n",
       "    </tr>\n",
       "    <tr>\n",
       "      <th>2</th>\n",
       "      <td>C</td>\n",
       "      <td>50</td>\n",
       "    </tr>\n",
       "  </tbody>\n",
       "</table>\n",
       "</div>"
      ],
      "text/plain": [
       "  Category  Values\n",
       "0        A      32\n",
       "1        B      43\n",
       "2        C      50"
      ]
     },
     "execution_count": 9,
     "metadata": {},
     "output_type": "execute_result"
    }
   ],
   "source": [
    "df2.head()"
   ]
  },
  {
   "cell_type": "markdown",
   "metadata": {},
   "source": [
    "## Using Cufflinks and iplot()\n",
    "\n",
    "* scatter\n",
    "* bar\n",
    "* box\n",
    "* spread\n",
    "* ratio\n",
    "* heatmap\n",
    "* surface\n",
    "* histogram\n",
    "* bubble"
   ]
  },
  {
   "cell_type": "code",
   "execution_count": 10,
   "metadata": {},
   "outputs": [],
   "source": [
    "import chart_studio.plotly as py"
   ]
  },
  {
   "cell_type": "markdown",
   "metadata": {},
   "source": [
    "## Scatter"
   ]
  },
  {
   "cell_type": "code",
   "execution_count": 11,
   "metadata": {
    "collapsed": false
   },
   "outputs": [
    {
     "data": {
      "application/vnd.plotly.v1+json": {
       "config": {
        "linkText": "Export to plot.ly",
        "plotlyServerURL": "https://plot.ly",
        "showLink": true
       },
       "data": [
        {
         "line": {
          "color": "rgba(255, 153, 51, 1.0)",
          "dash": "solid",
          "shape": "linear",
          "width": 1.3
         },
         "marker": {
          "size": 10,
          "symbol": "circle"
         },
         "mode": "markers",
         "name": "B",
         "text": "",
         "type": "scatter",
         "x": [
          0.4625705346860569,
          -0.39776559619778035,
          0.45134849134936006,
          -0.13586989136117616,
          0.8666046795885229,
          0.6915422091449416,
          0.2879465812261424,
          0.8634873175971317,
          1.0636136020541438,
          1.0253235577750899,
          -0.31709420285086765,
          0.8118393443542882,
          1.2729161314443458,
          -0.04749879992679883,
          1.6212382555696152,
          0.7432177254591762,
          -0.7540751447799475,
          -1.1785769272722304,
          0.5554718080127589,
          0.9645479280032871,
          0.8649041685720121,
          -0.5549189890831625,
          -0.6218986150027163,
          -0.7194602403736984,
          -1.802095186977993,
          -0.26678732623986573,
          2.7238387138412192,
          0.615634491260396,
          0.007579856052334232,
          1.1290262523400951,
          1.587017275445863,
          -0.9189023976589287,
          1.4725054513406621,
          -0.48301228688987907,
          -1.3304701145449986,
          1.245831392521345,
          -1.0983440758617014,
          1.180857997707036,
          0.5440386879638087,
          0.5677057464677294,
          -0.788205121339689,
          -0.3199941722674541,
          -1.2771991364799633,
          -0.743349078501879,
          -1.1417746291284483,
          -0.5475290985702707,
          -3.2223848725883575,
          -0.2510964618123027,
          -1.7800437914056828,
          0.6437766633383795,
          -0.5237843931033407,
          -0.6820156552307822,
          1.8181209386254333,
          0.43912021962870396,
          -0.5779841176830209,
          -0.49567500878627896,
          1.5736513015848792,
          -0.4849414708447617,
          -0.030582237332559874,
          -0.7159901187440891,
          0.3815770903437842,
          -0.4643215828999029,
          1.0224124071713991,
          -0.30473964077199983,
          0.5854244150705185,
          -0.8103124473453914,
          0.819934226238514,
          -1.8347336449792389,
          -0.4460340648319405,
          1.6022942645681513,
          0.2227037950171565,
          1.9715057168447414,
          0.030545883394759044,
          1.5746046212676983,
          0.6798817967772102,
          0.2054790119107006,
          0.27995172153214837,
          -1.2564946179625986,
          -1.4388162435408303,
          0.6978362478661515,
          -0.6871087225198645,
          0.03376446352296217,
          -0.07695646388334659,
          1.1057890388523681,
          -1.4005037932977615,
          -1.514307743583307,
          -1.0950729859328534,
          -0.09349612285966388,
          -2.0742756957159862,
          -0.6539147900050394,
          2.7493473960748545,
          0.9275692397287629,
          0.32009980593724974,
          0.6253393120995153,
          0.6897118991535294,
          -1.5343373827748692,
          0.6488067241950675,
          0.09499686984715128,
          0.7803587474326844,
          0.1024905534892975
         ],
         "y": [
          -1.3658007014664313,
          -0.6350333815305984,
          -0.9225023455677859,
          -0.6236056824865273,
          -0.18356722515055598,
          -0.8282112839224751,
          -0.22599933977613648,
          -0.08427485525071632,
          -0.04947484313961995,
          0.8508207630027762,
          0.018825217556514274,
          0.08608633867607307,
          -0.9244306868787607,
          0.5485609902447441,
          1.177795597249583,
          -0.10932772012243774,
          -0.6650659901184788,
          -1.130925902347371,
          1.5504806364069426,
          -0.6935904582249032,
          1.4797097592255881,
          -0.4861265117217737,
          -0.06723767178783559,
          -1.070318252028669,
          0.19010870364430227,
          1.0944945696223813,
          0.9398514074931446,
          0.9270579274216835,
          1.7420449912679339,
          -1.7737531831587297,
          0.9748891216747543,
          0.028938685164870852,
          -0.5976961395226522,
          -0.35759118356467046,
          0.6362630122762118,
          -1.6652776675816219,
          0.046058986375401345,
          0.4223155973887687,
          -1.0240020155140628,
          1.757371706965391,
          -0.23212477117625419,
          -0.5253472403215348,
          1.545594814224598,
          0.20286626452325346,
          0.9505040704125001,
          0.2836453901331043,
          0.28185143876966146,
          0.47621993897237586,
          1.6908071967334568,
          -1.6194067333772713,
          -0.6523141481185137,
          0.32419451714924846,
          -0.6437146750787236,
          -0.5613024570103383,
          0.15659926612601785,
          1.216161214738801,
          1.4669291446392254,
          0.013413375094520001,
          0.6772940970325642,
          0.0011619705075164054,
          0.4983121764774387,
          0.5178283879895301,
          0.5111314025770597,
          -0.15103715454482886,
          -0.9993029513443423,
          1.7558076345328892,
          1.309351374593043,
          -0.7444034365155567,
          -0.10722007531162517,
          -0.11448009559783312,
          3.9990147561777287,
          0.2502565660393181,
          0.22495725342868372,
          -1.126490949731758,
          -0.7515807915122932,
          1.5185709325212653,
          0.6100340654423348,
          1.0186660650065034,
          0.5133949902762628,
          0.7207257255626729,
          0.5547838573778077,
          0.18709779037151372,
          -0.4187249372207891,
          0.4067555297536765,
          0.25733156690145603,
          -0.9765654247627013,
          -1.153711505883254,
          -0.08209547748935996,
          0.27169309371179057,
          0.1921783078755945,
          -0.41618004621276505,
          0.7461979831496948,
          -1.459595403754854,
          -1.1153918522124082,
          -0.09367478466593762,
          -1.11258801156455,
          0.42426910929003386,
          -0.3534061605676554,
          0.11272144129587136,
          1.1115790414692162
         ]
        }
       ],
       "layout": {
        "legend": {
         "bgcolor": "#F5F6F9",
         "font": {
          "color": "#4D5663"
         }
        },
        "paper_bgcolor": "#F5F6F9",
        "plot_bgcolor": "#F5F6F9",
        "template": {
         "data": {
          "bar": [
           {
            "error_x": {
             "color": "#2a3f5f"
            },
            "error_y": {
             "color": "#2a3f5f"
            },
            "marker": {
             "line": {
              "color": "#E5ECF6",
              "width": 0.5
             },
             "pattern": {
              "fillmode": "overlay",
              "size": 10,
              "solidity": 0.2
             }
            },
            "type": "bar"
           }
          ],
          "barpolar": [
           {
            "marker": {
             "line": {
              "color": "#E5ECF6",
              "width": 0.5
             },
             "pattern": {
              "fillmode": "overlay",
              "size": 10,
              "solidity": 0.2
             }
            },
            "type": "barpolar"
           }
          ],
          "carpet": [
           {
            "aaxis": {
             "endlinecolor": "#2a3f5f",
             "gridcolor": "white",
             "linecolor": "white",
             "minorgridcolor": "white",
             "startlinecolor": "#2a3f5f"
            },
            "baxis": {
             "endlinecolor": "#2a3f5f",
             "gridcolor": "white",
             "linecolor": "white",
             "minorgridcolor": "white",
             "startlinecolor": "#2a3f5f"
            },
            "type": "carpet"
           }
          ],
          "choropleth": [
           {
            "colorbar": {
             "outlinewidth": 0,
             "ticks": ""
            },
            "type": "choropleth"
           }
          ],
          "contour": [
           {
            "colorbar": {
             "outlinewidth": 0,
             "ticks": ""
            },
            "colorscale": [
             [
              0,
              "#0d0887"
             ],
             [
              0.1111111111111111,
              "#46039f"
             ],
             [
              0.2222222222222222,
              "#7201a8"
             ],
             [
              0.3333333333333333,
              "#9c179e"
             ],
             [
              0.4444444444444444,
              "#bd3786"
             ],
             [
              0.5555555555555556,
              "#d8576b"
             ],
             [
              0.6666666666666666,
              "#ed7953"
             ],
             [
              0.7777777777777778,
              "#fb9f3a"
             ],
             [
              0.8888888888888888,
              "#fdca26"
             ],
             [
              1,
              "#f0f921"
             ]
            ],
            "type": "contour"
           }
          ],
          "contourcarpet": [
           {
            "colorbar": {
             "outlinewidth": 0,
             "ticks": ""
            },
            "type": "contourcarpet"
           }
          ],
          "heatmap": [
           {
            "colorbar": {
             "outlinewidth": 0,
             "ticks": ""
            },
            "colorscale": [
             [
              0,
              "#0d0887"
             ],
             [
              0.1111111111111111,
              "#46039f"
             ],
             [
              0.2222222222222222,
              "#7201a8"
             ],
             [
              0.3333333333333333,
              "#9c179e"
             ],
             [
              0.4444444444444444,
              "#bd3786"
             ],
             [
              0.5555555555555556,
              "#d8576b"
             ],
             [
              0.6666666666666666,
              "#ed7953"
             ],
             [
              0.7777777777777778,
              "#fb9f3a"
             ],
             [
              0.8888888888888888,
              "#fdca26"
             ],
             [
              1,
              "#f0f921"
             ]
            ],
            "type": "heatmap"
           }
          ],
          "heatmapgl": [
           {
            "colorbar": {
             "outlinewidth": 0,
             "ticks": ""
            },
            "colorscale": [
             [
              0,
              "#0d0887"
             ],
             [
              0.1111111111111111,
              "#46039f"
             ],
             [
              0.2222222222222222,
              "#7201a8"
             ],
             [
              0.3333333333333333,
              "#9c179e"
             ],
             [
              0.4444444444444444,
              "#bd3786"
             ],
             [
              0.5555555555555556,
              "#d8576b"
             ],
             [
              0.6666666666666666,
              "#ed7953"
             ],
             [
              0.7777777777777778,
              "#fb9f3a"
             ],
             [
              0.8888888888888888,
              "#fdca26"
             ],
             [
              1,
              "#f0f921"
             ]
            ],
            "type": "heatmapgl"
           }
          ],
          "histogram": [
           {
            "marker": {
             "pattern": {
              "fillmode": "overlay",
              "size": 10,
              "solidity": 0.2
             }
            },
            "type": "histogram"
           }
          ],
          "histogram2d": [
           {
            "colorbar": {
             "outlinewidth": 0,
             "ticks": ""
            },
            "colorscale": [
             [
              0,
              "#0d0887"
             ],
             [
              0.1111111111111111,
              "#46039f"
             ],
             [
              0.2222222222222222,
              "#7201a8"
             ],
             [
              0.3333333333333333,
              "#9c179e"
             ],
             [
              0.4444444444444444,
              "#bd3786"
             ],
             [
              0.5555555555555556,
              "#d8576b"
             ],
             [
              0.6666666666666666,
              "#ed7953"
             ],
             [
              0.7777777777777778,
              "#fb9f3a"
             ],
             [
              0.8888888888888888,
              "#fdca26"
             ],
             [
              1,
              "#f0f921"
             ]
            ],
            "type": "histogram2d"
           }
          ],
          "histogram2dcontour": [
           {
            "colorbar": {
             "outlinewidth": 0,
             "ticks": ""
            },
            "colorscale": [
             [
              0,
              "#0d0887"
             ],
             [
              0.1111111111111111,
              "#46039f"
             ],
             [
              0.2222222222222222,
              "#7201a8"
             ],
             [
              0.3333333333333333,
              "#9c179e"
             ],
             [
              0.4444444444444444,
              "#bd3786"
             ],
             [
              0.5555555555555556,
              "#d8576b"
             ],
             [
              0.6666666666666666,
              "#ed7953"
             ],
             [
              0.7777777777777778,
              "#fb9f3a"
             ],
             [
              0.8888888888888888,
              "#fdca26"
             ],
             [
              1,
              "#f0f921"
             ]
            ],
            "type": "histogram2dcontour"
           }
          ],
          "mesh3d": [
           {
            "colorbar": {
             "outlinewidth": 0,
             "ticks": ""
            },
            "type": "mesh3d"
           }
          ],
          "parcoords": [
           {
            "line": {
             "colorbar": {
              "outlinewidth": 0,
              "ticks": ""
             }
            },
            "type": "parcoords"
           }
          ],
          "pie": [
           {
            "automargin": true,
            "type": "pie"
           }
          ],
          "scatter": [
           {
            "fillpattern": {
             "fillmode": "overlay",
             "size": 10,
             "solidity": 0.2
            },
            "type": "scatter"
           }
          ],
          "scatter3d": [
           {
            "line": {
             "colorbar": {
              "outlinewidth": 0,
              "ticks": ""
             }
            },
            "marker": {
             "colorbar": {
              "outlinewidth": 0,
              "ticks": ""
             }
            },
            "type": "scatter3d"
           }
          ],
          "scattercarpet": [
           {
            "marker": {
             "colorbar": {
              "outlinewidth": 0,
              "ticks": ""
             }
            },
            "type": "scattercarpet"
           }
          ],
          "scattergeo": [
           {
            "marker": {
             "colorbar": {
              "outlinewidth": 0,
              "ticks": ""
             }
            },
            "type": "scattergeo"
           }
          ],
          "scattergl": [
           {
            "marker": {
             "colorbar": {
              "outlinewidth": 0,
              "ticks": ""
             }
            },
            "type": "scattergl"
           }
          ],
          "scattermapbox": [
           {
            "marker": {
             "colorbar": {
              "outlinewidth": 0,
              "ticks": ""
             }
            },
            "type": "scattermapbox"
           }
          ],
          "scatterpolar": [
           {
            "marker": {
             "colorbar": {
              "outlinewidth": 0,
              "ticks": ""
             }
            },
            "type": "scatterpolar"
           }
          ],
          "scatterpolargl": [
           {
            "marker": {
             "colorbar": {
              "outlinewidth": 0,
              "ticks": ""
             }
            },
            "type": "scatterpolargl"
           }
          ],
          "scatterternary": [
           {
            "marker": {
             "colorbar": {
              "outlinewidth": 0,
              "ticks": ""
             }
            },
            "type": "scatterternary"
           }
          ],
          "surface": [
           {
            "colorbar": {
             "outlinewidth": 0,
             "ticks": ""
            },
            "colorscale": [
             [
              0,
              "#0d0887"
             ],
             [
              0.1111111111111111,
              "#46039f"
             ],
             [
              0.2222222222222222,
              "#7201a8"
             ],
             [
              0.3333333333333333,
              "#9c179e"
             ],
             [
              0.4444444444444444,
              "#bd3786"
             ],
             [
              0.5555555555555556,
              "#d8576b"
             ],
             [
              0.6666666666666666,
              "#ed7953"
             ],
             [
              0.7777777777777778,
              "#fb9f3a"
             ],
             [
              0.8888888888888888,
              "#fdca26"
             ],
             [
              1,
              "#f0f921"
             ]
            ],
            "type": "surface"
           }
          ],
          "table": [
           {
            "cells": {
             "fill": {
              "color": "#EBF0F8"
             },
             "line": {
              "color": "white"
             }
            },
            "header": {
             "fill": {
              "color": "#C8D4E3"
             },
             "line": {
              "color": "white"
             }
            },
            "type": "table"
           }
          ]
         },
         "layout": {
          "annotationdefaults": {
           "arrowcolor": "#2a3f5f",
           "arrowhead": 0,
           "arrowwidth": 1
          },
          "autotypenumbers": "strict",
          "coloraxis": {
           "colorbar": {
            "outlinewidth": 0,
            "ticks": ""
           }
          },
          "colorscale": {
           "diverging": [
            [
             0,
             "#8e0152"
            ],
            [
             0.1,
             "#c51b7d"
            ],
            [
             0.2,
             "#de77ae"
            ],
            [
             0.3,
             "#f1b6da"
            ],
            [
             0.4,
             "#fde0ef"
            ],
            [
             0.5,
             "#f7f7f7"
            ],
            [
             0.6,
             "#e6f5d0"
            ],
            [
             0.7,
             "#b8e186"
            ],
            [
             0.8,
             "#7fbc41"
            ],
            [
             0.9,
             "#4d9221"
            ],
            [
             1,
             "#276419"
            ]
           ],
           "sequential": [
            [
             0,
             "#0d0887"
            ],
            [
             0.1111111111111111,
             "#46039f"
            ],
            [
             0.2222222222222222,
             "#7201a8"
            ],
            [
             0.3333333333333333,
             "#9c179e"
            ],
            [
             0.4444444444444444,
             "#bd3786"
            ],
            [
             0.5555555555555556,
             "#d8576b"
            ],
            [
             0.6666666666666666,
             "#ed7953"
            ],
            [
             0.7777777777777778,
             "#fb9f3a"
            ],
            [
             0.8888888888888888,
             "#fdca26"
            ],
            [
             1,
             "#f0f921"
            ]
           ],
           "sequentialminus": [
            [
             0,
             "#0d0887"
            ],
            [
             0.1111111111111111,
             "#46039f"
            ],
            [
             0.2222222222222222,
             "#7201a8"
            ],
            [
             0.3333333333333333,
             "#9c179e"
            ],
            [
             0.4444444444444444,
             "#bd3786"
            ],
            [
             0.5555555555555556,
             "#d8576b"
            ],
            [
             0.6666666666666666,
             "#ed7953"
            ],
            [
             0.7777777777777778,
             "#fb9f3a"
            ],
            [
             0.8888888888888888,
             "#fdca26"
            ],
            [
             1,
             "#f0f921"
            ]
           ]
          },
          "colorway": [
           "#636efa",
           "#EF553B",
           "#00cc96",
           "#ab63fa",
           "#FFA15A",
           "#19d3f3",
           "#FF6692",
           "#B6E880",
           "#FF97FF",
           "#FECB52"
          ],
          "font": {
           "color": "#2a3f5f"
          },
          "geo": {
           "bgcolor": "white",
           "lakecolor": "white",
           "landcolor": "#E5ECF6",
           "showlakes": true,
           "showland": true,
           "subunitcolor": "white"
          },
          "hoverlabel": {
           "align": "left"
          },
          "hovermode": "closest",
          "mapbox": {
           "style": "light"
          },
          "paper_bgcolor": "white",
          "plot_bgcolor": "#E5ECF6",
          "polar": {
           "angularaxis": {
            "gridcolor": "white",
            "linecolor": "white",
            "ticks": ""
           },
           "bgcolor": "#E5ECF6",
           "radialaxis": {
            "gridcolor": "white",
            "linecolor": "white",
            "ticks": ""
           }
          },
          "scene": {
           "xaxis": {
            "backgroundcolor": "#E5ECF6",
            "gridcolor": "white",
            "gridwidth": 2,
            "linecolor": "white",
            "showbackground": true,
            "ticks": "",
            "zerolinecolor": "white"
           },
           "yaxis": {
            "backgroundcolor": "#E5ECF6",
            "gridcolor": "white",
            "gridwidth": 2,
            "linecolor": "white",
            "showbackground": true,
            "ticks": "",
            "zerolinecolor": "white"
           },
           "zaxis": {
            "backgroundcolor": "#E5ECF6",
            "gridcolor": "white",
            "gridwidth": 2,
            "linecolor": "white",
            "showbackground": true,
            "ticks": "",
            "zerolinecolor": "white"
           }
          },
          "shapedefaults": {
           "line": {
            "color": "#2a3f5f"
           }
          },
          "ternary": {
           "aaxis": {
            "gridcolor": "white",
            "linecolor": "white",
            "ticks": ""
           },
           "baxis": {
            "gridcolor": "white",
            "linecolor": "white",
            "ticks": ""
           },
           "bgcolor": "#E5ECF6",
           "caxis": {
            "gridcolor": "white",
            "linecolor": "white",
            "ticks": ""
           }
          },
          "title": {
           "x": 0.05
          },
          "xaxis": {
           "automargin": true,
           "gridcolor": "white",
           "linecolor": "white",
           "ticks": "",
           "title": {
            "standoff": 15
           },
           "zerolinecolor": "white",
           "zerolinewidth": 2
          },
          "yaxis": {
           "automargin": true,
           "gridcolor": "white",
           "linecolor": "white",
           "ticks": "",
           "title": {
            "standoff": 15
           },
           "zerolinecolor": "white",
           "zerolinewidth": 2
          }
         }
        },
        "title": {
         "font": {
          "color": "#4D5663"
         }
        },
        "xaxis": {
         "gridcolor": "#E1E5ED",
         "showgrid": true,
         "tickfont": {
          "color": "#4D5663"
         },
         "title": {
          "font": {
           "color": "#4D5663"
          },
          "text": ""
         },
         "zerolinecolor": "#E1E5ED"
        },
        "yaxis": {
         "gridcolor": "#E1E5ED",
         "showgrid": true,
         "tickfont": {
          "color": "#4D5663"
         },
         "title": {
          "font": {
           "color": "#4D5663"
          },
          "text": ""
         },
         "zerolinecolor": "#E1E5ED"
        }
       }
      },
      "text/html": [
       "<div>                            <div id=\"46e99f29-8571-4126-bbd6-fbb24feb15cd\" class=\"plotly-graph-div\" style=\"height:525px; width:100%;\"></div>            <script type=\"text/javascript\">                require([\"plotly\"], function(Plotly) {                    window.PLOTLYENV=window.PLOTLYENV || {};\n",
       "                    window.PLOTLYENV.BASE_URL='https://plot.ly';                                    if (document.getElementById(\"46e99f29-8571-4126-bbd6-fbb24feb15cd\")) {                    Plotly.newPlot(                        \"46e99f29-8571-4126-bbd6-fbb24feb15cd\",                        [{\"line\":{\"color\":\"rgba(255, 153, 51, 1.0)\",\"dash\":\"solid\",\"shape\":\"linear\",\"width\":1.3},\"marker\":{\"size\":10,\"symbol\":\"circle\"},\"mode\":\"markers\",\"name\":\"B\",\"text\":\"\",\"x\":[0.4625705346860569,-0.39776559619778035,0.45134849134936006,-0.13586989136117616,0.8666046795885229,0.6915422091449416,0.2879465812261424,0.8634873175971317,1.0636136020541438,1.0253235577750899,-0.31709420285086765,0.8118393443542882,1.2729161314443458,-0.04749879992679883,1.6212382555696152,0.7432177254591762,-0.7540751447799475,-1.1785769272722304,0.5554718080127589,0.9645479280032871,0.8649041685720121,-0.5549189890831625,-0.6218986150027163,-0.7194602403736984,-1.802095186977993,-0.26678732623986573,2.7238387138412192,0.615634491260396,0.007579856052334232,1.1290262523400951,1.587017275445863,-0.9189023976589287,1.4725054513406621,-0.48301228688987907,-1.3304701145449986,1.245831392521345,-1.0983440758617014,1.180857997707036,0.5440386879638087,0.5677057464677294,-0.788205121339689,-0.3199941722674541,-1.2771991364799633,-0.743349078501879,-1.1417746291284483,-0.5475290985702707,-3.2223848725883575,-0.2510964618123027,-1.7800437914056828,0.6437766633383795,-0.5237843931033407,-0.6820156552307822,1.8181209386254333,0.43912021962870396,-0.5779841176830209,-0.49567500878627896,1.5736513015848792,-0.4849414708447617,-0.030582237332559874,-0.7159901187440891,0.3815770903437842,-0.4643215828999029,1.0224124071713991,-0.30473964077199983,0.5854244150705185,-0.8103124473453914,0.819934226238514,-1.8347336449792389,-0.4460340648319405,1.6022942645681513,0.2227037950171565,1.9715057168447414,0.030545883394759044,1.5746046212676983,0.6798817967772102,0.2054790119107006,0.27995172153214837,-1.2564946179625986,-1.4388162435408303,0.6978362478661515,-0.6871087225198645,0.03376446352296217,-0.07695646388334659,1.1057890388523681,-1.4005037932977615,-1.514307743583307,-1.0950729859328534,-0.09349612285966388,-2.0742756957159862,-0.6539147900050394,2.7493473960748545,0.9275692397287629,0.32009980593724974,0.6253393120995153,0.6897118991535294,-1.5343373827748692,0.6488067241950675,0.09499686984715128,0.7803587474326844,0.1024905534892975],\"y\":[-1.3658007014664313,-0.6350333815305984,-0.9225023455677859,-0.6236056824865273,-0.18356722515055598,-0.8282112839224751,-0.22599933977613648,-0.08427485525071632,-0.04947484313961995,0.8508207630027762,0.018825217556514274,0.08608633867607307,-0.9244306868787607,0.5485609902447441,1.177795597249583,-0.10932772012243774,-0.6650659901184788,-1.130925902347371,1.5504806364069426,-0.6935904582249032,1.4797097592255881,-0.4861265117217737,-0.06723767178783559,-1.070318252028669,0.19010870364430227,1.0944945696223813,0.9398514074931446,0.9270579274216835,1.7420449912679339,-1.7737531831587297,0.9748891216747543,0.028938685164870852,-0.5976961395226522,-0.35759118356467046,0.6362630122762118,-1.6652776675816219,0.046058986375401345,0.4223155973887687,-1.0240020155140628,1.757371706965391,-0.23212477117625419,-0.5253472403215348,1.545594814224598,0.20286626452325346,0.9505040704125001,0.2836453901331043,0.28185143876966146,0.47621993897237586,1.6908071967334568,-1.6194067333772713,-0.6523141481185137,0.32419451714924846,-0.6437146750787236,-0.5613024570103383,0.15659926612601785,1.216161214738801,1.4669291446392254,0.013413375094520001,0.6772940970325642,0.0011619705075164054,0.4983121764774387,0.5178283879895301,0.5111314025770597,-0.15103715454482886,-0.9993029513443423,1.7558076345328892,1.309351374593043,-0.7444034365155567,-0.10722007531162517,-0.11448009559783312,3.9990147561777287,0.2502565660393181,0.22495725342868372,-1.126490949731758,-0.7515807915122932,1.5185709325212653,0.6100340654423348,1.0186660650065034,0.5133949902762628,0.7207257255626729,0.5547838573778077,0.18709779037151372,-0.4187249372207891,0.4067555297536765,0.25733156690145603,-0.9765654247627013,-1.153711505883254,-0.08209547748935996,0.27169309371179057,0.1921783078755945,-0.41618004621276505,0.7461979831496948,-1.459595403754854,-1.1153918522124082,-0.09367478466593762,-1.11258801156455,0.42426910929003386,-0.3534061605676554,0.11272144129587136,1.1115790414692162],\"type\":\"scatter\"}],                        {\"legend\":{\"bgcolor\":\"#F5F6F9\",\"font\":{\"color\":\"#4D5663\"}},\"paper_bgcolor\":\"#F5F6F9\",\"plot_bgcolor\":\"#F5F6F9\",\"template\":{\"data\":{\"barpolar\":[{\"marker\":{\"line\":{\"color\":\"#E5ECF6\",\"width\":0.5},\"pattern\":{\"fillmode\":\"overlay\",\"size\":10,\"solidity\":0.2}},\"type\":\"barpolar\"}],\"bar\":[{\"error_x\":{\"color\":\"#2a3f5f\"},\"error_y\":{\"color\":\"#2a3f5f\"},\"marker\":{\"line\":{\"color\":\"#E5ECF6\",\"width\":0.5},\"pattern\":{\"fillmode\":\"overlay\",\"size\":10,\"solidity\":0.2}},\"type\":\"bar\"}],\"carpet\":[{\"aaxis\":{\"endlinecolor\":\"#2a3f5f\",\"gridcolor\":\"white\",\"linecolor\":\"white\",\"minorgridcolor\":\"white\",\"startlinecolor\":\"#2a3f5f\"},\"baxis\":{\"endlinecolor\":\"#2a3f5f\",\"gridcolor\":\"white\",\"linecolor\":\"white\",\"minorgridcolor\":\"white\",\"startlinecolor\":\"#2a3f5f\"},\"type\":\"carpet\"}],\"choropleth\":[{\"colorbar\":{\"outlinewidth\":0,\"ticks\":\"\"},\"type\":\"choropleth\"}],\"contourcarpet\":[{\"colorbar\":{\"outlinewidth\":0,\"ticks\":\"\"},\"type\":\"contourcarpet\"}],\"contour\":[{\"colorbar\":{\"outlinewidth\":0,\"ticks\":\"\"},\"colorscale\":[[0.0,\"#0d0887\"],[0.1111111111111111,\"#46039f\"],[0.2222222222222222,\"#7201a8\"],[0.3333333333333333,\"#9c179e\"],[0.4444444444444444,\"#bd3786\"],[0.5555555555555556,\"#d8576b\"],[0.6666666666666666,\"#ed7953\"],[0.7777777777777778,\"#fb9f3a\"],[0.8888888888888888,\"#fdca26\"],[1.0,\"#f0f921\"]],\"type\":\"contour\"}],\"heatmapgl\":[{\"colorbar\":{\"outlinewidth\":0,\"ticks\":\"\"},\"colorscale\":[[0.0,\"#0d0887\"],[0.1111111111111111,\"#46039f\"],[0.2222222222222222,\"#7201a8\"],[0.3333333333333333,\"#9c179e\"],[0.4444444444444444,\"#bd3786\"],[0.5555555555555556,\"#d8576b\"],[0.6666666666666666,\"#ed7953\"],[0.7777777777777778,\"#fb9f3a\"],[0.8888888888888888,\"#fdca26\"],[1.0,\"#f0f921\"]],\"type\":\"heatmapgl\"}],\"heatmap\":[{\"colorbar\":{\"outlinewidth\":0,\"ticks\":\"\"},\"colorscale\":[[0.0,\"#0d0887\"],[0.1111111111111111,\"#46039f\"],[0.2222222222222222,\"#7201a8\"],[0.3333333333333333,\"#9c179e\"],[0.4444444444444444,\"#bd3786\"],[0.5555555555555556,\"#d8576b\"],[0.6666666666666666,\"#ed7953\"],[0.7777777777777778,\"#fb9f3a\"],[0.8888888888888888,\"#fdca26\"],[1.0,\"#f0f921\"]],\"type\":\"heatmap\"}],\"histogram2dcontour\":[{\"colorbar\":{\"outlinewidth\":0,\"ticks\":\"\"},\"colorscale\":[[0.0,\"#0d0887\"],[0.1111111111111111,\"#46039f\"],[0.2222222222222222,\"#7201a8\"],[0.3333333333333333,\"#9c179e\"],[0.4444444444444444,\"#bd3786\"],[0.5555555555555556,\"#d8576b\"],[0.6666666666666666,\"#ed7953\"],[0.7777777777777778,\"#fb9f3a\"],[0.8888888888888888,\"#fdca26\"],[1.0,\"#f0f921\"]],\"type\":\"histogram2dcontour\"}],\"histogram2d\":[{\"colorbar\":{\"outlinewidth\":0,\"ticks\":\"\"},\"colorscale\":[[0.0,\"#0d0887\"],[0.1111111111111111,\"#46039f\"],[0.2222222222222222,\"#7201a8\"],[0.3333333333333333,\"#9c179e\"],[0.4444444444444444,\"#bd3786\"],[0.5555555555555556,\"#d8576b\"],[0.6666666666666666,\"#ed7953\"],[0.7777777777777778,\"#fb9f3a\"],[0.8888888888888888,\"#fdca26\"],[1.0,\"#f0f921\"]],\"type\":\"histogram2d\"}],\"histogram\":[{\"marker\":{\"pattern\":{\"fillmode\":\"overlay\",\"size\":10,\"solidity\":0.2}},\"type\":\"histogram\"}],\"mesh3d\":[{\"colorbar\":{\"outlinewidth\":0,\"ticks\":\"\"},\"type\":\"mesh3d\"}],\"parcoords\":[{\"line\":{\"colorbar\":{\"outlinewidth\":0,\"ticks\":\"\"}},\"type\":\"parcoords\"}],\"pie\":[{\"automargin\":true,\"type\":\"pie\"}],\"scatter3d\":[{\"line\":{\"colorbar\":{\"outlinewidth\":0,\"ticks\":\"\"}},\"marker\":{\"colorbar\":{\"outlinewidth\":0,\"ticks\":\"\"}},\"type\":\"scatter3d\"}],\"scattercarpet\":[{\"marker\":{\"colorbar\":{\"outlinewidth\":0,\"ticks\":\"\"}},\"type\":\"scattercarpet\"}],\"scattergeo\":[{\"marker\":{\"colorbar\":{\"outlinewidth\":0,\"ticks\":\"\"}},\"type\":\"scattergeo\"}],\"scattergl\":[{\"marker\":{\"colorbar\":{\"outlinewidth\":0,\"ticks\":\"\"}},\"type\":\"scattergl\"}],\"scattermapbox\":[{\"marker\":{\"colorbar\":{\"outlinewidth\":0,\"ticks\":\"\"}},\"type\":\"scattermapbox\"}],\"scatterpolargl\":[{\"marker\":{\"colorbar\":{\"outlinewidth\":0,\"ticks\":\"\"}},\"type\":\"scatterpolargl\"}],\"scatterpolar\":[{\"marker\":{\"colorbar\":{\"outlinewidth\":0,\"ticks\":\"\"}},\"type\":\"scatterpolar\"}],\"scatter\":[{\"fillpattern\":{\"fillmode\":\"overlay\",\"size\":10,\"solidity\":0.2},\"type\":\"scatter\"}],\"scatterternary\":[{\"marker\":{\"colorbar\":{\"outlinewidth\":0,\"ticks\":\"\"}},\"type\":\"scatterternary\"}],\"surface\":[{\"colorbar\":{\"outlinewidth\":0,\"ticks\":\"\"},\"colorscale\":[[0.0,\"#0d0887\"],[0.1111111111111111,\"#46039f\"],[0.2222222222222222,\"#7201a8\"],[0.3333333333333333,\"#9c179e\"],[0.4444444444444444,\"#bd3786\"],[0.5555555555555556,\"#d8576b\"],[0.6666666666666666,\"#ed7953\"],[0.7777777777777778,\"#fb9f3a\"],[0.8888888888888888,\"#fdca26\"],[1.0,\"#f0f921\"]],\"type\":\"surface\"}],\"table\":[{\"cells\":{\"fill\":{\"color\":\"#EBF0F8\"},\"line\":{\"color\":\"white\"}},\"header\":{\"fill\":{\"color\":\"#C8D4E3\"},\"line\":{\"color\":\"white\"}},\"type\":\"table\"}]},\"layout\":{\"annotationdefaults\":{\"arrowcolor\":\"#2a3f5f\",\"arrowhead\":0,\"arrowwidth\":1},\"autotypenumbers\":\"strict\",\"coloraxis\":{\"colorbar\":{\"outlinewidth\":0,\"ticks\":\"\"}},\"colorscale\":{\"diverging\":[[0,\"#8e0152\"],[0.1,\"#c51b7d\"],[0.2,\"#de77ae\"],[0.3,\"#f1b6da\"],[0.4,\"#fde0ef\"],[0.5,\"#f7f7f7\"],[0.6,\"#e6f5d0\"],[0.7,\"#b8e186\"],[0.8,\"#7fbc41\"],[0.9,\"#4d9221\"],[1,\"#276419\"]],\"sequential\":[[0.0,\"#0d0887\"],[0.1111111111111111,\"#46039f\"],[0.2222222222222222,\"#7201a8\"],[0.3333333333333333,\"#9c179e\"],[0.4444444444444444,\"#bd3786\"],[0.5555555555555556,\"#d8576b\"],[0.6666666666666666,\"#ed7953\"],[0.7777777777777778,\"#fb9f3a\"],[0.8888888888888888,\"#fdca26\"],[1.0,\"#f0f921\"]],\"sequentialminus\":[[0.0,\"#0d0887\"],[0.1111111111111111,\"#46039f\"],[0.2222222222222222,\"#7201a8\"],[0.3333333333333333,\"#9c179e\"],[0.4444444444444444,\"#bd3786\"],[0.5555555555555556,\"#d8576b\"],[0.6666666666666666,\"#ed7953\"],[0.7777777777777778,\"#fb9f3a\"],[0.8888888888888888,\"#fdca26\"],[1.0,\"#f0f921\"]]},\"colorway\":[\"#636efa\",\"#EF553B\",\"#00cc96\",\"#ab63fa\",\"#FFA15A\",\"#19d3f3\",\"#FF6692\",\"#B6E880\",\"#FF97FF\",\"#FECB52\"],\"font\":{\"color\":\"#2a3f5f\"},\"geo\":{\"bgcolor\":\"white\",\"lakecolor\":\"white\",\"landcolor\":\"#E5ECF6\",\"showlakes\":true,\"showland\":true,\"subunitcolor\":\"white\"},\"hoverlabel\":{\"align\":\"left\"},\"hovermode\":\"closest\",\"mapbox\":{\"style\":\"light\"},\"paper_bgcolor\":\"white\",\"plot_bgcolor\":\"#E5ECF6\",\"polar\":{\"angularaxis\":{\"gridcolor\":\"white\",\"linecolor\":\"white\",\"ticks\":\"\"},\"bgcolor\":\"#E5ECF6\",\"radialaxis\":{\"gridcolor\":\"white\",\"linecolor\":\"white\",\"ticks\":\"\"}},\"scene\":{\"xaxis\":{\"backgroundcolor\":\"#E5ECF6\",\"gridcolor\":\"white\",\"gridwidth\":2,\"linecolor\":\"white\",\"showbackground\":true,\"ticks\":\"\",\"zerolinecolor\":\"white\"},\"yaxis\":{\"backgroundcolor\":\"#E5ECF6\",\"gridcolor\":\"white\",\"gridwidth\":2,\"linecolor\":\"white\",\"showbackground\":true,\"ticks\":\"\",\"zerolinecolor\":\"white\"},\"zaxis\":{\"backgroundcolor\":\"#E5ECF6\",\"gridcolor\":\"white\",\"gridwidth\":2,\"linecolor\":\"white\",\"showbackground\":true,\"ticks\":\"\",\"zerolinecolor\":\"white\"}},\"shapedefaults\":{\"line\":{\"color\":\"#2a3f5f\"}},\"ternary\":{\"aaxis\":{\"gridcolor\":\"white\",\"linecolor\":\"white\",\"ticks\":\"\"},\"baxis\":{\"gridcolor\":\"white\",\"linecolor\":\"white\",\"ticks\":\"\"},\"bgcolor\":\"#E5ECF6\",\"caxis\":{\"gridcolor\":\"white\",\"linecolor\":\"white\",\"ticks\":\"\"}},\"title\":{\"x\":0.05},\"xaxis\":{\"automargin\":true,\"gridcolor\":\"white\",\"linecolor\":\"white\",\"ticks\":\"\",\"title\":{\"standoff\":15},\"zerolinecolor\":\"white\",\"zerolinewidth\":2},\"yaxis\":{\"automargin\":true,\"gridcolor\":\"white\",\"linecolor\":\"white\",\"ticks\":\"\",\"title\":{\"standoff\":15},\"zerolinecolor\":\"white\",\"zerolinewidth\":2}}},\"title\":{\"font\":{\"color\":\"#4D5663\"}},\"xaxis\":{\"gridcolor\":\"#E1E5ED\",\"showgrid\":true,\"tickfont\":{\"color\":\"#4D5663\"},\"title\":{\"font\":{\"color\":\"#4D5663\"},\"text\":\"\"},\"zerolinecolor\":\"#E1E5ED\"},\"yaxis\":{\"gridcolor\":\"#E1E5ED\",\"showgrid\":true,\"tickfont\":{\"color\":\"#4D5663\"},\"title\":{\"font\":{\"color\":\"#4D5663\"},\"text\":\"\"},\"zerolinecolor\":\"#E1E5ED\"}},                        {\"showLink\": true, \"linkText\": \"Export to plot.ly\", \"plotlyServerURL\": \"https://plot.ly\", \"responsive\": true}                    ).then(function(){\n",
       "                            \n",
       "var gd = document.getElementById('46e99f29-8571-4126-bbd6-fbb24feb15cd');\n",
       "var x = new MutationObserver(function (mutations, observer) {{\n",
       "        var display = window.getComputedStyle(gd).display;\n",
       "        if (!display || display === 'none') {{\n",
       "            console.log([gd, 'removed!']);\n",
       "            Plotly.purge(gd);\n",
       "            observer.disconnect();\n",
       "        }}\n",
       "}});\n",
       "\n",
       "// Listen for the removal of the full notebook cells\n",
       "var notebookContainer = gd.closest('#notebook-container');\n",
       "if (notebookContainer) {{\n",
       "    x.observe(notebookContainer, {childList: true});\n",
       "}}\n",
       "\n",
       "// Listen for the clearing of the current output cell\n",
       "var outputEl = gd.closest('.output');\n",
       "if (outputEl) {{\n",
       "    x.observe(outputEl, {childList: true});\n",
       "}}\n",
       "\n",
       "                        })                };                });            </script>        </div>"
      ]
     },
     "metadata": {},
     "output_type": "display_data"
    }
   ],
   "source": [
    "df.iplot(kind='scatter',x='A',y='B',mode='markers',size=10)"
   ]
  },
  {
   "cell_type": "markdown",
   "metadata": {},
   "source": [
    "## Bar Plots"
   ]
  },
  {
   "cell_type": "code",
   "execution_count": 12,
   "metadata": {
    "collapsed": false
   },
   "outputs": [
    {
     "data": {
      "application/vnd.plotly.v1+json": {
       "config": {
        "linkText": "Export to plot.ly",
        "plotlyServerURL": "https://plot.ly",
        "showLink": true
       },
       "data": [
        {
         "marker": {
          "color": "rgba(255, 153, 51, 0.6)",
          "line": {
           "color": "rgba(255, 153, 51, 1.0)",
           "width": 1
          }
         },
         "name": "Values",
         "orientation": "v",
         "text": "",
         "type": "bar",
         "x": [
          "A",
          "B",
          "C"
         ],
         "y": [
          32,
          43,
          50
         ]
        }
       ],
       "layout": {
        "legend": {
         "bgcolor": "#F5F6F9",
         "font": {
          "color": "#4D5663"
         }
        },
        "paper_bgcolor": "#F5F6F9",
        "plot_bgcolor": "#F5F6F9",
        "template": {
         "data": {
          "bar": [
           {
            "error_x": {
             "color": "#2a3f5f"
            },
            "error_y": {
             "color": "#2a3f5f"
            },
            "marker": {
             "line": {
              "color": "#E5ECF6",
              "width": 0.5
             },
             "pattern": {
              "fillmode": "overlay",
              "size": 10,
              "solidity": 0.2
             }
            },
            "type": "bar"
           }
          ],
          "barpolar": [
           {
            "marker": {
             "line": {
              "color": "#E5ECF6",
              "width": 0.5
             },
             "pattern": {
              "fillmode": "overlay",
              "size": 10,
              "solidity": 0.2
             }
            },
            "type": "barpolar"
           }
          ],
          "carpet": [
           {
            "aaxis": {
             "endlinecolor": "#2a3f5f",
             "gridcolor": "white",
             "linecolor": "white",
             "minorgridcolor": "white",
             "startlinecolor": "#2a3f5f"
            },
            "baxis": {
             "endlinecolor": "#2a3f5f",
             "gridcolor": "white",
             "linecolor": "white",
             "minorgridcolor": "white",
             "startlinecolor": "#2a3f5f"
            },
            "type": "carpet"
           }
          ],
          "choropleth": [
           {
            "colorbar": {
             "outlinewidth": 0,
             "ticks": ""
            },
            "type": "choropleth"
           }
          ],
          "contour": [
           {
            "colorbar": {
             "outlinewidth": 0,
             "ticks": ""
            },
            "colorscale": [
             [
              0,
              "#0d0887"
             ],
             [
              0.1111111111111111,
              "#46039f"
             ],
             [
              0.2222222222222222,
              "#7201a8"
             ],
             [
              0.3333333333333333,
              "#9c179e"
             ],
             [
              0.4444444444444444,
              "#bd3786"
             ],
             [
              0.5555555555555556,
              "#d8576b"
             ],
             [
              0.6666666666666666,
              "#ed7953"
             ],
             [
              0.7777777777777778,
              "#fb9f3a"
             ],
             [
              0.8888888888888888,
              "#fdca26"
             ],
             [
              1,
              "#f0f921"
             ]
            ],
            "type": "contour"
           }
          ],
          "contourcarpet": [
           {
            "colorbar": {
             "outlinewidth": 0,
             "ticks": ""
            },
            "type": "contourcarpet"
           }
          ],
          "heatmap": [
           {
            "colorbar": {
             "outlinewidth": 0,
             "ticks": ""
            },
            "colorscale": [
             [
              0,
              "#0d0887"
             ],
             [
              0.1111111111111111,
              "#46039f"
             ],
             [
              0.2222222222222222,
              "#7201a8"
             ],
             [
              0.3333333333333333,
              "#9c179e"
             ],
             [
              0.4444444444444444,
              "#bd3786"
             ],
             [
              0.5555555555555556,
              "#d8576b"
             ],
             [
              0.6666666666666666,
              "#ed7953"
             ],
             [
              0.7777777777777778,
              "#fb9f3a"
             ],
             [
              0.8888888888888888,
              "#fdca26"
             ],
             [
              1,
              "#f0f921"
             ]
            ],
            "type": "heatmap"
           }
          ],
          "heatmapgl": [
           {
            "colorbar": {
             "outlinewidth": 0,
             "ticks": ""
            },
            "colorscale": [
             [
              0,
              "#0d0887"
             ],
             [
              0.1111111111111111,
              "#46039f"
             ],
             [
              0.2222222222222222,
              "#7201a8"
             ],
             [
              0.3333333333333333,
              "#9c179e"
             ],
             [
              0.4444444444444444,
              "#bd3786"
             ],
             [
              0.5555555555555556,
              "#d8576b"
             ],
             [
              0.6666666666666666,
              "#ed7953"
             ],
             [
              0.7777777777777778,
              "#fb9f3a"
             ],
             [
              0.8888888888888888,
              "#fdca26"
             ],
             [
              1,
              "#f0f921"
             ]
            ],
            "type": "heatmapgl"
           }
          ],
          "histogram": [
           {
            "marker": {
             "pattern": {
              "fillmode": "overlay",
              "size": 10,
              "solidity": 0.2
             }
            },
            "type": "histogram"
           }
          ],
          "histogram2d": [
           {
            "colorbar": {
             "outlinewidth": 0,
             "ticks": ""
            },
            "colorscale": [
             [
              0,
              "#0d0887"
             ],
             [
              0.1111111111111111,
              "#46039f"
             ],
             [
              0.2222222222222222,
              "#7201a8"
             ],
             [
              0.3333333333333333,
              "#9c179e"
             ],
             [
              0.4444444444444444,
              "#bd3786"
             ],
             [
              0.5555555555555556,
              "#d8576b"
             ],
             [
              0.6666666666666666,
              "#ed7953"
             ],
             [
              0.7777777777777778,
              "#fb9f3a"
             ],
             [
              0.8888888888888888,
              "#fdca26"
             ],
             [
              1,
              "#f0f921"
             ]
            ],
            "type": "histogram2d"
           }
          ],
          "histogram2dcontour": [
           {
            "colorbar": {
             "outlinewidth": 0,
             "ticks": ""
            },
            "colorscale": [
             [
              0,
              "#0d0887"
             ],
             [
              0.1111111111111111,
              "#46039f"
             ],
             [
              0.2222222222222222,
              "#7201a8"
             ],
             [
              0.3333333333333333,
              "#9c179e"
             ],
             [
              0.4444444444444444,
              "#bd3786"
             ],
             [
              0.5555555555555556,
              "#d8576b"
             ],
             [
              0.6666666666666666,
              "#ed7953"
             ],
             [
              0.7777777777777778,
              "#fb9f3a"
             ],
             [
              0.8888888888888888,
              "#fdca26"
             ],
             [
              1,
              "#f0f921"
             ]
            ],
            "type": "histogram2dcontour"
           }
          ],
          "mesh3d": [
           {
            "colorbar": {
             "outlinewidth": 0,
             "ticks": ""
            },
            "type": "mesh3d"
           }
          ],
          "parcoords": [
           {
            "line": {
             "colorbar": {
              "outlinewidth": 0,
              "ticks": ""
             }
            },
            "type": "parcoords"
           }
          ],
          "pie": [
           {
            "automargin": true,
            "type": "pie"
           }
          ],
          "scatter": [
           {
            "fillpattern": {
             "fillmode": "overlay",
             "size": 10,
             "solidity": 0.2
            },
            "type": "scatter"
           }
          ],
          "scatter3d": [
           {
            "line": {
             "colorbar": {
              "outlinewidth": 0,
              "ticks": ""
             }
            },
            "marker": {
             "colorbar": {
              "outlinewidth": 0,
              "ticks": ""
             }
            },
            "type": "scatter3d"
           }
          ],
          "scattercarpet": [
           {
            "marker": {
             "colorbar": {
              "outlinewidth": 0,
              "ticks": ""
             }
            },
            "type": "scattercarpet"
           }
          ],
          "scattergeo": [
           {
            "marker": {
             "colorbar": {
              "outlinewidth": 0,
              "ticks": ""
             }
            },
            "type": "scattergeo"
           }
          ],
          "scattergl": [
           {
            "marker": {
             "colorbar": {
              "outlinewidth": 0,
              "ticks": ""
             }
            },
            "type": "scattergl"
           }
          ],
          "scattermapbox": [
           {
            "marker": {
             "colorbar": {
              "outlinewidth": 0,
              "ticks": ""
             }
            },
            "type": "scattermapbox"
           }
          ],
          "scatterpolar": [
           {
            "marker": {
             "colorbar": {
              "outlinewidth": 0,
              "ticks": ""
             }
            },
            "type": "scatterpolar"
           }
          ],
          "scatterpolargl": [
           {
            "marker": {
             "colorbar": {
              "outlinewidth": 0,
              "ticks": ""
             }
            },
            "type": "scatterpolargl"
           }
          ],
          "scatterternary": [
           {
            "marker": {
             "colorbar": {
              "outlinewidth": 0,
              "ticks": ""
             }
            },
            "type": "scatterternary"
           }
          ],
          "surface": [
           {
            "colorbar": {
             "outlinewidth": 0,
             "ticks": ""
            },
            "colorscale": [
             [
              0,
              "#0d0887"
             ],
             [
              0.1111111111111111,
              "#46039f"
             ],
             [
              0.2222222222222222,
              "#7201a8"
             ],
             [
              0.3333333333333333,
              "#9c179e"
             ],
             [
              0.4444444444444444,
              "#bd3786"
             ],
             [
              0.5555555555555556,
              "#d8576b"
             ],
             [
              0.6666666666666666,
              "#ed7953"
             ],
             [
              0.7777777777777778,
              "#fb9f3a"
             ],
             [
              0.8888888888888888,
              "#fdca26"
             ],
             [
              1,
              "#f0f921"
             ]
            ],
            "type": "surface"
           }
          ],
          "table": [
           {
            "cells": {
             "fill": {
              "color": "#EBF0F8"
             },
             "line": {
              "color": "white"
             }
            },
            "header": {
             "fill": {
              "color": "#C8D4E3"
             },
             "line": {
              "color": "white"
             }
            },
            "type": "table"
           }
          ]
         },
         "layout": {
          "annotationdefaults": {
           "arrowcolor": "#2a3f5f",
           "arrowhead": 0,
           "arrowwidth": 1
          },
          "autotypenumbers": "strict",
          "coloraxis": {
           "colorbar": {
            "outlinewidth": 0,
            "ticks": ""
           }
          },
          "colorscale": {
           "diverging": [
            [
             0,
             "#8e0152"
            ],
            [
             0.1,
             "#c51b7d"
            ],
            [
             0.2,
             "#de77ae"
            ],
            [
             0.3,
             "#f1b6da"
            ],
            [
             0.4,
             "#fde0ef"
            ],
            [
             0.5,
             "#f7f7f7"
            ],
            [
             0.6,
             "#e6f5d0"
            ],
            [
             0.7,
             "#b8e186"
            ],
            [
             0.8,
             "#7fbc41"
            ],
            [
             0.9,
             "#4d9221"
            ],
            [
             1,
             "#276419"
            ]
           ],
           "sequential": [
            [
             0,
             "#0d0887"
            ],
            [
             0.1111111111111111,
             "#46039f"
            ],
            [
             0.2222222222222222,
             "#7201a8"
            ],
            [
             0.3333333333333333,
             "#9c179e"
            ],
            [
             0.4444444444444444,
             "#bd3786"
            ],
            [
             0.5555555555555556,
             "#d8576b"
            ],
            [
             0.6666666666666666,
             "#ed7953"
            ],
            [
             0.7777777777777778,
             "#fb9f3a"
            ],
            [
             0.8888888888888888,
             "#fdca26"
            ],
            [
             1,
             "#f0f921"
            ]
           ],
           "sequentialminus": [
            [
             0,
             "#0d0887"
            ],
            [
             0.1111111111111111,
             "#46039f"
            ],
            [
             0.2222222222222222,
             "#7201a8"
            ],
            [
             0.3333333333333333,
             "#9c179e"
            ],
            [
             0.4444444444444444,
             "#bd3786"
            ],
            [
             0.5555555555555556,
             "#d8576b"
            ],
            [
             0.6666666666666666,
             "#ed7953"
            ],
            [
             0.7777777777777778,
             "#fb9f3a"
            ],
            [
             0.8888888888888888,
             "#fdca26"
            ],
            [
             1,
             "#f0f921"
            ]
           ]
          },
          "colorway": [
           "#636efa",
           "#EF553B",
           "#00cc96",
           "#ab63fa",
           "#FFA15A",
           "#19d3f3",
           "#FF6692",
           "#B6E880",
           "#FF97FF",
           "#FECB52"
          ],
          "font": {
           "color": "#2a3f5f"
          },
          "geo": {
           "bgcolor": "white",
           "lakecolor": "white",
           "landcolor": "#E5ECF6",
           "showlakes": true,
           "showland": true,
           "subunitcolor": "white"
          },
          "hoverlabel": {
           "align": "left"
          },
          "hovermode": "closest",
          "mapbox": {
           "style": "light"
          },
          "paper_bgcolor": "white",
          "plot_bgcolor": "#E5ECF6",
          "polar": {
           "angularaxis": {
            "gridcolor": "white",
            "linecolor": "white",
            "ticks": ""
           },
           "bgcolor": "#E5ECF6",
           "radialaxis": {
            "gridcolor": "white",
            "linecolor": "white",
            "ticks": ""
           }
          },
          "scene": {
           "xaxis": {
            "backgroundcolor": "#E5ECF6",
            "gridcolor": "white",
            "gridwidth": 2,
            "linecolor": "white",
            "showbackground": true,
            "ticks": "",
            "zerolinecolor": "white"
           },
           "yaxis": {
            "backgroundcolor": "#E5ECF6",
            "gridcolor": "white",
            "gridwidth": 2,
            "linecolor": "white",
            "showbackground": true,
            "ticks": "",
            "zerolinecolor": "white"
           },
           "zaxis": {
            "backgroundcolor": "#E5ECF6",
            "gridcolor": "white",
            "gridwidth": 2,
            "linecolor": "white",
            "showbackground": true,
            "ticks": "",
            "zerolinecolor": "white"
           }
          },
          "shapedefaults": {
           "line": {
            "color": "#2a3f5f"
           }
          },
          "ternary": {
           "aaxis": {
            "gridcolor": "white",
            "linecolor": "white",
            "ticks": ""
           },
           "baxis": {
            "gridcolor": "white",
            "linecolor": "white",
            "ticks": ""
           },
           "bgcolor": "#E5ECF6",
           "caxis": {
            "gridcolor": "white",
            "linecolor": "white",
            "ticks": ""
           }
          },
          "title": {
           "x": 0.05
          },
          "xaxis": {
           "automargin": true,
           "gridcolor": "white",
           "linecolor": "white",
           "ticks": "",
           "title": {
            "standoff": 15
           },
           "zerolinecolor": "white",
           "zerolinewidth": 2
          },
          "yaxis": {
           "automargin": true,
           "gridcolor": "white",
           "linecolor": "white",
           "ticks": "",
           "title": {
            "standoff": 15
           },
           "zerolinecolor": "white",
           "zerolinewidth": 2
          }
         }
        },
        "title": {
         "font": {
          "color": "#4D5663"
         }
        },
        "xaxis": {
         "gridcolor": "#E1E5ED",
         "showgrid": true,
         "tickfont": {
          "color": "#4D5663"
         },
         "title": {
          "font": {
           "color": "#4D5663"
          },
          "text": ""
         },
         "zerolinecolor": "#E1E5ED"
        },
        "yaxis": {
         "gridcolor": "#E1E5ED",
         "showgrid": true,
         "tickfont": {
          "color": "#4D5663"
         },
         "title": {
          "font": {
           "color": "#4D5663"
          },
          "text": ""
         },
         "zerolinecolor": "#E1E5ED"
        }
       }
      },
      "text/html": [
       "<div>                            <div id=\"d9232c0a-0c72-40b7-a24a-d257fcba4257\" class=\"plotly-graph-div\" style=\"height:525px; width:100%;\"></div>            <script type=\"text/javascript\">                require([\"plotly\"], function(Plotly) {                    window.PLOTLYENV=window.PLOTLYENV || {};\n",
       "                    window.PLOTLYENV.BASE_URL='https://plot.ly';                                    if (document.getElementById(\"d9232c0a-0c72-40b7-a24a-d257fcba4257\")) {                    Plotly.newPlot(                        \"d9232c0a-0c72-40b7-a24a-d257fcba4257\",                        [{\"marker\":{\"color\":\"rgba(255, 153, 51, 0.6)\",\"line\":{\"color\":\"rgba(255, 153, 51, 1.0)\",\"width\":1}},\"name\":\"Values\",\"orientation\":\"v\",\"text\":\"\",\"x\":[\"A\",\"B\",\"C\"],\"y\":[32,43,50],\"type\":\"bar\"}],                        {\"legend\":{\"bgcolor\":\"#F5F6F9\",\"font\":{\"color\":\"#4D5663\"}},\"paper_bgcolor\":\"#F5F6F9\",\"plot_bgcolor\":\"#F5F6F9\",\"template\":{\"data\":{\"barpolar\":[{\"marker\":{\"line\":{\"color\":\"#E5ECF6\",\"width\":0.5},\"pattern\":{\"fillmode\":\"overlay\",\"size\":10,\"solidity\":0.2}},\"type\":\"barpolar\"}],\"bar\":[{\"error_x\":{\"color\":\"#2a3f5f\"},\"error_y\":{\"color\":\"#2a3f5f\"},\"marker\":{\"line\":{\"color\":\"#E5ECF6\",\"width\":0.5},\"pattern\":{\"fillmode\":\"overlay\",\"size\":10,\"solidity\":0.2}},\"type\":\"bar\"}],\"carpet\":[{\"aaxis\":{\"endlinecolor\":\"#2a3f5f\",\"gridcolor\":\"white\",\"linecolor\":\"white\",\"minorgridcolor\":\"white\",\"startlinecolor\":\"#2a3f5f\"},\"baxis\":{\"endlinecolor\":\"#2a3f5f\",\"gridcolor\":\"white\",\"linecolor\":\"white\",\"minorgridcolor\":\"white\",\"startlinecolor\":\"#2a3f5f\"},\"type\":\"carpet\"}],\"choropleth\":[{\"colorbar\":{\"outlinewidth\":0,\"ticks\":\"\"},\"type\":\"choropleth\"}],\"contourcarpet\":[{\"colorbar\":{\"outlinewidth\":0,\"ticks\":\"\"},\"type\":\"contourcarpet\"}],\"contour\":[{\"colorbar\":{\"outlinewidth\":0,\"ticks\":\"\"},\"colorscale\":[[0.0,\"#0d0887\"],[0.1111111111111111,\"#46039f\"],[0.2222222222222222,\"#7201a8\"],[0.3333333333333333,\"#9c179e\"],[0.4444444444444444,\"#bd3786\"],[0.5555555555555556,\"#d8576b\"],[0.6666666666666666,\"#ed7953\"],[0.7777777777777778,\"#fb9f3a\"],[0.8888888888888888,\"#fdca26\"],[1.0,\"#f0f921\"]],\"type\":\"contour\"}],\"heatmapgl\":[{\"colorbar\":{\"outlinewidth\":0,\"ticks\":\"\"},\"colorscale\":[[0.0,\"#0d0887\"],[0.1111111111111111,\"#46039f\"],[0.2222222222222222,\"#7201a8\"],[0.3333333333333333,\"#9c179e\"],[0.4444444444444444,\"#bd3786\"],[0.5555555555555556,\"#d8576b\"],[0.6666666666666666,\"#ed7953\"],[0.7777777777777778,\"#fb9f3a\"],[0.8888888888888888,\"#fdca26\"],[1.0,\"#f0f921\"]],\"type\":\"heatmapgl\"}],\"heatmap\":[{\"colorbar\":{\"outlinewidth\":0,\"ticks\":\"\"},\"colorscale\":[[0.0,\"#0d0887\"],[0.1111111111111111,\"#46039f\"],[0.2222222222222222,\"#7201a8\"],[0.3333333333333333,\"#9c179e\"],[0.4444444444444444,\"#bd3786\"],[0.5555555555555556,\"#d8576b\"],[0.6666666666666666,\"#ed7953\"],[0.7777777777777778,\"#fb9f3a\"],[0.8888888888888888,\"#fdca26\"],[1.0,\"#f0f921\"]],\"type\":\"heatmap\"}],\"histogram2dcontour\":[{\"colorbar\":{\"outlinewidth\":0,\"ticks\":\"\"},\"colorscale\":[[0.0,\"#0d0887\"],[0.1111111111111111,\"#46039f\"],[0.2222222222222222,\"#7201a8\"],[0.3333333333333333,\"#9c179e\"],[0.4444444444444444,\"#bd3786\"],[0.5555555555555556,\"#d8576b\"],[0.6666666666666666,\"#ed7953\"],[0.7777777777777778,\"#fb9f3a\"],[0.8888888888888888,\"#fdca26\"],[1.0,\"#f0f921\"]],\"type\":\"histogram2dcontour\"}],\"histogram2d\":[{\"colorbar\":{\"outlinewidth\":0,\"ticks\":\"\"},\"colorscale\":[[0.0,\"#0d0887\"],[0.1111111111111111,\"#46039f\"],[0.2222222222222222,\"#7201a8\"],[0.3333333333333333,\"#9c179e\"],[0.4444444444444444,\"#bd3786\"],[0.5555555555555556,\"#d8576b\"],[0.6666666666666666,\"#ed7953\"],[0.7777777777777778,\"#fb9f3a\"],[0.8888888888888888,\"#fdca26\"],[1.0,\"#f0f921\"]],\"type\":\"histogram2d\"}],\"histogram\":[{\"marker\":{\"pattern\":{\"fillmode\":\"overlay\",\"size\":10,\"solidity\":0.2}},\"type\":\"histogram\"}],\"mesh3d\":[{\"colorbar\":{\"outlinewidth\":0,\"ticks\":\"\"},\"type\":\"mesh3d\"}],\"parcoords\":[{\"line\":{\"colorbar\":{\"outlinewidth\":0,\"ticks\":\"\"}},\"type\":\"parcoords\"}],\"pie\":[{\"automargin\":true,\"type\":\"pie\"}],\"scatter3d\":[{\"line\":{\"colorbar\":{\"outlinewidth\":0,\"ticks\":\"\"}},\"marker\":{\"colorbar\":{\"outlinewidth\":0,\"ticks\":\"\"}},\"type\":\"scatter3d\"}],\"scattercarpet\":[{\"marker\":{\"colorbar\":{\"outlinewidth\":0,\"ticks\":\"\"}},\"type\":\"scattercarpet\"}],\"scattergeo\":[{\"marker\":{\"colorbar\":{\"outlinewidth\":0,\"ticks\":\"\"}},\"type\":\"scattergeo\"}],\"scattergl\":[{\"marker\":{\"colorbar\":{\"outlinewidth\":0,\"ticks\":\"\"}},\"type\":\"scattergl\"}],\"scattermapbox\":[{\"marker\":{\"colorbar\":{\"outlinewidth\":0,\"ticks\":\"\"}},\"type\":\"scattermapbox\"}],\"scatterpolargl\":[{\"marker\":{\"colorbar\":{\"outlinewidth\":0,\"ticks\":\"\"}},\"type\":\"scatterpolargl\"}],\"scatterpolar\":[{\"marker\":{\"colorbar\":{\"outlinewidth\":0,\"ticks\":\"\"}},\"type\":\"scatterpolar\"}],\"scatter\":[{\"fillpattern\":{\"fillmode\":\"overlay\",\"size\":10,\"solidity\":0.2},\"type\":\"scatter\"}],\"scatterternary\":[{\"marker\":{\"colorbar\":{\"outlinewidth\":0,\"ticks\":\"\"}},\"type\":\"scatterternary\"}],\"surface\":[{\"colorbar\":{\"outlinewidth\":0,\"ticks\":\"\"},\"colorscale\":[[0.0,\"#0d0887\"],[0.1111111111111111,\"#46039f\"],[0.2222222222222222,\"#7201a8\"],[0.3333333333333333,\"#9c179e\"],[0.4444444444444444,\"#bd3786\"],[0.5555555555555556,\"#d8576b\"],[0.6666666666666666,\"#ed7953\"],[0.7777777777777778,\"#fb9f3a\"],[0.8888888888888888,\"#fdca26\"],[1.0,\"#f0f921\"]],\"type\":\"surface\"}],\"table\":[{\"cells\":{\"fill\":{\"color\":\"#EBF0F8\"},\"line\":{\"color\":\"white\"}},\"header\":{\"fill\":{\"color\":\"#C8D4E3\"},\"line\":{\"color\":\"white\"}},\"type\":\"table\"}]},\"layout\":{\"annotationdefaults\":{\"arrowcolor\":\"#2a3f5f\",\"arrowhead\":0,\"arrowwidth\":1},\"autotypenumbers\":\"strict\",\"coloraxis\":{\"colorbar\":{\"outlinewidth\":0,\"ticks\":\"\"}},\"colorscale\":{\"diverging\":[[0,\"#8e0152\"],[0.1,\"#c51b7d\"],[0.2,\"#de77ae\"],[0.3,\"#f1b6da\"],[0.4,\"#fde0ef\"],[0.5,\"#f7f7f7\"],[0.6,\"#e6f5d0\"],[0.7,\"#b8e186\"],[0.8,\"#7fbc41\"],[0.9,\"#4d9221\"],[1,\"#276419\"]],\"sequential\":[[0.0,\"#0d0887\"],[0.1111111111111111,\"#46039f\"],[0.2222222222222222,\"#7201a8\"],[0.3333333333333333,\"#9c179e\"],[0.4444444444444444,\"#bd3786\"],[0.5555555555555556,\"#d8576b\"],[0.6666666666666666,\"#ed7953\"],[0.7777777777777778,\"#fb9f3a\"],[0.8888888888888888,\"#fdca26\"],[1.0,\"#f0f921\"]],\"sequentialminus\":[[0.0,\"#0d0887\"],[0.1111111111111111,\"#46039f\"],[0.2222222222222222,\"#7201a8\"],[0.3333333333333333,\"#9c179e\"],[0.4444444444444444,\"#bd3786\"],[0.5555555555555556,\"#d8576b\"],[0.6666666666666666,\"#ed7953\"],[0.7777777777777778,\"#fb9f3a\"],[0.8888888888888888,\"#fdca26\"],[1.0,\"#f0f921\"]]},\"colorway\":[\"#636efa\",\"#EF553B\",\"#00cc96\",\"#ab63fa\",\"#FFA15A\",\"#19d3f3\",\"#FF6692\",\"#B6E880\",\"#FF97FF\",\"#FECB52\"],\"font\":{\"color\":\"#2a3f5f\"},\"geo\":{\"bgcolor\":\"white\",\"lakecolor\":\"white\",\"landcolor\":\"#E5ECF6\",\"showlakes\":true,\"showland\":true,\"subunitcolor\":\"white\"},\"hoverlabel\":{\"align\":\"left\"},\"hovermode\":\"closest\",\"mapbox\":{\"style\":\"light\"},\"paper_bgcolor\":\"white\",\"plot_bgcolor\":\"#E5ECF6\",\"polar\":{\"angularaxis\":{\"gridcolor\":\"white\",\"linecolor\":\"white\",\"ticks\":\"\"},\"bgcolor\":\"#E5ECF6\",\"radialaxis\":{\"gridcolor\":\"white\",\"linecolor\":\"white\",\"ticks\":\"\"}},\"scene\":{\"xaxis\":{\"backgroundcolor\":\"#E5ECF6\",\"gridcolor\":\"white\",\"gridwidth\":2,\"linecolor\":\"white\",\"showbackground\":true,\"ticks\":\"\",\"zerolinecolor\":\"white\"},\"yaxis\":{\"backgroundcolor\":\"#E5ECF6\",\"gridcolor\":\"white\",\"gridwidth\":2,\"linecolor\":\"white\",\"showbackground\":true,\"ticks\":\"\",\"zerolinecolor\":\"white\"},\"zaxis\":{\"backgroundcolor\":\"#E5ECF6\",\"gridcolor\":\"white\",\"gridwidth\":2,\"linecolor\":\"white\",\"showbackground\":true,\"ticks\":\"\",\"zerolinecolor\":\"white\"}},\"shapedefaults\":{\"line\":{\"color\":\"#2a3f5f\"}},\"ternary\":{\"aaxis\":{\"gridcolor\":\"white\",\"linecolor\":\"white\",\"ticks\":\"\"},\"baxis\":{\"gridcolor\":\"white\",\"linecolor\":\"white\",\"ticks\":\"\"},\"bgcolor\":\"#E5ECF6\",\"caxis\":{\"gridcolor\":\"white\",\"linecolor\":\"white\",\"ticks\":\"\"}},\"title\":{\"x\":0.05},\"xaxis\":{\"automargin\":true,\"gridcolor\":\"white\",\"linecolor\":\"white\",\"ticks\":\"\",\"title\":{\"standoff\":15},\"zerolinecolor\":\"white\",\"zerolinewidth\":2},\"yaxis\":{\"automargin\":true,\"gridcolor\":\"white\",\"linecolor\":\"white\",\"ticks\":\"\",\"title\":{\"standoff\":15},\"zerolinecolor\":\"white\",\"zerolinewidth\":2}}},\"title\":{\"font\":{\"color\":\"#4D5663\"}},\"xaxis\":{\"gridcolor\":\"#E1E5ED\",\"showgrid\":true,\"tickfont\":{\"color\":\"#4D5663\"},\"title\":{\"font\":{\"color\":\"#4D5663\"},\"text\":\"\"},\"zerolinecolor\":\"#E1E5ED\"},\"yaxis\":{\"gridcolor\":\"#E1E5ED\",\"showgrid\":true,\"tickfont\":{\"color\":\"#4D5663\"},\"title\":{\"font\":{\"color\":\"#4D5663\"},\"text\":\"\"},\"zerolinecolor\":\"#E1E5ED\"}},                        {\"showLink\": true, \"linkText\": \"Export to plot.ly\", \"plotlyServerURL\": \"https://plot.ly\", \"responsive\": true}                    ).then(function(){\n",
       "                            \n",
       "var gd = document.getElementById('d9232c0a-0c72-40b7-a24a-d257fcba4257');\n",
       "var x = new MutationObserver(function (mutations, observer) {{\n",
       "        var display = window.getComputedStyle(gd).display;\n",
       "        if (!display || display === 'none') {{\n",
       "            console.log([gd, 'removed!']);\n",
       "            Plotly.purge(gd);\n",
       "            observer.disconnect();\n",
       "        }}\n",
       "}});\n",
       "\n",
       "// Listen for the removal of the full notebook cells\n",
       "var notebookContainer = gd.closest('#notebook-container');\n",
       "if (notebookContainer) {{\n",
       "    x.observe(notebookContainer, {childList: true});\n",
       "}}\n",
       "\n",
       "// Listen for the clearing of the current output cell\n",
       "var outputEl = gd.closest('.output');\n",
       "if (outputEl) {{\n",
       "    x.observe(outputEl, {childList: true});\n",
       "}}\n",
       "\n",
       "                        })                };                });            </script>        </div>"
      ]
     },
     "metadata": {},
     "output_type": "display_data"
    }
   ],
   "source": [
    "df2.iplot(kind='bar',x='Category',y='Values')"
   ]
  },
  {
   "cell_type": "code",
   "execution_count": 33,
   "metadata": {
    "collapsed": false
   },
   "outputs": [
    {
     "data": {
      "text/html": [
       "<div id=\"0f3d8847-73f9-4d83-a41a-ea5e36c6d128\" style=\"height: 525px; width: 100%;\" class=\"plotly-graph-div\"></div><script type=\"text/javascript\">require([\"plotly\"], function(Plotly) { window.PLOTLYENV=window.PLOTLYENV || {};window.PLOTLYENV.BASE_URL=\"https://plot.ly\";Plotly.newPlot(\"0f3d8847-73f9-4d83-a41a-ea5e36c6d128\", [{\"x\": [\"A\", \"B\", \"C\", \"D\"], \"text\": \"\", \"orientation\": \"v\", \"name\": \"None\", \"type\": \"bar\", \"marker\": {\"line\": {\"width\": 1, \"color\": \"rgba(226, 74, 51, 1.0)\"}, \"color\": \"rgba(226, 74, 51, 0.6)\"}, \"y\": [100, 100, 100, 100]}], {\"legend\": {\"font\": {\"color\": \"#666666\"}, \"bgcolor\": \"#FFFFFF\"}, \"titlefont\": {\"color\": \"#151516\"}, \"xaxis1\": {\"titlefont\": {\"color\": \"#666666\"}, \"zerolinecolor\": \"#F6F6F6\", \"title\": \"\", \"tickfont\": {\"color\": \"#666666\"}, \"showgrid\": true, \"gridcolor\": \"#F6F6F6\"}, \"paper_bgcolor\": \"#FFFFFF\", \"plot_bgcolor\": \"#E5E5E5\", \"yaxis1\": {\"titlefont\": {\"color\": \"#666666\"}, \"zerolinecolor\": \"#F6F6F6\", \"title\": \"\", \"tickfont\": {\"color\": \"#666666\"}, \"showgrid\": true, \"gridcolor\": \"#F6F6F6\"}}, {\"showLink\": true, \"linkText\": \"Export to plot.ly\"})});</script>"
      ],
      "text/plain": [
       "<IPython.core.display.HTML object>"
      ]
     },
     "metadata": {},
     "output_type": "display_data"
    }
   ],
   "source": [
    "df.count().iplot(kind='bar')"
   ]
  },
  {
   "cell_type": "markdown",
   "metadata": {},
   "source": [
    "## Boxplots"
   ]
  },
  {
   "cell_type": "code",
   "execution_count": 13,
   "metadata": {
    "collapsed": false
   },
   "outputs": [
    {
     "data": {
      "application/vnd.plotly.v1+json": {
       "config": {
        "linkText": "Export to plot.ly",
        "plotlyServerURL": "https://plot.ly",
        "showLink": true
       },
       "data": [
        {
         "boxpoints": false,
         "line": {
          "width": 1.3
         },
         "marker": {
          "color": "rgba(255, 153, 51, 1.0)"
         },
         "name": "A",
         "orientation": "v",
         "type": "box",
         "y": [
          0.4625705346860569,
          -0.39776559619778035,
          0.45134849134936006,
          -0.13586989136117616,
          0.8666046795885229,
          0.6915422091449416,
          0.2879465812261424,
          0.8634873175971317,
          1.0636136020541438,
          1.0253235577750899,
          -0.31709420285086765,
          0.8118393443542882,
          1.2729161314443458,
          -0.04749879992679883,
          1.6212382555696152,
          0.7432177254591762,
          -0.7540751447799475,
          -1.1785769272722304,
          0.5554718080127589,
          0.9645479280032871,
          0.8649041685720121,
          -0.5549189890831625,
          -0.6218986150027163,
          -0.7194602403736984,
          -1.802095186977993,
          -0.26678732623986573,
          2.7238387138412192,
          0.615634491260396,
          0.007579856052334232,
          1.1290262523400951,
          1.587017275445863,
          -0.9189023976589287,
          1.4725054513406621,
          -0.48301228688987907,
          -1.3304701145449986,
          1.245831392521345,
          -1.0983440758617014,
          1.180857997707036,
          0.5440386879638087,
          0.5677057464677294,
          -0.788205121339689,
          -0.3199941722674541,
          -1.2771991364799633,
          -0.743349078501879,
          -1.1417746291284483,
          -0.5475290985702707,
          -3.2223848725883575,
          -0.2510964618123027,
          -1.7800437914056828,
          0.6437766633383795,
          -0.5237843931033407,
          -0.6820156552307822,
          1.8181209386254333,
          0.43912021962870396,
          -0.5779841176830209,
          -0.49567500878627896,
          1.5736513015848792,
          -0.4849414708447617,
          -0.030582237332559874,
          -0.7159901187440891,
          0.3815770903437842,
          -0.4643215828999029,
          1.0224124071713991,
          -0.30473964077199983,
          0.5854244150705185,
          -0.8103124473453914,
          0.819934226238514,
          -1.8347336449792389,
          -0.4460340648319405,
          1.6022942645681513,
          0.2227037950171565,
          1.9715057168447414,
          0.030545883394759044,
          1.5746046212676983,
          0.6798817967772102,
          0.2054790119107006,
          0.27995172153214837,
          -1.2564946179625986,
          -1.4388162435408303,
          0.6978362478661515,
          -0.6871087225198645,
          0.03376446352296217,
          -0.07695646388334659,
          1.1057890388523681,
          -1.4005037932977615,
          -1.514307743583307,
          -1.0950729859328534,
          -0.09349612285966388,
          -2.0742756957159862,
          -0.6539147900050394,
          2.7493473960748545,
          0.9275692397287629,
          0.32009980593724974,
          0.6253393120995153,
          0.6897118991535294,
          -1.5343373827748692,
          0.6488067241950675,
          0.09499686984715128,
          0.7803587474326844,
          0.1024905534892975
         ]
        },
        {
         "boxpoints": false,
         "line": {
          "width": 1.3
         },
         "marker": {
          "color": "rgba(55, 128, 191, 1.0)"
         },
         "name": "B",
         "orientation": "v",
         "type": "box",
         "y": [
          -1.3658007014664313,
          -0.6350333815305984,
          -0.9225023455677859,
          -0.6236056824865273,
          -0.18356722515055598,
          -0.8282112839224751,
          -0.22599933977613648,
          -0.08427485525071632,
          -0.04947484313961995,
          0.8508207630027762,
          0.018825217556514274,
          0.08608633867607307,
          -0.9244306868787607,
          0.5485609902447441,
          1.177795597249583,
          -0.10932772012243774,
          -0.6650659901184788,
          -1.130925902347371,
          1.5504806364069426,
          -0.6935904582249032,
          1.4797097592255881,
          -0.4861265117217737,
          -0.06723767178783559,
          -1.070318252028669,
          0.19010870364430227,
          1.0944945696223813,
          0.9398514074931446,
          0.9270579274216835,
          1.7420449912679339,
          -1.7737531831587297,
          0.9748891216747543,
          0.028938685164870852,
          -0.5976961395226522,
          -0.35759118356467046,
          0.6362630122762118,
          -1.6652776675816219,
          0.046058986375401345,
          0.4223155973887687,
          -1.0240020155140628,
          1.757371706965391,
          -0.23212477117625419,
          -0.5253472403215348,
          1.545594814224598,
          0.20286626452325346,
          0.9505040704125001,
          0.2836453901331043,
          0.28185143876966146,
          0.47621993897237586,
          1.6908071967334568,
          -1.6194067333772713,
          -0.6523141481185137,
          0.32419451714924846,
          -0.6437146750787236,
          -0.5613024570103383,
          0.15659926612601785,
          1.216161214738801,
          1.4669291446392254,
          0.013413375094520001,
          0.6772940970325642,
          0.0011619705075164054,
          0.4983121764774387,
          0.5178283879895301,
          0.5111314025770597,
          -0.15103715454482886,
          -0.9993029513443423,
          1.7558076345328892,
          1.309351374593043,
          -0.7444034365155567,
          -0.10722007531162517,
          -0.11448009559783312,
          3.9990147561777287,
          0.2502565660393181,
          0.22495725342868372,
          -1.126490949731758,
          -0.7515807915122932,
          1.5185709325212653,
          0.6100340654423348,
          1.0186660650065034,
          0.5133949902762628,
          0.7207257255626729,
          0.5547838573778077,
          0.18709779037151372,
          -0.4187249372207891,
          0.4067555297536765,
          0.25733156690145603,
          -0.9765654247627013,
          -1.153711505883254,
          -0.08209547748935996,
          0.27169309371179057,
          0.1921783078755945,
          -0.41618004621276505,
          0.7461979831496948,
          -1.459595403754854,
          -1.1153918522124082,
          -0.09367478466593762,
          -1.11258801156455,
          0.42426910929003386,
          -0.3534061605676554,
          0.11272144129587136,
          1.1115790414692162
         ]
        },
        {
         "boxpoints": false,
         "line": {
          "width": 1.3
         },
         "marker": {
          "color": "rgba(50, 171, 96, 1.0)"
         },
         "name": "C",
         "orientation": "v",
         "type": "box",
         "y": [
          0.7976196639882999,
          0.5922242217557884,
          -0.5936558211354087,
          0.022889737562143964,
          -0.7367680014627671,
          1.455148237383089,
          -0.5603073766995768,
          -0.531457442213716,
          0.21612006273025253,
          -1.153928568100353,
          0.708915148731652,
          0.029122448527130168,
          -0.6297290422602668,
          -0.44383790732796613,
          1.3549183788923063,
          0.028530730010453784,
          1.4637991978375617,
          -0.9305632016645159,
          -0.20318553410806436,
          -0.37467046279084404,
          1.0109341991978813,
          -0.22405969354645341,
          0.3775979209944355,
          0.6819208943361197,
          0.21948686657547883,
          -0.8855312572802637,
          -1.2244651171204826,
          -0.6557842259775335,
          -1.2579946796424992,
          0.9255850502597677,
          0.256485696172891,
          0.3494234975024311,
          0.1612472287334242,
          -0.9385426920911395,
          0.09196273439151567,
          -0.056286623826050486,
          0.7112903619693386,
          0.6032100502594897,
          -0.0887452817572577,
          -0.1320521337148512,
          0.2977115970722861,
          -0.767727628403958,
          -1.7029435048088566,
          0.6029430120359184,
          0.722073112513006,
          0.4049464271158967,
          -0.6135234963403671,
          0.8883742843519561,
          0.6479646825765413,
          -0.9657130542158291,
          -0.8009242190004513,
          -1.2760479494411372,
          0.68148628681611,
          1.3298205147939715,
          -1.381416310098818,
          0.7866499268731464,
          -0.5424973166046481,
          0.06792592331081872,
          0.47204222316489075,
          -1.0770132793599556,
          -0.790160054910979,
          -0.9809606230685514,
          1.0039853077621204,
          -0.2672453111573401,
          1.2506689282154047,
          -0.4068011543582442,
          -0.7212725757206991,
          -0.5914654695141591,
          2.192279526986468,
          -1.3960956489970582,
          -0.7274259900966882,
          1.3132737931552732,
          -2.716463887848451,
          -0.9816790460261686,
          -1.3808497577907082,
          0.5796566161954262,
          0.6779723444576947,
          0.3301595076564153,
          -0.6875972660930066,
          -0.6315770476071847,
          -0.32890335277128885,
          1.7016557265423022,
          -1.1048930803856305,
          1.1464717236422435,
          0.8738336341324523,
          -0.26056748248510014,
          -0.5858677601300266,
          0.08289842846605516,
          0.0476306260013642,
          0.14509360396470272,
          0.6372599962828331,
          0.47983314760275164,
          -1.195633253690203,
          0.3344303114781469,
          -1.5598436317677304,
          -1.9170658786972896,
          -1.5841367337859373,
          -0.29802227813188487,
          1.2229853472529493,
          1.1867495337171539
         ]
        },
        {
         "boxpoints": false,
         "line": {
          "width": 1.3
         },
         "marker": {
          "color": "rgba(128, 0, 128, 1.0)"
         },
         "name": "D",
         "orientation": "v",
         "type": "box",
         "y": [
          -0.01676273611883974,
          0.5803397636454248,
          -0.9914843496197014,
          2.079745266463118,
          0.09963289509793408,
          -1.5264767886339399,
          0.25144063077020046,
          0.5382700150202437,
          0.5255935445808945,
          2.1887319477382334,
          1.191552890004344,
          0.05349052125411241,
          0.5389078524411036,
          0.19087252828352078,
          -0.17470028756202827,
          -0.20933866317549638,
          -1.052678514499253,
          0.46789616080267776,
          1.1819098666298038,
          0.626122580752721,
          -0.33520185378191714,
          2.0467136265434305,
          0.19579408072465526,
          -0.09480369920507094,
          -1.4269257099352066,
          -0.2964332649358186,
          -0.1392813845087163,
          -0.272803639926009,
          0.6243147047456785,
          -1.1261389387994891,
          -0.5465163531790631,
          1.7020899291410607,
          0.1501383075361051,
          -0.4654903327374615,
          0.23595451979155638,
          1.2990981382104203,
          -1.251703316412179,
          -1.2109825729348684,
          0.06225080156632386,
          0.6622658123027308,
          -1.2384676961821592,
          0.281090348543609,
          -0.6920321346224054,
          -2.5051876833877236,
          0.9636314800694326,
          0.6734277974849716,
          1.9326372315187947,
          -1.1181224766885862,
          0.5536150600893577,
          -0.051233917309116576,
          -0.773507722797698,
          -1.9274774770775742,
          -0.5516587969256265,
          0.09042729345977363,
          0.017826107784951917,
          0.4178025369145226,
          0.45313375511709386,
          -0.12684533253761418,
          -1.2834545255555267,
          0.3837475308460146,
          -1.4836467753018732,
          1.7051405527036516,
          0.7874467272773418,
          -0.7849933389433503,
          0.44695587969064193,
          -1.3104080445756885,
          -0.3550595445515954,
          -1.3771707809159526,
          1.829783307047512,
          0.6150651255298384,
          0.3940454001110733,
          1.0822486569924945,
          0.6728778107784291,
          -0.32382155085456243,
          -0.5721840099504375,
          1.5759153220979334,
          -0.03602872455399964,
          0.10874158875401785,
          1.2151723212826315,
          0.054673478300902835,
          0.353376955400931,
          -1.287926992821108,
          1.1814070704408872,
          -0.11440511307712886,
          -0.8480872930359187,
          0.1602569895831079,
          -0.2598894317484706,
          0.5195867695858054,
          1.227003049790499,
          0.7748469660368112,
          0.788555464931521,
          0.19382462182550098,
          -0.9773509794734583,
          0.13162883343608456,
          -0.05087119261040653,
          -0.6836470938835728,
          1.2615016113759634,
          -2.0827809387584812,
          -0.4666234410833225,
          -1.104840281934689
         ]
        }
       ],
       "layout": {
        "legend": {
         "bgcolor": "#F5F6F9",
         "font": {
          "color": "#4D5663"
         }
        },
        "paper_bgcolor": "#F5F6F9",
        "plot_bgcolor": "#F5F6F9",
        "template": {
         "data": {
          "bar": [
           {
            "error_x": {
             "color": "#2a3f5f"
            },
            "error_y": {
             "color": "#2a3f5f"
            },
            "marker": {
             "line": {
              "color": "#E5ECF6",
              "width": 0.5
             },
             "pattern": {
              "fillmode": "overlay",
              "size": 10,
              "solidity": 0.2
             }
            },
            "type": "bar"
           }
          ],
          "barpolar": [
           {
            "marker": {
             "line": {
              "color": "#E5ECF6",
              "width": 0.5
             },
             "pattern": {
              "fillmode": "overlay",
              "size": 10,
              "solidity": 0.2
             }
            },
            "type": "barpolar"
           }
          ],
          "carpet": [
           {
            "aaxis": {
             "endlinecolor": "#2a3f5f",
             "gridcolor": "white",
             "linecolor": "white",
             "minorgridcolor": "white",
             "startlinecolor": "#2a3f5f"
            },
            "baxis": {
             "endlinecolor": "#2a3f5f",
             "gridcolor": "white",
             "linecolor": "white",
             "minorgridcolor": "white",
             "startlinecolor": "#2a3f5f"
            },
            "type": "carpet"
           }
          ],
          "choropleth": [
           {
            "colorbar": {
             "outlinewidth": 0,
             "ticks": ""
            },
            "type": "choropleth"
           }
          ],
          "contour": [
           {
            "colorbar": {
             "outlinewidth": 0,
             "ticks": ""
            },
            "colorscale": [
             [
              0,
              "#0d0887"
             ],
             [
              0.1111111111111111,
              "#46039f"
             ],
             [
              0.2222222222222222,
              "#7201a8"
             ],
             [
              0.3333333333333333,
              "#9c179e"
             ],
             [
              0.4444444444444444,
              "#bd3786"
             ],
             [
              0.5555555555555556,
              "#d8576b"
             ],
             [
              0.6666666666666666,
              "#ed7953"
             ],
             [
              0.7777777777777778,
              "#fb9f3a"
             ],
             [
              0.8888888888888888,
              "#fdca26"
             ],
             [
              1,
              "#f0f921"
             ]
            ],
            "type": "contour"
           }
          ],
          "contourcarpet": [
           {
            "colorbar": {
             "outlinewidth": 0,
             "ticks": ""
            },
            "type": "contourcarpet"
           }
          ],
          "heatmap": [
           {
            "colorbar": {
             "outlinewidth": 0,
             "ticks": ""
            },
            "colorscale": [
             [
              0,
              "#0d0887"
             ],
             [
              0.1111111111111111,
              "#46039f"
             ],
             [
              0.2222222222222222,
              "#7201a8"
             ],
             [
              0.3333333333333333,
              "#9c179e"
             ],
             [
              0.4444444444444444,
              "#bd3786"
             ],
             [
              0.5555555555555556,
              "#d8576b"
             ],
             [
              0.6666666666666666,
              "#ed7953"
             ],
             [
              0.7777777777777778,
              "#fb9f3a"
             ],
             [
              0.8888888888888888,
              "#fdca26"
             ],
             [
              1,
              "#f0f921"
             ]
            ],
            "type": "heatmap"
           }
          ],
          "heatmapgl": [
           {
            "colorbar": {
             "outlinewidth": 0,
             "ticks": ""
            },
            "colorscale": [
             [
              0,
              "#0d0887"
             ],
             [
              0.1111111111111111,
              "#46039f"
             ],
             [
              0.2222222222222222,
              "#7201a8"
             ],
             [
              0.3333333333333333,
              "#9c179e"
             ],
             [
              0.4444444444444444,
              "#bd3786"
             ],
             [
              0.5555555555555556,
              "#d8576b"
             ],
             [
              0.6666666666666666,
              "#ed7953"
             ],
             [
              0.7777777777777778,
              "#fb9f3a"
             ],
             [
              0.8888888888888888,
              "#fdca26"
             ],
             [
              1,
              "#f0f921"
             ]
            ],
            "type": "heatmapgl"
           }
          ],
          "histogram": [
           {
            "marker": {
             "pattern": {
              "fillmode": "overlay",
              "size": 10,
              "solidity": 0.2
             }
            },
            "type": "histogram"
           }
          ],
          "histogram2d": [
           {
            "colorbar": {
             "outlinewidth": 0,
             "ticks": ""
            },
            "colorscale": [
             [
              0,
              "#0d0887"
             ],
             [
              0.1111111111111111,
              "#46039f"
             ],
             [
              0.2222222222222222,
              "#7201a8"
             ],
             [
              0.3333333333333333,
              "#9c179e"
             ],
             [
              0.4444444444444444,
              "#bd3786"
             ],
             [
              0.5555555555555556,
              "#d8576b"
             ],
             [
              0.6666666666666666,
              "#ed7953"
             ],
             [
              0.7777777777777778,
              "#fb9f3a"
             ],
             [
              0.8888888888888888,
              "#fdca26"
             ],
             [
              1,
              "#f0f921"
             ]
            ],
            "type": "histogram2d"
           }
          ],
          "histogram2dcontour": [
           {
            "colorbar": {
             "outlinewidth": 0,
             "ticks": ""
            },
            "colorscale": [
             [
              0,
              "#0d0887"
             ],
             [
              0.1111111111111111,
              "#46039f"
             ],
             [
              0.2222222222222222,
              "#7201a8"
             ],
             [
              0.3333333333333333,
              "#9c179e"
             ],
             [
              0.4444444444444444,
              "#bd3786"
             ],
             [
              0.5555555555555556,
              "#d8576b"
             ],
             [
              0.6666666666666666,
              "#ed7953"
             ],
             [
              0.7777777777777778,
              "#fb9f3a"
             ],
             [
              0.8888888888888888,
              "#fdca26"
             ],
             [
              1,
              "#f0f921"
             ]
            ],
            "type": "histogram2dcontour"
           }
          ],
          "mesh3d": [
           {
            "colorbar": {
             "outlinewidth": 0,
             "ticks": ""
            },
            "type": "mesh3d"
           }
          ],
          "parcoords": [
           {
            "line": {
             "colorbar": {
              "outlinewidth": 0,
              "ticks": ""
             }
            },
            "type": "parcoords"
           }
          ],
          "pie": [
           {
            "automargin": true,
            "type": "pie"
           }
          ],
          "scatter": [
           {
            "fillpattern": {
             "fillmode": "overlay",
             "size": 10,
             "solidity": 0.2
            },
            "type": "scatter"
           }
          ],
          "scatter3d": [
           {
            "line": {
             "colorbar": {
              "outlinewidth": 0,
              "ticks": ""
             }
            },
            "marker": {
             "colorbar": {
              "outlinewidth": 0,
              "ticks": ""
             }
            },
            "type": "scatter3d"
           }
          ],
          "scattercarpet": [
           {
            "marker": {
             "colorbar": {
              "outlinewidth": 0,
              "ticks": ""
             }
            },
            "type": "scattercarpet"
           }
          ],
          "scattergeo": [
           {
            "marker": {
             "colorbar": {
              "outlinewidth": 0,
              "ticks": ""
             }
            },
            "type": "scattergeo"
           }
          ],
          "scattergl": [
           {
            "marker": {
             "colorbar": {
              "outlinewidth": 0,
              "ticks": ""
             }
            },
            "type": "scattergl"
           }
          ],
          "scattermapbox": [
           {
            "marker": {
             "colorbar": {
              "outlinewidth": 0,
              "ticks": ""
             }
            },
            "type": "scattermapbox"
           }
          ],
          "scatterpolar": [
           {
            "marker": {
             "colorbar": {
              "outlinewidth": 0,
              "ticks": ""
             }
            },
            "type": "scatterpolar"
           }
          ],
          "scatterpolargl": [
           {
            "marker": {
             "colorbar": {
              "outlinewidth": 0,
              "ticks": ""
             }
            },
            "type": "scatterpolargl"
           }
          ],
          "scatterternary": [
           {
            "marker": {
             "colorbar": {
              "outlinewidth": 0,
              "ticks": ""
             }
            },
            "type": "scatterternary"
           }
          ],
          "surface": [
           {
            "colorbar": {
             "outlinewidth": 0,
             "ticks": ""
            },
            "colorscale": [
             [
              0,
              "#0d0887"
             ],
             [
              0.1111111111111111,
              "#46039f"
             ],
             [
              0.2222222222222222,
              "#7201a8"
             ],
             [
              0.3333333333333333,
              "#9c179e"
             ],
             [
              0.4444444444444444,
              "#bd3786"
             ],
             [
              0.5555555555555556,
              "#d8576b"
             ],
             [
              0.6666666666666666,
              "#ed7953"
             ],
             [
              0.7777777777777778,
              "#fb9f3a"
             ],
             [
              0.8888888888888888,
              "#fdca26"
             ],
             [
              1,
              "#f0f921"
             ]
            ],
            "type": "surface"
           }
          ],
          "table": [
           {
            "cells": {
             "fill": {
              "color": "#EBF0F8"
             },
             "line": {
              "color": "white"
             }
            },
            "header": {
             "fill": {
              "color": "#C8D4E3"
             },
             "line": {
              "color": "white"
             }
            },
            "type": "table"
           }
          ]
         },
         "layout": {
          "annotationdefaults": {
           "arrowcolor": "#2a3f5f",
           "arrowhead": 0,
           "arrowwidth": 1
          },
          "autotypenumbers": "strict",
          "coloraxis": {
           "colorbar": {
            "outlinewidth": 0,
            "ticks": ""
           }
          },
          "colorscale": {
           "diverging": [
            [
             0,
             "#8e0152"
            ],
            [
             0.1,
             "#c51b7d"
            ],
            [
             0.2,
             "#de77ae"
            ],
            [
             0.3,
             "#f1b6da"
            ],
            [
             0.4,
             "#fde0ef"
            ],
            [
             0.5,
             "#f7f7f7"
            ],
            [
             0.6,
             "#e6f5d0"
            ],
            [
             0.7,
             "#b8e186"
            ],
            [
             0.8,
             "#7fbc41"
            ],
            [
             0.9,
             "#4d9221"
            ],
            [
             1,
             "#276419"
            ]
           ],
           "sequential": [
            [
             0,
             "#0d0887"
            ],
            [
             0.1111111111111111,
             "#46039f"
            ],
            [
             0.2222222222222222,
             "#7201a8"
            ],
            [
             0.3333333333333333,
             "#9c179e"
            ],
            [
             0.4444444444444444,
             "#bd3786"
            ],
            [
             0.5555555555555556,
             "#d8576b"
            ],
            [
             0.6666666666666666,
             "#ed7953"
            ],
            [
             0.7777777777777778,
             "#fb9f3a"
            ],
            [
             0.8888888888888888,
             "#fdca26"
            ],
            [
             1,
             "#f0f921"
            ]
           ],
           "sequentialminus": [
            [
             0,
             "#0d0887"
            ],
            [
             0.1111111111111111,
             "#46039f"
            ],
            [
             0.2222222222222222,
             "#7201a8"
            ],
            [
             0.3333333333333333,
             "#9c179e"
            ],
            [
             0.4444444444444444,
             "#bd3786"
            ],
            [
             0.5555555555555556,
             "#d8576b"
            ],
            [
             0.6666666666666666,
             "#ed7953"
            ],
            [
             0.7777777777777778,
             "#fb9f3a"
            ],
            [
             0.8888888888888888,
             "#fdca26"
            ],
            [
             1,
             "#f0f921"
            ]
           ]
          },
          "colorway": [
           "#636efa",
           "#EF553B",
           "#00cc96",
           "#ab63fa",
           "#FFA15A",
           "#19d3f3",
           "#FF6692",
           "#B6E880",
           "#FF97FF",
           "#FECB52"
          ],
          "font": {
           "color": "#2a3f5f"
          },
          "geo": {
           "bgcolor": "white",
           "lakecolor": "white",
           "landcolor": "#E5ECF6",
           "showlakes": true,
           "showland": true,
           "subunitcolor": "white"
          },
          "hoverlabel": {
           "align": "left"
          },
          "hovermode": "closest",
          "mapbox": {
           "style": "light"
          },
          "paper_bgcolor": "white",
          "plot_bgcolor": "#E5ECF6",
          "polar": {
           "angularaxis": {
            "gridcolor": "white",
            "linecolor": "white",
            "ticks": ""
           },
           "bgcolor": "#E5ECF6",
           "radialaxis": {
            "gridcolor": "white",
            "linecolor": "white",
            "ticks": ""
           }
          },
          "scene": {
           "xaxis": {
            "backgroundcolor": "#E5ECF6",
            "gridcolor": "white",
            "gridwidth": 2,
            "linecolor": "white",
            "showbackground": true,
            "ticks": "",
            "zerolinecolor": "white"
           },
           "yaxis": {
            "backgroundcolor": "#E5ECF6",
            "gridcolor": "white",
            "gridwidth": 2,
            "linecolor": "white",
            "showbackground": true,
            "ticks": "",
            "zerolinecolor": "white"
           },
           "zaxis": {
            "backgroundcolor": "#E5ECF6",
            "gridcolor": "white",
            "gridwidth": 2,
            "linecolor": "white",
            "showbackground": true,
            "ticks": "",
            "zerolinecolor": "white"
           }
          },
          "shapedefaults": {
           "line": {
            "color": "#2a3f5f"
           }
          },
          "ternary": {
           "aaxis": {
            "gridcolor": "white",
            "linecolor": "white",
            "ticks": ""
           },
           "baxis": {
            "gridcolor": "white",
            "linecolor": "white",
            "ticks": ""
           },
           "bgcolor": "#E5ECF6",
           "caxis": {
            "gridcolor": "white",
            "linecolor": "white",
            "ticks": ""
           }
          },
          "title": {
           "x": 0.05
          },
          "xaxis": {
           "automargin": true,
           "gridcolor": "white",
           "linecolor": "white",
           "ticks": "",
           "title": {
            "standoff": 15
           },
           "zerolinecolor": "white",
           "zerolinewidth": 2
          },
          "yaxis": {
           "automargin": true,
           "gridcolor": "white",
           "linecolor": "white",
           "ticks": "",
           "title": {
            "standoff": 15
           },
           "zerolinecolor": "white",
           "zerolinewidth": 2
          }
         }
        },
        "title": {
         "font": {
          "color": "#4D5663"
         }
        },
        "xaxis": {
         "gridcolor": "#E1E5ED",
         "showgrid": true,
         "tickfont": {
          "color": "#4D5663"
         },
         "title": {
          "font": {
           "color": "#4D5663"
          },
          "text": ""
         },
         "zerolinecolor": "#E1E5ED"
        },
        "yaxis": {
         "gridcolor": "#E1E5ED",
         "showgrid": true,
         "tickfont": {
          "color": "#4D5663"
         },
         "title": {
          "font": {
           "color": "#4D5663"
          },
          "text": ""
         },
         "zerolinecolor": "#E1E5ED"
        }
       }
      },
      "text/html": [
       "<div>                            <div id=\"d5ef6e31-2cf6-402e-a699-f866850f4bbf\" class=\"plotly-graph-div\" style=\"height:525px; width:100%;\"></div>            <script type=\"text/javascript\">                require([\"plotly\"], function(Plotly) {                    window.PLOTLYENV=window.PLOTLYENV || {};\n",
       "                    window.PLOTLYENV.BASE_URL='https://plot.ly';                                    if (document.getElementById(\"d5ef6e31-2cf6-402e-a699-f866850f4bbf\")) {                    Plotly.newPlot(                        \"d5ef6e31-2cf6-402e-a699-f866850f4bbf\",                        [{\"boxpoints\":false,\"line\":{\"width\":1.3},\"marker\":{\"color\":\"rgba(255, 153, 51, 1.0)\"},\"name\":\"A\",\"orientation\":\"v\",\"y\":[0.4625705346860569,-0.39776559619778035,0.45134849134936006,-0.13586989136117616,0.8666046795885229,0.6915422091449416,0.2879465812261424,0.8634873175971317,1.0636136020541438,1.0253235577750899,-0.31709420285086765,0.8118393443542882,1.2729161314443458,-0.04749879992679883,1.6212382555696152,0.7432177254591762,-0.7540751447799475,-1.1785769272722304,0.5554718080127589,0.9645479280032871,0.8649041685720121,-0.5549189890831625,-0.6218986150027163,-0.7194602403736984,-1.802095186977993,-0.26678732623986573,2.7238387138412192,0.615634491260396,0.007579856052334232,1.1290262523400951,1.587017275445863,-0.9189023976589287,1.4725054513406621,-0.48301228688987907,-1.3304701145449986,1.245831392521345,-1.0983440758617014,1.180857997707036,0.5440386879638087,0.5677057464677294,-0.788205121339689,-0.3199941722674541,-1.2771991364799633,-0.743349078501879,-1.1417746291284483,-0.5475290985702707,-3.2223848725883575,-0.2510964618123027,-1.7800437914056828,0.6437766633383795,-0.5237843931033407,-0.6820156552307822,1.8181209386254333,0.43912021962870396,-0.5779841176830209,-0.49567500878627896,1.5736513015848792,-0.4849414708447617,-0.030582237332559874,-0.7159901187440891,0.3815770903437842,-0.4643215828999029,1.0224124071713991,-0.30473964077199983,0.5854244150705185,-0.8103124473453914,0.819934226238514,-1.8347336449792389,-0.4460340648319405,1.6022942645681513,0.2227037950171565,1.9715057168447414,0.030545883394759044,1.5746046212676983,0.6798817967772102,0.2054790119107006,0.27995172153214837,-1.2564946179625986,-1.4388162435408303,0.6978362478661515,-0.6871087225198645,0.03376446352296217,-0.07695646388334659,1.1057890388523681,-1.4005037932977615,-1.514307743583307,-1.0950729859328534,-0.09349612285966388,-2.0742756957159862,-0.6539147900050394,2.7493473960748545,0.9275692397287629,0.32009980593724974,0.6253393120995153,0.6897118991535294,-1.5343373827748692,0.6488067241950675,0.09499686984715128,0.7803587474326844,0.1024905534892975],\"type\":\"box\"},{\"boxpoints\":false,\"line\":{\"width\":1.3},\"marker\":{\"color\":\"rgba(55, 128, 191, 1.0)\"},\"name\":\"B\",\"orientation\":\"v\",\"y\":[-1.3658007014664313,-0.6350333815305984,-0.9225023455677859,-0.6236056824865273,-0.18356722515055598,-0.8282112839224751,-0.22599933977613648,-0.08427485525071632,-0.04947484313961995,0.8508207630027762,0.018825217556514274,0.08608633867607307,-0.9244306868787607,0.5485609902447441,1.177795597249583,-0.10932772012243774,-0.6650659901184788,-1.130925902347371,1.5504806364069426,-0.6935904582249032,1.4797097592255881,-0.4861265117217737,-0.06723767178783559,-1.070318252028669,0.19010870364430227,1.0944945696223813,0.9398514074931446,0.9270579274216835,1.7420449912679339,-1.7737531831587297,0.9748891216747543,0.028938685164870852,-0.5976961395226522,-0.35759118356467046,0.6362630122762118,-1.6652776675816219,0.046058986375401345,0.4223155973887687,-1.0240020155140628,1.757371706965391,-0.23212477117625419,-0.5253472403215348,1.545594814224598,0.20286626452325346,0.9505040704125001,0.2836453901331043,0.28185143876966146,0.47621993897237586,1.6908071967334568,-1.6194067333772713,-0.6523141481185137,0.32419451714924846,-0.6437146750787236,-0.5613024570103383,0.15659926612601785,1.216161214738801,1.4669291446392254,0.013413375094520001,0.6772940970325642,0.0011619705075164054,0.4983121764774387,0.5178283879895301,0.5111314025770597,-0.15103715454482886,-0.9993029513443423,1.7558076345328892,1.309351374593043,-0.7444034365155567,-0.10722007531162517,-0.11448009559783312,3.9990147561777287,0.2502565660393181,0.22495725342868372,-1.126490949731758,-0.7515807915122932,1.5185709325212653,0.6100340654423348,1.0186660650065034,0.5133949902762628,0.7207257255626729,0.5547838573778077,0.18709779037151372,-0.4187249372207891,0.4067555297536765,0.25733156690145603,-0.9765654247627013,-1.153711505883254,-0.08209547748935996,0.27169309371179057,0.1921783078755945,-0.41618004621276505,0.7461979831496948,-1.459595403754854,-1.1153918522124082,-0.09367478466593762,-1.11258801156455,0.42426910929003386,-0.3534061605676554,0.11272144129587136,1.1115790414692162],\"type\":\"box\"},{\"boxpoints\":false,\"line\":{\"width\":1.3},\"marker\":{\"color\":\"rgba(50, 171, 96, 1.0)\"},\"name\":\"C\",\"orientation\":\"v\",\"y\":[0.7976196639882999,0.5922242217557884,-0.5936558211354087,0.022889737562143964,-0.7367680014627671,1.455148237383089,-0.5603073766995768,-0.531457442213716,0.21612006273025253,-1.153928568100353,0.708915148731652,0.029122448527130168,-0.6297290422602668,-0.44383790732796613,1.3549183788923063,0.028530730010453784,1.4637991978375617,-0.9305632016645159,-0.20318553410806436,-0.37467046279084404,1.0109341991978813,-0.22405969354645341,0.3775979209944355,0.6819208943361197,0.21948686657547883,-0.8855312572802637,-1.2244651171204826,-0.6557842259775335,-1.2579946796424992,0.9255850502597677,0.256485696172891,0.3494234975024311,0.1612472287334242,-0.9385426920911395,0.09196273439151567,-0.056286623826050486,0.7112903619693386,0.6032100502594897,-0.0887452817572577,-0.1320521337148512,0.2977115970722861,-0.767727628403958,-1.7029435048088566,0.6029430120359184,0.722073112513006,0.4049464271158967,-0.6135234963403671,0.8883742843519561,0.6479646825765413,-0.9657130542158291,-0.8009242190004513,-1.2760479494411372,0.68148628681611,1.3298205147939715,-1.381416310098818,0.7866499268731464,-0.5424973166046481,0.06792592331081872,0.47204222316489075,-1.0770132793599556,-0.790160054910979,-0.9809606230685514,1.0039853077621204,-0.2672453111573401,1.2506689282154047,-0.4068011543582442,-0.7212725757206991,-0.5914654695141591,2.192279526986468,-1.3960956489970582,-0.7274259900966882,1.3132737931552732,-2.716463887848451,-0.9816790460261686,-1.3808497577907082,0.5796566161954262,0.6779723444576947,0.3301595076564153,-0.6875972660930066,-0.6315770476071847,-0.32890335277128885,1.7016557265423022,-1.1048930803856305,1.1464717236422435,0.8738336341324523,-0.26056748248510014,-0.5858677601300266,0.08289842846605516,0.0476306260013642,0.14509360396470272,0.6372599962828331,0.47983314760275164,-1.195633253690203,0.3344303114781469,-1.5598436317677304,-1.9170658786972896,-1.5841367337859373,-0.29802227813188487,1.2229853472529493,1.1867495337171539],\"type\":\"box\"},{\"boxpoints\":false,\"line\":{\"width\":1.3},\"marker\":{\"color\":\"rgba(128, 0, 128, 1.0)\"},\"name\":\"D\",\"orientation\":\"v\",\"y\":[-0.01676273611883974,0.5803397636454248,-0.9914843496197014,2.079745266463118,0.09963289509793408,-1.5264767886339399,0.25144063077020046,0.5382700150202437,0.5255935445808945,2.1887319477382334,1.191552890004344,0.05349052125411241,0.5389078524411036,0.19087252828352078,-0.17470028756202827,-0.20933866317549638,-1.052678514499253,0.46789616080267776,1.1819098666298038,0.626122580752721,-0.33520185378191714,2.0467136265434305,0.19579408072465526,-0.09480369920507094,-1.4269257099352066,-0.2964332649358186,-0.1392813845087163,-0.272803639926009,0.6243147047456785,-1.1261389387994891,-0.5465163531790631,1.7020899291410607,0.1501383075361051,-0.4654903327374615,0.23595451979155638,1.2990981382104203,-1.251703316412179,-1.2109825729348684,0.06225080156632386,0.6622658123027308,-1.2384676961821592,0.281090348543609,-0.6920321346224054,-2.5051876833877236,0.9636314800694326,0.6734277974849716,1.9326372315187947,-1.1181224766885862,0.5536150600893577,-0.051233917309116576,-0.773507722797698,-1.9274774770775742,-0.5516587969256265,0.09042729345977363,0.017826107784951917,0.4178025369145226,0.45313375511709386,-0.12684533253761418,-1.2834545255555267,0.3837475308460146,-1.4836467753018732,1.7051405527036516,0.7874467272773418,-0.7849933389433503,0.44695587969064193,-1.3104080445756885,-0.3550595445515954,-1.3771707809159526,1.829783307047512,0.6150651255298384,0.3940454001110733,1.0822486569924945,0.6728778107784291,-0.32382155085456243,-0.5721840099504375,1.5759153220979334,-0.03602872455399964,0.10874158875401785,1.2151723212826315,0.054673478300902835,0.353376955400931,-1.287926992821108,1.1814070704408872,-0.11440511307712886,-0.8480872930359187,0.1602569895831079,-0.2598894317484706,0.5195867695858054,1.227003049790499,0.7748469660368112,0.788555464931521,0.19382462182550098,-0.9773509794734583,0.13162883343608456,-0.05087119261040653,-0.6836470938835728,1.2615016113759634,-2.0827809387584812,-0.4666234410833225,-1.104840281934689],\"type\":\"box\"}],                        {\"legend\":{\"bgcolor\":\"#F5F6F9\",\"font\":{\"color\":\"#4D5663\"}},\"paper_bgcolor\":\"#F5F6F9\",\"plot_bgcolor\":\"#F5F6F9\",\"template\":{\"data\":{\"barpolar\":[{\"marker\":{\"line\":{\"color\":\"#E5ECF6\",\"width\":0.5},\"pattern\":{\"fillmode\":\"overlay\",\"size\":10,\"solidity\":0.2}},\"type\":\"barpolar\"}],\"bar\":[{\"error_x\":{\"color\":\"#2a3f5f\"},\"error_y\":{\"color\":\"#2a3f5f\"},\"marker\":{\"line\":{\"color\":\"#E5ECF6\",\"width\":0.5},\"pattern\":{\"fillmode\":\"overlay\",\"size\":10,\"solidity\":0.2}},\"type\":\"bar\"}],\"carpet\":[{\"aaxis\":{\"endlinecolor\":\"#2a3f5f\",\"gridcolor\":\"white\",\"linecolor\":\"white\",\"minorgridcolor\":\"white\",\"startlinecolor\":\"#2a3f5f\"},\"baxis\":{\"endlinecolor\":\"#2a3f5f\",\"gridcolor\":\"white\",\"linecolor\":\"white\",\"minorgridcolor\":\"white\",\"startlinecolor\":\"#2a3f5f\"},\"type\":\"carpet\"}],\"choropleth\":[{\"colorbar\":{\"outlinewidth\":0,\"ticks\":\"\"},\"type\":\"choropleth\"}],\"contourcarpet\":[{\"colorbar\":{\"outlinewidth\":0,\"ticks\":\"\"},\"type\":\"contourcarpet\"}],\"contour\":[{\"colorbar\":{\"outlinewidth\":0,\"ticks\":\"\"},\"colorscale\":[[0.0,\"#0d0887\"],[0.1111111111111111,\"#46039f\"],[0.2222222222222222,\"#7201a8\"],[0.3333333333333333,\"#9c179e\"],[0.4444444444444444,\"#bd3786\"],[0.5555555555555556,\"#d8576b\"],[0.6666666666666666,\"#ed7953\"],[0.7777777777777778,\"#fb9f3a\"],[0.8888888888888888,\"#fdca26\"],[1.0,\"#f0f921\"]],\"type\":\"contour\"}],\"heatmapgl\":[{\"colorbar\":{\"outlinewidth\":0,\"ticks\":\"\"},\"colorscale\":[[0.0,\"#0d0887\"],[0.1111111111111111,\"#46039f\"],[0.2222222222222222,\"#7201a8\"],[0.3333333333333333,\"#9c179e\"],[0.4444444444444444,\"#bd3786\"],[0.5555555555555556,\"#d8576b\"],[0.6666666666666666,\"#ed7953\"],[0.7777777777777778,\"#fb9f3a\"],[0.8888888888888888,\"#fdca26\"],[1.0,\"#f0f921\"]],\"type\":\"heatmapgl\"}],\"heatmap\":[{\"colorbar\":{\"outlinewidth\":0,\"ticks\":\"\"},\"colorscale\":[[0.0,\"#0d0887\"],[0.1111111111111111,\"#46039f\"],[0.2222222222222222,\"#7201a8\"],[0.3333333333333333,\"#9c179e\"],[0.4444444444444444,\"#bd3786\"],[0.5555555555555556,\"#d8576b\"],[0.6666666666666666,\"#ed7953\"],[0.7777777777777778,\"#fb9f3a\"],[0.8888888888888888,\"#fdca26\"],[1.0,\"#f0f921\"]],\"type\":\"heatmap\"}],\"histogram2dcontour\":[{\"colorbar\":{\"outlinewidth\":0,\"ticks\":\"\"},\"colorscale\":[[0.0,\"#0d0887\"],[0.1111111111111111,\"#46039f\"],[0.2222222222222222,\"#7201a8\"],[0.3333333333333333,\"#9c179e\"],[0.4444444444444444,\"#bd3786\"],[0.5555555555555556,\"#d8576b\"],[0.6666666666666666,\"#ed7953\"],[0.7777777777777778,\"#fb9f3a\"],[0.8888888888888888,\"#fdca26\"],[1.0,\"#f0f921\"]],\"type\":\"histogram2dcontour\"}],\"histogram2d\":[{\"colorbar\":{\"outlinewidth\":0,\"ticks\":\"\"},\"colorscale\":[[0.0,\"#0d0887\"],[0.1111111111111111,\"#46039f\"],[0.2222222222222222,\"#7201a8\"],[0.3333333333333333,\"#9c179e\"],[0.4444444444444444,\"#bd3786\"],[0.5555555555555556,\"#d8576b\"],[0.6666666666666666,\"#ed7953\"],[0.7777777777777778,\"#fb9f3a\"],[0.8888888888888888,\"#fdca26\"],[1.0,\"#f0f921\"]],\"type\":\"histogram2d\"}],\"histogram\":[{\"marker\":{\"pattern\":{\"fillmode\":\"overlay\",\"size\":10,\"solidity\":0.2}},\"type\":\"histogram\"}],\"mesh3d\":[{\"colorbar\":{\"outlinewidth\":0,\"ticks\":\"\"},\"type\":\"mesh3d\"}],\"parcoords\":[{\"line\":{\"colorbar\":{\"outlinewidth\":0,\"ticks\":\"\"}},\"type\":\"parcoords\"}],\"pie\":[{\"automargin\":true,\"type\":\"pie\"}],\"scatter3d\":[{\"line\":{\"colorbar\":{\"outlinewidth\":0,\"ticks\":\"\"}},\"marker\":{\"colorbar\":{\"outlinewidth\":0,\"ticks\":\"\"}},\"type\":\"scatter3d\"}],\"scattercarpet\":[{\"marker\":{\"colorbar\":{\"outlinewidth\":0,\"ticks\":\"\"}},\"type\":\"scattercarpet\"}],\"scattergeo\":[{\"marker\":{\"colorbar\":{\"outlinewidth\":0,\"ticks\":\"\"}},\"type\":\"scattergeo\"}],\"scattergl\":[{\"marker\":{\"colorbar\":{\"outlinewidth\":0,\"ticks\":\"\"}},\"type\":\"scattergl\"}],\"scattermapbox\":[{\"marker\":{\"colorbar\":{\"outlinewidth\":0,\"ticks\":\"\"}},\"type\":\"scattermapbox\"}],\"scatterpolargl\":[{\"marker\":{\"colorbar\":{\"outlinewidth\":0,\"ticks\":\"\"}},\"type\":\"scatterpolargl\"}],\"scatterpolar\":[{\"marker\":{\"colorbar\":{\"outlinewidth\":0,\"ticks\":\"\"}},\"type\":\"scatterpolar\"}],\"scatter\":[{\"fillpattern\":{\"fillmode\":\"overlay\",\"size\":10,\"solidity\":0.2},\"type\":\"scatter\"}],\"scatterternary\":[{\"marker\":{\"colorbar\":{\"outlinewidth\":0,\"ticks\":\"\"}},\"type\":\"scatterternary\"}],\"surface\":[{\"colorbar\":{\"outlinewidth\":0,\"ticks\":\"\"},\"colorscale\":[[0.0,\"#0d0887\"],[0.1111111111111111,\"#46039f\"],[0.2222222222222222,\"#7201a8\"],[0.3333333333333333,\"#9c179e\"],[0.4444444444444444,\"#bd3786\"],[0.5555555555555556,\"#d8576b\"],[0.6666666666666666,\"#ed7953\"],[0.7777777777777778,\"#fb9f3a\"],[0.8888888888888888,\"#fdca26\"],[1.0,\"#f0f921\"]],\"type\":\"surface\"}],\"table\":[{\"cells\":{\"fill\":{\"color\":\"#EBF0F8\"},\"line\":{\"color\":\"white\"}},\"header\":{\"fill\":{\"color\":\"#C8D4E3\"},\"line\":{\"color\":\"white\"}},\"type\":\"table\"}]},\"layout\":{\"annotationdefaults\":{\"arrowcolor\":\"#2a3f5f\",\"arrowhead\":0,\"arrowwidth\":1},\"autotypenumbers\":\"strict\",\"coloraxis\":{\"colorbar\":{\"outlinewidth\":0,\"ticks\":\"\"}},\"colorscale\":{\"diverging\":[[0,\"#8e0152\"],[0.1,\"#c51b7d\"],[0.2,\"#de77ae\"],[0.3,\"#f1b6da\"],[0.4,\"#fde0ef\"],[0.5,\"#f7f7f7\"],[0.6,\"#e6f5d0\"],[0.7,\"#b8e186\"],[0.8,\"#7fbc41\"],[0.9,\"#4d9221\"],[1,\"#276419\"]],\"sequential\":[[0.0,\"#0d0887\"],[0.1111111111111111,\"#46039f\"],[0.2222222222222222,\"#7201a8\"],[0.3333333333333333,\"#9c179e\"],[0.4444444444444444,\"#bd3786\"],[0.5555555555555556,\"#d8576b\"],[0.6666666666666666,\"#ed7953\"],[0.7777777777777778,\"#fb9f3a\"],[0.8888888888888888,\"#fdca26\"],[1.0,\"#f0f921\"]],\"sequentialminus\":[[0.0,\"#0d0887\"],[0.1111111111111111,\"#46039f\"],[0.2222222222222222,\"#7201a8\"],[0.3333333333333333,\"#9c179e\"],[0.4444444444444444,\"#bd3786\"],[0.5555555555555556,\"#d8576b\"],[0.6666666666666666,\"#ed7953\"],[0.7777777777777778,\"#fb9f3a\"],[0.8888888888888888,\"#fdca26\"],[1.0,\"#f0f921\"]]},\"colorway\":[\"#636efa\",\"#EF553B\",\"#00cc96\",\"#ab63fa\",\"#FFA15A\",\"#19d3f3\",\"#FF6692\",\"#B6E880\",\"#FF97FF\",\"#FECB52\"],\"font\":{\"color\":\"#2a3f5f\"},\"geo\":{\"bgcolor\":\"white\",\"lakecolor\":\"white\",\"landcolor\":\"#E5ECF6\",\"showlakes\":true,\"showland\":true,\"subunitcolor\":\"white\"},\"hoverlabel\":{\"align\":\"left\"},\"hovermode\":\"closest\",\"mapbox\":{\"style\":\"light\"},\"paper_bgcolor\":\"white\",\"plot_bgcolor\":\"#E5ECF6\",\"polar\":{\"angularaxis\":{\"gridcolor\":\"white\",\"linecolor\":\"white\",\"ticks\":\"\"},\"bgcolor\":\"#E5ECF6\",\"radialaxis\":{\"gridcolor\":\"white\",\"linecolor\":\"white\",\"ticks\":\"\"}},\"scene\":{\"xaxis\":{\"backgroundcolor\":\"#E5ECF6\",\"gridcolor\":\"white\",\"gridwidth\":2,\"linecolor\":\"white\",\"showbackground\":true,\"ticks\":\"\",\"zerolinecolor\":\"white\"},\"yaxis\":{\"backgroundcolor\":\"#E5ECF6\",\"gridcolor\":\"white\",\"gridwidth\":2,\"linecolor\":\"white\",\"showbackground\":true,\"ticks\":\"\",\"zerolinecolor\":\"white\"},\"zaxis\":{\"backgroundcolor\":\"#E5ECF6\",\"gridcolor\":\"white\",\"gridwidth\":2,\"linecolor\":\"white\",\"showbackground\":true,\"ticks\":\"\",\"zerolinecolor\":\"white\"}},\"shapedefaults\":{\"line\":{\"color\":\"#2a3f5f\"}},\"ternary\":{\"aaxis\":{\"gridcolor\":\"white\",\"linecolor\":\"white\",\"ticks\":\"\"},\"baxis\":{\"gridcolor\":\"white\",\"linecolor\":\"white\",\"ticks\":\"\"},\"bgcolor\":\"#E5ECF6\",\"caxis\":{\"gridcolor\":\"white\",\"linecolor\":\"white\",\"ticks\":\"\"}},\"title\":{\"x\":0.05},\"xaxis\":{\"automargin\":true,\"gridcolor\":\"white\",\"linecolor\":\"white\",\"ticks\":\"\",\"title\":{\"standoff\":15},\"zerolinecolor\":\"white\",\"zerolinewidth\":2},\"yaxis\":{\"automargin\":true,\"gridcolor\":\"white\",\"linecolor\":\"white\",\"ticks\":\"\",\"title\":{\"standoff\":15},\"zerolinecolor\":\"white\",\"zerolinewidth\":2}}},\"title\":{\"font\":{\"color\":\"#4D5663\"}},\"xaxis\":{\"gridcolor\":\"#E1E5ED\",\"showgrid\":true,\"tickfont\":{\"color\":\"#4D5663\"},\"title\":{\"font\":{\"color\":\"#4D5663\"},\"text\":\"\"},\"zerolinecolor\":\"#E1E5ED\"},\"yaxis\":{\"gridcolor\":\"#E1E5ED\",\"showgrid\":true,\"tickfont\":{\"color\":\"#4D5663\"},\"title\":{\"font\":{\"color\":\"#4D5663\"},\"text\":\"\"},\"zerolinecolor\":\"#E1E5ED\"}},                        {\"showLink\": true, \"linkText\": \"Export to plot.ly\", \"plotlyServerURL\": \"https://plot.ly\", \"responsive\": true}                    ).then(function(){\n",
       "                            \n",
       "var gd = document.getElementById('d5ef6e31-2cf6-402e-a699-f866850f4bbf');\n",
       "var x = new MutationObserver(function (mutations, observer) {{\n",
       "        var display = window.getComputedStyle(gd).display;\n",
       "        if (!display || display === 'none') {{\n",
       "            console.log([gd, 'removed!']);\n",
       "            Plotly.purge(gd);\n",
       "            observer.disconnect();\n",
       "        }}\n",
       "}});\n",
       "\n",
       "// Listen for the removal of the full notebook cells\n",
       "var notebookContainer = gd.closest('#notebook-container');\n",
       "if (notebookContainer) {{\n",
       "    x.observe(notebookContainer, {childList: true});\n",
       "}}\n",
       "\n",
       "// Listen for the clearing of the current output cell\n",
       "var outputEl = gd.closest('.output');\n",
       "if (outputEl) {{\n",
       "    x.observe(outputEl, {childList: true});\n",
       "}}\n",
       "\n",
       "                        })                };                });            </script>        </div>"
      ]
     },
     "metadata": {},
     "output_type": "display_data"
    }
   ],
   "source": [
    "df.iplot(kind='box')"
   ]
  },
  {
   "cell_type": "markdown",
   "metadata": {},
   "source": [
    "## 3d Surface"
   ]
  },
  {
   "cell_type": "code",
   "execution_count": 14,
   "metadata": {
    "collapsed": false
   },
   "outputs": [
    {
     "data": {
      "application/vnd.plotly.v1+json": {
       "config": {
        "linkText": "Export to plot.ly",
        "plotlyServerURL": "https://plot.ly",
        "showLink": true
       },
       "data": [
        {
         "colorscale": [
          [
           0,
           "rgb(165,0,38)"
          ],
          [
           0.1,
           "rgb(215,48,39)"
          ],
          [
           0.2,
           "rgb(244,109,67)"
          ],
          [
           0.3,
           "rgb(253,174,97)"
          ],
          [
           0.4,
           "rgb(254,224,144)"
          ],
          [
           0.5,
           "rgb(255,255,191)"
          ],
          [
           0.6,
           "rgb(224,243,248)"
          ],
          [
           0.7,
           "rgb(171,217,233)"
          ],
          [
           0.8,
           "rgb(116,173,209)"
          ],
          [
           0.9,
           "rgb(69,117,180)"
          ],
          [
           1,
           "rgb(49,54,149)"
          ]
         ],
         "type": "surface",
         "x": [
          0,
          1,
          2,
          3,
          4
         ],
         "y": [
          "x",
          "y",
          "z"
         ],
         "z": [
          [
           1,
           2,
           3,
           4,
           5
          ],
          [
           10,
           20,
           30,
           20,
           10
          ],
          [
           5,
           4,
           3,
           2,
           1
          ]
         ]
        }
       ],
       "layout": {
        "legend": {
         "bgcolor": "#F5F6F9",
         "font": {
          "color": "#4D5663"
         }
        },
        "paper_bgcolor": "#F5F6F9",
        "plot_bgcolor": "#F5F6F9",
        "template": {
         "data": {
          "bar": [
           {
            "error_x": {
             "color": "#2a3f5f"
            },
            "error_y": {
             "color": "#2a3f5f"
            },
            "marker": {
             "line": {
              "color": "#E5ECF6",
              "width": 0.5
             },
             "pattern": {
              "fillmode": "overlay",
              "size": 10,
              "solidity": 0.2
             }
            },
            "type": "bar"
           }
          ],
          "barpolar": [
           {
            "marker": {
             "line": {
              "color": "#E5ECF6",
              "width": 0.5
             },
             "pattern": {
              "fillmode": "overlay",
              "size": 10,
              "solidity": 0.2
             }
            },
            "type": "barpolar"
           }
          ],
          "carpet": [
           {
            "aaxis": {
             "endlinecolor": "#2a3f5f",
             "gridcolor": "white",
             "linecolor": "white",
             "minorgridcolor": "white",
             "startlinecolor": "#2a3f5f"
            },
            "baxis": {
             "endlinecolor": "#2a3f5f",
             "gridcolor": "white",
             "linecolor": "white",
             "minorgridcolor": "white",
             "startlinecolor": "#2a3f5f"
            },
            "type": "carpet"
           }
          ],
          "choropleth": [
           {
            "colorbar": {
             "outlinewidth": 0,
             "ticks": ""
            },
            "type": "choropleth"
           }
          ],
          "contour": [
           {
            "colorbar": {
             "outlinewidth": 0,
             "ticks": ""
            },
            "colorscale": [
             [
              0,
              "#0d0887"
             ],
             [
              0.1111111111111111,
              "#46039f"
             ],
             [
              0.2222222222222222,
              "#7201a8"
             ],
             [
              0.3333333333333333,
              "#9c179e"
             ],
             [
              0.4444444444444444,
              "#bd3786"
             ],
             [
              0.5555555555555556,
              "#d8576b"
             ],
             [
              0.6666666666666666,
              "#ed7953"
             ],
             [
              0.7777777777777778,
              "#fb9f3a"
             ],
             [
              0.8888888888888888,
              "#fdca26"
             ],
             [
              1,
              "#f0f921"
             ]
            ],
            "type": "contour"
           }
          ],
          "contourcarpet": [
           {
            "colorbar": {
             "outlinewidth": 0,
             "ticks": ""
            },
            "type": "contourcarpet"
           }
          ],
          "heatmap": [
           {
            "colorbar": {
             "outlinewidth": 0,
             "ticks": ""
            },
            "colorscale": [
             [
              0,
              "#0d0887"
             ],
             [
              0.1111111111111111,
              "#46039f"
             ],
             [
              0.2222222222222222,
              "#7201a8"
             ],
             [
              0.3333333333333333,
              "#9c179e"
             ],
             [
              0.4444444444444444,
              "#bd3786"
             ],
             [
              0.5555555555555556,
              "#d8576b"
             ],
             [
              0.6666666666666666,
              "#ed7953"
             ],
             [
              0.7777777777777778,
              "#fb9f3a"
             ],
             [
              0.8888888888888888,
              "#fdca26"
             ],
             [
              1,
              "#f0f921"
             ]
            ],
            "type": "heatmap"
           }
          ],
          "heatmapgl": [
           {
            "colorbar": {
             "outlinewidth": 0,
             "ticks": ""
            },
            "colorscale": [
             [
              0,
              "#0d0887"
             ],
             [
              0.1111111111111111,
              "#46039f"
             ],
             [
              0.2222222222222222,
              "#7201a8"
             ],
             [
              0.3333333333333333,
              "#9c179e"
             ],
             [
              0.4444444444444444,
              "#bd3786"
             ],
             [
              0.5555555555555556,
              "#d8576b"
             ],
             [
              0.6666666666666666,
              "#ed7953"
             ],
             [
              0.7777777777777778,
              "#fb9f3a"
             ],
             [
              0.8888888888888888,
              "#fdca26"
             ],
             [
              1,
              "#f0f921"
             ]
            ],
            "type": "heatmapgl"
           }
          ],
          "histogram": [
           {
            "marker": {
             "pattern": {
              "fillmode": "overlay",
              "size": 10,
              "solidity": 0.2
             }
            },
            "type": "histogram"
           }
          ],
          "histogram2d": [
           {
            "colorbar": {
             "outlinewidth": 0,
             "ticks": ""
            },
            "colorscale": [
             [
              0,
              "#0d0887"
             ],
             [
              0.1111111111111111,
              "#46039f"
             ],
             [
              0.2222222222222222,
              "#7201a8"
             ],
             [
              0.3333333333333333,
              "#9c179e"
             ],
             [
              0.4444444444444444,
              "#bd3786"
             ],
             [
              0.5555555555555556,
              "#d8576b"
             ],
             [
              0.6666666666666666,
              "#ed7953"
             ],
             [
              0.7777777777777778,
              "#fb9f3a"
             ],
             [
              0.8888888888888888,
              "#fdca26"
             ],
             [
              1,
              "#f0f921"
             ]
            ],
            "type": "histogram2d"
           }
          ],
          "histogram2dcontour": [
           {
            "colorbar": {
             "outlinewidth": 0,
             "ticks": ""
            },
            "colorscale": [
             [
              0,
              "#0d0887"
             ],
             [
              0.1111111111111111,
              "#46039f"
             ],
             [
              0.2222222222222222,
              "#7201a8"
             ],
             [
              0.3333333333333333,
              "#9c179e"
             ],
             [
              0.4444444444444444,
              "#bd3786"
             ],
             [
              0.5555555555555556,
              "#d8576b"
             ],
             [
              0.6666666666666666,
              "#ed7953"
             ],
             [
              0.7777777777777778,
              "#fb9f3a"
             ],
             [
              0.8888888888888888,
              "#fdca26"
             ],
             [
              1,
              "#f0f921"
             ]
            ],
            "type": "histogram2dcontour"
           }
          ],
          "mesh3d": [
           {
            "colorbar": {
             "outlinewidth": 0,
             "ticks": ""
            },
            "type": "mesh3d"
           }
          ],
          "parcoords": [
           {
            "line": {
             "colorbar": {
              "outlinewidth": 0,
              "ticks": ""
             }
            },
            "type": "parcoords"
           }
          ],
          "pie": [
           {
            "automargin": true,
            "type": "pie"
           }
          ],
          "scatter": [
           {
            "fillpattern": {
             "fillmode": "overlay",
             "size": 10,
             "solidity": 0.2
            },
            "type": "scatter"
           }
          ],
          "scatter3d": [
           {
            "line": {
             "colorbar": {
              "outlinewidth": 0,
              "ticks": ""
             }
            },
            "marker": {
             "colorbar": {
              "outlinewidth": 0,
              "ticks": ""
             }
            },
            "type": "scatter3d"
           }
          ],
          "scattercarpet": [
           {
            "marker": {
             "colorbar": {
              "outlinewidth": 0,
              "ticks": ""
             }
            },
            "type": "scattercarpet"
           }
          ],
          "scattergeo": [
           {
            "marker": {
             "colorbar": {
              "outlinewidth": 0,
              "ticks": ""
             }
            },
            "type": "scattergeo"
           }
          ],
          "scattergl": [
           {
            "marker": {
             "colorbar": {
              "outlinewidth": 0,
              "ticks": ""
             }
            },
            "type": "scattergl"
           }
          ],
          "scattermapbox": [
           {
            "marker": {
             "colorbar": {
              "outlinewidth": 0,
              "ticks": ""
             }
            },
            "type": "scattermapbox"
           }
          ],
          "scatterpolar": [
           {
            "marker": {
             "colorbar": {
              "outlinewidth": 0,
              "ticks": ""
             }
            },
            "type": "scatterpolar"
           }
          ],
          "scatterpolargl": [
           {
            "marker": {
             "colorbar": {
              "outlinewidth": 0,
              "ticks": ""
             }
            },
            "type": "scatterpolargl"
           }
          ],
          "scatterternary": [
           {
            "marker": {
             "colorbar": {
              "outlinewidth": 0,
              "ticks": ""
             }
            },
            "type": "scatterternary"
           }
          ],
          "surface": [
           {
            "colorbar": {
             "outlinewidth": 0,
             "ticks": ""
            },
            "colorscale": [
             [
              0,
              "#0d0887"
             ],
             [
              0.1111111111111111,
              "#46039f"
             ],
             [
              0.2222222222222222,
              "#7201a8"
             ],
             [
              0.3333333333333333,
              "#9c179e"
             ],
             [
              0.4444444444444444,
              "#bd3786"
             ],
             [
              0.5555555555555556,
              "#d8576b"
             ],
             [
              0.6666666666666666,
              "#ed7953"
             ],
             [
              0.7777777777777778,
              "#fb9f3a"
             ],
             [
              0.8888888888888888,
              "#fdca26"
             ],
             [
              1,
              "#f0f921"
             ]
            ],
            "type": "surface"
           }
          ],
          "table": [
           {
            "cells": {
             "fill": {
              "color": "#EBF0F8"
             },
             "line": {
              "color": "white"
             }
            },
            "header": {
             "fill": {
              "color": "#C8D4E3"
             },
             "line": {
              "color": "white"
             }
            },
            "type": "table"
           }
          ]
         },
         "layout": {
          "annotationdefaults": {
           "arrowcolor": "#2a3f5f",
           "arrowhead": 0,
           "arrowwidth": 1
          },
          "autotypenumbers": "strict",
          "coloraxis": {
           "colorbar": {
            "outlinewidth": 0,
            "ticks": ""
           }
          },
          "colorscale": {
           "diverging": [
            [
             0,
             "#8e0152"
            ],
            [
             0.1,
             "#c51b7d"
            ],
            [
             0.2,
             "#de77ae"
            ],
            [
             0.3,
             "#f1b6da"
            ],
            [
             0.4,
             "#fde0ef"
            ],
            [
             0.5,
             "#f7f7f7"
            ],
            [
             0.6,
             "#e6f5d0"
            ],
            [
             0.7,
             "#b8e186"
            ],
            [
             0.8,
             "#7fbc41"
            ],
            [
             0.9,
             "#4d9221"
            ],
            [
             1,
             "#276419"
            ]
           ],
           "sequential": [
            [
             0,
             "#0d0887"
            ],
            [
             0.1111111111111111,
             "#46039f"
            ],
            [
             0.2222222222222222,
             "#7201a8"
            ],
            [
             0.3333333333333333,
             "#9c179e"
            ],
            [
             0.4444444444444444,
             "#bd3786"
            ],
            [
             0.5555555555555556,
             "#d8576b"
            ],
            [
             0.6666666666666666,
             "#ed7953"
            ],
            [
             0.7777777777777778,
             "#fb9f3a"
            ],
            [
             0.8888888888888888,
             "#fdca26"
            ],
            [
             1,
             "#f0f921"
            ]
           ],
           "sequentialminus": [
            [
             0,
             "#0d0887"
            ],
            [
             0.1111111111111111,
             "#46039f"
            ],
            [
             0.2222222222222222,
             "#7201a8"
            ],
            [
             0.3333333333333333,
             "#9c179e"
            ],
            [
             0.4444444444444444,
             "#bd3786"
            ],
            [
             0.5555555555555556,
             "#d8576b"
            ],
            [
             0.6666666666666666,
             "#ed7953"
            ],
            [
             0.7777777777777778,
             "#fb9f3a"
            ],
            [
             0.8888888888888888,
             "#fdca26"
            ],
            [
             1,
             "#f0f921"
            ]
           ]
          },
          "colorway": [
           "#636efa",
           "#EF553B",
           "#00cc96",
           "#ab63fa",
           "#FFA15A",
           "#19d3f3",
           "#FF6692",
           "#B6E880",
           "#FF97FF",
           "#FECB52"
          ],
          "font": {
           "color": "#2a3f5f"
          },
          "geo": {
           "bgcolor": "white",
           "lakecolor": "white",
           "landcolor": "#E5ECF6",
           "showlakes": true,
           "showland": true,
           "subunitcolor": "white"
          },
          "hoverlabel": {
           "align": "left"
          },
          "hovermode": "closest",
          "mapbox": {
           "style": "light"
          },
          "paper_bgcolor": "white",
          "plot_bgcolor": "#E5ECF6",
          "polar": {
           "angularaxis": {
            "gridcolor": "white",
            "linecolor": "white",
            "ticks": ""
           },
           "bgcolor": "#E5ECF6",
           "radialaxis": {
            "gridcolor": "white",
            "linecolor": "white",
            "ticks": ""
           }
          },
          "scene": {
           "xaxis": {
            "backgroundcolor": "#E5ECF6",
            "gridcolor": "white",
            "gridwidth": 2,
            "linecolor": "white",
            "showbackground": true,
            "ticks": "",
            "zerolinecolor": "white"
           },
           "yaxis": {
            "backgroundcolor": "#E5ECF6",
            "gridcolor": "white",
            "gridwidth": 2,
            "linecolor": "white",
            "showbackground": true,
            "ticks": "",
            "zerolinecolor": "white"
           },
           "zaxis": {
            "backgroundcolor": "#E5ECF6",
            "gridcolor": "white",
            "gridwidth": 2,
            "linecolor": "white",
            "showbackground": true,
            "ticks": "",
            "zerolinecolor": "white"
           }
          },
          "shapedefaults": {
           "line": {
            "color": "#2a3f5f"
           }
          },
          "ternary": {
           "aaxis": {
            "gridcolor": "white",
            "linecolor": "white",
            "ticks": ""
           },
           "baxis": {
            "gridcolor": "white",
            "linecolor": "white",
            "ticks": ""
           },
           "bgcolor": "#E5ECF6",
           "caxis": {
            "gridcolor": "white",
            "linecolor": "white",
            "ticks": ""
           }
          },
          "title": {
           "x": 0.05
          },
          "xaxis": {
           "automargin": true,
           "gridcolor": "white",
           "linecolor": "white",
           "ticks": "",
           "title": {
            "standoff": 15
           },
           "zerolinecolor": "white",
           "zerolinewidth": 2
          },
          "yaxis": {
           "automargin": true,
           "gridcolor": "white",
           "linecolor": "white",
           "ticks": "",
           "title": {
            "standoff": 15
           },
           "zerolinecolor": "white",
           "zerolinewidth": 2
          }
         }
        },
        "title": {
         "font": {
          "color": "#4D5663"
         }
        },
        "xaxis": {
         "gridcolor": "#E1E5ED",
         "showgrid": true,
         "tickfont": {
          "color": "#4D5663"
         },
         "title": {
          "font": {
           "color": "#4D5663"
          },
          "text": ""
         },
         "zerolinecolor": "#E1E5ED"
        },
        "yaxis": {
         "gridcolor": "#E1E5ED",
         "showgrid": true,
         "tickfont": {
          "color": "#4D5663"
         },
         "title": {
          "font": {
           "color": "#4D5663"
          },
          "text": ""
         },
         "zerolinecolor": "#E1E5ED"
        }
       }
      },
      "text/html": [
       "<div>                            <div id=\"d57b4c0e-11bf-4f5b-99c4-a94d34a17b1b\" class=\"plotly-graph-div\" style=\"height:525px; width:100%;\"></div>            <script type=\"text/javascript\">                require([\"plotly\"], function(Plotly) {                    window.PLOTLYENV=window.PLOTLYENV || {};\n",
       "                    window.PLOTLYENV.BASE_URL='https://plot.ly';                                    if (document.getElementById(\"d57b4c0e-11bf-4f5b-99c4-a94d34a17b1b\")) {                    Plotly.newPlot(                        \"d57b4c0e-11bf-4f5b-99c4-a94d34a17b1b\",                        [{\"colorscale\":[[0.0,\"rgb(165,0,38)\"],[0.1,\"rgb(215,48,39)\"],[0.2,\"rgb(244,109,67)\"],[0.3,\"rgb(253,174,97)\"],[0.4,\"rgb(254,224,144)\"],[0.5,\"rgb(255,255,191)\"],[0.6,\"rgb(224,243,248)\"],[0.7,\"rgb(171,217,233)\"],[0.8,\"rgb(116,173,209)\"],[0.9,\"rgb(69,117,180)\"],[1.0,\"rgb(49,54,149)\"]],\"x\":[0,1,2,3,4],\"y\":[\"x\",\"y\",\"z\"],\"z\":[[1,2,3,4,5],[10,20,30,20,10],[5,4,3,2,1]],\"type\":\"surface\"}],                        {\"legend\":{\"bgcolor\":\"#F5F6F9\",\"font\":{\"color\":\"#4D5663\"}},\"paper_bgcolor\":\"#F5F6F9\",\"plot_bgcolor\":\"#F5F6F9\",\"template\":{\"data\":{\"barpolar\":[{\"marker\":{\"line\":{\"color\":\"#E5ECF6\",\"width\":0.5},\"pattern\":{\"fillmode\":\"overlay\",\"size\":10,\"solidity\":0.2}},\"type\":\"barpolar\"}],\"bar\":[{\"error_x\":{\"color\":\"#2a3f5f\"},\"error_y\":{\"color\":\"#2a3f5f\"},\"marker\":{\"line\":{\"color\":\"#E5ECF6\",\"width\":0.5},\"pattern\":{\"fillmode\":\"overlay\",\"size\":10,\"solidity\":0.2}},\"type\":\"bar\"}],\"carpet\":[{\"aaxis\":{\"endlinecolor\":\"#2a3f5f\",\"gridcolor\":\"white\",\"linecolor\":\"white\",\"minorgridcolor\":\"white\",\"startlinecolor\":\"#2a3f5f\"},\"baxis\":{\"endlinecolor\":\"#2a3f5f\",\"gridcolor\":\"white\",\"linecolor\":\"white\",\"minorgridcolor\":\"white\",\"startlinecolor\":\"#2a3f5f\"},\"type\":\"carpet\"}],\"choropleth\":[{\"colorbar\":{\"outlinewidth\":0,\"ticks\":\"\"},\"type\":\"choropleth\"}],\"contourcarpet\":[{\"colorbar\":{\"outlinewidth\":0,\"ticks\":\"\"},\"type\":\"contourcarpet\"}],\"contour\":[{\"colorbar\":{\"outlinewidth\":0,\"ticks\":\"\"},\"colorscale\":[[0.0,\"#0d0887\"],[0.1111111111111111,\"#46039f\"],[0.2222222222222222,\"#7201a8\"],[0.3333333333333333,\"#9c179e\"],[0.4444444444444444,\"#bd3786\"],[0.5555555555555556,\"#d8576b\"],[0.6666666666666666,\"#ed7953\"],[0.7777777777777778,\"#fb9f3a\"],[0.8888888888888888,\"#fdca26\"],[1.0,\"#f0f921\"]],\"type\":\"contour\"}],\"heatmapgl\":[{\"colorbar\":{\"outlinewidth\":0,\"ticks\":\"\"},\"colorscale\":[[0.0,\"#0d0887\"],[0.1111111111111111,\"#46039f\"],[0.2222222222222222,\"#7201a8\"],[0.3333333333333333,\"#9c179e\"],[0.4444444444444444,\"#bd3786\"],[0.5555555555555556,\"#d8576b\"],[0.6666666666666666,\"#ed7953\"],[0.7777777777777778,\"#fb9f3a\"],[0.8888888888888888,\"#fdca26\"],[1.0,\"#f0f921\"]],\"type\":\"heatmapgl\"}],\"heatmap\":[{\"colorbar\":{\"outlinewidth\":0,\"ticks\":\"\"},\"colorscale\":[[0.0,\"#0d0887\"],[0.1111111111111111,\"#46039f\"],[0.2222222222222222,\"#7201a8\"],[0.3333333333333333,\"#9c179e\"],[0.4444444444444444,\"#bd3786\"],[0.5555555555555556,\"#d8576b\"],[0.6666666666666666,\"#ed7953\"],[0.7777777777777778,\"#fb9f3a\"],[0.8888888888888888,\"#fdca26\"],[1.0,\"#f0f921\"]],\"type\":\"heatmap\"}],\"histogram2dcontour\":[{\"colorbar\":{\"outlinewidth\":0,\"ticks\":\"\"},\"colorscale\":[[0.0,\"#0d0887\"],[0.1111111111111111,\"#46039f\"],[0.2222222222222222,\"#7201a8\"],[0.3333333333333333,\"#9c179e\"],[0.4444444444444444,\"#bd3786\"],[0.5555555555555556,\"#d8576b\"],[0.6666666666666666,\"#ed7953\"],[0.7777777777777778,\"#fb9f3a\"],[0.8888888888888888,\"#fdca26\"],[1.0,\"#f0f921\"]],\"type\":\"histogram2dcontour\"}],\"histogram2d\":[{\"colorbar\":{\"outlinewidth\":0,\"ticks\":\"\"},\"colorscale\":[[0.0,\"#0d0887\"],[0.1111111111111111,\"#46039f\"],[0.2222222222222222,\"#7201a8\"],[0.3333333333333333,\"#9c179e\"],[0.4444444444444444,\"#bd3786\"],[0.5555555555555556,\"#d8576b\"],[0.6666666666666666,\"#ed7953\"],[0.7777777777777778,\"#fb9f3a\"],[0.8888888888888888,\"#fdca26\"],[1.0,\"#f0f921\"]],\"type\":\"histogram2d\"}],\"histogram\":[{\"marker\":{\"pattern\":{\"fillmode\":\"overlay\",\"size\":10,\"solidity\":0.2}},\"type\":\"histogram\"}],\"mesh3d\":[{\"colorbar\":{\"outlinewidth\":0,\"ticks\":\"\"},\"type\":\"mesh3d\"}],\"parcoords\":[{\"line\":{\"colorbar\":{\"outlinewidth\":0,\"ticks\":\"\"}},\"type\":\"parcoords\"}],\"pie\":[{\"automargin\":true,\"type\":\"pie\"}],\"scatter3d\":[{\"line\":{\"colorbar\":{\"outlinewidth\":0,\"ticks\":\"\"}},\"marker\":{\"colorbar\":{\"outlinewidth\":0,\"ticks\":\"\"}},\"type\":\"scatter3d\"}],\"scattercarpet\":[{\"marker\":{\"colorbar\":{\"outlinewidth\":0,\"ticks\":\"\"}},\"type\":\"scattercarpet\"}],\"scattergeo\":[{\"marker\":{\"colorbar\":{\"outlinewidth\":0,\"ticks\":\"\"}},\"type\":\"scattergeo\"}],\"scattergl\":[{\"marker\":{\"colorbar\":{\"outlinewidth\":0,\"ticks\":\"\"}},\"type\":\"scattergl\"}],\"scattermapbox\":[{\"marker\":{\"colorbar\":{\"outlinewidth\":0,\"ticks\":\"\"}},\"type\":\"scattermapbox\"}],\"scatterpolargl\":[{\"marker\":{\"colorbar\":{\"outlinewidth\":0,\"ticks\":\"\"}},\"type\":\"scatterpolargl\"}],\"scatterpolar\":[{\"marker\":{\"colorbar\":{\"outlinewidth\":0,\"ticks\":\"\"}},\"type\":\"scatterpolar\"}],\"scatter\":[{\"fillpattern\":{\"fillmode\":\"overlay\",\"size\":10,\"solidity\":0.2},\"type\":\"scatter\"}],\"scatterternary\":[{\"marker\":{\"colorbar\":{\"outlinewidth\":0,\"ticks\":\"\"}},\"type\":\"scatterternary\"}],\"surface\":[{\"colorbar\":{\"outlinewidth\":0,\"ticks\":\"\"},\"colorscale\":[[0.0,\"#0d0887\"],[0.1111111111111111,\"#46039f\"],[0.2222222222222222,\"#7201a8\"],[0.3333333333333333,\"#9c179e\"],[0.4444444444444444,\"#bd3786\"],[0.5555555555555556,\"#d8576b\"],[0.6666666666666666,\"#ed7953\"],[0.7777777777777778,\"#fb9f3a\"],[0.8888888888888888,\"#fdca26\"],[1.0,\"#f0f921\"]],\"type\":\"surface\"}],\"table\":[{\"cells\":{\"fill\":{\"color\":\"#EBF0F8\"},\"line\":{\"color\":\"white\"}},\"header\":{\"fill\":{\"color\":\"#C8D4E3\"},\"line\":{\"color\":\"white\"}},\"type\":\"table\"}]},\"layout\":{\"annotationdefaults\":{\"arrowcolor\":\"#2a3f5f\",\"arrowhead\":0,\"arrowwidth\":1},\"autotypenumbers\":\"strict\",\"coloraxis\":{\"colorbar\":{\"outlinewidth\":0,\"ticks\":\"\"}},\"colorscale\":{\"diverging\":[[0,\"#8e0152\"],[0.1,\"#c51b7d\"],[0.2,\"#de77ae\"],[0.3,\"#f1b6da\"],[0.4,\"#fde0ef\"],[0.5,\"#f7f7f7\"],[0.6,\"#e6f5d0\"],[0.7,\"#b8e186\"],[0.8,\"#7fbc41\"],[0.9,\"#4d9221\"],[1,\"#276419\"]],\"sequential\":[[0.0,\"#0d0887\"],[0.1111111111111111,\"#46039f\"],[0.2222222222222222,\"#7201a8\"],[0.3333333333333333,\"#9c179e\"],[0.4444444444444444,\"#bd3786\"],[0.5555555555555556,\"#d8576b\"],[0.6666666666666666,\"#ed7953\"],[0.7777777777777778,\"#fb9f3a\"],[0.8888888888888888,\"#fdca26\"],[1.0,\"#f0f921\"]],\"sequentialminus\":[[0.0,\"#0d0887\"],[0.1111111111111111,\"#46039f\"],[0.2222222222222222,\"#7201a8\"],[0.3333333333333333,\"#9c179e\"],[0.4444444444444444,\"#bd3786\"],[0.5555555555555556,\"#d8576b\"],[0.6666666666666666,\"#ed7953\"],[0.7777777777777778,\"#fb9f3a\"],[0.8888888888888888,\"#fdca26\"],[1.0,\"#f0f921\"]]},\"colorway\":[\"#636efa\",\"#EF553B\",\"#00cc96\",\"#ab63fa\",\"#FFA15A\",\"#19d3f3\",\"#FF6692\",\"#B6E880\",\"#FF97FF\",\"#FECB52\"],\"font\":{\"color\":\"#2a3f5f\"},\"geo\":{\"bgcolor\":\"white\",\"lakecolor\":\"white\",\"landcolor\":\"#E5ECF6\",\"showlakes\":true,\"showland\":true,\"subunitcolor\":\"white\"},\"hoverlabel\":{\"align\":\"left\"},\"hovermode\":\"closest\",\"mapbox\":{\"style\":\"light\"},\"paper_bgcolor\":\"white\",\"plot_bgcolor\":\"#E5ECF6\",\"polar\":{\"angularaxis\":{\"gridcolor\":\"white\",\"linecolor\":\"white\",\"ticks\":\"\"},\"bgcolor\":\"#E5ECF6\",\"radialaxis\":{\"gridcolor\":\"white\",\"linecolor\":\"white\",\"ticks\":\"\"}},\"scene\":{\"xaxis\":{\"backgroundcolor\":\"#E5ECF6\",\"gridcolor\":\"white\",\"gridwidth\":2,\"linecolor\":\"white\",\"showbackground\":true,\"ticks\":\"\",\"zerolinecolor\":\"white\"},\"yaxis\":{\"backgroundcolor\":\"#E5ECF6\",\"gridcolor\":\"white\",\"gridwidth\":2,\"linecolor\":\"white\",\"showbackground\":true,\"ticks\":\"\",\"zerolinecolor\":\"white\"},\"zaxis\":{\"backgroundcolor\":\"#E5ECF6\",\"gridcolor\":\"white\",\"gridwidth\":2,\"linecolor\":\"white\",\"showbackground\":true,\"ticks\":\"\",\"zerolinecolor\":\"white\"}},\"shapedefaults\":{\"line\":{\"color\":\"#2a3f5f\"}},\"ternary\":{\"aaxis\":{\"gridcolor\":\"white\",\"linecolor\":\"white\",\"ticks\":\"\"},\"baxis\":{\"gridcolor\":\"white\",\"linecolor\":\"white\",\"ticks\":\"\"},\"bgcolor\":\"#E5ECF6\",\"caxis\":{\"gridcolor\":\"white\",\"linecolor\":\"white\",\"ticks\":\"\"}},\"title\":{\"x\":0.05},\"xaxis\":{\"automargin\":true,\"gridcolor\":\"white\",\"linecolor\":\"white\",\"ticks\":\"\",\"title\":{\"standoff\":15},\"zerolinecolor\":\"white\",\"zerolinewidth\":2},\"yaxis\":{\"automargin\":true,\"gridcolor\":\"white\",\"linecolor\":\"white\",\"ticks\":\"\",\"title\":{\"standoff\":15},\"zerolinecolor\":\"white\",\"zerolinewidth\":2}}},\"title\":{\"font\":{\"color\":\"#4D5663\"}},\"xaxis\":{\"gridcolor\":\"#E1E5ED\",\"showgrid\":true,\"tickfont\":{\"color\":\"#4D5663\"},\"title\":{\"font\":{\"color\":\"#4D5663\"},\"text\":\"\"},\"zerolinecolor\":\"#E1E5ED\"},\"yaxis\":{\"gridcolor\":\"#E1E5ED\",\"showgrid\":true,\"tickfont\":{\"color\":\"#4D5663\"},\"title\":{\"font\":{\"color\":\"#4D5663\"},\"text\":\"\"},\"zerolinecolor\":\"#E1E5ED\"}},                        {\"showLink\": true, \"linkText\": \"Export to plot.ly\", \"plotlyServerURL\": \"https://plot.ly\", \"responsive\": true}                    ).then(function(){\n",
       "                            \n",
       "var gd = document.getElementById('d57b4c0e-11bf-4f5b-99c4-a94d34a17b1b');\n",
       "var x = new MutationObserver(function (mutations, observer) {{\n",
       "        var display = window.getComputedStyle(gd).display;\n",
       "        if (!display || display === 'none') {{\n",
       "            console.log([gd, 'removed!']);\n",
       "            Plotly.purge(gd);\n",
       "            observer.disconnect();\n",
       "        }}\n",
       "}});\n",
       "\n",
       "// Listen for the removal of the full notebook cells\n",
       "var notebookContainer = gd.closest('#notebook-container');\n",
       "if (notebookContainer) {{\n",
       "    x.observe(notebookContainer, {childList: true});\n",
       "}}\n",
       "\n",
       "// Listen for the clearing of the current output cell\n",
       "var outputEl = gd.closest('.output');\n",
       "if (outputEl) {{\n",
       "    x.observe(outputEl, {childList: true});\n",
       "}}\n",
       "\n",
       "                        })                };                });            </script>        </div>"
      ]
     },
     "metadata": {},
     "output_type": "display_data"
    }
   ],
   "source": [
    "df3 = pd.DataFrame({'x':[1,2,3,4,5],'y':[10,20,30,20,10],'z':[5,4,3,2,1]})\n",
    "df3.iplot(kind='surface',colorscale='rdylbu')"
   ]
  },
  {
   "cell_type": "markdown",
   "metadata": {},
   "source": [
    "## Spread"
   ]
  },
  {
   "cell_type": "code",
   "execution_count": 15,
   "metadata": {
    "collapsed": false
   },
   "outputs": [
    {
     "name": "stderr",
     "output_type": "stream",
     "text": [
      "c:\\Python310\\lib\\site-packages\\cufflinks\\plotlytools.py:849: FutureWarning:\n",
      "\n",
      "The pandas.np module is deprecated and will be removed from pandas in a future version. Import numpy directly instead.\n",
      "\n",
      "c:\\Python310\\lib\\site-packages\\cufflinks\\plotlytools.py:850: FutureWarning:\n",
      "\n",
      "The pandas.np module is deprecated and will be removed from pandas in a future version. Import numpy directly instead.\n",
      "\n"
     ]
    },
    {
     "data": {
      "application/vnd.plotly.v1+json": {
       "config": {
        "linkText": "Export to plot.ly",
        "plotlyServerURL": "https://plot.ly",
        "showLink": true
       },
       "data": [
        {
         "line": {
          "color": "rgba(255, 153, 51, 1.0)",
          "dash": "solid",
          "shape": "linear",
          "width": 1.3
         },
         "mode": "lines",
         "name": "A",
         "text": "",
         "type": "scatter",
         "x": [
          0,
          1,
          2,
          3,
          4,
          5,
          6,
          7,
          8,
          9,
          10,
          11,
          12,
          13,
          14,
          15,
          16,
          17,
          18,
          19,
          20,
          21,
          22,
          23,
          24,
          25,
          26,
          27,
          28,
          29,
          30,
          31,
          32,
          33,
          34,
          35,
          36,
          37,
          38,
          39,
          40,
          41,
          42,
          43,
          44,
          45,
          46,
          47,
          48,
          49,
          50,
          51,
          52,
          53,
          54,
          55,
          56,
          57,
          58,
          59,
          60,
          61,
          62,
          63,
          64,
          65,
          66,
          67,
          68,
          69,
          70,
          71,
          72,
          73,
          74,
          75,
          76,
          77,
          78,
          79,
          80,
          81,
          82,
          83,
          84,
          85,
          86,
          87,
          88,
          89,
          90,
          91,
          92,
          93,
          94,
          95,
          96,
          97,
          98,
          99
         ],
         "y": [
          0.4625705346860569,
          -0.39776559619778035,
          0.45134849134936006,
          -0.13586989136117616,
          0.8666046795885229,
          0.6915422091449416,
          0.2879465812261424,
          0.8634873175971317,
          1.0636136020541438,
          1.0253235577750899,
          -0.31709420285086765,
          0.8118393443542882,
          1.2729161314443458,
          -0.04749879992679883,
          1.6212382555696152,
          0.7432177254591762,
          -0.7540751447799475,
          -1.1785769272722304,
          0.5554718080127589,
          0.9645479280032871,
          0.8649041685720121,
          -0.5549189890831625,
          -0.6218986150027163,
          -0.7194602403736984,
          -1.802095186977993,
          -0.26678732623986573,
          2.7238387138412192,
          0.615634491260396,
          0.007579856052334232,
          1.1290262523400951,
          1.587017275445863,
          -0.9189023976589287,
          1.4725054513406621,
          -0.48301228688987907,
          -1.3304701145449986,
          1.245831392521345,
          -1.0983440758617014,
          1.180857997707036,
          0.5440386879638087,
          0.5677057464677294,
          -0.788205121339689,
          -0.3199941722674541,
          -1.2771991364799633,
          -0.743349078501879,
          -1.1417746291284483,
          -0.5475290985702707,
          -3.2223848725883575,
          -0.2510964618123027,
          -1.7800437914056828,
          0.6437766633383795,
          -0.5237843931033407,
          -0.6820156552307822,
          1.8181209386254333,
          0.43912021962870396,
          -0.5779841176830209,
          -0.49567500878627896,
          1.5736513015848792,
          -0.4849414708447617,
          -0.030582237332559874,
          -0.7159901187440891,
          0.3815770903437842,
          -0.4643215828999029,
          1.0224124071713991,
          -0.30473964077199983,
          0.5854244150705185,
          -0.8103124473453914,
          0.819934226238514,
          -1.8347336449792389,
          -0.4460340648319405,
          1.6022942645681513,
          0.2227037950171565,
          1.9715057168447414,
          0.030545883394759044,
          1.5746046212676983,
          0.6798817967772102,
          0.2054790119107006,
          0.27995172153214837,
          -1.2564946179625986,
          -1.4388162435408303,
          0.6978362478661515,
          -0.6871087225198645,
          0.03376446352296217,
          -0.07695646388334659,
          1.1057890388523681,
          -1.4005037932977615,
          -1.514307743583307,
          -1.0950729859328534,
          -0.09349612285966388,
          -2.0742756957159862,
          -0.6539147900050394,
          2.7493473960748545,
          0.9275692397287629,
          0.32009980593724974,
          0.6253393120995153,
          0.6897118991535294,
          -1.5343373827748692,
          0.6488067241950675,
          0.09499686984715128,
          0.7803587474326844,
          0.1024905534892975
         ]
        },
        {
         "line": {
          "color": "rgba(55, 128, 191, 1.0)",
          "dash": "solid",
          "shape": "linear",
          "width": 1.3
         },
         "mode": "lines",
         "name": "B",
         "text": "",
         "type": "scatter",
         "x": [
          0,
          1,
          2,
          3,
          4,
          5,
          6,
          7,
          8,
          9,
          10,
          11,
          12,
          13,
          14,
          15,
          16,
          17,
          18,
          19,
          20,
          21,
          22,
          23,
          24,
          25,
          26,
          27,
          28,
          29,
          30,
          31,
          32,
          33,
          34,
          35,
          36,
          37,
          38,
          39,
          40,
          41,
          42,
          43,
          44,
          45,
          46,
          47,
          48,
          49,
          50,
          51,
          52,
          53,
          54,
          55,
          56,
          57,
          58,
          59,
          60,
          61,
          62,
          63,
          64,
          65,
          66,
          67,
          68,
          69,
          70,
          71,
          72,
          73,
          74,
          75,
          76,
          77,
          78,
          79,
          80,
          81,
          82,
          83,
          84,
          85,
          86,
          87,
          88,
          89,
          90,
          91,
          92,
          93,
          94,
          95,
          96,
          97,
          98,
          99
         ],
         "y": [
          -1.3658007014664313,
          -0.6350333815305984,
          -0.9225023455677859,
          -0.6236056824865273,
          -0.18356722515055598,
          -0.8282112839224751,
          -0.22599933977613648,
          -0.08427485525071632,
          -0.04947484313961995,
          0.8508207630027762,
          0.018825217556514274,
          0.08608633867607307,
          -0.9244306868787607,
          0.5485609902447441,
          1.177795597249583,
          -0.10932772012243774,
          -0.6650659901184788,
          -1.130925902347371,
          1.5504806364069426,
          -0.6935904582249032,
          1.4797097592255881,
          -0.4861265117217737,
          -0.06723767178783559,
          -1.070318252028669,
          0.19010870364430227,
          1.0944945696223813,
          0.9398514074931446,
          0.9270579274216835,
          1.7420449912679339,
          -1.7737531831587297,
          0.9748891216747543,
          0.028938685164870852,
          -0.5976961395226522,
          -0.35759118356467046,
          0.6362630122762118,
          -1.6652776675816219,
          0.046058986375401345,
          0.4223155973887687,
          -1.0240020155140628,
          1.757371706965391,
          -0.23212477117625419,
          -0.5253472403215348,
          1.545594814224598,
          0.20286626452325346,
          0.9505040704125001,
          0.2836453901331043,
          0.28185143876966146,
          0.47621993897237586,
          1.6908071967334568,
          -1.6194067333772713,
          -0.6523141481185137,
          0.32419451714924846,
          -0.6437146750787236,
          -0.5613024570103383,
          0.15659926612601785,
          1.216161214738801,
          1.4669291446392254,
          0.013413375094520001,
          0.6772940970325642,
          0.0011619705075164054,
          0.4983121764774387,
          0.5178283879895301,
          0.5111314025770597,
          -0.15103715454482886,
          -0.9993029513443423,
          1.7558076345328892,
          1.309351374593043,
          -0.7444034365155567,
          -0.10722007531162517,
          -0.11448009559783312,
          3.9990147561777287,
          0.2502565660393181,
          0.22495725342868372,
          -1.126490949731758,
          -0.7515807915122932,
          1.5185709325212653,
          0.6100340654423348,
          1.0186660650065034,
          0.5133949902762628,
          0.7207257255626729,
          0.5547838573778077,
          0.18709779037151372,
          -0.4187249372207891,
          0.4067555297536765,
          0.25733156690145603,
          -0.9765654247627013,
          -1.153711505883254,
          -0.08209547748935996,
          0.27169309371179057,
          0.1921783078755945,
          -0.41618004621276505,
          0.7461979831496948,
          -1.459595403754854,
          -1.1153918522124082,
          -0.09367478466593762,
          -1.11258801156455,
          0.42426910929003386,
          -0.3534061605676554,
          0.11272144129587136,
          1.1115790414692162
         ]
        },
        {
         "connectgaps": false,
         "fill": "tozeroy",
         "line": {
          "color": "green",
          "dash": "solid",
          "shape": "linear",
          "width": 0.5
         },
         "mode": "lines",
         "name": "Spread",
         "showlegend": false,
         "type": "scatter",
         "x": [
          0,
          1,
          2,
          3,
          4,
          5,
          6,
          7,
          8,
          9,
          10,
          11,
          12,
          13,
          14,
          15,
          16,
          17,
          18,
          19,
          20,
          21,
          22,
          23,
          24,
          25,
          26,
          27,
          28,
          29,
          30,
          31,
          32,
          33,
          34,
          35,
          36,
          37,
          38,
          39,
          40,
          41,
          42,
          43,
          44,
          45,
          46,
          47,
          48,
          49,
          50,
          51,
          52,
          53,
          54,
          55,
          56,
          57,
          58,
          59,
          60,
          61,
          62,
          63,
          64,
          65,
          66,
          67,
          68,
          69,
          70,
          71,
          72,
          73,
          74,
          75,
          76,
          77,
          78,
          79,
          80,
          81,
          82,
          83,
          84,
          85,
          86,
          87,
          88,
          89,
          90,
          91,
          92,
          93,
          94,
          95,
          96,
          97,
          98,
          99
         ],
         "xaxis": "x2",
         "y": [
          1.8283712361524882,
          0.23726778533281806,
          1.3738508369171458,
          0.4877357911253511,
          1.050171904739079,
          1.5197534930674168,
          0.5139459210022789,
          0.947762172847848,
          1.1130884451937637,
          0.17450279477231367,
          "",
          0.7257530056782151,
          2.1973468183231066,
          "",
          0.44344265832003216,
          0.8525454455816139,
          "",
          "",
          "",
          1.6581383862281904,
          "",
          "",
          "",
          0.35085801165497055,
          "",
          "",
          1.7839873063480747,
          "",
          "",
          2.902779435498825,
          0.6121281537711086,
          "",
          2.0702015908633142,
          "",
          "",
          2.9111090601029668,
          "",
          0.7585424003182673,
          1.5680407034778714,
          "",
          "",
          0.2053530680540807,
          "",
          "",
          "",
          "",
          "",
          "",
          "",
          2.2631833967156507,
          0.12852975501517305,
          "",
          2.461835613704157,
          1.0004226766390423,
          "",
          "",
          0.10672215694565379,
          "",
          "",
          "",
          "",
          "",
          0.5112810045943394,
          "",
          1.5847273664148607,
          "",
          "",
          "",
          "",
          1.7167743601659844,
          "",
          1.7212491508054233,
          "",
          2.701095570999456,
          1.4314625882895033,
          "",
          "",
          "",
          "",
          "",
          "",
          "",
          0.3417684733374425,
          0.6990335090986917,
          "",
          "",
          0.0586385199504007,
          "",
          "",
          "",
          3.1655274422876194,
          0.18137125657906816,
          1.7796952096921037,
          1.7407311643119234,
          0.783386683819467,
          "",
          0.2245376149050336,
          0.44840303041480667,
          0.667637306136813,
          ""
         ],
         "yaxis": "y2"
        },
        {
         "connectgaps": false,
         "fill": "tozeroy",
         "line": {
          "color": "red",
          "dash": "solid",
          "shape": "linear",
          "width": 0.5
         },
         "mode": "lines",
         "name": "Spread",
         "showlegend": false,
         "type": "scatter",
         "x": [
          0,
          1,
          2,
          3,
          4,
          5,
          6,
          7,
          8,
          9,
          10,
          11,
          12,
          13,
          14,
          15,
          16,
          17,
          18,
          19,
          20,
          21,
          22,
          23,
          24,
          25,
          26,
          27,
          28,
          29,
          30,
          31,
          32,
          33,
          34,
          35,
          36,
          37,
          38,
          39,
          40,
          41,
          42,
          43,
          44,
          45,
          46,
          47,
          48,
          49,
          50,
          51,
          52,
          53,
          54,
          55,
          56,
          57,
          58,
          59,
          60,
          61,
          62,
          63,
          64,
          65,
          66,
          67,
          68,
          69,
          70,
          71,
          72,
          73,
          74,
          75,
          76,
          77,
          78,
          79,
          80,
          81,
          82,
          83,
          84,
          85,
          86,
          87,
          88,
          89,
          90,
          91,
          92,
          93,
          94,
          95,
          96,
          97,
          98,
          99
         ],
         "xaxis": "x2",
         "y": [
          "",
          "",
          "",
          "",
          "",
          "",
          "",
          "",
          "",
          "",
          -0.33591942040738193,
          "",
          "",
          -0.596059790171543,
          "",
          "",
          -0.08900915466146875,
          -0.0476510249248594,
          -0.9950088283941837,
          "",
          -0.614805590653576,
          -0.06879247736138883,
          -0.5546609432148807,
          "",
          -1.9922038906222954,
          -1.361281895862247,
          "",
          -0.3114234361612874,
          -1.7344651352155998,
          "",
          "",
          -0.9478410828237995,
          "",
          -0.12542110332520862,
          -1.9667331268212105,
          "",
          -1.1444030622371026,
          "",
          "",
          -1.1896659604976616,
          -0.5560803501634348,
          "",
          -2.822793950704561,
          -0.9462153430251325,
          -2.092278699540948,
          -0.831174488703375,
          -3.504236311358019,
          -0.7273164007846786,
          -3.47085098813914,
          "",
          "",
          -1.0062101723800307,
          "",
          "",
          -0.7345833838090388,
          -1.71183622352508,
          "",
          -0.4983548459392817,
          -0.707876334365124,
          -0.7171520892516056,
          -0.11673508613365452,
          -0.982149970889433,
          "",
          -0.15370248622717098,
          "",
          -2.566120081878281,
          -0.489417148354529,
          -1.0903302084636821,
          -0.3388139895203154,
          "",
          -3.776310961160572,
          "",
          -0.19441137003392467,
          "",
          "",
          -1.3130919206105647,
          -0.3300823439101865,
          -2.2751606829691022,
          -1.952211233817093,
          -0.022889477696521388,
          -1.241892579897672,
          -0.15333332684855155,
          "",
          "",
          -1.6578353601992175,
          -0.5377423188206057,
          "",
          -0.011400645370303927,
          -2.345968789427777,
          -0.8460930978806339,
          "",
          "",
          "",
          "",
          "",
          -0.4217493712103193,
          "",
          "",
          "",
          -1.0090884879799187
         ],
         "yaxis": "y2"
        }
       ],
       "layout": {
        "hovermode": "x",
        "legend": {
         "bgcolor": "#F5F6F9",
         "font": {
          "color": "#4D5663"
         }
        },
        "paper_bgcolor": "#F5F6F9",
        "plot_bgcolor": "#F5F6F9",
        "template": {
         "data": {
          "bar": [
           {
            "error_x": {
             "color": "#2a3f5f"
            },
            "error_y": {
             "color": "#2a3f5f"
            },
            "marker": {
             "line": {
              "color": "#E5ECF6",
              "width": 0.5
             },
             "pattern": {
              "fillmode": "overlay",
              "size": 10,
              "solidity": 0.2
             }
            },
            "type": "bar"
           }
          ],
          "barpolar": [
           {
            "marker": {
             "line": {
              "color": "#E5ECF6",
              "width": 0.5
             },
             "pattern": {
              "fillmode": "overlay",
              "size": 10,
              "solidity": 0.2
             }
            },
            "type": "barpolar"
           }
          ],
          "carpet": [
           {
            "aaxis": {
             "endlinecolor": "#2a3f5f",
             "gridcolor": "white",
             "linecolor": "white",
             "minorgridcolor": "white",
             "startlinecolor": "#2a3f5f"
            },
            "baxis": {
             "endlinecolor": "#2a3f5f",
             "gridcolor": "white",
             "linecolor": "white",
             "minorgridcolor": "white",
             "startlinecolor": "#2a3f5f"
            },
            "type": "carpet"
           }
          ],
          "choropleth": [
           {
            "colorbar": {
             "outlinewidth": 0,
             "ticks": ""
            },
            "type": "choropleth"
           }
          ],
          "contour": [
           {
            "colorbar": {
             "outlinewidth": 0,
             "ticks": ""
            },
            "colorscale": [
             [
              0,
              "#0d0887"
             ],
             [
              0.1111111111111111,
              "#46039f"
             ],
             [
              0.2222222222222222,
              "#7201a8"
             ],
             [
              0.3333333333333333,
              "#9c179e"
             ],
             [
              0.4444444444444444,
              "#bd3786"
             ],
             [
              0.5555555555555556,
              "#d8576b"
             ],
             [
              0.6666666666666666,
              "#ed7953"
             ],
             [
              0.7777777777777778,
              "#fb9f3a"
             ],
             [
              0.8888888888888888,
              "#fdca26"
             ],
             [
              1,
              "#f0f921"
             ]
            ],
            "type": "contour"
           }
          ],
          "contourcarpet": [
           {
            "colorbar": {
             "outlinewidth": 0,
             "ticks": ""
            },
            "type": "contourcarpet"
           }
          ],
          "heatmap": [
           {
            "colorbar": {
             "outlinewidth": 0,
             "ticks": ""
            },
            "colorscale": [
             [
              0,
              "#0d0887"
             ],
             [
              0.1111111111111111,
              "#46039f"
             ],
             [
              0.2222222222222222,
              "#7201a8"
             ],
             [
              0.3333333333333333,
              "#9c179e"
             ],
             [
              0.4444444444444444,
              "#bd3786"
             ],
             [
              0.5555555555555556,
              "#d8576b"
             ],
             [
              0.6666666666666666,
              "#ed7953"
             ],
             [
              0.7777777777777778,
              "#fb9f3a"
             ],
             [
              0.8888888888888888,
              "#fdca26"
             ],
             [
              1,
              "#f0f921"
             ]
            ],
            "type": "heatmap"
           }
          ],
          "heatmapgl": [
           {
            "colorbar": {
             "outlinewidth": 0,
             "ticks": ""
            },
            "colorscale": [
             [
              0,
              "#0d0887"
             ],
             [
              0.1111111111111111,
              "#46039f"
             ],
             [
              0.2222222222222222,
              "#7201a8"
             ],
             [
              0.3333333333333333,
              "#9c179e"
             ],
             [
              0.4444444444444444,
              "#bd3786"
             ],
             [
              0.5555555555555556,
              "#d8576b"
             ],
             [
              0.6666666666666666,
              "#ed7953"
             ],
             [
              0.7777777777777778,
              "#fb9f3a"
             ],
             [
              0.8888888888888888,
              "#fdca26"
             ],
             [
              1,
              "#f0f921"
             ]
            ],
            "type": "heatmapgl"
           }
          ],
          "histogram": [
           {
            "marker": {
             "pattern": {
              "fillmode": "overlay",
              "size": 10,
              "solidity": 0.2
             }
            },
            "type": "histogram"
           }
          ],
          "histogram2d": [
           {
            "colorbar": {
             "outlinewidth": 0,
             "ticks": ""
            },
            "colorscale": [
             [
              0,
              "#0d0887"
             ],
             [
              0.1111111111111111,
              "#46039f"
             ],
             [
              0.2222222222222222,
              "#7201a8"
             ],
             [
              0.3333333333333333,
              "#9c179e"
             ],
             [
              0.4444444444444444,
              "#bd3786"
             ],
             [
              0.5555555555555556,
              "#d8576b"
             ],
             [
              0.6666666666666666,
              "#ed7953"
             ],
             [
              0.7777777777777778,
              "#fb9f3a"
             ],
             [
              0.8888888888888888,
              "#fdca26"
             ],
             [
              1,
              "#f0f921"
             ]
            ],
            "type": "histogram2d"
           }
          ],
          "histogram2dcontour": [
           {
            "colorbar": {
             "outlinewidth": 0,
             "ticks": ""
            },
            "colorscale": [
             [
              0,
              "#0d0887"
             ],
             [
              0.1111111111111111,
              "#46039f"
             ],
             [
              0.2222222222222222,
              "#7201a8"
             ],
             [
              0.3333333333333333,
              "#9c179e"
             ],
             [
              0.4444444444444444,
              "#bd3786"
             ],
             [
              0.5555555555555556,
              "#d8576b"
             ],
             [
              0.6666666666666666,
              "#ed7953"
             ],
             [
              0.7777777777777778,
              "#fb9f3a"
             ],
             [
              0.8888888888888888,
              "#fdca26"
             ],
             [
              1,
              "#f0f921"
             ]
            ],
            "type": "histogram2dcontour"
           }
          ],
          "mesh3d": [
           {
            "colorbar": {
             "outlinewidth": 0,
             "ticks": ""
            },
            "type": "mesh3d"
           }
          ],
          "parcoords": [
           {
            "line": {
             "colorbar": {
              "outlinewidth": 0,
              "ticks": ""
             }
            },
            "type": "parcoords"
           }
          ],
          "pie": [
           {
            "automargin": true,
            "type": "pie"
           }
          ],
          "scatter": [
           {
            "fillpattern": {
             "fillmode": "overlay",
             "size": 10,
             "solidity": 0.2
            },
            "type": "scatter"
           }
          ],
          "scatter3d": [
           {
            "line": {
             "colorbar": {
              "outlinewidth": 0,
              "ticks": ""
             }
            },
            "marker": {
             "colorbar": {
              "outlinewidth": 0,
              "ticks": ""
             }
            },
            "type": "scatter3d"
           }
          ],
          "scattercarpet": [
           {
            "marker": {
             "colorbar": {
              "outlinewidth": 0,
              "ticks": ""
             }
            },
            "type": "scattercarpet"
           }
          ],
          "scattergeo": [
           {
            "marker": {
             "colorbar": {
              "outlinewidth": 0,
              "ticks": ""
             }
            },
            "type": "scattergeo"
           }
          ],
          "scattergl": [
           {
            "marker": {
             "colorbar": {
              "outlinewidth": 0,
              "ticks": ""
             }
            },
            "type": "scattergl"
           }
          ],
          "scattermapbox": [
           {
            "marker": {
             "colorbar": {
              "outlinewidth": 0,
              "ticks": ""
             }
            },
            "type": "scattermapbox"
           }
          ],
          "scatterpolar": [
           {
            "marker": {
             "colorbar": {
              "outlinewidth": 0,
              "ticks": ""
             }
            },
            "type": "scatterpolar"
           }
          ],
          "scatterpolargl": [
           {
            "marker": {
             "colorbar": {
              "outlinewidth": 0,
              "ticks": ""
             }
            },
            "type": "scatterpolargl"
           }
          ],
          "scatterternary": [
           {
            "marker": {
             "colorbar": {
              "outlinewidth": 0,
              "ticks": ""
             }
            },
            "type": "scatterternary"
           }
          ],
          "surface": [
           {
            "colorbar": {
             "outlinewidth": 0,
             "ticks": ""
            },
            "colorscale": [
             [
              0,
              "#0d0887"
             ],
             [
              0.1111111111111111,
              "#46039f"
             ],
             [
              0.2222222222222222,
              "#7201a8"
             ],
             [
              0.3333333333333333,
              "#9c179e"
             ],
             [
              0.4444444444444444,
              "#bd3786"
             ],
             [
              0.5555555555555556,
              "#d8576b"
             ],
             [
              0.6666666666666666,
              "#ed7953"
             ],
             [
              0.7777777777777778,
              "#fb9f3a"
             ],
             [
              0.8888888888888888,
              "#fdca26"
             ],
             [
              1,
              "#f0f921"
             ]
            ],
            "type": "surface"
           }
          ],
          "table": [
           {
            "cells": {
             "fill": {
              "color": "#EBF0F8"
             },
             "line": {
              "color": "white"
             }
            },
            "header": {
             "fill": {
              "color": "#C8D4E3"
             },
             "line": {
              "color": "white"
             }
            },
            "type": "table"
           }
          ]
         },
         "layout": {
          "annotationdefaults": {
           "arrowcolor": "#2a3f5f",
           "arrowhead": 0,
           "arrowwidth": 1
          },
          "autotypenumbers": "strict",
          "coloraxis": {
           "colorbar": {
            "outlinewidth": 0,
            "ticks": ""
           }
          },
          "colorscale": {
           "diverging": [
            [
             0,
             "#8e0152"
            ],
            [
             0.1,
             "#c51b7d"
            ],
            [
             0.2,
             "#de77ae"
            ],
            [
             0.3,
             "#f1b6da"
            ],
            [
             0.4,
             "#fde0ef"
            ],
            [
             0.5,
             "#f7f7f7"
            ],
            [
             0.6,
             "#e6f5d0"
            ],
            [
             0.7,
             "#b8e186"
            ],
            [
             0.8,
             "#7fbc41"
            ],
            [
             0.9,
             "#4d9221"
            ],
            [
             1,
             "#276419"
            ]
           ],
           "sequential": [
            [
             0,
             "#0d0887"
            ],
            [
             0.1111111111111111,
             "#46039f"
            ],
            [
             0.2222222222222222,
             "#7201a8"
            ],
            [
             0.3333333333333333,
             "#9c179e"
            ],
            [
             0.4444444444444444,
             "#bd3786"
            ],
            [
             0.5555555555555556,
             "#d8576b"
            ],
            [
             0.6666666666666666,
             "#ed7953"
            ],
            [
             0.7777777777777778,
             "#fb9f3a"
            ],
            [
             0.8888888888888888,
             "#fdca26"
            ],
            [
             1,
             "#f0f921"
            ]
           ],
           "sequentialminus": [
            [
             0,
             "#0d0887"
            ],
            [
             0.1111111111111111,
             "#46039f"
            ],
            [
             0.2222222222222222,
             "#7201a8"
            ],
            [
             0.3333333333333333,
             "#9c179e"
            ],
            [
             0.4444444444444444,
             "#bd3786"
            ],
            [
             0.5555555555555556,
             "#d8576b"
            ],
            [
             0.6666666666666666,
             "#ed7953"
            ],
            [
             0.7777777777777778,
             "#fb9f3a"
            ],
            [
             0.8888888888888888,
             "#fdca26"
            ],
            [
             1,
             "#f0f921"
            ]
           ]
          },
          "colorway": [
           "#636efa",
           "#EF553B",
           "#00cc96",
           "#ab63fa",
           "#FFA15A",
           "#19d3f3",
           "#FF6692",
           "#B6E880",
           "#FF97FF",
           "#FECB52"
          ],
          "font": {
           "color": "#2a3f5f"
          },
          "geo": {
           "bgcolor": "white",
           "lakecolor": "white",
           "landcolor": "#E5ECF6",
           "showlakes": true,
           "showland": true,
           "subunitcolor": "white"
          },
          "hoverlabel": {
           "align": "left"
          },
          "hovermode": "closest",
          "mapbox": {
           "style": "light"
          },
          "paper_bgcolor": "white",
          "plot_bgcolor": "#E5ECF6",
          "polar": {
           "angularaxis": {
            "gridcolor": "white",
            "linecolor": "white",
            "ticks": ""
           },
           "bgcolor": "#E5ECF6",
           "radialaxis": {
            "gridcolor": "white",
            "linecolor": "white",
            "ticks": ""
           }
          },
          "scene": {
           "xaxis": {
            "backgroundcolor": "#E5ECF6",
            "gridcolor": "white",
            "gridwidth": 2,
            "linecolor": "white",
            "showbackground": true,
            "ticks": "",
            "zerolinecolor": "white"
           },
           "yaxis": {
            "backgroundcolor": "#E5ECF6",
            "gridcolor": "white",
            "gridwidth": 2,
            "linecolor": "white",
            "showbackground": true,
            "ticks": "",
            "zerolinecolor": "white"
           },
           "zaxis": {
            "backgroundcolor": "#E5ECF6",
            "gridcolor": "white",
            "gridwidth": 2,
            "linecolor": "white",
            "showbackground": true,
            "ticks": "",
            "zerolinecolor": "white"
           }
          },
          "shapedefaults": {
           "line": {
            "color": "#2a3f5f"
           }
          },
          "ternary": {
           "aaxis": {
            "gridcolor": "white",
            "linecolor": "white",
            "ticks": ""
           },
           "baxis": {
            "gridcolor": "white",
            "linecolor": "white",
            "ticks": ""
           },
           "bgcolor": "#E5ECF6",
           "caxis": {
            "gridcolor": "white",
            "linecolor": "white",
            "ticks": ""
           }
          },
          "title": {
           "x": 0.05
          },
          "xaxis": {
           "automargin": true,
           "gridcolor": "white",
           "linecolor": "white",
           "ticks": "",
           "title": {
            "standoff": 15
           },
           "zerolinecolor": "white",
           "zerolinewidth": 2
          },
          "yaxis": {
           "automargin": true,
           "gridcolor": "white",
           "linecolor": "white",
           "ticks": "",
           "title": {
            "standoff": 15
           },
           "zerolinecolor": "white",
           "zerolinewidth": 2
          }
         }
        },
        "title": {
         "font": {
          "color": "#4D5663"
         }
        },
        "xaxis": {
         "gridcolor": "#E1E5ED",
         "showgrid": true,
         "tickfont": {
          "color": "#4D5663"
         },
         "title": {
          "font": {
           "color": "#4D5663"
          },
          "text": ""
         },
         "zerolinecolor": "#E1E5ED"
        },
        "xaxis2": {
         "anchor": "y2",
         "gridcolor": "#E1E5ED",
         "showgrid": true,
         "showticklabels": false,
         "tickfont": {
          "color": "#4D5663"
         },
         "title": {
          "font": {
           "color": "#4D5663"
          },
          "text": ""
         },
         "zerolinecolor": "#E1E5ED"
        },
        "yaxis": {
         "domain": [
          0.3,
          1
         ],
         "gridcolor": "#E1E5ED",
         "showgrid": true,
         "tickfont": {
          "color": "#4D5663"
         },
         "title": {
          "font": {
           "color": "#4D5663"
          },
          "text": ""
         },
         "zerolinecolor": "#E1E5ED"
        },
        "yaxis2": {
         "domain": [
          0,
          0.25
         ],
         "gridcolor": "#E1E5ED",
         "showgrid": true,
         "tickfont": {
          "color": "#4D5663"
         },
         "title": {
          "font": {
           "color": "#4D5663"
          },
          "text": "Spread"
         },
         "zerolinecolor": "#E1E5ED"
        }
       }
      },
      "text/html": [
       "<div>                            <div id=\"c3b5cd6a-de9c-4a69-b6b6-afe6a5e00d26\" class=\"plotly-graph-div\" style=\"height:525px; width:100%;\"></div>            <script type=\"text/javascript\">                require([\"plotly\"], function(Plotly) {                    window.PLOTLYENV=window.PLOTLYENV || {};\n",
       "                    window.PLOTLYENV.BASE_URL='https://plot.ly';                                    if (document.getElementById(\"c3b5cd6a-de9c-4a69-b6b6-afe6a5e00d26\")) {                    Plotly.newPlot(                        \"c3b5cd6a-de9c-4a69-b6b6-afe6a5e00d26\",                        [{\"line\":{\"color\":\"rgba(255, 153, 51, 1.0)\",\"dash\":\"solid\",\"shape\":\"linear\",\"width\":1.3},\"mode\":\"lines\",\"name\":\"A\",\"text\":\"\",\"x\":[0,1,2,3,4,5,6,7,8,9,10,11,12,13,14,15,16,17,18,19,20,21,22,23,24,25,26,27,28,29,30,31,32,33,34,35,36,37,38,39,40,41,42,43,44,45,46,47,48,49,50,51,52,53,54,55,56,57,58,59,60,61,62,63,64,65,66,67,68,69,70,71,72,73,74,75,76,77,78,79,80,81,82,83,84,85,86,87,88,89,90,91,92,93,94,95,96,97,98,99],\"y\":[0.4625705346860569,-0.39776559619778035,0.45134849134936006,-0.13586989136117616,0.8666046795885229,0.6915422091449416,0.2879465812261424,0.8634873175971317,1.0636136020541438,1.0253235577750899,-0.31709420285086765,0.8118393443542882,1.2729161314443458,-0.04749879992679883,1.6212382555696152,0.7432177254591762,-0.7540751447799475,-1.1785769272722304,0.5554718080127589,0.9645479280032871,0.8649041685720121,-0.5549189890831625,-0.6218986150027163,-0.7194602403736984,-1.802095186977993,-0.26678732623986573,2.7238387138412192,0.615634491260396,0.007579856052334232,1.1290262523400951,1.587017275445863,-0.9189023976589287,1.4725054513406621,-0.48301228688987907,-1.3304701145449986,1.245831392521345,-1.0983440758617014,1.180857997707036,0.5440386879638087,0.5677057464677294,-0.788205121339689,-0.3199941722674541,-1.2771991364799633,-0.743349078501879,-1.1417746291284483,-0.5475290985702707,-3.2223848725883575,-0.2510964618123027,-1.7800437914056828,0.6437766633383795,-0.5237843931033407,-0.6820156552307822,1.8181209386254333,0.43912021962870396,-0.5779841176830209,-0.49567500878627896,1.5736513015848792,-0.4849414708447617,-0.030582237332559874,-0.7159901187440891,0.3815770903437842,-0.4643215828999029,1.0224124071713991,-0.30473964077199983,0.5854244150705185,-0.8103124473453914,0.819934226238514,-1.8347336449792389,-0.4460340648319405,1.6022942645681513,0.2227037950171565,1.9715057168447414,0.030545883394759044,1.5746046212676983,0.6798817967772102,0.2054790119107006,0.27995172153214837,-1.2564946179625986,-1.4388162435408303,0.6978362478661515,-0.6871087225198645,0.03376446352296217,-0.07695646388334659,1.1057890388523681,-1.4005037932977615,-1.514307743583307,-1.0950729859328534,-0.09349612285966388,-2.0742756957159862,-0.6539147900050394,2.7493473960748545,0.9275692397287629,0.32009980593724974,0.6253393120995153,0.6897118991535294,-1.5343373827748692,0.6488067241950675,0.09499686984715128,0.7803587474326844,0.1024905534892975],\"type\":\"scatter\"},{\"line\":{\"color\":\"rgba(55, 128, 191, 1.0)\",\"dash\":\"solid\",\"shape\":\"linear\",\"width\":1.3},\"mode\":\"lines\",\"name\":\"B\",\"text\":\"\",\"x\":[0,1,2,3,4,5,6,7,8,9,10,11,12,13,14,15,16,17,18,19,20,21,22,23,24,25,26,27,28,29,30,31,32,33,34,35,36,37,38,39,40,41,42,43,44,45,46,47,48,49,50,51,52,53,54,55,56,57,58,59,60,61,62,63,64,65,66,67,68,69,70,71,72,73,74,75,76,77,78,79,80,81,82,83,84,85,86,87,88,89,90,91,92,93,94,95,96,97,98,99],\"y\":[-1.3658007014664313,-0.6350333815305984,-0.9225023455677859,-0.6236056824865273,-0.18356722515055598,-0.8282112839224751,-0.22599933977613648,-0.08427485525071632,-0.04947484313961995,0.8508207630027762,0.018825217556514274,0.08608633867607307,-0.9244306868787607,0.5485609902447441,1.177795597249583,-0.10932772012243774,-0.6650659901184788,-1.130925902347371,1.5504806364069426,-0.6935904582249032,1.4797097592255881,-0.4861265117217737,-0.06723767178783559,-1.070318252028669,0.19010870364430227,1.0944945696223813,0.9398514074931446,0.9270579274216835,1.7420449912679339,-1.7737531831587297,0.9748891216747543,0.028938685164870852,-0.5976961395226522,-0.35759118356467046,0.6362630122762118,-1.6652776675816219,0.046058986375401345,0.4223155973887687,-1.0240020155140628,1.757371706965391,-0.23212477117625419,-0.5253472403215348,1.545594814224598,0.20286626452325346,0.9505040704125001,0.2836453901331043,0.28185143876966146,0.47621993897237586,1.6908071967334568,-1.6194067333772713,-0.6523141481185137,0.32419451714924846,-0.6437146750787236,-0.5613024570103383,0.15659926612601785,1.216161214738801,1.4669291446392254,0.013413375094520001,0.6772940970325642,0.0011619705075164054,0.4983121764774387,0.5178283879895301,0.5111314025770597,-0.15103715454482886,-0.9993029513443423,1.7558076345328892,1.309351374593043,-0.7444034365155567,-0.10722007531162517,-0.11448009559783312,3.9990147561777287,0.2502565660393181,0.22495725342868372,-1.126490949731758,-0.7515807915122932,1.5185709325212653,0.6100340654423348,1.0186660650065034,0.5133949902762628,0.7207257255626729,0.5547838573778077,0.18709779037151372,-0.4187249372207891,0.4067555297536765,0.25733156690145603,-0.9765654247627013,-1.153711505883254,-0.08209547748935996,0.27169309371179057,0.1921783078755945,-0.41618004621276505,0.7461979831496948,-1.459595403754854,-1.1153918522124082,-0.09367478466593762,-1.11258801156455,0.42426910929003386,-0.3534061605676554,0.11272144129587136,1.1115790414692162],\"type\":\"scatter\"},{\"connectgaps\":false,\"fill\":\"tozeroy\",\"line\":{\"color\":\"green\",\"dash\":\"solid\",\"shape\":\"linear\",\"width\":0.5},\"mode\":\"lines\",\"name\":\"Spread\",\"showlegend\":false,\"x\":[0,1,2,3,4,5,6,7,8,9,10,11,12,13,14,15,16,17,18,19,20,21,22,23,24,25,26,27,28,29,30,31,32,33,34,35,36,37,38,39,40,41,42,43,44,45,46,47,48,49,50,51,52,53,54,55,56,57,58,59,60,61,62,63,64,65,66,67,68,69,70,71,72,73,74,75,76,77,78,79,80,81,82,83,84,85,86,87,88,89,90,91,92,93,94,95,96,97,98,99],\"xaxis\":\"x2\",\"y\":[1.8283712361524882,0.23726778533281806,1.3738508369171458,0.4877357911253511,1.050171904739079,1.5197534930674168,0.5139459210022789,0.947762172847848,1.1130884451937637,0.17450279477231367,\"\",0.7257530056782151,2.1973468183231066,\"\",0.44344265832003216,0.8525454455816139,\"\",\"\",\"\",1.6581383862281904,\"\",\"\",\"\",0.35085801165497055,\"\",\"\",1.7839873063480747,\"\",\"\",2.902779435498825,0.6121281537711086,\"\",2.0702015908633142,\"\",\"\",2.9111090601029668,\"\",0.7585424003182673,1.5680407034778714,\"\",\"\",0.2053530680540807,\"\",\"\",\"\",\"\",\"\",\"\",\"\",2.2631833967156507,0.12852975501517305,\"\",2.461835613704157,1.0004226766390423,\"\",\"\",0.10672215694565379,\"\",\"\",\"\",\"\",\"\",0.5112810045943394,\"\",1.5847273664148607,\"\",\"\",\"\",\"\",1.7167743601659844,\"\",1.7212491508054233,\"\",2.701095570999456,1.4314625882895033,\"\",\"\",\"\",\"\",\"\",\"\",\"\",0.3417684733374425,0.6990335090986917,\"\",\"\",0.0586385199504007,\"\",\"\",\"\",3.1655274422876194,0.18137125657906816,1.7796952096921037,1.7407311643119234,0.783386683819467,\"\",0.2245376149050336,0.44840303041480667,0.667637306136813,\"\"],\"yaxis\":\"y2\",\"type\":\"scatter\"},{\"connectgaps\":false,\"fill\":\"tozeroy\",\"line\":{\"color\":\"red\",\"dash\":\"solid\",\"shape\":\"linear\",\"width\":0.5},\"mode\":\"lines\",\"name\":\"Spread\",\"showlegend\":false,\"x\":[0,1,2,3,4,5,6,7,8,9,10,11,12,13,14,15,16,17,18,19,20,21,22,23,24,25,26,27,28,29,30,31,32,33,34,35,36,37,38,39,40,41,42,43,44,45,46,47,48,49,50,51,52,53,54,55,56,57,58,59,60,61,62,63,64,65,66,67,68,69,70,71,72,73,74,75,76,77,78,79,80,81,82,83,84,85,86,87,88,89,90,91,92,93,94,95,96,97,98,99],\"xaxis\":\"x2\",\"y\":[\"\",\"\",\"\",\"\",\"\",\"\",\"\",\"\",\"\",\"\",-0.33591942040738193,\"\",\"\",-0.596059790171543,\"\",\"\",-0.08900915466146875,-0.0476510249248594,-0.9950088283941837,\"\",-0.614805590653576,-0.06879247736138883,-0.5546609432148807,\"\",-1.9922038906222954,-1.361281895862247,\"\",-0.3114234361612874,-1.7344651352155998,\"\",\"\",-0.9478410828237995,\"\",-0.12542110332520862,-1.9667331268212105,\"\",-1.1444030622371026,\"\",\"\",-1.1896659604976616,-0.5560803501634348,\"\",-2.822793950704561,-0.9462153430251325,-2.092278699540948,-0.831174488703375,-3.504236311358019,-0.7273164007846786,-3.47085098813914,\"\",\"\",-1.0062101723800307,\"\",\"\",-0.7345833838090388,-1.71183622352508,\"\",-0.4983548459392817,-0.707876334365124,-0.7171520892516056,-0.11673508613365452,-0.982149970889433,\"\",-0.15370248622717098,\"\",-2.566120081878281,-0.489417148354529,-1.0903302084636821,-0.3388139895203154,\"\",-3.776310961160572,\"\",-0.19441137003392467,\"\",\"\",-1.3130919206105647,-0.3300823439101865,-2.2751606829691022,-1.952211233817093,-0.022889477696521388,-1.241892579897672,-0.15333332684855155,\"\",\"\",-1.6578353601992175,-0.5377423188206057,\"\",-0.011400645370303927,-2.345968789427777,-0.8460930978806339,\"\",\"\",\"\",\"\",\"\",-0.4217493712103193,\"\",\"\",\"\",-1.0090884879799187],\"yaxis\":\"y2\",\"type\":\"scatter\"}],                        {\"hovermode\":\"x\",\"legend\":{\"bgcolor\":\"#F5F6F9\",\"font\":{\"color\":\"#4D5663\"}},\"paper_bgcolor\":\"#F5F6F9\",\"plot_bgcolor\":\"#F5F6F9\",\"template\":{\"data\":{\"barpolar\":[{\"marker\":{\"line\":{\"color\":\"#E5ECF6\",\"width\":0.5},\"pattern\":{\"fillmode\":\"overlay\",\"size\":10,\"solidity\":0.2}},\"type\":\"barpolar\"}],\"bar\":[{\"error_x\":{\"color\":\"#2a3f5f\"},\"error_y\":{\"color\":\"#2a3f5f\"},\"marker\":{\"line\":{\"color\":\"#E5ECF6\",\"width\":0.5},\"pattern\":{\"fillmode\":\"overlay\",\"size\":10,\"solidity\":0.2}},\"type\":\"bar\"}],\"carpet\":[{\"aaxis\":{\"endlinecolor\":\"#2a3f5f\",\"gridcolor\":\"white\",\"linecolor\":\"white\",\"minorgridcolor\":\"white\",\"startlinecolor\":\"#2a3f5f\"},\"baxis\":{\"endlinecolor\":\"#2a3f5f\",\"gridcolor\":\"white\",\"linecolor\":\"white\",\"minorgridcolor\":\"white\",\"startlinecolor\":\"#2a3f5f\"},\"type\":\"carpet\"}],\"choropleth\":[{\"colorbar\":{\"outlinewidth\":0,\"ticks\":\"\"},\"type\":\"choropleth\"}],\"contourcarpet\":[{\"colorbar\":{\"outlinewidth\":0,\"ticks\":\"\"},\"type\":\"contourcarpet\"}],\"contour\":[{\"colorbar\":{\"outlinewidth\":0,\"ticks\":\"\"},\"colorscale\":[[0.0,\"#0d0887\"],[0.1111111111111111,\"#46039f\"],[0.2222222222222222,\"#7201a8\"],[0.3333333333333333,\"#9c179e\"],[0.4444444444444444,\"#bd3786\"],[0.5555555555555556,\"#d8576b\"],[0.6666666666666666,\"#ed7953\"],[0.7777777777777778,\"#fb9f3a\"],[0.8888888888888888,\"#fdca26\"],[1.0,\"#f0f921\"]],\"type\":\"contour\"}],\"heatmapgl\":[{\"colorbar\":{\"outlinewidth\":0,\"ticks\":\"\"},\"colorscale\":[[0.0,\"#0d0887\"],[0.1111111111111111,\"#46039f\"],[0.2222222222222222,\"#7201a8\"],[0.3333333333333333,\"#9c179e\"],[0.4444444444444444,\"#bd3786\"],[0.5555555555555556,\"#d8576b\"],[0.6666666666666666,\"#ed7953\"],[0.7777777777777778,\"#fb9f3a\"],[0.8888888888888888,\"#fdca26\"],[1.0,\"#f0f921\"]],\"type\":\"heatmapgl\"}],\"heatmap\":[{\"colorbar\":{\"outlinewidth\":0,\"ticks\":\"\"},\"colorscale\":[[0.0,\"#0d0887\"],[0.1111111111111111,\"#46039f\"],[0.2222222222222222,\"#7201a8\"],[0.3333333333333333,\"#9c179e\"],[0.4444444444444444,\"#bd3786\"],[0.5555555555555556,\"#d8576b\"],[0.6666666666666666,\"#ed7953\"],[0.7777777777777778,\"#fb9f3a\"],[0.8888888888888888,\"#fdca26\"],[1.0,\"#f0f921\"]],\"type\":\"heatmap\"}],\"histogram2dcontour\":[{\"colorbar\":{\"outlinewidth\":0,\"ticks\":\"\"},\"colorscale\":[[0.0,\"#0d0887\"],[0.1111111111111111,\"#46039f\"],[0.2222222222222222,\"#7201a8\"],[0.3333333333333333,\"#9c179e\"],[0.4444444444444444,\"#bd3786\"],[0.5555555555555556,\"#d8576b\"],[0.6666666666666666,\"#ed7953\"],[0.7777777777777778,\"#fb9f3a\"],[0.8888888888888888,\"#fdca26\"],[1.0,\"#f0f921\"]],\"type\":\"histogram2dcontour\"}],\"histogram2d\":[{\"colorbar\":{\"outlinewidth\":0,\"ticks\":\"\"},\"colorscale\":[[0.0,\"#0d0887\"],[0.1111111111111111,\"#46039f\"],[0.2222222222222222,\"#7201a8\"],[0.3333333333333333,\"#9c179e\"],[0.4444444444444444,\"#bd3786\"],[0.5555555555555556,\"#d8576b\"],[0.6666666666666666,\"#ed7953\"],[0.7777777777777778,\"#fb9f3a\"],[0.8888888888888888,\"#fdca26\"],[1.0,\"#f0f921\"]],\"type\":\"histogram2d\"}],\"histogram\":[{\"marker\":{\"pattern\":{\"fillmode\":\"overlay\",\"size\":10,\"solidity\":0.2}},\"type\":\"histogram\"}],\"mesh3d\":[{\"colorbar\":{\"outlinewidth\":0,\"ticks\":\"\"},\"type\":\"mesh3d\"}],\"parcoords\":[{\"line\":{\"colorbar\":{\"outlinewidth\":0,\"ticks\":\"\"}},\"type\":\"parcoords\"}],\"pie\":[{\"automargin\":true,\"type\":\"pie\"}],\"scatter3d\":[{\"line\":{\"colorbar\":{\"outlinewidth\":0,\"ticks\":\"\"}},\"marker\":{\"colorbar\":{\"outlinewidth\":0,\"ticks\":\"\"}},\"type\":\"scatter3d\"}],\"scattercarpet\":[{\"marker\":{\"colorbar\":{\"outlinewidth\":0,\"ticks\":\"\"}},\"type\":\"scattercarpet\"}],\"scattergeo\":[{\"marker\":{\"colorbar\":{\"outlinewidth\":0,\"ticks\":\"\"}},\"type\":\"scattergeo\"}],\"scattergl\":[{\"marker\":{\"colorbar\":{\"outlinewidth\":0,\"ticks\":\"\"}},\"type\":\"scattergl\"}],\"scattermapbox\":[{\"marker\":{\"colorbar\":{\"outlinewidth\":0,\"ticks\":\"\"}},\"type\":\"scattermapbox\"}],\"scatterpolargl\":[{\"marker\":{\"colorbar\":{\"outlinewidth\":0,\"ticks\":\"\"}},\"type\":\"scatterpolargl\"}],\"scatterpolar\":[{\"marker\":{\"colorbar\":{\"outlinewidth\":0,\"ticks\":\"\"}},\"type\":\"scatterpolar\"}],\"scatter\":[{\"fillpattern\":{\"fillmode\":\"overlay\",\"size\":10,\"solidity\":0.2},\"type\":\"scatter\"}],\"scatterternary\":[{\"marker\":{\"colorbar\":{\"outlinewidth\":0,\"ticks\":\"\"}},\"type\":\"scatterternary\"}],\"surface\":[{\"colorbar\":{\"outlinewidth\":0,\"ticks\":\"\"},\"colorscale\":[[0.0,\"#0d0887\"],[0.1111111111111111,\"#46039f\"],[0.2222222222222222,\"#7201a8\"],[0.3333333333333333,\"#9c179e\"],[0.4444444444444444,\"#bd3786\"],[0.5555555555555556,\"#d8576b\"],[0.6666666666666666,\"#ed7953\"],[0.7777777777777778,\"#fb9f3a\"],[0.8888888888888888,\"#fdca26\"],[1.0,\"#f0f921\"]],\"type\":\"surface\"}],\"table\":[{\"cells\":{\"fill\":{\"color\":\"#EBF0F8\"},\"line\":{\"color\":\"white\"}},\"header\":{\"fill\":{\"color\":\"#C8D4E3\"},\"line\":{\"color\":\"white\"}},\"type\":\"table\"}]},\"layout\":{\"annotationdefaults\":{\"arrowcolor\":\"#2a3f5f\",\"arrowhead\":0,\"arrowwidth\":1},\"autotypenumbers\":\"strict\",\"coloraxis\":{\"colorbar\":{\"outlinewidth\":0,\"ticks\":\"\"}},\"colorscale\":{\"diverging\":[[0,\"#8e0152\"],[0.1,\"#c51b7d\"],[0.2,\"#de77ae\"],[0.3,\"#f1b6da\"],[0.4,\"#fde0ef\"],[0.5,\"#f7f7f7\"],[0.6,\"#e6f5d0\"],[0.7,\"#b8e186\"],[0.8,\"#7fbc41\"],[0.9,\"#4d9221\"],[1,\"#276419\"]],\"sequential\":[[0.0,\"#0d0887\"],[0.1111111111111111,\"#46039f\"],[0.2222222222222222,\"#7201a8\"],[0.3333333333333333,\"#9c179e\"],[0.4444444444444444,\"#bd3786\"],[0.5555555555555556,\"#d8576b\"],[0.6666666666666666,\"#ed7953\"],[0.7777777777777778,\"#fb9f3a\"],[0.8888888888888888,\"#fdca26\"],[1.0,\"#f0f921\"]],\"sequentialminus\":[[0.0,\"#0d0887\"],[0.1111111111111111,\"#46039f\"],[0.2222222222222222,\"#7201a8\"],[0.3333333333333333,\"#9c179e\"],[0.4444444444444444,\"#bd3786\"],[0.5555555555555556,\"#d8576b\"],[0.6666666666666666,\"#ed7953\"],[0.7777777777777778,\"#fb9f3a\"],[0.8888888888888888,\"#fdca26\"],[1.0,\"#f0f921\"]]},\"colorway\":[\"#636efa\",\"#EF553B\",\"#00cc96\",\"#ab63fa\",\"#FFA15A\",\"#19d3f3\",\"#FF6692\",\"#B6E880\",\"#FF97FF\",\"#FECB52\"],\"font\":{\"color\":\"#2a3f5f\"},\"geo\":{\"bgcolor\":\"white\",\"lakecolor\":\"white\",\"landcolor\":\"#E5ECF6\",\"showlakes\":true,\"showland\":true,\"subunitcolor\":\"white\"},\"hoverlabel\":{\"align\":\"left\"},\"hovermode\":\"closest\",\"mapbox\":{\"style\":\"light\"},\"paper_bgcolor\":\"white\",\"plot_bgcolor\":\"#E5ECF6\",\"polar\":{\"angularaxis\":{\"gridcolor\":\"white\",\"linecolor\":\"white\",\"ticks\":\"\"},\"bgcolor\":\"#E5ECF6\",\"radialaxis\":{\"gridcolor\":\"white\",\"linecolor\":\"white\",\"ticks\":\"\"}},\"scene\":{\"xaxis\":{\"backgroundcolor\":\"#E5ECF6\",\"gridcolor\":\"white\",\"gridwidth\":2,\"linecolor\":\"white\",\"showbackground\":true,\"ticks\":\"\",\"zerolinecolor\":\"white\"},\"yaxis\":{\"backgroundcolor\":\"#E5ECF6\",\"gridcolor\":\"white\",\"gridwidth\":2,\"linecolor\":\"white\",\"showbackground\":true,\"ticks\":\"\",\"zerolinecolor\":\"white\"},\"zaxis\":{\"backgroundcolor\":\"#E5ECF6\",\"gridcolor\":\"white\",\"gridwidth\":2,\"linecolor\":\"white\",\"showbackground\":true,\"ticks\":\"\",\"zerolinecolor\":\"white\"}},\"shapedefaults\":{\"line\":{\"color\":\"#2a3f5f\"}},\"ternary\":{\"aaxis\":{\"gridcolor\":\"white\",\"linecolor\":\"white\",\"ticks\":\"\"},\"baxis\":{\"gridcolor\":\"white\",\"linecolor\":\"white\",\"ticks\":\"\"},\"bgcolor\":\"#E5ECF6\",\"caxis\":{\"gridcolor\":\"white\",\"linecolor\":\"white\",\"ticks\":\"\"}},\"title\":{\"x\":0.05},\"xaxis\":{\"automargin\":true,\"gridcolor\":\"white\",\"linecolor\":\"white\",\"ticks\":\"\",\"title\":{\"standoff\":15},\"zerolinecolor\":\"white\",\"zerolinewidth\":2},\"yaxis\":{\"automargin\":true,\"gridcolor\":\"white\",\"linecolor\":\"white\",\"ticks\":\"\",\"title\":{\"standoff\":15},\"zerolinecolor\":\"white\",\"zerolinewidth\":2}}},\"title\":{\"font\":{\"color\":\"#4D5663\"}},\"xaxis\":{\"gridcolor\":\"#E1E5ED\",\"showgrid\":true,\"tickfont\":{\"color\":\"#4D5663\"},\"title\":{\"font\":{\"color\":\"#4D5663\"},\"text\":\"\"},\"zerolinecolor\":\"#E1E5ED\"},\"yaxis\":{\"domain\":[0.3,1],\"gridcolor\":\"#E1E5ED\",\"showgrid\":true,\"tickfont\":{\"color\":\"#4D5663\"},\"title\":{\"font\":{\"color\":\"#4D5663\"},\"text\":\"\"},\"zerolinecolor\":\"#E1E5ED\"},\"yaxis2\":{\"domain\":[0,0.25],\"gridcolor\":\"#E1E5ED\",\"showgrid\":true,\"tickfont\":{\"color\":\"#4D5663\"},\"title\":{\"font\":{\"color\":\"#4D5663\"},\"text\":\"Spread\"},\"zerolinecolor\":\"#E1E5ED\"},\"xaxis2\":{\"anchor\":\"y2\",\"gridcolor\":\"#E1E5ED\",\"showgrid\":true,\"showticklabels\":false,\"tickfont\":{\"color\":\"#4D5663\"},\"title\":{\"font\":{\"color\":\"#4D5663\"},\"text\":\"\"},\"zerolinecolor\":\"#E1E5ED\"}},                        {\"showLink\": true, \"linkText\": \"Export to plot.ly\", \"plotlyServerURL\": \"https://plot.ly\", \"responsive\": true}                    ).then(function(){\n",
       "                            \n",
       "var gd = document.getElementById('c3b5cd6a-de9c-4a69-b6b6-afe6a5e00d26');\n",
       "var x = new MutationObserver(function (mutations, observer) {{\n",
       "        var display = window.getComputedStyle(gd).display;\n",
       "        if (!display || display === 'none') {{\n",
       "            console.log([gd, 'removed!']);\n",
       "            Plotly.purge(gd);\n",
       "            observer.disconnect();\n",
       "        }}\n",
       "}});\n",
       "\n",
       "// Listen for the removal of the full notebook cells\n",
       "var notebookContainer = gd.closest('#notebook-container');\n",
       "if (notebookContainer) {{\n",
       "    x.observe(notebookContainer, {childList: true});\n",
       "}}\n",
       "\n",
       "// Listen for the clearing of the current output cell\n",
       "var outputEl = gd.closest('.output');\n",
       "if (outputEl) {{\n",
       "    x.observe(outputEl, {childList: true});\n",
       "}}\n",
       "\n",
       "                        })                };                });            </script>        </div>"
      ]
     },
     "metadata": {},
     "output_type": "display_data"
    }
   ],
   "source": [
    "df[['A','B']].iplot(kind='spread')"
   ]
  },
  {
   "cell_type": "markdown",
   "metadata": {},
   "source": [
    "## histogram"
   ]
  },
  {
   "cell_type": "code",
   "execution_count": 17,
   "metadata": {
    "collapsed": false
   },
   "outputs": [
    {
     "data": {
      "application/vnd.plotly.v1+json": {
       "config": {
        "linkText": "Export to plot.ly",
        "plotlyServerURL": "https://plot.ly",
        "showLink": true
       },
       "data": [
        {
         "histfunc": "count",
         "histnorm": "",
         "marker": {
          "color": "rgba(255, 153, 51, 1.0)",
          "line": {
           "color": "#4D5663",
           "width": 1.3
          }
         },
         "name": "A",
         "nbinsx": 25,
         "opacity": 0.8,
         "orientation": "v",
         "type": "histogram",
         "x": [
          0.4625705346860569,
          -0.39776559619778035,
          0.45134849134936006,
          -0.13586989136117616,
          0.8666046795885229,
          0.6915422091449416,
          0.2879465812261424,
          0.8634873175971317,
          1.0636136020541438,
          1.0253235577750899,
          -0.31709420285086765,
          0.8118393443542882,
          1.2729161314443458,
          -0.04749879992679883,
          1.6212382555696152,
          0.7432177254591762,
          -0.7540751447799475,
          -1.1785769272722304,
          0.5554718080127589,
          0.9645479280032871,
          0.8649041685720121,
          -0.5549189890831625,
          -0.6218986150027163,
          -0.7194602403736984,
          -1.802095186977993,
          -0.26678732623986573,
          2.7238387138412192,
          0.615634491260396,
          0.007579856052334232,
          1.1290262523400951,
          1.587017275445863,
          -0.9189023976589287,
          1.4725054513406621,
          -0.48301228688987907,
          -1.3304701145449986,
          1.245831392521345,
          -1.0983440758617014,
          1.180857997707036,
          0.5440386879638087,
          0.5677057464677294,
          -0.788205121339689,
          -0.3199941722674541,
          -1.2771991364799633,
          -0.743349078501879,
          -1.1417746291284483,
          -0.5475290985702707,
          -3.2223848725883575,
          -0.2510964618123027,
          -1.7800437914056828,
          0.6437766633383795,
          -0.5237843931033407,
          -0.6820156552307822,
          1.8181209386254333,
          0.43912021962870396,
          -0.5779841176830209,
          -0.49567500878627896,
          1.5736513015848792,
          -0.4849414708447617,
          -0.030582237332559874,
          -0.7159901187440891,
          0.3815770903437842,
          -0.4643215828999029,
          1.0224124071713991,
          -0.30473964077199983,
          0.5854244150705185,
          -0.8103124473453914,
          0.819934226238514,
          -1.8347336449792389,
          -0.4460340648319405,
          1.6022942645681513,
          0.2227037950171565,
          1.9715057168447414,
          0.030545883394759044,
          1.5746046212676983,
          0.6798817967772102,
          0.2054790119107006,
          0.27995172153214837,
          -1.2564946179625986,
          -1.4388162435408303,
          0.6978362478661515,
          -0.6871087225198645,
          0.03376446352296217,
          -0.07695646388334659,
          1.1057890388523681,
          -1.4005037932977615,
          -1.514307743583307,
          -1.0950729859328534,
          -0.09349612285966388,
          -2.0742756957159862,
          -0.6539147900050394,
          2.7493473960748545,
          0.9275692397287629,
          0.32009980593724974,
          0.6253393120995153,
          0.6897118991535294,
          -1.5343373827748692,
          0.6488067241950675,
          0.09499686984715128,
          0.7803587474326844,
          0.1024905534892975
         ]
        }
       ],
       "layout": {
        "barmode": "overlay",
        "legend": {
         "bgcolor": "#F5F6F9",
         "font": {
          "color": "#4D5663"
         }
        },
        "paper_bgcolor": "#F5F6F9",
        "plot_bgcolor": "#F5F6F9",
        "template": {
         "data": {
          "bar": [
           {
            "error_x": {
             "color": "#2a3f5f"
            },
            "error_y": {
             "color": "#2a3f5f"
            },
            "marker": {
             "line": {
              "color": "#E5ECF6",
              "width": 0.5
             },
             "pattern": {
              "fillmode": "overlay",
              "size": 10,
              "solidity": 0.2
             }
            },
            "type": "bar"
           }
          ],
          "barpolar": [
           {
            "marker": {
             "line": {
              "color": "#E5ECF6",
              "width": 0.5
             },
             "pattern": {
              "fillmode": "overlay",
              "size": 10,
              "solidity": 0.2
             }
            },
            "type": "barpolar"
           }
          ],
          "carpet": [
           {
            "aaxis": {
             "endlinecolor": "#2a3f5f",
             "gridcolor": "white",
             "linecolor": "white",
             "minorgridcolor": "white",
             "startlinecolor": "#2a3f5f"
            },
            "baxis": {
             "endlinecolor": "#2a3f5f",
             "gridcolor": "white",
             "linecolor": "white",
             "minorgridcolor": "white",
             "startlinecolor": "#2a3f5f"
            },
            "type": "carpet"
           }
          ],
          "choropleth": [
           {
            "colorbar": {
             "outlinewidth": 0,
             "ticks": ""
            },
            "type": "choropleth"
           }
          ],
          "contour": [
           {
            "colorbar": {
             "outlinewidth": 0,
             "ticks": ""
            },
            "colorscale": [
             [
              0,
              "#0d0887"
             ],
             [
              0.1111111111111111,
              "#46039f"
             ],
             [
              0.2222222222222222,
              "#7201a8"
             ],
             [
              0.3333333333333333,
              "#9c179e"
             ],
             [
              0.4444444444444444,
              "#bd3786"
             ],
             [
              0.5555555555555556,
              "#d8576b"
             ],
             [
              0.6666666666666666,
              "#ed7953"
             ],
             [
              0.7777777777777778,
              "#fb9f3a"
             ],
             [
              0.8888888888888888,
              "#fdca26"
             ],
             [
              1,
              "#f0f921"
             ]
            ],
            "type": "contour"
           }
          ],
          "contourcarpet": [
           {
            "colorbar": {
             "outlinewidth": 0,
             "ticks": ""
            },
            "type": "contourcarpet"
           }
          ],
          "heatmap": [
           {
            "colorbar": {
             "outlinewidth": 0,
             "ticks": ""
            },
            "colorscale": [
             [
              0,
              "#0d0887"
             ],
             [
              0.1111111111111111,
              "#46039f"
             ],
             [
              0.2222222222222222,
              "#7201a8"
             ],
             [
              0.3333333333333333,
              "#9c179e"
             ],
             [
              0.4444444444444444,
              "#bd3786"
             ],
             [
              0.5555555555555556,
              "#d8576b"
             ],
             [
              0.6666666666666666,
              "#ed7953"
             ],
             [
              0.7777777777777778,
              "#fb9f3a"
             ],
             [
              0.8888888888888888,
              "#fdca26"
             ],
             [
              1,
              "#f0f921"
             ]
            ],
            "type": "heatmap"
           }
          ],
          "heatmapgl": [
           {
            "colorbar": {
             "outlinewidth": 0,
             "ticks": ""
            },
            "colorscale": [
             [
              0,
              "#0d0887"
             ],
             [
              0.1111111111111111,
              "#46039f"
             ],
             [
              0.2222222222222222,
              "#7201a8"
             ],
             [
              0.3333333333333333,
              "#9c179e"
             ],
             [
              0.4444444444444444,
              "#bd3786"
             ],
             [
              0.5555555555555556,
              "#d8576b"
             ],
             [
              0.6666666666666666,
              "#ed7953"
             ],
             [
              0.7777777777777778,
              "#fb9f3a"
             ],
             [
              0.8888888888888888,
              "#fdca26"
             ],
             [
              1,
              "#f0f921"
             ]
            ],
            "type": "heatmapgl"
           }
          ],
          "histogram": [
           {
            "marker": {
             "pattern": {
              "fillmode": "overlay",
              "size": 10,
              "solidity": 0.2
             }
            },
            "type": "histogram"
           }
          ],
          "histogram2d": [
           {
            "colorbar": {
             "outlinewidth": 0,
             "ticks": ""
            },
            "colorscale": [
             [
              0,
              "#0d0887"
             ],
             [
              0.1111111111111111,
              "#46039f"
             ],
             [
              0.2222222222222222,
              "#7201a8"
             ],
             [
              0.3333333333333333,
              "#9c179e"
             ],
             [
              0.4444444444444444,
              "#bd3786"
             ],
             [
              0.5555555555555556,
              "#d8576b"
             ],
             [
              0.6666666666666666,
              "#ed7953"
             ],
             [
              0.7777777777777778,
              "#fb9f3a"
             ],
             [
              0.8888888888888888,
              "#fdca26"
             ],
             [
              1,
              "#f0f921"
             ]
            ],
            "type": "histogram2d"
           }
          ],
          "histogram2dcontour": [
           {
            "colorbar": {
             "outlinewidth": 0,
             "ticks": ""
            },
            "colorscale": [
             [
              0,
              "#0d0887"
             ],
             [
              0.1111111111111111,
              "#46039f"
             ],
             [
              0.2222222222222222,
              "#7201a8"
             ],
             [
              0.3333333333333333,
              "#9c179e"
             ],
             [
              0.4444444444444444,
              "#bd3786"
             ],
             [
              0.5555555555555556,
              "#d8576b"
             ],
             [
              0.6666666666666666,
              "#ed7953"
             ],
             [
              0.7777777777777778,
              "#fb9f3a"
             ],
             [
              0.8888888888888888,
              "#fdca26"
             ],
             [
              1,
              "#f0f921"
             ]
            ],
            "type": "histogram2dcontour"
           }
          ],
          "mesh3d": [
           {
            "colorbar": {
             "outlinewidth": 0,
             "ticks": ""
            },
            "type": "mesh3d"
           }
          ],
          "parcoords": [
           {
            "line": {
             "colorbar": {
              "outlinewidth": 0,
              "ticks": ""
             }
            },
            "type": "parcoords"
           }
          ],
          "pie": [
           {
            "automargin": true,
            "type": "pie"
           }
          ],
          "scatter": [
           {
            "fillpattern": {
             "fillmode": "overlay",
             "size": 10,
             "solidity": 0.2
            },
            "type": "scatter"
           }
          ],
          "scatter3d": [
           {
            "line": {
             "colorbar": {
              "outlinewidth": 0,
              "ticks": ""
             }
            },
            "marker": {
             "colorbar": {
              "outlinewidth": 0,
              "ticks": ""
             }
            },
            "type": "scatter3d"
           }
          ],
          "scattercarpet": [
           {
            "marker": {
             "colorbar": {
              "outlinewidth": 0,
              "ticks": ""
             }
            },
            "type": "scattercarpet"
           }
          ],
          "scattergeo": [
           {
            "marker": {
             "colorbar": {
              "outlinewidth": 0,
              "ticks": ""
             }
            },
            "type": "scattergeo"
           }
          ],
          "scattergl": [
           {
            "marker": {
             "colorbar": {
              "outlinewidth": 0,
              "ticks": ""
             }
            },
            "type": "scattergl"
           }
          ],
          "scattermapbox": [
           {
            "marker": {
             "colorbar": {
              "outlinewidth": 0,
              "ticks": ""
             }
            },
            "type": "scattermapbox"
           }
          ],
          "scatterpolar": [
           {
            "marker": {
             "colorbar": {
              "outlinewidth": 0,
              "ticks": ""
             }
            },
            "type": "scatterpolar"
           }
          ],
          "scatterpolargl": [
           {
            "marker": {
             "colorbar": {
              "outlinewidth": 0,
              "ticks": ""
             }
            },
            "type": "scatterpolargl"
           }
          ],
          "scatterternary": [
           {
            "marker": {
             "colorbar": {
              "outlinewidth": 0,
              "ticks": ""
             }
            },
            "type": "scatterternary"
           }
          ],
          "surface": [
           {
            "colorbar": {
             "outlinewidth": 0,
             "ticks": ""
            },
            "colorscale": [
             [
              0,
              "#0d0887"
             ],
             [
              0.1111111111111111,
              "#46039f"
             ],
             [
              0.2222222222222222,
              "#7201a8"
             ],
             [
              0.3333333333333333,
              "#9c179e"
             ],
             [
              0.4444444444444444,
              "#bd3786"
             ],
             [
              0.5555555555555556,
              "#d8576b"
             ],
             [
              0.6666666666666666,
              "#ed7953"
             ],
             [
              0.7777777777777778,
              "#fb9f3a"
             ],
             [
              0.8888888888888888,
              "#fdca26"
             ],
             [
              1,
              "#f0f921"
             ]
            ],
            "type": "surface"
           }
          ],
          "table": [
           {
            "cells": {
             "fill": {
              "color": "#EBF0F8"
             },
             "line": {
              "color": "white"
             }
            },
            "header": {
             "fill": {
              "color": "#C8D4E3"
             },
             "line": {
              "color": "white"
             }
            },
            "type": "table"
           }
          ]
         },
         "layout": {
          "annotationdefaults": {
           "arrowcolor": "#2a3f5f",
           "arrowhead": 0,
           "arrowwidth": 1
          },
          "autotypenumbers": "strict",
          "coloraxis": {
           "colorbar": {
            "outlinewidth": 0,
            "ticks": ""
           }
          },
          "colorscale": {
           "diverging": [
            [
             0,
             "#8e0152"
            ],
            [
             0.1,
             "#c51b7d"
            ],
            [
             0.2,
             "#de77ae"
            ],
            [
             0.3,
             "#f1b6da"
            ],
            [
             0.4,
             "#fde0ef"
            ],
            [
             0.5,
             "#f7f7f7"
            ],
            [
             0.6,
             "#e6f5d0"
            ],
            [
             0.7,
             "#b8e186"
            ],
            [
             0.8,
             "#7fbc41"
            ],
            [
             0.9,
             "#4d9221"
            ],
            [
             1,
             "#276419"
            ]
           ],
           "sequential": [
            [
             0,
             "#0d0887"
            ],
            [
             0.1111111111111111,
             "#46039f"
            ],
            [
             0.2222222222222222,
             "#7201a8"
            ],
            [
             0.3333333333333333,
             "#9c179e"
            ],
            [
             0.4444444444444444,
             "#bd3786"
            ],
            [
             0.5555555555555556,
             "#d8576b"
            ],
            [
             0.6666666666666666,
             "#ed7953"
            ],
            [
             0.7777777777777778,
             "#fb9f3a"
            ],
            [
             0.8888888888888888,
             "#fdca26"
            ],
            [
             1,
             "#f0f921"
            ]
           ],
           "sequentialminus": [
            [
             0,
             "#0d0887"
            ],
            [
             0.1111111111111111,
             "#46039f"
            ],
            [
             0.2222222222222222,
             "#7201a8"
            ],
            [
             0.3333333333333333,
             "#9c179e"
            ],
            [
             0.4444444444444444,
             "#bd3786"
            ],
            [
             0.5555555555555556,
             "#d8576b"
            ],
            [
             0.6666666666666666,
             "#ed7953"
            ],
            [
             0.7777777777777778,
             "#fb9f3a"
            ],
            [
             0.8888888888888888,
             "#fdca26"
            ],
            [
             1,
             "#f0f921"
            ]
           ]
          },
          "colorway": [
           "#636efa",
           "#EF553B",
           "#00cc96",
           "#ab63fa",
           "#FFA15A",
           "#19d3f3",
           "#FF6692",
           "#B6E880",
           "#FF97FF",
           "#FECB52"
          ],
          "font": {
           "color": "#2a3f5f"
          },
          "geo": {
           "bgcolor": "white",
           "lakecolor": "white",
           "landcolor": "#E5ECF6",
           "showlakes": true,
           "showland": true,
           "subunitcolor": "white"
          },
          "hoverlabel": {
           "align": "left"
          },
          "hovermode": "closest",
          "mapbox": {
           "style": "light"
          },
          "paper_bgcolor": "white",
          "plot_bgcolor": "#E5ECF6",
          "polar": {
           "angularaxis": {
            "gridcolor": "white",
            "linecolor": "white",
            "ticks": ""
           },
           "bgcolor": "#E5ECF6",
           "radialaxis": {
            "gridcolor": "white",
            "linecolor": "white",
            "ticks": ""
           }
          },
          "scene": {
           "xaxis": {
            "backgroundcolor": "#E5ECF6",
            "gridcolor": "white",
            "gridwidth": 2,
            "linecolor": "white",
            "showbackground": true,
            "ticks": "",
            "zerolinecolor": "white"
           },
           "yaxis": {
            "backgroundcolor": "#E5ECF6",
            "gridcolor": "white",
            "gridwidth": 2,
            "linecolor": "white",
            "showbackground": true,
            "ticks": "",
            "zerolinecolor": "white"
           },
           "zaxis": {
            "backgroundcolor": "#E5ECF6",
            "gridcolor": "white",
            "gridwidth": 2,
            "linecolor": "white",
            "showbackground": true,
            "ticks": "",
            "zerolinecolor": "white"
           }
          },
          "shapedefaults": {
           "line": {
            "color": "#2a3f5f"
           }
          },
          "ternary": {
           "aaxis": {
            "gridcolor": "white",
            "linecolor": "white",
            "ticks": ""
           },
           "baxis": {
            "gridcolor": "white",
            "linecolor": "white",
            "ticks": ""
           },
           "bgcolor": "#E5ECF6",
           "caxis": {
            "gridcolor": "white",
            "linecolor": "white",
            "ticks": ""
           }
          },
          "title": {
           "x": 0.05
          },
          "xaxis": {
           "automargin": true,
           "gridcolor": "white",
           "linecolor": "white",
           "ticks": "",
           "title": {
            "standoff": 15
           },
           "zerolinecolor": "white",
           "zerolinewidth": 2
          },
          "yaxis": {
           "automargin": true,
           "gridcolor": "white",
           "linecolor": "white",
           "ticks": "",
           "title": {
            "standoff": 15
           },
           "zerolinecolor": "white",
           "zerolinewidth": 2
          }
         }
        },
        "title": {
         "font": {
          "color": "#4D5663"
         }
        },
        "xaxis": {
         "gridcolor": "#E1E5ED",
         "showgrid": true,
         "tickfont": {
          "color": "#4D5663"
         },
         "title": {
          "font": {
           "color": "#4D5663"
          },
          "text": ""
         },
         "zerolinecolor": "#E1E5ED"
        },
        "yaxis": {
         "gridcolor": "#E1E5ED",
         "showgrid": true,
         "tickfont": {
          "color": "#4D5663"
         },
         "title": {
          "font": {
           "color": "#4D5663"
          },
          "text": ""
         },
         "zerolinecolor": "#E1E5ED"
        }
       }
      },
      "text/html": [
       "<div>                            <div id=\"fb7472d6-35fa-46a1-9a42-64541e922221\" class=\"plotly-graph-div\" style=\"height:525px; width:100%;\"></div>            <script type=\"text/javascript\">                require([\"plotly\"], function(Plotly) {                    window.PLOTLYENV=window.PLOTLYENV || {};\n",
       "                    window.PLOTLYENV.BASE_URL='https://plot.ly';                                    if (document.getElementById(\"fb7472d6-35fa-46a1-9a42-64541e922221\")) {                    Plotly.newPlot(                        \"fb7472d6-35fa-46a1-9a42-64541e922221\",                        [{\"histfunc\":\"count\",\"histnorm\":\"\",\"marker\":{\"color\":\"rgba(255, 153, 51, 1.0)\",\"line\":{\"color\":\"#4D5663\",\"width\":1.3}},\"name\":\"A\",\"nbinsx\":25,\"opacity\":0.8,\"orientation\":\"v\",\"x\":[0.4625705346860569,-0.39776559619778035,0.45134849134936006,-0.13586989136117616,0.8666046795885229,0.6915422091449416,0.2879465812261424,0.8634873175971317,1.0636136020541438,1.0253235577750899,-0.31709420285086765,0.8118393443542882,1.2729161314443458,-0.04749879992679883,1.6212382555696152,0.7432177254591762,-0.7540751447799475,-1.1785769272722304,0.5554718080127589,0.9645479280032871,0.8649041685720121,-0.5549189890831625,-0.6218986150027163,-0.7194602403736984,-1.802095186977993,-0.26678732623986573,2.7238387138412192,0.615634491260396,0.007579856052334232,1.1290262523400951,1.587017275445863,-0.9189023976589287,1.4725054513406621,-0.48301228688987907,-1.3304701145449986,1.245831392521345,-1.0983440758617014,1.180857997707036,0.5440386879638087,0.5677057464677294,-0.788205121339689,-0.3199941722674541,-1.2771991364799633,-0.743349078501879,-1.1417746291284483,-0.5475290985702707,-3.2223848725883575,-0.2510964618123027,-1.7800437914056828,0.6437766633383795,-0.5237843931033407,-0.6820156552307822,1.8181209386254333,0.43912021962870396,-0.5779841176830209,-0.49567500878627896,1.5736513015848792,-0.4849414708447617,-0.030582237332559874,-0.7159901187440891,0.3815770903437842,-0.4643215828999029,1.0224124071713991,-0.30473964077199983,0.5854244150705185,-0.8103124473453914,0.819934226238514,-1.8347336449792389,-0.4460340648319405,1.6022942645681513,0.2227037950171565,1.9715057168447414,0.030545883394759044,1.5746046212676983,0.6798817967772102,0.2054790119107006,0.27995172153214837,-1.2564946179625986,-1.4388162435408303,0.6978362478661515,-0.6871087225198645,0.03376446352296217,-0.07695646388334659,1.1057890388523681,-1.4005037932977615,-1.514307743583307,-1.0950729859328534,-0.09349612285966388,-2.0742756957159862,-0.6539147900050394,2.7493473960748545,0.9275692397287629,0.32009980593724974,0.6253393120995153,0.6897118991535294,-1.5343373827748692,0.6488067241950675,0.09499686984715128,0.7803587474326844,0.1024905534892975],\"type\":\"histogram\"}],                        {\"barmode\":\"overlay\",\"legend\":{\"bgcolor\":\"#F5F6F9\",\"font\":{\"color\":\"#4D5663\"}},\"paper_bgcolor\":\"#F5F6F9\",\"plot_bgcolor\":\"#F5F6F9\",\"template\":{\"data\":{\"barpolar\":[{\"marker\":{\"line\":{\"color\":\"#E5ECF6\",\"width\":0.5},\"pattern\":{\"fillmode\":\"overlay\",\"size\":10,\"solidity\":0.2}},\"type\":\"barpolar\"}],\"bar\":[{\"error_x\":{\"color\":\"#2a3f5f\"},\"error_y\":{\"color\":\"#2a3f5f\"},\"marker\":{\"line\":{\"color\":\"#E5ECF6\",\"width\":0.5},\"pattern\":{\"fillmode\":\"overlay\",\"size\":10,\"solidity\":0.2}},\"type\":\"bar\"}],\"carpet\":[{\"aaxis\":{\"endlinecolor\":\"#2a3f5f\",\"gridcolor\":\"white\",\"linecolor\":\"white\",\"minorgridcolor\":\"white\",\"startlinecolor\":\"#2a3f5f\"},\"baxis\":{\"endlinecolor\":\"#2a3f5f\",\"gridcolor\":\"white\",\"linecolor\":\"white\",\"minorgridcolor\":\"white\",\"startlinecolor\":\"#2a3f5f\"},\"type\":\"carpet\"}],\"choropleth\":[{\"colorbar\":{\"outlinewidth\":0,\"ticks\":\"\"},\"type\":\"choropleth\"}],\"contourcarpet\":[{\"colorbar\":{\"outlinewidth\":0,\"ticks\":\"\"},\"type\":\"contourcarpet\"}],\"contour\":[{\"colorbar\":{\"outlinewidth\":0,\"ticks\":\"\"},\"colorscale\":[[0.0,\"#0d0887\"],[0.1111111111111111,\"#46039f\"],[0.2222222222222222,\"#7201a8\"],[0.3333333333333333,\"#9c179e\"],[0.4444444444444444,\"#bd3786\"],[0.5555555555555556,\"#d8576b\"],[0.6666666666666666,\"#ed7953\"],[0.7777777777777778,\"#fb9f3a\"],[0.8888888888888888,\"#fdca26\"],[1.0,\"#f0f921\"]],\"type\":\"contour\"}],\"heatmapgl\":[{\"colorbar\":{\"outlinewidth\":0,\"ticks\":\"\"},\"colorscale\":[[0.0,\"#0d0887\"],[0.1111111111111111,\"#46039f\"],[0.2222222222222222,\"#7201a8\"],[0.3333333333333333,\"#9c179e\"],[0.4444444444444444,\"#bd3786\"],[0.5555555555555556,\"#d8576b\"],[0.6666666666666666,\"#ed7953\"],[0.7777777777777778,\"#fb9f3a\"],[0.8888888888888888,\"#fdca26\"],[1.0,\"#f0f921\"]],\"type\":\"heatmapgl\"}],\"heatmap\":[{\"colorbar\":{\"outlinewidth\":0,\"ticks\":\"\"},\"colorscale\":[[0.0,\"#0d0887\"],[0.1111111111111111,\"#46039f\"],[0.2222222222222222,\"#7201a8\"],[0.3333333333333333,\"#9c179e\"],[0.4444444444444444,\"#bd3786\"],[0.5555555555555556,\"#d8576b\"],[0.6666666666666666,\"#ed7953\"],[0.7777777777777778,\"#fb9f3a\"],[0.8888888888888888,\"#fdca26\"],[1.0,\"#f0f921\"]],\"type\":\"heatmap\"}],\"histogram2dcontour\":[{\"colorbar\":{\"outlinewidth\":0,\"ticks\":\"\"},\"colorscale\":[[0.0,\"#0d0887\"],[0.1111111111111111,\"#46039f\"],[0.2222222222222222,\"#7201a8\"],[0.3333333333333333,\"#9c179e\"],[0.4444444444444444,\"#bd3786\"],[0.5555555555555556,\"#d8576b\"],[0.6666666666666666,\"#ed7953\"],[0.7777777777777778,\"#fb9f3a\"],[0.8888888888888888,\"#fdca26\"],[1.0,\"#f0f921\"]],\"type\":\"histogram2dcontour\"}],\"histogram2d\":[{\"colorbar\":{\"outlinewidth\":0,\"ticks\":\"\"},\"colorscale\":[[0.0,\"#0d0887\"],[0.1111111111111111,\"#46039f\"],[0.2222222222222222,\"#7201a8\"],[0.3333333333333333,\"#9c179e\"],[0.4444444444444444,\"#bd3786\"],[0.5555555555555556,\"#d8576b\"],[0.6666666666666666,\"#ed7953\"],[0.7777777777777778,\"#fb9f3a\"],[0.8888888888888888,\"#fdca26\"],[1.0,\"#f0f921\"]],\"type\":\"histogram2d\"}],\"histogram\":[{\"marker\":{\"pattern\":{\"fillmode\":\"overlay\",\"size\":10,\"solidity\":0.2}},\"type\":\"histogram\"}],\"mesh3d\":[{\"colorbar\":{\"outlinewidth\":0,\"ticks\":\"\"},\"type\":\"mesh3d\"}],\"parcoords\":[{\"line\":{\"colorbar\":{\"outlinewidth\":0,\"ticks\":\"\"}},\"type\":\"parcoords\"}],\"pie\":[{\"automargin\":true,\"type\":\"pie\"}],\"scatter3d\":[{\"line\":{\"colorbar\":{\"outlinewidth\":0,\"ticks\":\"\"}},\"marker\":{\"colorbar\":{\"outlinewidth\":0,\"ticks\":\"\"}},\"type\":\"scatter3d\"}],\"scattercarpet\":[{\"marker\":{\"colorbar\":{\"outlinewidth\":0,\"ticks\":\"\"}},\"type\":\"scattercarpet\"}],\"scattergeo\":[{\"marker\":{\"colorbar\":{\"outlinewidth\":0,\"ticks\":\"\"}},\"type\":\"scattergeo\"}],\"scattergl\":[{\"marker\":{\"colorbar\":{\"outlinewidth\":0,\"ticks\":\"\"}},\"type\":\"scattergl\"}],\"scattermapbox\":[{\"marker\":{\"colorbar\":{\"outlinewidth\":0,\"ticks\":\"\"}},\"type\":\"scattermapbox\"}],\"scatterpolargl\":[{\"marker\":{\"colorbar\":{\"outlinewidth\":0,\"ticks\":\"\"}},\"type\":\"scatterpolargl\"}],\"scatterpolar\":[{\"marker\":{\"colorbar\":{\"outlinewidth\":0,\"ticks\":\"\"}},\"type\":\"scatterpolar\"}],\"scatter\":[{\"fillpattern\":{\"fillmode\":\"overlay\",\"size\":10,\"solidity\":0.2},\"type\":\"scatter\"}],\"scatterternary\":[{\"marker\":{\"colorbar\":{\"outlinewidth\":0,\"ticks\":\"\"}},\"type\":\"scatterternary\"}],\"surface\":[{\"colorbar\":{\"outlinewidth\":0,\"ticks\":\"\"},\"colorscale\":[[0.0,\"#0d0887\"],[0.1111111111111111,\"#46039f\"],[0.2222222222222222,\"#7201a8\"],[0.3333333333333333,\"#9c179e\"],[0.4444444444444444,\"#bd3786\"],[0.5555555555555556,\"#d8576b\"],[0.6666666666666666,\"#ed7953\"],[0.7777777777777778,\"#fb9f3a\"],[0.8888888888888888,\"#fdca26\"],[1.0,\"#f0f921\"]],\"type\":\"surface\"}],\"table\":[{\"cells\":{\"fill\":{\"color\":\"#EBF0F8\"},\"line\":{\"color\":\"white\"}},\"header\":{\"fill\":{\"color\":\"#C8D4E3\"},\"line\":{\"color\":\"white\"}},\"type\":\"table\"}]},\"layout\":{\"annotationdefaults\":{\"arrowcolor\":\"#2a3f5f\",\"arrowhead\":0,\"arrowwidth\":1},\"autotypenumbers\":\"strict\",\"coloraxis\":{\"colorbar\":{\"outlinewidth\":0,\"ticks\":\"\"}},\"colorscale\":{\"diverging\":[[0,\"#8e0152\"],[0.1,\"#c51b7d\"],[0.2,\"#de77ae\"],[0.3,\"#f1b6da\"],[0.4,\"#fde0ef\"],[0.5,\"#f7f7f7\"],[0.6,\"#e6f5d0\"],[0.7,\"#b8e186\"],[0.8,\"#7fbc41\"],[0.9,\"#4d9221\"],[1,\"#276419\"]],\"sequential\":[[0.0,\"#0d0887\"],[0.1111111111111111,\"#46039f\"],[0.2222222222222222,\"#7201a8\"],[0.3333333333333333,\"#9c179e\"],[0.4444444444444444,\"#bd3786\"],[0.5555555555555556,\"#d8576b\"],[0.6666666666666666,\"#ed7953\"],[0.7777777777777778,\"#fb9f3a\"],[0.8888888888888888,\"#fdca26\"],[1.0,\"#f0f921\"]],\"sequentialminus\":[[0.0,\"#0d0887\"],[0.1111111111111111,\"#46039f\"],[0.2222222222222222,\"#7201a8\"],[0.3333333333333333,\"#9c179e\"],[0.4444444444444444,\"#bd3786\"],[0.5555555555555556,\"#d8576b\"],[0.6666666666666666,\"#ed7953\"],[0.7777777777777778,\"#fb9f3a\"],[0.8888888888888888,\"#fdca26\"],[1.0,\"#f0f921\"]]},\"colorway\":[\"#636efa\",\"#EF553B\",\"#00cc96\",\"#ab63fa\",\"#FFA15A\",\"#19d3f3\",\"#FF6692\",\"#B6E880\",\"#FF97FF\",\"#FECB52\"],\"font\":{\"color\":\"#2a3f5f\"},\"geo\":{\"bgcolor\":\"white\",\"lakecolor\":\"white\",\"landcolor\":\"#E5ECF6\",\"showlakes\":true,\"showland\":true,\"subunitcolor\":\"white\"},\"hoverlabel\":{\"align\":\"left\"},\"hovermode\":\"closest\",\"mapbox\":{\"style\":\"light\"},\"paper_bgcolor\":\"white\",\"plot_bgcolor\":\"#E5ECF6\",\"polar\":{\"angularaxis\":{\"gridcolor\":\"white\",\"linecolor\":\"white\",\"ticks\":\"\"},\"bgcolor\":\"#E5ECF6\",\"radialaxis\":{\"gridcolor\":\"white\",\"linecolor\":\"white\",\"ticks\":\"\"}},\"scene\":{\"xaxis\":{\"backgroundcolor\":\"#E5ECF6\",\"gridcolor\":\"white\",\"gridwidth\":2,\"linecolor\":\"white\",\"showbackground\":true,\"ticks\":\"\",\"zerolinecolor\":\"white\"},\"yaxis\":{\"backgroundcolor\":\"#E5ECF6\",\"gridcolor\":\"white\",\"gridwidth\":2,\"linecolor\":\"white\",\"showbackground\":true,\"ticks\":\"\",\"zerolinecolor\":\"white\"},\"zaxis\":{\"backgroundcolor\":\"#E5ECF6\",\"gridcolor\":\"white\",\"gridwidth\":2,\"linecolor\":\"white\",\"showbackground\":true,\"ticks\":\"\",\"zerolinecolor\":\"white\"}},\"shapedefaults\":{\"line\":{\"color\":\"#2a3f5f\"}},\"ternary\":{\"aaxis\":{\"gridcolor\":\"white\",\"linecolor\":\"white\",\"ticks\":\"\"},\"baxis\":{\"gridcolor\":\"white\",\"linecolor\":\"white\",\"ticks\":\"\"},\"bgcolor\":\"#E5ECF6\",\"caxis\":{\"gridcolor\":\"white\",\"linecolor\":\"white\",\"ticks\":\"\"}},\"title\":{\"x\":0.05},\"xaxis\":{\"automargin\":true,\"gridcolor\":\"white\",\"linecolor\":\"white\",\"ticks\":\"\",\"title\":{\"standoff\":15},\"zerolinecolor\":\"white\",\"zerolinewidth\":2},\"yaxis\":{\"automargin\":true,\"gridcolor\":\"white\",\"linecolor\":\"white\",\"ticks\":\"\",\"title\":{\"standoff\":15},\"zerolinecolor\":\"white\",\"zerolinewidth\":2}}},\"title\":{\"font\":{\"color\":\"#4D5663\"}},\"xaxis\":{\"gridcolor\":\"#E1E5ED\",\"showgrid\":true,\"tickfont\":{\"color\":\"#4D5663\"},\"title\":{\"font\":{\"color\":\"#4D5663\"},\"text\":\"\"},\"zerolinecolor\":\"#E1E5ED\"},\"yaxis\":{\"gridcolor\":\"#E1E5ED\",\"showgrid\":true,\"tickfont\":{\"color\":\"#4D5663\"},\"title\":{\"font\":{\"color\":\"#4D5663\"},\"text\":\"\"},\"zerolinecolor\":\"#E1E5ED\"}},                        {\"showLink\": true, \"linkText\": \"Export to plot.ly\", \"plotlyServerURL\": \"https://plot.ly\", \"responsive\": true}                    ).then(function(){\n",
       "                            \n",
       "var gd = document.getElementById('fb7472d6-35fa-46a1-9a42-64541e922221');\n",
       "var x = new MutationObserver(function (mutations, observer) {{\n",
       "        var display = window.getComputedStyle(gd).display;\n",
       "        if (!display || display === 'none') {{\n",
       "            console.log([gd, 'removed!']);\n",
       "            Plotly.purge(gd);\n",
       "            observer.disconnect();\n",
       "        }}\n",
       "}});\n",
       "\n",
       "// Listen for the removal of the full notebook cells\n",
       "var notebookContainer = gd.closest('#notebook-container');\n",
       "if (notebookContainer) {{\n",
       "    x.observe(notebookContainer, {childList: true});\n",
       "}}\n",
       "\n",
       "// Listen for the clearing of the current output cell\n",
       "var outputEl = gd.closest('.output');\n",
       "if (outputEl) {{\n",
       "    x.observe(outputEl, {childList: true});\n",
       "}}\n",
       "\n",
       "                        })                };                });            </script>        </div>"
      ]
     },
     "metadata": {},
     "output_type": "display_data"
    }
   ],
   "source": [
    "df['A'].iplot(kind='hist',bins=25)"
   ]
  },
  {
   "cell_type": "code",
   "execution_count": 16,
   "metadata": {
    "collapsed": false
   },
   "outputs": [
    {
     "data": {
      "application/vnd.plotly.v1+json": {
       "config": {
        "linkText": "Export to plot.ly",
        "plotlyServerURL": "https://plot.ly",
        "showLink": true
       },
       "data": [
        {
         "marker": {
          "color": [
           "rgb(255, 153, 51)",
           "rgb(55, 128, 191)",
           "rgb(50, 171, 96)",
           "rgb(128, 0, 128)",
           "rgb(219, 64, 82)",
           "rgb(0, 128, 128)",
           "rgb(255, 255, 51)",
           "rgb(128, 128, 0)",
           "rgb(251, 128, 114)",
           "rgb(128, 177, 211)"
          ],
          "line": {
           "width": 1.3
          },
          "size": [
           83,
           79,
           55,
           67,
           52,
           96,
           55,
           56,
           71,
           43,
           81,
           67,
           54,
           58,
           94,
           67,
           97,
           48,
           63,
           59,
           87,
           62,
           75,
           81,
           71,
           49,
           42,
           53,
           41,
           86,
           72,
           74,
           70,
           48,
           69,
           66,
           81,
           79,
           65,
           64,
           73,
           51,
           32,
           79,
           82,
           75,
           54,
           85,
           80,
           47,
           51,
           41,
           81,
           94,
           39,
           83,
           56,
           68,
           76,
           45,
           51,
           47,
           87,
           61,
           92,
           59,
           52,
           55,
           112,
           38,
           52,
           94,
           12,
           47,
           39,
           79,
           81,
           74,
           53,
           54,
           60,
           102,
           44,
           90,
           85,
           62,
           55,
           69,
           68,
           70,
           80,
           77,
           42,
           74,
           35,
           28,
           35,
           61,
           92,
           91
          ],
          "symbol": "circle"
         },
         "mode": "markers",
         "text": "",
         "type": "scatter",
         "x": [
          0.4625705346860569,
          -0.39776559619778035,
          0.45134849134936006,
          -0.13586989136117616,
          0.8666046795885229,
          0.6915422091449416,
          0.2879465812261424,
          0.8634873175971317,
          1.0636136020541438,
          1.0253235577750899,
          -0.31709420285086765,
          0.8118393443542882,
          1.2729161314443458,
          -0.04749879992679883,
          1.6212382555696152,
          0.7432177254591762,
          -0.7540751447799475,
          -1.1785769272722304,
          0.5554718080127589,
          0.9645479280032871,
          0.8649041685720121,
          -0.5549189890831625,
          -0.6218986150027163,
          -0.7194602403736984,
          -1.802095186977993,
          -0.26678732623986573,
          2.7238387138412192,
          0.615634491260396,
          0.007579856052334232,
          1.1290262523400951,
          1.587017275445863,
          -0.9189023976589287,
          1.4725054513406621,
          -0.48301228688987907,
          -1.3304701145449986,
          1.245831392521345,
          -1.0983440758617014,
          1.180857997707036,
          0.5440386879638087,
          0.5677057464677294,
          -0.788205121339689,
          -0.3199941722674541,
          -1.2771991364799633,
          -0.743349078501879,
          -1.1417746291284483,
          -0.5475290985702707,
          -3.2223848725883575,
          -0.2510964618123027,
          -1.7800437914056828,
          0.6437766633383795,
          -0.5237843931033407,
          -0.6820156552307822,
          1.8181209386254333,
          0.43912021962870396,
          -0.5779841176830209,
          -0.49567500878627896,
          1.5736513015848792,
          -0.4849414708447617,
          -0.030582237332559874,
          -0.7159901187440891,
          0.3815770903437842,
          -0.4643215828999029,
          1.0224124071713991,
          -0.30473964077199983,
          0.5854244150705185,
          -0.8103124473453914,
          0.819934226238514,
          -1.8347336449792389,
          -0.4460340648319405,
          1.6022942645681513,
          0.2227037950171565,
          1.9715057168447414,
          0.030545883394759044,
          1.5746046212676983,
          0.6798817967772102,
          0.2054790119107006,
          0.27995172153214837,
          -1.2564946179625986,
          -1.4388162435408303,
          0.6978362478661515,
          -0.6871087225198645,
          0.03376446352296217,
          -0.07695646388334659,
          1.1057890388523681,
          -1.4005037932977615,
          -1.514307743583307,
          -1.0950729859328534,
          -0.09349612285966388,
          -2.0742756957159862,
          -0.6539147900050394,
          2.7493473960748545,
          0.9275692397287629,
          0.32009980593724974,
          0.6253393120995153,
          0.6897118991535294,
          -1.5343373827748692,
          0.6488067241950675,
          0.09499686984715128,
          0.7803587474326844,
          0.1024905534892975
         ],
         "y": [
          -1.3658007014664313,
          -0.6350333815305984,
          -0.9225023455677859,
          -0.6236056824865273,
          -0.18356722515055598,
          -0.8282112839224751,
          -0.22599933977613648,
          -0.08427485525071632,
          -0.04947484313961995,
          0.8508207630027762,
          0.018825217556514274,
          0.08608633867607307,
          -0.9244306868787607,
          0.5485609902447441,
          1.177795597249583,
          -0.10932772012243774,
          -0.6650659901184788,
          -1.130925902347371,
          1.5504806364069426,
          -0.6935904582249032,
          1.4797097592255881,
          -0.4861265117217737,
          -0.06723767178783559,
          -1.070318252028669,
          0.19010870364430227,
          1.0944945696223813,
          0.9398514074931446,
          0.9270579274216835,
          1.7420449912679339,
          -1.7737531831587297,
          0.9748891216747543,
          0.028938685164870852,
          -0.5976961395226522,
          -0.35759118356467046,
          0.6362630122762118,
          -1.6652776675816219,
          0.046058986375401345,
          0.4223155973887687,
          -1.0240020155140628,
          1.757371706965391,
          -0.23212477117625419,
          -0.5253472403215348,
          1.545594814224598,
          0.20286626452325346,
          0.9505040704125001,
          0.2836453901331043,
          0.28185143876966146,
          0.47621993897237586,
          1.6908071967334568,
          -1.6194067333772713,
          -0.6523141481185137,
          0.32419451714924846,
          -0.6437146750787236,
          -0.5613024570103383,
          0.15659926612601785,
          1.216161214738801,
          1.4669291446392254,
          0.013413375094520001,
          0.6772940970325642,
          0.0011619705075164054,
          0.4983121764774387,
          0.5178283879895301,
          0.5111314025770597,
          -0.15103715454482886,
          -0.9993029513443423,
          1.7558076345328892,
          1.309351374593043,
          -0.7444034365155567,
          -0.10722007531162517,
          -0.11448009559783312,
          3.9990147561777287,
          0.2502565660393181,
          0.22495725342868372,
          -1.126490949731758,
          -0.7515807915122932,
          1.5185709325212653,
          0.6100340654423348,
          1.0186660650065034,
          0.5133949902762628,
          0.7207257255626729,
          0.5547838573778077,
          0.18709779037151372,
          -0.4187249372207891,
          0.4067555297536765,
          0.25733156690145603,
          -0.9765654247627013,
          -1.153711505883254,
          -0.08209547748935996,
          0.27169309371179057,
          0.1921783078755945,
          -0.41618004621276505,
          0.7461979831496948,
          -1.459595403754854,
          -1.1153918522124082,
          -0.09367478466593762,
          -1.11258801156455,
          0.42426910929003386,
          -0.3534061605676554,
          0.11272144129587136,
          1.1115790414692162
         ]
        }
       ],
       "layout": {
        "legend": {
         "bgcolor": "#F5F6F9",
         "font": {
          "color": "#4D5663"
         }
        },
        "paper_bgcolor": "#F5F6F9",
        "plot_bgcolor": "#F5F6F9",
        "template": {
         "data": {
          "bar": [
           {
            "error_x": {
             "color": "#2a3f5f"
            },
            "error_y": {
             "color": "#2a3f5f"
            },
            "marker": {
             "line": {
              "color": "#E5ECF6",
              "width": 0.5
             },
             "pattern": {
              "fillmode": "overlay",
              "size": 10,
              "solidity": 0.2
             }
            },
            "type": "bar"
           }
          ],
          "barpolar": [
           {
            "marker": {
             "line": {
              "color": "#E5ECF6",
              "width": 0.5
             },
             "pattern": {
              "fillmode": "overlay",
              "size": 10,
              "solidity": 0.2
             }
            },
            "type": "barpolar"
           }
          ],
          "carpet": [
           {
            "aaxis": {
             "endlinecolor": "#2a3f5f",
             "gridcolor": "white",
             "linecolor": "white",
             "minorgridcolor": "white",
             "startlinecolor": "#2a3f5f"
            },
            "baxis": {
             "endlinecolor": "#2a3f5f",
             "gridcolor": "white",
             "linecolor": "white",
             "minorgridcolor": "white",
             "startlinecolor": "#2a3f5f"
            },
            "type": "carpet"
           }
          ],
          "choropleth": [
           {
            "colorbar": {
             "outlinewidth": 0,
             "ticks": ""
            },
            "type": "choropleth"
           }
          ],
          "contour": [
           {
            "colorbar": {
             "outlinewidth": 0,
             "ticks": ""
            },
            "colorscale": [
             [
              0,
              "#0d0887"
             ],
             [
              0.1111111111111111,
              "#46039f"
             ],
             [
              0.2222222222222222,
              "#7201a8"
             ],
             [
              0.3333333333333333,
              "#9c179e"
             ],
             [
              0.4444444444444444,
              "#bd3786"
             ],
             [
              0.5555555555555556,
              "#d8576b"
             ],
             [
              0.6666666666666666,
              "#ed7953"
             ],
             [
              0.7777777777777778,
              "#fb9f3a"
             ],
             [
              0.8888888888888888,
              "#fdca26"
             ],
             [
              1,
              "#f0f921"
             ]
            ],
            "type": "contour"
           }
          ],
          "contourcarpet": [
           {
            "colorbar": {
             "outlinewidth": 0,
             "ticks": ""
            },
            "type": "contourcarpet"
           }
          ],
          "heatmap": [
           {
            "colorbar": {
             "outlinewidth": 0,
             "ticks": ""
            },
            "colorscale": [
             [
              0,
              "#0d0887"
             ],
             [
              0.1111111111111111,
              "#46039f"
             ],
             [
              0.2222222222222222,
              "#7201a8"
             ],
             [
              0.3333333333333333,
              "#9c179e"
             ],
             [
              0.4444444444444444,
              "#bd3786"
             ],
             [
              0.5555555555555556,
              "#d8576b"
             ],
             [
              0.6666666666666666,
              "#ed7953"
             ],
             [
              0.7777777777777778,
              "#fb9f3a"
             ],
             [
              0.8888888888888888,
              "#fdca26"
             ],
             [
              1,
              "#f0f921"
             ]
            ],
            "type": "heatmap"
           }
          ],
          "heatmapgl": [
           {
            "colorbar": {
             "outlinewidth": 0,
             "ticks": ""
            },
            "colorscale": [
             [
              0,
              "#0d0887"
             ],
             [
              0.1111111111111111,
              "#46039f"
             ],
             [
              0.2222222222222222,
              "#7201a8"
             ],
             [
              0.3333333333333333,
              "#9c179e"
             ],
             [
              0.4444444444444444,
              "#bd3786"
             ],
             [
              0.5555555555555556,
              "#d8576b"
             ],
             [
              0.6666666666666666,
              "#ed7953"
             ],
             [
              0.7777777777777778,
              "#fb9f3a"
             ],
             [
              0.8888888888888888,
              "#fdca26"
             ],
             [
              1,
              "#f0f921"
             ]
            ],
            "type": "heatmapgl"
           }
          ],
          "histogram": [
           {
            "marker": {
             "pattern": {
              "fillmode": "overlay",
              "size": 10,
              "solidity": 0.2
             }
            },
            "type": "histogram"
           }
          ],
          "histogram2d": [
           {
            "colorbar": {
             "outlinewidth": 0,
             "ticks": ""
            },
            "colorscale": [
             [
              0,
              "#0d0887"
             ],
             [
              0.1111111111111111,
              "#46039f"
             ],
             [
              0.2222222222222222,
              "#7201a8"
             ],
             [
              0.3333333333333333,
              "#9c179e"
             ],
             [
              0.4444444444444444,
              "#bd3786"
             ],
             [
              0.5555555555555556,
              "#d8576b"
             ],
             [
              0.6666666666666666,
              "#ed7953"
             ],
             [
              0.7777777777777778,
              "#fb9f3a"
             ],
             [
              0.8888888888888888,
              "#fdca26"
             ],
             [
              1,
              "#f0f921"
             ]
            ],
            "type": "histogram2d"
           }
          ],
          "histogram2dcontour": [
           {
            "colorbar": {
             "outlinewidth": 0,
             "ticks": ""
            },
            "colorscale": [
             [
              0,
              "#0d0887"
             ],
             [
              0.1111111111111111,
              "#46039f"
             ],
             [
              0.2222222222222222,
              "#7201a8"
             ],
             [
              0.3333333333333333,
              "#9c179e"
             ],
             [
              0.4444444444444444,
              "#bd3786"
             ],
             [
              0.5555555555555556,
              "#d8576b"
             ],
             [
              0.6666666666666666,
              "#ed7953"
             ],
             [
              0.7777777777777778,
              "#fb9f3a"
             ],
             [
              0.8888888888888888,
              "#fdca26"
             ],
             [
              1,
              "#f0f921"
             ]
            ],
            "type": "histogram2dcontour"
           }
          ],
          "mesh3d": [
           {
            "colorbar": {
             "outlinewidth": 0,
             "ticks": ""
            },
            "type": "mesh3d"
           }
          ],
          "parcoords": [
           {
            "line": {
             "colorbar": {
              "outlinewidth": 0,
              "ticks": ""
             }
            },
            "type": "parcoords"
           }
          ],
          "pie": [
           {
            "automargin": true,
            "type": "pie"
           }
          ],
          "scatter": [
           {
            "fillpattern": {
             "fillmode": "overlay",
             "size": 10,
             "solidity": 0.2
            },
            "type": "scatter"
           }
          ],
          "scatter3d": [
           {
            "line": {
             "colorbar": {
              "outlinewidth": 0,
              "ticks": ""
             }
            },
            "marker": {
             "colorbar": {
              "outlinewidth": 0,
              "ticks": ""
             }
            },
            "type": "scatter3d"
           }
          ],
          "scattercarpet": [
           {
            "marker": {
             "colorbar": {
              "outlinewidth": 0,
              "ticks": ""
             }
            },
            "type": "scattercarpet"
           }
          ],
          "scattergeo": [
           {
            "marker": {
             "colorbar": {
              "outlinewidth": 0,
              "ticks": ""
             }
            },
            "type": "scattergeo"
           }
          ],
          "scattergl": [
           {
            "marker": {
             "colorbar": {
              "outlinewidth": 0,
              "ticks": ""
             }
            },
            "type": "scattergl"
           }
          ],
          "scattermapbox": [
           {
            "marker": {
             "colorbar": {
              "outlinewidth": 0,
              "ticks": ""
             }
            },
            "type": "scattermapbox"
           }
          ],
          "scatterpolar": [
           {
            "marker": {
             "colorbar": {
              "outlinewidth": 0,
              "ticks": ""
             }
            },
            "type": "scatterpolar"
           }
          ],
          "scatterpolargl": [
           {
            "marker": {
             "colorbar": {
              "outlinewidth": 0,
              "ticks": ""
             }
            },
            "type": "scatterpolargl"
           }
          ],
          "scatterternary": [
           {
            "marker": {
             "colorbar": {
              "outlinewidth": 0,
              "ticks": ""
             }
            },
            "type": "scatterternary"
           }
          ],
          "surface": [
           {
            "colorbar": {
             "outlinewidth": 0,
             "ticks": ""
            },
            "colorscale": [
             [
              0,
              "#0d0887"
             ],
             [
              0.1111111111111111,
              "#46039f"
             ],
             [
              0.2222222222222222,
              "#7201a8"
             ],
             [
              0.3333333333333333,
              "#9c179e"
             ],
             [
              0.4444444444444444,
              "#bd3786"
             ],
             [
              0.5555555555555556,
              "#d8576b"
             ],
             [
              0.6666666666666666,
              "#ed7953"
             ],
             [
              0.7777777777777778,
              "#fb9f3a"
             ],
             [
              0.8888888888888888,
              "#fdca26"
             ],
             [
              1,
              "#f0f921"
             ]
            ],
            "type": "surface"
           }
          ],
          "table": [
           {
            "cells": {
             "fill": {
              "color": "#EBF0F8"
             },
             "line": {
              "color": "white"
             }
            },
            "header": {
             "fill": {
              "color": "#C8D4E3"
             },
             "line": {
              "color": "white"
             }
            },
            "type": "table"
           }
          ]
         },
         "layout": {
          "annotationdefaults": {
           "arrowcolor": "#2a3f5f",
           "arrowhead": 0,
           "arrowwidth": 1
          },
          "autotypenumbers": "strict",
          "coloraxis": {
           "colorbar": {
            "outlinewidth": 0,
            "ticks": ""
           }
          },
          "colorscale": {
           "diverging": [
            [
             0,
             "#8e0152"
            ],
            [
             0.1,
             "#c51b7d"
            ],
            [
             0.2,
             "#de77ae"
            ],
            [
             0.3,
             "#f1b6da"
            ],
            [
             0.4,
             "#fde0ef"
            ],
            [
             0.5,
             "#f7f7f7"
            ],
            [
             0.6,
             "#e6f5d0"
            ],
            [
             0.7,
             "#b8e186"
            ],
            [
             0.8,
             "#7fbc41"
            ],
            [
             0.9,
             "#4d9221"
            ],
            [
             1,
             "#276419"
            ]
           ],
           "sequential": [
            [
             0,
             "#0d0887"
            ],
            [
             0.1111111111111111,
             "#46039f"
            ],
            [
             0.2222222222222222,
             "#7201a8"
            ],
            [
             0.3333333333333333,
             "#9c179e"
            ],
            [
             0.4444444444444444,
             "#bd3786"
            ],
            [
             0.5555555555555556,
             "#d8576b"
            ],
            [
             0.6666666666666666,
             "#ed7953"
            ],
            [
             0.7777777777777778,
             "#fb9f3a"
            ],
            [
             0.8888888888888888,
             "#fdca26"
            ],
            [
             1,
             "#f0f921"
            ]
           ],
           "sequentialminus": [
            [
             0,
             "#0d0887"
            ],
            [
             0.1111111111111111,
             "#46039f"
            ],
            [
             0.2222222222222222,
             "#7201a8"
            ],
            [
             0.3333333333333333,
             "#9c179e"
            ],
            [
             0.4444444444444444,
             "#bd3786"
            ],
            [
             0.5555555555555556,
             "#d8576b"
            ],
            [
             0.6666666666666666,
             "#ed7953"
            ],
            [
             0.7777777777777778,
             "#fb9f3a"
            ],
            [
             0.8888888888888888,
             "#fdca26"
            ],
            [
             1,
             "#f0f921"
            ]
           ]
          },
          "colorway": [
           "#636efa",
           "#EF553B",
           "#00cc96",
           "#ab63fa",
           "#FFA15A",
           "#19d3f3",
           "#FF6692",
           "#B6E880",
           "#FF97FF",
           "#FECB52"
          ],
          "font": {
           "color": "#2a3f5f"
          },
          "geo": {
           "bgcolor": "white",
           "lakecolor": "white",
           "landcolor": "#E5ECF6",
           "showlakes": true,
           "showland": true,
           "subunitcolor": "white"
          },
          "hoverlabel": {
           "align": "left"
          },
          "hovermode": "closest",
          "mapbox": {
           "style": "light"
          },
          "paper_bgcolor": "white",
          "plot_bgcolor": "#E5ECF6",
          "polar": {
           "angularaxis": {
            "gridcolor": "white",
            "linecolor": "white",
            "ticks": ""
           },
           "bgcolor": "#E5ECF6",
           "radialaxis": {
            "gridcolor": "white",
            "linecolor": "white",
            "ticks": ""
           }
          },
          "scene": {
           "xaxis": {
            "backgroundcolor": "#E5ECF6",
            "gridcolor": "white",
            "gridwidth": 2,
            "linecolor": "white",
            "showbackground": true,
            "ticks": "",
            "zerolinecolor": "white"
           },
           "yaxis": {
            "backgroundcolor": "#E5ECF6",
            "gridcolor": "white",
            "gridwidth": 2,
            "linecolor": "white",
            "showbackground": true,
            "ticks": "",
            "zerolinecolor": "white"
           },
           "zaxis": {
            "backgroundcolor": "#E5ECF6",
            "gridcolor": "white",
            "gridwidth": 2,
            "linecolor": "white",
            "showbackground": true,
            "ticks": "",
            "zerolinecolor": "white"
           }
          },
          "shapedefaults": {
           "line": {
            "color": "#2a3f5f"
           }
          },
          "ternary": {
           "aaxis": {
            "gridcolor": "white",
            "linecolor": "white",
            "ticks": ""
           },
           "baxis": {
            "gridcolor": "white",
            "linecolor": "white",
            "ticks": ""
           },
           "bgcolor": "#E5ECF6",
           "caxis": {
            "gridcolor": "white",
            "linecolor": "white",
            "ticks": ""
           }
          },
          "title": {
           "x": 0.05
          },
          "xaxis": {
           "automargin": true,
           "gridcolor": "white",
           "linecolor": "white",
           "ticks": "",
           "title": {
            "standoff": 15
           },
           "zerolinecolor": "white",
           "zerolinewidth": 2
          },
          "yaxis": {
           "automargin": true,
           "gridcolor": "white",
           "linecolor": "white",
           "ticks": "",
           "title": {
            "standoff": 15
           },
           "zerolinecolor": "white",
           "zerolinewidth": 2
          }
         }
        },
        "title": {
         "font": {
          "color": "#4D5663"
         }
        },
        "xaxis": {
         "gridcolor": "#E1E5ED",
         "showgrid": true,
         "tickfont": {
          "color": "#4D5663"
         },
         "title": {
          "font": {
           "color": "#4D5663"
          },
          "text": ""
         },
         "zerolinecolor": "#E1E5ED"
        },
        "yaxis": {
         "gridcolor": "#E1E5ED",
         "showgrid": true,
         "tickfont": {
          "color": "#4D5663"
         },
         "title": {
          "font": {
           "color": "#4D5663"
          },
          "text": ""
         },
         "zerolinecolor": "#E1E5ED"
        }
       }
      },
      "text/html": [
       "<div>                            <div id=\"99bb54d0-2385-4591-9b04-2b63bd27e6c1\" class=\"plotly-graph-div\" style=\"height:525px; width:100%;\"></div>            <script type=\"text/javascript\">                require([\"plotly\"], function(Plotly) {                    window.PLOTLYENV=window.PLOTLYENV || {};\n",
       "                    window.PLOTLYENV.BASE_URL='https://plot.ly';                                    if (document.getElementById(\"99bb54d0-2385-4591-9b04-2b63bd27e6c1\")) {                    Plotly.newPlot(                        \"99bb54d0-2385-4591-9b04-2b63bd27e6c1\",                        [{\"marker\":{\"color\":[\"rgb(255, 153, 51)\",\"rgb(55, 128, 191)\",\"rgb(50, 171, 96)\",\"rgb(128, 0, 128)\",\"rgb(219, 64, 82)\",\"rgb(0, 128, 128)\",\"rgb(255, 255, 51)\",\"rgb(128, 128, 0)\",\"rgb(251, 128, 114)\",\"rgb(128, 177, 211)\"],\"line\":{\"width\":1.3},\"size\":[83,79,55,67,52,96,55,56,71,43,81,67,54,58,94,67,97,48,63,59,87,62,75,81,71,49,42,53,41,86,72,74,70,48,69,66,81,79,65,64,73,51,32,79,82,75,54,85,80,47,51,41,81,94,39,83,56,68,76,45,51,47,87,61,92,59,52,55,112,38,52,94,12,47,39,79,81,74,53,54,60,102,44,90,85,62,55,69,68,70,80,77,42,74,35,28,35,61,92,91],\"symbol\":\"circle\"},\"mode\":\"markers\",\"text\":\"\",\"x\":[0.4625705346860569,-0.39776559619778035,0.45134849134936006,-0.13586989136117616,0.8666046795885229,0.6915422091449416,0.2879465812261424,0.8634873175971317,1.0636136020541438,1.0253235577750899,-0.31709420285086765,0.8118393443542882,1.2729161314443458,-0.04749879992679883,1.6212382555696152,0.7432177254591762,-0.7540751447799475,-1.1785769272722304,0.5554718080127589,0.9645479280032871,0.8649041685720121,-0.5549189890831625,-0.6218986150027163,-0.7194602403736984,-1.802095186977993,-0.26678732623986573,2.7238387138412192,0.615634491260396,0.007579856052334232,1.1290262523400951,1.587017275445863,-0.9189023976589287,1.4725054513406621,-0.48301228688987907,-1.3304701145449986,1.245831392521345,-1.0983440758617014,1.180857997707036,0.5440386879638087,0.5677057464677294,-0.788205121339689,-0.3199941722674541,-1.2771991364799633,-0.743349078501879,-1.1417746291284483,-0.5475290985702707,-3.2223848725883575,-0.2510964618123027,-1.7800437914056828,0.6437766633383795,-0.5237843931033407,-0.6820156552307822,1.8181209386254333,0.43912021962870396,-0.5779841176830209,-0.49567500878627896,1.5736513015848792,-0.4849414708447617,-0.030582237332559874,-0.7159901187440891,0.3815770903437842,-0.4643215828999029,1.0224124071713991,-0.30473964077199983,0.5854244150705185,-0.8103124473453914,0.819934226238514,-1.8347336449792389,-0.4460340648319405,1.6022942645681513,0.2227037950171565,1.9715057168447414,0.030545883394759044,1.5746046212676983,0.6798817967772102,0.2054790119107006,0.27995172153214837,-1.2564946179625986,-1.4388162435408303,0.6978362478661515,-0.6871087225198645,0.03376446352296217,-0.07695646388334659,1.1057890388523681,-1.4005037932977615,-1.514307743583307,-1.0950729859328534,-0.09349612285966388,-2.0742756957159862,-0.6539147900050394,2.7493473960748545,0.9275692397287629,0.32009980593724974,0.6253393120995153,0.6897118991535294,-1.5343373827748692,0.6488067241950675,0.09499686984715128,0.7803587474326844,0.1024905534892975],\"y\":[-1.3658007014664313,-0.6350333815305984,-0.9225023455677859,-0.6236056824865273,-0.18356722515055598,-0.8282112839224751,-0.22599933977613648,-0.08427485525071632,-0.04947484313961995,0.8508207630027762,0.018825217556514274,0.08608633867607307,-0.9244306868787607,0.5485609902447441,1.177795597249583,-0.10932772012243774,-0.6650659901184788,-1.130925902347371,1.5504806364069426,-0.6935904582249032,1.4797097592255881,-0.4861265117217737,-0.06723767178783559,-1.070318252028669,0.19010870364430227,1.0944945696223813,0.9398514074931446,0.9270579274216835,1.7420449912679339,-1.7737531831587297,0.9748891216747543,0.028938685164870852,-0.5976961395226522,-0.35759118356467046,0.6362630122762118,-1.6652776675816219,0.046058986375401345,0.4223155973887687,-1.0240020155140628,1.757371706965391,-0.23212477117625419,-0.5253472403215348,1.545594814224598,0.20286626452325346,0.9505040704125001,0.2836453901331043,0.28185143876966146,0.47621993897237586,1.6908071967334568,-1.6194067333772713,-0.6523141481185137,0.32419451714924846,-0.6437146750787236,-0.5613024570103383,0.15659926612601785,1.216161214738801,1.4669291446392254,0.013413375094520001,0.6772940970325642,0.0011619705075164054,0.4983121764774387,0.5178283879895301,0.5111314025770597,-0.15103715454482886,-0.9993029513443423,1.7558076345328892,1.309351374593043,-0.7444034365155567,-0.10722007531162517,-0.11448009559783312,3.9990147561777287,0.2502565660393181,0.22495725342868372,-1.126490949731758,-0.7515807915122932,1.5185709325212653,0.6100340654423348,1.0186660650065034,0.5133949902762628,0.7207257255626729,0.5547838573778077,0.18709779037151372,-0.4187249372207891,0.4067555297536765,0.25733156690145603,-0.9765654247627013,-1.153711505883254,-0.08209547748935996,0.27169309371179057,0.1921783078755945,-0.41618004621276505,0.7461979831496948,-1.459595403754854,-1.1153918522124082,-0.09367478466593762,-1.11258801156455,0.42426910929003386,-0.3534061605676554,0.11272144129587136,1.1115790414692162],\"type\":\"scatter\"}],                        {\"legend\":{\"bgcolor\":\"#F5F6F9\",\"font\":{\"color\":\"#4D5663\"}},\"paper_bgcolor\":\"#F5F6F9\",\"plot_bgcolor\":\"#F5F6F9\",\"template\":{\"data\":{\"barpolar\":[{\"marker\":{\"line\":{\"color\":\"#E5ECF6\",\"width\":0.5},\"pattern\":{\"fillmode\":\"overlay\",\"size\":10,\"solidity\":0.2}},\"type\":\"barpolar\"}],\"bar\":[{\"error_x\":{\"color\":\"#2a3f5f\"},\"error_y\":{\"color\":\"#2a3f5f\"},\"marker\":{\"line\":{\"color\":\"#E5ECF6\",\"width\":0.5},\"pattern\":{\"fillmode\":\"overlay\",\"size\":10,\"solidity\":0.2}},\"type\":\"bar\"}],\"carpet\":[{\"aaxis\":{\"endlinecolor\":\"#2a3f5f\",\"gridcolor\":\"white\",\"linecolor\":\"white\",\"minorgridcolor\":\"white\",\"startlinecolor\":\"#2a3f5f\"},\"baxis\":{\"endlinecolor\":\"#2a3f5f\",\"gridcolor\":\"white\",\"linecolor\":\"white\",\"minorgridcolor\":\"white\",\"startlinecolor\":\"#2a3f5f\"},\"type\":\"carpet\"}],\"choropleth\":[{\"colorbar\":{\"outlinewidth\":0,\"ticks\":\"\"},\"type\":\"choropleth\"}],\"contourcarpet\":[{\"colorbar\":{\"outlinewidth\":0,\"ticks\":\"\"},\"type\":\"contourcarpet\"}],\"contour\":[{\"colorbar\":{\"outlinewidth\":0,\"ticks\":\"\"},\"colorscale\":[[0.0,\"#0d0887\"],[0.1111111111111111,\"#46039f\"],[0.2222222222222222,\"#7201a8\"],[0.3333333333333333,\"#9c179e\"],[0.4444444444444444,\"#bd3786\"],[0.5555555555555556,\"#d8576b\"],[0.6666666666666666,\"#ed7953\"],[0.7777777777777778,\"#fb9f3a\"],[0.8888888888888888,\"#fdca26\"],[1.0,\"#f0f921\"]],\"type\":\"contour\"}],\"heatmapgl\":[{\"colorbar\":{\"outlinewidth\":0,\"ticks\":\"\"},\"colorscale\":[[0.0,\"#0d0887\"],[0.1111111111111111,\"#46039f\"],[0.2222222222222222,\"#7201a8\"],[0.3333333333333333,\"#9c179e\"],[0.4444444444444444,\"#bd3786\"],[0.5555555555555556,\"#d8576b\"],[0.6666666666666666,\"#ed7953\"],[0.7777777777777778,\"#fb9f3a\"],[0.8888888888888888,\"#fdca26\"],[1.0,\"#f0f921\"]],\"type\":\"heatmapgl\"}],\"heatmap\":[{\"colorbar\":{\"outlinewidth\":0,\"ticks\":\"\"},\"colorscale\":[[0.0,\"#0d0887\"],[0.1111111111111111,\"#46039f\"],[0.2222222222222222,\"#7201a8\"],[0.3333333333333333,\"#9c179e\"],[0.4444444444444444,\"#bd3786\"],[0.5555555555555556,\"#d8576b\"],[0.6666666666666666,\"#ed7953\"],[0.7777777777777778,\"#fb9f3a\"],[0.8888888888888888,\"#fdca26\"],[1.0,\"#f0f921\"]],\"type\":\"heatmap\"}],\"histogram2dcontour\":[{\"colorbar\":{\"outlinewidth\":0,\"ticks\":\"\"},\"colorscale\":[[0.0,\"#0d0887\"],[0.1111111111111111,\"#46039f\"],[0.2222222222222222,\"#7201a8\"],[0.3333333333333333,\"#9c179e\"],[0.4444444444444444,\"#bd3786\"],[0.5555555555555556,\"#d8576b\"],[0.6666666666666666,\"#ed7953\"],[0.7777777777777778,\"#fb9f3a\"],[0.8888888888888888,\"#fdca26\"],[1.0,\"#f0f921\"]],\"type\":\"histogram2dcontour\"}],\"histogram2d\":[{\"colorbar\":{\"outlinewidth\":0,\"ticks\":\"\"},\"colorscale\":[[0.0,\"#0d0887\"],[0.1111111111111111,\"#46039f\"],[0.2222222222222222,\"#7201a8\"],[0.3333333333333333,\"#9c179e\"],[0.4444444444444444,\"#bd3786\"],[0.5555555555555556,\"#d8576b\"],[0.6666666666666666,\"#ed7953\"],[0.7777777777777778,\"#fb9f3a\"],[0.8888888888888888,\"#fdca26\"],[1.0,\"#f0f921\"]],\"type\":\"histogram2d\"}],\"histogram\":[{\"marker\":{\"pattern\":{\"fillmode\":\"overlay\",\"size\":10,\"solidity\":0.2}},\"type\":\"histogram\"}],\"mesh3d\":[{\"colorbar\":{\"outlinewidth\":0,\"ticks\":\"\"},\"type\":\"mesh3d\"}],\"parcoords\":[{\"line\":{\"colorbar\":{\"outlinewidth\":0,\"ticks\":\"\"}},\"type\":\"parcoords\"}],\"pie\":[{\"automargin\":true,\"type\":\"pie\"}],\"scatter3d\":[{\"line\":{\"colorbar\":{\"outlinewidth\":0,\"ticks\":\"\"}},\"marker\":{\"colorbar\":{\"outlinewidth\":0,\"ticks\":\"\"}},\"type\":\"scatter3d\"}],\"scattercarpet\":[{\"marker\":{\"colorbar\":{\"outlinewidth\":0,\"ticks\":\"\"}},\"type\":\"scattercarpet\"}],\"scattergeo\":[{\"marker\":{\"colorbar\":{\"outlinewidth\":0,\"ticks\":\"\"}},\"type\":\"scattergeo\"}],\"scattergl\":[{\"marker\":{\"colorbar\":{\"outlinewidth\":0,\"ticks\":\"\"}},\"type\":\"scattergl\"}],\"scattermapbox\":[{\"marker\":{\"colorbar\":{\"outlinewidth\":0,\"ticks\":\"\"}},\"type\":\"scattermapbox\"}],\"scatterpolargl\":[{\"marker\":{\"colorbar\":{\"outlinewidth\":0,\"ticks\":\"\"}},\"type\":\"scatterpolargl\"}],\"scatterpolar\":[{\"marker\":{\"colorbar\":{\"outlinewidth\":0,\"ticks\":\"\"}},\"type\":\"scatterpolar\"}],\"scatter\":[{\"fillpattern\":{\"fillmode\":\"overlay\",\"size\":10,\"solidity\":0.2},\"type\":\"scatter\"}],\"scatterternary\":[{\"marker\":{\"colorbar\":{\"outlinewidth\":0,\"ticks\":\"\"}},\"type\":\"scatterternary\"}],\"surface\":[{\"colorbar\":{\"outlinewidth\":0,\"ticks\":\"\"},\"colorscale\":[[0.0,\"#0d0887\"],[0.1111111111111111,\"#46039f\"],[0.2222222222222222,\"#7201a8\"],[0.3333333333333333,\"#9c179e\"],[0.4444444444444444,\"#bd3786\"],[0.5555555555555556,\"#d8576b\"],[0.6666666666666666,\"#ed7953\"],[0.7777777777777778,\"#fb9f3a\"],[0.8888888888888888,\"#fdca26\"],[1.0,\"#f0f921\"]],\"type\":\"surface\"}],\"table\":[{\"cells\":{\"fill\":{\"color\":\"#EBF0F8\"},\"line\":{\"color\":\"white\"}},\"header\":{\"fill\":{\"color\":\"#C8D4E3\"},\"line\":{\"color\":\"white\"}},\"type\":\"table\"}]},\"layout\":{\"annotationdefaults\":{\"arrowcolor\":\"#2a3f5f\",\"arrowhead\":0,\"arrowwidth\":1},\"autotypenumbers\":\"strict\",\"coloraxis\":{\"colorbar\":{\"outlinewidth\":0,\"ticks\":\"\"}},\"colorscale\":{\"diverging\":[[0,\"#8e0152\"],[0.1,\"#c51b7d\"],[0.2,\"#de77ae\"],[0.3,\"#f1b6da\"],[0.4,\"#fde0ef\"],[0.5,\"#f7f7f7\"],[0.6,\"#e6f5d0\"],[0.7,\"#b8e186\"],[0.8,\"#7fbc41\"],[0.9,\"#4d9221\"],[1,\"#276419\"]],\"sequential\":[[0.0,\"#0d0887\"],[0.1111111111111111,\"#46039f\"],[0.2222222222222222,\"#7201a8\"],[0.3333333333333333,\"#9c179e\"],[0.4444444444444444,\"#bd3786\"],[0.5555555555555556,\"#d8576b\"],[0.6666666666666666,\"#ed7953\"],[0.7777777777777778,\"#fb9f3a\"],[0.8888888888888888,\"#fdca26\"],[1.0,\"#f0f921\"]],\"sequentialminus\":[[0.0,\"#0d0887\"],[0.1111111111111111,\"#46039f\"],[0.2222222222222222,\"#7201a8\"],[0.3333333333333333,\"#9c179e\"],[0.4444444444444444,\"#bd3786\"],[0.5555555555555556,\"#d8576b\"],[0.6666666666666666,\"#ed7953\"],[0.7777777777777778,\"#fb9f3a\"],[0.8888888888888888,\"#fdca26\"],[1.0,\"#f0f921\"]]},\"colorway\":[\"#636efa\",\"#EF553B\",\"#00cc96\",\"#ab63fa\",\"#FFA15A\",\"#19d3f3\",\"#FF6692\",\"#B6E880\",\"#FF97FF\",\"#FECB52\"],\"font\":{\"color\":\"#2a3f5f\"},\"geo\":{\"bgcolor\":\"white\",\"lakecolor\":\"white\",\"landcolor\":\"#E5ECF6\",\"showlakes\":true,\"showland\":true,\"subunitcolor\":\"white\"},\"hoverlabel\":{\"align\":\"left\"},\"hovermode\":\"closest\",\"mapbox\":{\"style\":\"light\"},\"paper_bgcolor\":\"white\",\"plot_bgcolor\":\"#E5ECF6\",\"polar\":{\"angularaxis\":{\"gridcolor\":\"white\",\"linecolor\":\"white\",\"ticks\":\"\"},\"bgcolor\":\"#E5ECF6\",\"radialaxis\":{\"gridcolor\":\"white\",\"linecolor\":\"white\",\"ticks\":\"\"}},\"scene\":{\"xaxis\":{\"backgroundcolor\":\"#E5ECF6\",\"gridcolor\":\"white\",\"gridwidth\":2,\"linecolor\":\"white\",\"showbackground\":true,\"ticks\":\"\",\"zerolinecolor\":\"white\"},\"yaxis\":{\"backgroundcolor\":\"#E5ECF6\",\"gridcolor\":\"white\",\"gridwidth\":2,\"linecolor\":\"white\",\"showbackground\":true,\"ticks\":\"\",\"zerolinecolor\":\"white\"},\"zaxis\":{\"backgroundcolor\":\"#E5ECF6\",\"gridcolor\":\"white\",\"gridwidth\":2,\"linecolor\":\"white\",\"showbackground\":true,\"ticks\":\"\",\"zerolinecolor\":\"white\"}},\"shapedefaults\":{\"line\":{\"color\":\"#2a3f5f\"}},\"ternary\":{\"aaxis\":{\"gridcolor\":\"white\",\"linecolor\":\"white\",\"ticks\":\"\"},\"baxis\":{\"gridcolor\":\"white\",\"linecolor\":\"white\",\"ticks\":\"\"},\"bgcolor\":\"#E5ECF6\",\"caxis\":{\"gridcolor\":\"white\",\"linecolor\":\"white\",\"ticks\":\"\"}},\"title\":{\"x\":0.05},\"xaxis\":{\"automargin\":true,\"gridcolor\":\"white\",\"linecolor\":\"white\",\"ticks\":\"\",\"title\":{\"standoff\":15},\"zerolinecolor\":\"white\",\"zerolinewidth\":2},\"yaxis\":{\"automargin\":true,\"gridcolor\":\"white\",\"linecolor\":\"white\",\"ticks\":\"\",\"title\":{\"standoff\":15},\"zerolinecolor\":\"white\",\"zerolinewidth\":2}}},\"title\":{\"font\":{\"color\":\"#4D5663\"}},\"xaxis\":{\"gridcolor\":\"#E1E5ED\",\"showgrid\":true,\"tickfont\":{\"color\":\"#4D5663\"},\"title\":{\"font\":{\"color\":\"#4D5663\"},\"text\":\"\"},\"zerolinecolor\":\"#E1E5ED\"},\"yaxis\":{\"gridcolor\":\"#E1E5ED\",\"showgrid\":true,\"tickfont\":{\"color\":\"#4D5663\"},\"title\":{\"font\":{\"color\":\"#4D5663\"},\"text\":\"\"},\"zerolinecolor\":\"#E1E5ED\"}},                        {\"showLink\": true, \"linkText\": \"Export to plot.ly\", \"plotlyServerURL\": \"https://plot.ly\", \"responsive\": true}                    ).then(function(){\n",
       "                            \n",
       "var gd = document.getElementById('99bb54d0-2385-4591-9b04-2b63bd27e6c1');\n",
       "var x = new MutationObserver(function (mutations, observer) {{\n",
       "        var display = window.getComputedStyle(gd).display;\n",
       "        if (!display || display === 'none') {{\n",
       "            console.log([gd, 'removed!']);\n",
       "            Plotly.purge(gd);\n",
       "            observer.disconnect();\n",
       "        }}\n",
       "}});\n",
       "\n",
       "// Listen for the removal of the full notebook cells\n",
       "var notebookContainer = gd.closest('#notebook-container');\n",
       "if (notebookContainer) {{\n",
       "    x.observe(notebookContainer, {childList: true});\n",
       "}}\n",
       "\n",
       "// Listen for the clearing of the current output cell\n",
       "var outputEl = gd.closest('.output');\n",
       "if (outputEl) {{\n",
       "    x.observe(outputEl, {childList: true});\n",
       "}}\n",
       "\n",
       "                        })                };                });            </script>        </div>"
      ]
     },
     "metadata": {},
     "output_type": "display_data"
    }
   ],
   "source": [
    "df.iplot(kind='bubble',x='A',y='B',size='C')"
   ]
  },
  {
   "cell_type": "markdown",
   "metadata": {},
   "source": [
    "## scatter_matrix()\n",
    "\n",
    "Similar to sns.pairplot()"
   ]
  },
  {
   "cell_type": "code",
   "execution_count": 18,
   "metadata": {
    "collapsed": false
   },
   "outputs": [
    {
     "data": {
      "application/vnd.plotly.v1+json": {
       "config": {
        "linkText": "Export to plot.ly",
        "plotlyServerURL": "https://plot.ly",
        "showLink": true
       },
       "data": [
        {
         "histfunc": "count",
         "histnorm": "",
         "marker": {
          "color": "rgba(255, 153, 51, 1.0)",
          "line": {
           "color": "#4D5663",
           "width": 1.3
          }
         },
         "name": "A",
         "nbinsx": 10,
         "opacity": 0.8,
         "orientation": "v",
         "type": "histogram",
         "x": [
          0.4625705346860569,
          -0.39776559619778035,
          0.45134849134936006,
          -0.13586989136117616,
          0.8666046795885229,
          0.6915422091449416,
          0.2879465812261424,
          0.8634873175971317,
          1.0636136020541438,
          1.0253235577750899,
          -0.31709420285086765,
          0.8118393443542882,
          1.2729161314443458,
          -0.04749879992679883,
          1.6212382555696152,
          0.7432177254591762,
          -0.7540751447799475,
          -1.1785769272722304,
          0.5554718080127589,
          0.9645479280032871,
          0.8649041685720121,
          -0.5549189890831625,
          -0.6218986150027163,
          -0.7194602403736984,
          -1.802095186977993,
          -0.26678732623986573,
          2.7238387138412192,
          0.615634491260396,
          0.007579856052334232,
          1.1290262523400951,
          1.587017275445863,
          -0.9189023976589287,
          1.4725054513406621,
          -0.48301228688987907,
          -1.3304701145449986,
          1.245831392521345,
          -1.0983440758617014,
          1.180857997707036,
          0.5440386879638087,
          0.5677057464677294,
          -0.788205121339689,
          -0.3199941722674541,
          -1.2771991364799633,
          -0.743349078501879,
          -1.1417746291284483,
          -0.5475290985702707,
          -3.2223848725883575,
          -0.2510964618123027,
          -1.7800437914056828,
          0.6437766633383795,
          -0.5237843931033407,
          -0.6820156552307822,
          1.8181209386254333,
          0.43912021962870396,
          -0.5779841176830209,
          -0.49567500878627896,
          1.5736513015848792,
          -0.4849414708447617,
          -0.030582237332559874,
          -0.7159901187440891,
          0.3815770903437842,
          -0.4643215828999029,
          1.0224124071713991,
          -0.30473964077199983,
          0.5854244150705185,
          -0.8103124473453914,
          0.819934226238514,
          -1.8347336449792389,
          -0.4460340648319405,
          1.6022942645681513,
          0.2227037950171565,
          1.9715057168447414,
          0.030545883394759044,
          1.5746046212676983,
          0.6798817967772102,
          0.2054790119107006,
          0.27995172153214837,
          -1.2564946179625986,
          -1.4388162435408303,
          0.6978362478661515,
          -0.6871087225198645,
          0.03376446352296217,
          -0.07695646388334659,
          1.1057890388523681,
          -1.4005037932977615,
          -1.514307743583307,
          -1.0950729859328534,
          -0.09349612285966388,
          -2.0742756957159862,
          -0.6539147900050394,
          2.7493473960748545,
          0.9275692397287629,
          0.32009980593724974,
          0.6253393120995153,
          0.6897118991535294,
          -1.5343373827748692,
          0.6488067241950675,
          0.09499686984715128,
          0.7803587474326844,
          0.1024905534892975
         ],
         "xaxis": "x",
         "yaxis": "y"
        },
        {
         "line": {
          "color": "rgba(128, 128, 128, 1.0)",
          "dash": "solid",
          "shape": "linear",
          "width": 1.3
         },
         "marker": {
          "size": 2,
          "symbol": "circle"
         },
         "mode": "markers",
         "name": "A",
         "text": "",
         "type": "scatter",
         "x": [
          -1.3658007014664313,
          -0.6350333815305984,
          -0.9225023455677859,
          -0.6236056824865273,
          -0.18356722515055598,
          -0.8282112839224751,
          -0.22599933977613648,
          -0.08427485525071632,
          -0.04947484313961995,
          0.8508207630027762,
          0.018825217556514274,
          0.08608633867607307,
          -0.9244306868787607,
          0.5485609902447441,
          1.177795597249583,
          -0.10932772012243774,
          -0.6650659901184788,
          -1.130925902347371,
          1.5504806364069426,
          -0.6935904582249032,
          1.4797097592255881,
          -0.4861265117217737,
          -0.06723767178783559,
          -1.070318252028669,
          0.19010870364430227,
          1.0944945696223813,
          0.9398514074931446,
          0.9270579274216835,
          1.7420449912679339,
          -1.7737531831587297,
          0.9748891216747543,
          0.028938685164870852,
          -0.5976961395226522,
          -0.35759118356467046,
          0.6362630122762118,
          -1.6652776675816219,
          0.046058986375401345,
          0.4223155973887687,
          -1.0240020155140628,
          1.757371706965391,
          -0.23212477117625419,
          -0.5253472403215348,
          1.545594814224598,
          0.20286626452325346,
          0.9505040704125001,
          0.2836453901331043,
          0.28185143876966146,
          0.47621993897237586,
          1.6908071967334568,
          -1.6194067333772713,
          -0.6523141481185137,
          0.32419451714924846,
          -0.6437146750787236,
          -0.5613024570103383,
          0.15659926612601785,
          1.216161214738801,
          1.4669291446392254,
          0.013413375094520001,
          0.6772940970325642,
          0.0011619705075164054,
          0.4983121764774387,
          0.5178283879895301,
          0.5111314025770597,
          -0.15103715454482886,
          -0.9993029513443423,
          1.7558076345328892,
          1.309351374593043,
          -0.7444034365155567,
          -0.10722007531162517,
          -0.11448009559783312,
          3.9990147561777287,
          0.2502565660393181,
          0.22495725342868372,
          -1.126490949731758,
          -0.7515807915122932,
          1.5185709325212653,
          0.6100340654423348,
          1.0186660650065034,
          0.5133949902762628,
          0.7207257255626729,
          0.5547838573778077,
          0.18709779037151372,
          -0.4187249372207891,
          0.4067555297536765,
          0.25733156690145603,
          -0.9765654247627013,
          -1.153711505883254,
          -0.08209547748935996,
          0.27169309371179057,
          0.1921783078755945,
          -0.41618004621276505,
          0.7461979831496948,
          -1.459595403754854,
          -1.1153918522124082,
          -0.09367478466593762,
          -1.11258801156455,
          0.42426910929003386,
          -0.3534061605676554,
          0.11272144129587136,
          1.1115790414692162
         ],
         "xaxis": "x2",
         "y": [
          0.4625705346860569,
          -0.39776559619778035,
          0.45134849134936006,
          -0.13586989136117616,
          0.8666046795885229,
          0.6915422091449416,
          0.2879465812261424,
          0.8634873175971317,
          1.0636136020541438,
          1.0253235577750899,
          -0.31709420285086765,
          0.8118393443542882,
          1.2729161314443458,
          -0.04749879992679883,
          1.6212382555696152,
          0.7432177254591762,
          -0.7540751447799475,
          -1.1785769272722304,
          0.5554718080127589,
          0.9645479280032871,
          0.8649041685720121,
          -0.5549189890831625,
          -0.6218986150027163,
          -0.7194602403736984,
          -1.802095186977993,
          -0.26678732623986573,
          2.7238387138412192,
          0.615634491260396,
          0.007579856052334232,
          1.1290262523400951,
          1.587017275445863,
          -0.9189023976589287,
          1.4725054513406621,
          -0.48301228688987907,
          -1.3304701145449986,
          1.245831392521345,
          -1.0983440758617014,
          1.180857997707036,
          0.5440386879638087,
          0.5677057464677294,
          -0.788205121339689,
          -0.3199941722674541,
          -1.2771991364799633,
          -0.743349078501879,
          -1.1417746291284483,
          -0.5475290985702707,
          -3.2223848725883575,
          -0.2510964618123027,
          -1.7800437914056828,
          0.6437766633383795,
          -0.5237843931033407,
          -0.6820156552307822,
          1.8181209386254333,
          0.43912021962870396,
          -0.5779841176830209,
          -0.49567500878627896,
          1.5736513015848792,
          -0.4849414708447617,
          -0.030582237332559874,
          -0.7159901187440891,
          0.3815770903437842,
          -0.4643215828999029,
          1.0224124071713991,
          -0.30473964077199983,
          0.5854244150705185,
          -0.8103124473453914,
          0.819934226238514,
          -1.8347336449792389,
          -0.4460340648319405,
          1.6022942645681513,
          0.2227037950171565,
          1.9715057168447414,
          0.030545883394759044,
          1.5746046212676983,
          0.6798817967772102,
          0.2054790119107006,
          0.27995172153214837,
          -1.2564946179625986,
          -1.4388162435408303,
          0.6978362478661515,
          -0.6871087225198645,
          0.03376446352296217,
          -0.07695646388334659,
          1.1057890388523681,
          -1.4005037932977615,
          -1.514307743583307,
          -1.0950729859328534,
          -0.09349612285966388,
          -2.0742756957159862,
          -0.6539147900050394,
          2.7493473960748545,
          0.9275692397287629,
          0.32009980593724974,
          0.6253393120995153,
          0.6897118991535294,
          -1.5343373827748692,
          0.6488067241950675,
          0.09499686984715128,
          0.7803587474326844,
          0.1024905534892975
         ],
         "yaxis": "y2"
        },
        {
         "line": {
          "color": "rgba(128, 128, 128, 1.0)",
          "dash": "solid",
          "shape": "linear",
          "width": 1.3
         },
         "marker": {
          "size": 2,
          "symbol": "circle"
         },
         "mode": "markers",
         "name": "A",
         "text": "",
         "type": "scatter",
         "x": [
          0.7976196639882999,
          0.5922242217557884,
          -0.5936558211354087,
          0.022889737562143964,
          -0.7367680014627671,
          1.455148237383089,
          -0.5603073766995768,
          -0.531457442213716,
          0.21612006273025253,
          -1.153928568100353,
          0.708915148731652,
          0.029122448527130168,
          -0.6297290422602668,
          -0.44383790732796613,
          1.3549183788923063,
          0.028530730010453784,
          1.4637991978375617,
          -0.9305632016645159,
          -0.20318553410806436,
          -0.37467046279084404,
          1.0109341991978813,
          -0.22405969354645341,
          0.3775979209944355,
          0.6819208943361197,
          0.21948686657547883,
          -0.8855312572802637,
          -1.2244651171204826,
          -0.6557842259775335,
          -1.2579946796424992,
          0.9255850502597677,
          0.256485696172891,
          0.3494234975024311,
          0.1612472287334242,
          -0.9385426920911395,
          0.09196273439151567,
          -0.056286623826050486,
          0.7112903619693386,
          0.6032100502594897,
          -0.0887452817572577,
          -0.1320521337148512,
          0.2977115970722861,
          -0.767727628403958,
          -1.7029435048088566,
          0.6029430120359184,
          0.722073112513006,
          0.4049464271158967,
          -0.6135234963403671,
          0.8883742843519561,
          0.6479646825765413,
          -0.9657130542158291,
          -0.8009242190004513,
          -1.2760479494411372,
          0.68148628681611,
          1.3298205147939715,
          -1.381416310098818,
          0.7866499268731464,
          -0.5424973166046481,
          0.06792592331081872,
          0.47204222316489075,
          -1.0770132793599556,
          -0.790160054910979,
          -0.9809606230685514,
          1.0039853077621204,
          -0.2672453111573401,
          1.2506689282154047,
          -0.4068011543582442,
          -0.7212725757206991,
          -0.5914654695141591,
          2.192279526986468,
          -1.3960956489970582,
          -0.7274259900966882,
          1.3132737931552732,
          -2.716463887848451,
          -0.9816790460261686,
          -1.3808497577907082,
          0.5796566161954262,
          0.6779723444576947,
          0.3301595076564153,
          -0.6875972660930066,
          -0.6315770476071847,
          -0.32890335277128885,
          1.7016557265423022,
          -1.1048930803856305,
          1.1464717236422435,
          0.8738336341324523,
          -0.26056748248510014,
          -0.5858677601300266,
          0.08289842846605516,
          0.0476306260013642,
          0.14509360396470272,
          0.6372599962828331,
          0.47983314760275164,
          -1.195633253690203,
          0.3344303114781469,
          -1.5598436317677304,
          -1.9170658786972896,
          -1.5841367337859373,
          -0.29802227813188487,
          1.2229853472529493,
          1.1867495337171539
         ],
         "xaxis": "x3",
         "y": [
          0.4625705346860569,
          -0.39776559619778035,
          0.45134849134936006,
          -0.13586989136117616,
          0.8666046795885229,
          0.6915422091449416,
          0.2879465812261424,
          0.8634873175971317,
          1.0636136020541438,
          1.0253235577750899,
          -0.31709420285086765,
          0.8118393443542882,
          1.2729161314443458,
          -0.04749879992679883,
          1.6212382555696152,
          0.7432177254591762,
          -0.7540751447799475,
          -1.1785769272722304,
          0.5554718080127589,
          0.9645479280032871,
          0.8649041685720121,
          -0.5549189890831625,
          -0.6218986150027163,
          -0.7194602403736984,
          -1.802095186977993,
          -0.26678732623986573,
          2.7238387138412192,
          0.615634491260396,
          0.007579856052334232,
          1.1290262523400951,
          1.587017275445863,
          -0.9189023976589287,
          1.4725054513406621,
          -0.48301228688987907,
          -1.3304701145449986,
          1.245831392521345,
          -1.0983440758617014,
          1.180857997707036,
          0.5440386879638087,
          0.5677057464677294,
          -0.788205121339689,
          -0.3199941722674541,
          -1.2771991364799633,
          -0.743349078501879,
          -1.1417746291284483,
          -0.5475290985702707,
          -3.2223848725883575,
          -0.2510964618123027,
          -1.7800437914056828,
          0.6437766633383795,
          -0.5237843931033407,
          -0.6820156552307822,
          1.8181209386254333,
          0.43912021962870396,
          -0.5779841176830209,
          -0.49567500878627896,
          1.5736513015848792,
          -0.4849414708447617,
          -0.030582237332559874,
          -0.7159901187440891,
          0.3815770903437842,
          -0.4643215828999029,
          1.0224124071713991,
          -0.30473964077199983,
          0.5854244150705185,
          -0.8103124473453914,
          0.819934226238514,
          -1.8347336449792389,
          -0.4460340648319405,
          1.6022942645681513,
          0.2227037950171565,
          1.9715057168447414,
          0.030545883394759044,
          1.5746046212676983,
          0.6798817967772102,
          0.2054790119107006,
          0.27995172153214837,
          -1.2564946179625986,
          -1.4388162435408303,
          0.6978362478661515,
          -0.6871087225198645,
          0.03376446352296217,
          -0.07695646388334659,
          1.1057890388523681,
          -1.4005037932977615,
          -1.514307743583307,
          -1.0950729859328534,
          -0.09349612285966388,
          -2.0742756957159862,
          -0.6539147900050394,
          2.7493473960748545,
          0.9275692397287629,
          0.32009980593724974,
          0.6253393120995153,
          0.6897118991535294,
          -1.5343373827748692,
          0.6488067241950675,
          0.09499686984715128,
          0.7803587474326844,
          0.1024905534892975
         ],
         "yaxis": "y3"
        },
        {
         "line": {
          "color": "rgba(128, 128, 128, 1.0)",
          "dash": "solid",
          "shape": "linear",
          "width": 1.3
         },
         "marker": {
          "size": 2,
          "symbol": "circle"
         },
         "mode": "markers",
         "name": "A",
         "text": "",
         "type": "scatter",
         "x": [
          -0.01676273611883974,
          0.5803397636454248,
          -0.9914843496197014,
          2.079745266463118,
          0.09963289509793408,
          -1.5264767886339399,
          0.25144063077020046,
          0.5382700150202437,
          0.5255935445808945,
          2.1887319477382334,
          1.191552890004344,
          0.05349052125411241,
          0.5389078524411036,
          0.19087252828352078,
          -0.17470028756202827,
          -0.20933866317549638,
          -1.052678514499253,
          0.46789616080267776,
          1.1819098666298038,
          0.626122580752721,
          -0.33520185378191714,
          2.0467136265434305,
          0.19579408072465526,
          -0.09480369920507094,
          -1.4269257099352066,
          -0.2964332649358186,
          -0.1392813845087163,
          -0.272803639926009,
          0.6243147047456785,
          -1.1261389387994891,
          -0.5465163531790631,
          1.7020899291410607,
          0.1501383075361051,
          -0.4654903327374615,
          0.23595451979155638,
          1.2990981382104203,
          -1.251703316412179,
          -1.2109825729348684,
          0.06225080156632386,
          0.6622658123027308,
          -1.2384676961821592,
          0.281090348543609,
          -0.6920321346224054,
          -2.5051876833877236,
          0.9636314800694326,
          0.6734277974849716,
          1.9326372315187947,
          -1.1181224766885862,
          0.5536150600893577,
          -0.051233917309116576,
          -0.773507722797698,
          -1.9274774770775742,
          -0.5516587969256265,
          0.09042729345977363,
          0.017826107784951917,
          0.4178025369145226,
          0.45313375511709386,
          -0.12684533253761418,
          -1.2834545255555267,
          0.3837475308460146,
          -1.4836467753018732,
          1.7051405527036516,
          0.7874467272773418,
          -0.7849933389433503,
          0.44695587969064193,
          -1.3104080445756885,
          -0.3550595445515954,
          -1.3771707809159526,
          1.829783307047512,
          0.6150651255298384,
          0.3940454001110733,
          1.0822486569924945,
          0.6728778107784291,
          -0.32382155085456243,
          -0.5721840099504375,
          1.5759153220979334,
          -0.03602872455399964,
          0.10874158875401785,
          1.2151723212826315,
          0.054673478300902835,
          0.353376955400931,
          -1.287926992821108,
          1.1814070704408872,
          -0.11440511307712886,
          -0.8480872930359187,
          0.1602569895831079,
          -0.2598894317484706,
          0.5195867695858054,
          1.227003049790499,
          0.7748469660368112,
          0.788555464931521,
          0.19382462182550098,
          -0.9773509794734583,
          0.13162883343608456,
          -0.05087119261040653,
          -0.6836470938835728,
          1.2615016113759634,
          -2.0827809387584812,
          -0.4666234410833225,
          -1.104840281934689
         ],
         "xaxis": "x4",
         "y": [
          0.4625705346860569,
          -0.39776559619778035,
          0.45134849134936006,
          -0.13586989136117616,
          0.8666046795885229,
          0.6915422091449416,
          0.2879465812261424,
          0.8634873175971317,
          1.0636136020541438,
          1.0253235577750899,
          -0.31709420285086765,
          0.8118393443542882,
          1.2729161314443458,
          -0.04749879992679883,
          1.6212382555696152,
          0.7432177254591762,
          -0.7540751447799475,
          -1.1785769272722304,
          0.5554718080127589,
          0.9645479280032871,
          0.8649041685720121,
          -0.5549189890831625,
          -0.6218986150027163,
          -0.7194602403736984,
          -1.802095186977993,
          -0.26678732623986573,
          2.7238387138412192,
          0.615634491260396,
          0.007579856052334232,
          1.1290262523400951,
          1.587017275445863,
          -0.9189023976589287,
          1.4725054513406621,
          -0.48301228688987907,
          -1.3304701145449986,
          1.245831392521345,
          -1.0983440758617014,
          1.180857997707036,
          0.5440386879638087,
          0.5677057464677294,
          -0.788205121339689,
          -0.3199941722674541,
          -1.2771991364799633,
          -0.743349078501879,
          -1.1417746291284483,
          -0.5475290985702707,
          -3.2223848725883575,
          -0.2510964618123027,
          -1.7800437914056828,
          0.6437766633383795,
          -0.5237843931033407,
          -0.6820156552307822,
          1.8181209386254333,
          0.43912021962870396,
          -0.5779841176830209,
          -0.49567500878627896,
          1.5736513015848792,
          -0.4849414708447617,
          -0.030582237332559874,
          -0.7159901187440891,
          0.3815770903437842,
          -0.4643215828999029,
          1.0224124071713991,
          -0.30473964077199983,
          0.5854244150705185,
          -0.8103124473453914,
          0.819934226238514,
          -1.8347336449792389,
          -0.4460340648319405,
          1.6022942645681513,
          0.2227037950171565,
          1.9715057168447414,
          0.030545883394759044,
          1.5746046212676983,
          0.6798817967772102,
          0.2054790119107006,
          0.27995172153214837,
          -1.2564946179625986,
          -1.4388162435408303,
          0.6978362478661515,
          -0.6871087225198645,
          0.03376446352296217,
          -0.07695646388334659,
          1.1057890388523681,
          -1.4005037932977615,
          -1.514307743583307,
          -1.0950729859328534,
          -0.09349612285966388,
          -2.0742756957159862,
          -0.6539147900050394,
          2.7493473960748545,
          0.9275692397287629,
          0.32009980593724974,
          0.6253393120995153,
          0.6897118991535294,
          -1.5343373827748692,
          0.6488067241950675,
          0.09499686984715128,
          0.7803587474326844,
          0.1024905534892975
         ],
         "yaxis": "y4"
        },
        {
         "line": {
          "color": "rgba(128, 128, 128, 1.0)",
          "dash": "solid",
          "shape": "linear",
          "width": 1.3
         },
         "marker": {
          "size": 2,
          "symbol": "circle"
         },
         "mode": "markers",
         "name": "B",
         "text": "",
         "type": "scatter",
         "x": [
          0.4625705346860569,
          -0.39776559619778035,
          0.45134849134936006,
          -0.13586989136117616,
          0.8666046795885229,
          0.6915422091449416,
          0.2879465812261424,
          0.8634873175971317,
          1.0636136020541438,
          1.0253235577750899,
          -0.31709420285086765,
          0.8118393443542882,
          1.2729161314443458,
          -0.04749879992679883,
          1.6212382555696152,
          0.7432177254591762,
          -0.7540751447799475,
          -1.1785769272722304,
          0.5554718080127589,
          0.9645479280032871,
          0.8649041685720121,
          -0.5549189890831625,
          -0.6218986150027163,
          -0.7194602403736984,
          -1.802095186977993,
          -0.26678732623986573,
          2.7238387138412192,
          0.615634491260396,
          0.007579856052334232,
          1.1290262523400951,
          1.587017275445863,
          -0.9189023976589287,
          1.4725054513406621,
          -0.48301228688987907,
          -1.3304701145449986,
          1.245831392521345,
          -1.0983440758617014,
          1.180857997707036,
          0.5440386879638087,
          0.5677057464677294,
          -0.788205121339689,
          -0.3199941722674541,
          -1.2771991364799633,
          -0.743349078501879,
          -1.1417746291284483,
          -0.5475290985702707,
          -3.2223848725883575,
          -0.2510964618123027,
          -1.7800437914056828,
          0.6437766633383795,
          -0.5237843931033407,
          -0.6820156552307822,
          1.8181209386254333,
          0.43912021962870396,
          -0.5779841176830209,
          -0.49567500878627896,
          1.5736513015848792,
          -0.4849414708447617,
          -0.030582237332559874,
          -0.7159901187440891,
          0.3815770903437842,
          -0.4643215828999029,
          1.0224124071713991,
          -0.30473964077199983,
          0.5854244150705185,
          -0.8103124473453914,
          0.819934226238514,
          -1.8347336449792389,
          -0.4460340648319405,
          1.6022942645681513,
          0.2227037950171565,
          1.9715057168447414,
          0.030545883394759044,
          1.5746046212676983,
          0.6798817967772102,
          0.2054790119107006,
          0.27995172153214837,
          -1.2564946179625986,
          -1.4388162435408303,
          0.6978362478661515,
          -0.6871087225198645,
          0.03376446352296217,
          -0.07695646388334659,
          1.1057890388523681,
          -1.4005037932977615,
          -1.514307743583307,
          -1.0950729859328534,
          -0.09349612285966388,
          -2.0742756957159862,
          -0.6539147900050394,
          2.7493473960748545,
          0.9275692397287629,
          0.32009980593724974,
          0.6253393120995153,
          0.6897118991535294,
          -1.5343373827748692,
          0.6488067241950675,
          0.09499686984715128,
          0.7803587474326844,
          0.1024905534892975
         ],
         "xaxis": "x5",
         "y": [
          -1.3658007014664313,
          -0.6350333815305984,
          -0.9225023455677859,
          -0.6236056824865273,
          -0.18356722515055598,
          -0.8282112839224751,
          -0.22599933977613648,
          -0.08427485525071632,
          -0.04947484313961995,
          0.8508207630027762,
          0.018825217556514274,
          0.08608633867607307,
          -0.9244306868787607,
          0.5485609902447441,
          1.177795597249583,
          -0.10932772012243774,
          -0.6650659901184788,
          -1.130925902347371,
          1.5504806364069426,
          -0.6935904582249032,
          1.4797097592255881,
          -0.4861265117217737,
          -0.06723767178783559,
          -1.070318252028669,
          0.19010870364430227,
          1.0944945696223813,
          0.9398514074931446,
          0.9270579274216835,
          1.7420449912679339,
          -1.7737531831587297,
          0.9748891216747543,
          0.028938685164870852,
          -0.5976961395226522,
          -0.35759118356467046,
          0.6362630122762118,
          -1.6652776675816219,
          0.046058986375401345,
          0.4223155973887687,
          -1.0240020155140628,
          1.757371706965391,
          -0.23212477117625419,
          -0.5253472403215348,
          1.545594814224598,
          0.20286626452325346,
          0.9505040704125001,
          0.2836453901331043,
          0.28185143876966146,
          0.47621993897237586,
          1.6908071967334568,
          -1.6194067333772713,
          -0.6523141481185137,
          0.32419451714924846,
          -0.6437146750787236,
          -0.5613024570103383,
          0.15659926612601785,
          1.216161214738801,
          1.4669291446392254,
          0.013413375094520001,
          0.6772940970325642,
          0.0011619705075164054,
          0.4983121764774387,
          0.5178283879895301,
          0.5111314025770597,
          -0.15103715454482886,
          -0.9993029513443423,
          1.7558076345328892,
          1.309351374593043,
          -0.7444034365155567,
          -0.10722007531162517,
          -0.11448009559783312,
          3.9990147561777287,
          0.2502565660393181,
          0.22495725342868372,
          -1.126490949731758,
          -0.7515807915122932,
          1.5185709325212653,
          0.6100340654423348,
          1.0186660650065034,
          0.5133949902762628,
          0.7207257255626729,
          0.5547838573778077,
          0.18709779037151372,
          -0.4187249372207891,
          0.4067555297536765,
          0.25733156690145603,
          -0.9765654247627013,
          -1.153711505883254,
          -0.08209547748935996,
          0.27169309371179057,
          0.1921783078755945,
          -0.41618004621276505,
          0.7461979831496948,
          -1.459595403754854,
          -1.1153918522124082,
          -0.09367478466593762,
          -1.11258801156455,
          0.42426910929003386,
          -0.3534061605676554,
          0.11272144129587136,
          1.1115790414692162
         ],
         "yaxis": "y5"
        },
        {
         "histfunc": "count",
         "histnorm": "",
         "marker": {
          "color": "rgba(55, 128, 191, 1.0)",
          "line": {
           "color": "#4D5663",
           "width": 1.3
          }
         },
         "name": "B",
         "nbinsx": 10,
         "opacity": 0.8,
         "orientation": "v",
         "type": "histogram",
         "x": [
          -1.3658007014664313,
          -0.6350333815305984,
          -0.9225023455677859,
          -0.6236056824865273,
          -0.18356722515055598,
          -0.8282112839224751,
          -0.22599933977613648,
          -0.08427485525071632,
          -0.04947484313961995,
          0.8508207630027762,
          0.018825217556514274,
          0.08608633867607307,
          -0.9244306868787607,
          0.5485609902447441,
          1.177795597249583,
          -0.10932772012243774,
          -0.6650659901184788,
          -1.130925902347371,
          1.5504806364069426,
          -0.6935904582249032,
          1.4797097592255881,
          -0.4861265117217737,
          -0.06723767178783559,
          -1.070318252028669,
          0.19010870364430227,
          1.0944945696223813,
          0.9398514074931446,
          0.9270579274216835,
          1.7420449912679339,
          -1.7737531831587297,
          0.9748891216747543,
          0.028938685164870852,
          -0.5976961395226522,
          -0.35759118356467046,
          0.6362630122762118,
          -1.6652776675816219,
          0.046058986375401345,
          0.4223155973887687,
          -1.0240020155140628,
          1.757371706965391,
          -0.23212477117625419,
          -0.5253472403215348,
          1.545594814224598,
          0.20286626452325346,
          0.9505040704125001,
          0.2836453901331043,
          0.28185143876966146,
          0.47621993897237586,
          1.6908071967334568,
          -1.6194067333772713,
          -0.6523141481185137,
          0.32419451714924846,
          -0.6437146750787236,
          -0.5613024570103383,
          0.15659926612601785,
          1.216161214738801,
          1.4669291446392254,
          0.013413375094520001,
          0.6772940970325642,
          0.0011619705075164054,
          0.4983121764774387,
          0.5178283879895301,
          0.5111314025770597,
          -0.15103715454482886,
          -0.9993029513443423,
          1.7558076345328892,
          1.309351374593043,
          -0.7444034365155567,
          -0.10722007531162517,
          -0.11448009559783312,
          3.9990147561777287,
          0.2502565660393181,
          0.22495725342868372,
          -1.126490949731758,
          -0.7515807915122932,
          1.5185709325212653,
          0.6100340654423348,
          1.0186660650065034,
          0.5133949902762628,
          0.7207257255626729,
          0.5547838573778077,
          0.18709779037151372,
          -0.4187249372207891,
          0.4067555297536765,
          0.25733156690145603,
          -0.9765654247627013,
          -1.153711505883254,
          -0.08209547748935996,
          0.27169309371179057,
          0.1921783078755945,
          -0.41618004621276505,
          0.7461979831496948,
          -1.459595403754854,
          -1.1153918522124082,
          -0.09367478466593762,
          -1.11258801156455,
          0.42426910929003386,
          -0.3534061605676554,
          0.11272144129587136,
          1.1115790414692162
         ],
         "xaxis": "x6",
         "yaxis": "y6"
        },
        {
         "line": {
          "color": "rgba(128, 128, 128, 1.0)",
          "dash": "solid",
          "shape": "linear",
          "width": 1.3
         },
         "marker": {
          "size": 2,
          "symbol": "circle"
         },
         "mode": "markers",
         "name": "B",
         "text": "",
         "type": "scatter",
         "x": [
          0.7976196639882999,
          0.5922242217557884,
          -0.5936558211354087,
          0.022889737562143964,
          -0.7367680014627671,
          1.455148237383089,
          -0.5603073766995768,
          -0.531457442213716,
          0.21612006273025253,
          -1.153928568100353,
          0.708915148731652,
          0.029122448527130168,
          -0.6297290422602668,
          -0.44383790732796613,
          1.3549183788923063,
          0.028530730010453784,
          1.4637991978375617,
          -0.9305632016645159,
          -0.20318553410806436,
          -0.37467046279084404,
          1.0109341991978813,
          -0.22405969354645341,
          0.3775979209944355,
          0.6819208943361197,
          0.21948686657547883,
          -0.8855312572802637,
          -1.2244651171204826,
          -0.6557842259775335,
          -1.2579946796424992,
          0.9255850502597677,
          0.256485696172891,
          0.3494234975024311,
          0.1612472287334242,
          -0.9385426920911395,
          0.09196273439151567,
          -0.056286623826050486,
          0.7112903619693386,
          0.6032100502594897,
          -0.0887452817572577,
          -0.1320521337148512,
          0.2977115970722861,
          -0.767727628403958,
          -1.7029435048088566,
          0.6029430120359184,
          0.722073112513006,
          0.4049464271158967,
          -0.6135234963403671,
          0.8883742843519561,
          0.6479646825765413,
          -0.9657130542158291,
          -0.8009242190004513,
          -1.2760479494411372,
          0.68148628681611,
          1.3298205147939715,
          -1.381416310098818,
          0.7866499268731464,
          -0.5424973166046481,
          0.06792592331081872,
          0.47204222316489075,
          -1.0770132793599556,
          -0.790160054910979,
          -0.9809606230685514,
          1.0039853077621204,
          -0.2672453111573401,
          1.2506689282154047,
          -0.4068011543582442,
          -0.7212725757206991,
          -0.5914654695141591,
          2.192279526986468,
          -1.3960956489970582,
          -0.7274259900966882,
          1.3132737931552732,
          -2.716463887848451,
          -0.9816790460261686,
          -1.3808497577907082,
          0.5796566161954262,
          0.6779723444576947,
          0.3301595076564153,
          -0.6875972660930066,
          -0.6315770476071847,
          -0.32890335277128885,
          1.7016557265423022,
          -1.1048930803856305,
          1.1464717236422435,
          0.8738336341324523,
          -0.26056748248510014,
          -0.5858677601300266,
          0.08289842846605516,
          0.0476306260013642,
          0.14509360396470272,
          0.6372599962828331,
          0.47983314760275164,
          -1.195633253690203,
          0.3344303114781469,
          -1.5598436317677304,
          -1.9170658786972896,
          -1.5841367337859373,
          -0.29802227813188487,
          1.2229853472529493,
          1.1867495337171539
         ],
         "xaxis": "x7",
         "y": [
          -1.3658007014664313,
          -0.6350333815305984,
          -0.9225023455677859,
          -0.6236056824865273,
          -0.18356722515055598,
          -0.8282112839224751,
          -0.22599933977613648,
          -0.08427485525071632,
          -0.04947484313961995,
          0.8508207630027762,
          0.018825217556514274,
          0.08608633867607307,
          -0.9244306868787607,
          0.5485609902447441,
          1.177795597249583,
          -0.10932772012243774,
          -0.6650659901184788,
          -1.130925902347371,
          1.5504806364069426,
          -0.6935904582249032,
          1.4797097592255881,
          -0.4861265117217737,
          -0.06723767178783559,
          -1.070318252028669,
          0.19010870364430227,
          1.0944945696223813,
          0.9398514074931446,
          0.9270579274216835,
          1.7420449912679339,
          -1.7737531831587297,
          0.9748891216747543,
          0.028938685164870852,
          -0.5976961395226522,
          -0.35759118356467046,
          0.6362630122762118,
          -1.6652776675816219,
          0.046058986375401345,
          0.4223155973887687,
          -1.0240020155140628,
          1.757371706965391,
          -0.23212477117625419,
          -0.5253472403215348,
          1.545594814224598,
          0.20286626452325346,
          0.9505040704125001,
          0.2836453901331043,
          0.28185143876966146,
          0.47621993897237586,
          1.6908071967334568,
          -1.6194067333772713,
          -0.6523141481185137,
          0.32419451714924846,
          -0.6437146750787236,
          -0.5613024570103383,
          0.15659926612601785,
          1.216161214738801,
          1.4669291446392254,
          0.013413375094520001,
          0.6772940970325642,
          0.0011619705075164054,
          0.4983121764774387,
          0.5178283879895301,
          0.5111314025770597,
          -0.15103715454482886,
          -0.9993029513443423,
          1.7558076345328892,
          1.309351374593043,
          -0.7444034365155567,
          -0.10722007531162517,
          -0.11448009559783312,
          3.9990147561777287,
          0.2502565660393181,
          0.22495725342868372,
          -1.126490949731758,
          -0.7515807915122932,
          1.5185709325212653,
          0.6100340654423348,
          1.0186660650065034,
          0.5133949902762628,
          0.7207257255626729,
          0.5547838573778077,
          0.18709779037151372,
          -0.4187249372207891,
          0.4067555297536765,
          0.25733156690145603,
          -0.9765654247627013,
          -1.153711505883254,
          -0.08209547748935996,
          0.27169309371179057,
          0.1921783078755945,
          -0.41618004621276505,
          0.7461979831496948,
          -1.459595403754854,
          -1.1153918522124082,
          -0.09367478466593762,
          -1.11258801156455,
          0.42426910929003386,
          -0.3534061605676554,
          0.11272144129587136,
          1.1115790414692162
         ],
         "yaxis": "y7"
        },
        {
         "line": {
          "color": "rgba(128, 128, 128, 1.0)",
          "dash": "solid",
          "shape": "linear",
          "width": 1.3
         },
         "marker": {
          "size": 2,
          "symbol": "circle"
         },
         "mode": "markers",
         "name": "B",
         "text": "",
         "type": "scatter",
         "x": [
          -0.01676273611883974,
          0.5803397636454248,
          -0.9914843496197014,
          2.079745266463118,
          0.09963289509793408,
          -1.5264767886339399,
          0.25144063077020046,
          0.5382700150202437,
          0.5255935445808945,
          2.1887319477382334,
          1.191552890004344,
          0.05349052125411241,
          0.5389078524411036,
          0.19087252828352078,
          -0.17470028756202827,
          -0.20933866317549638,
          -1.052678514499253,
          0.46789616080267776,
          1.1819098666298038,
          0.626122580752721,
          -0.33520185378191714,
          2.0467136265434305,
          0.19579408072465526,
          -0.09480369920507094,
          -1.4269257099352066,
          -0.2964332649358186,
          -0.1392813845087163,
          -0.272803639926009,
          0.6243147047456785,
          -1.1261389387994891,
          -0.5465163531790631,
          1.7020899291410607,
          0.1501383075361051,
          -0.4654903327374615,
          0.23595451979155638,
          1.2990981382104203,
          -1.251703316412179,
          -1.2109825729348684,
          0.06225080156632386,
          0.6622658123027308,
          -1.2384676961821592,
          0.281090348543609,
          -0.6920321346224054,
          -2.5051876833877236,
          0.9636314800694326,
          0.6734277974849716,
          1.9326372315187947,
          -1.1181224766885862,
          0.5536150600893577,
          -0.051233917309116576,
          -0.773507722797698,
          -1.9274774770775742,
          -0.5516587969256265,
          0.09042729345977363,
          0.017826107784951917,
          0.4178025369145226,
          0.45313375511709386,
          -0.12684533253761418,
          -1.2834545255555267,
          0.3837475308460146,
          -1.4836467753018732,
          1.7051405527036516,
          0.7874467272773418,
          -0.7849933389433503,
          0.44695587969064193,
          -1.3104080445756885,
          -0.3550595445515954,
          -1.3771707809159526,
          1.829783307047512,
          0.6150651255298384,
          0.3940454001110733,
          1.0822486569924945,
          0.6728778107784291,
          -0.32382155085456243,
          -0.5721840099504375,
          1.5759153220979334,
          -0.03602872455399964,
          0.10874158875401785,
          1.2151723212826315,
          0.054673478300902835,
          0.353376955400931,
          -1.287926992821108,
          1.1814070704408872,
          -0.11440511307712886,
          -0.8480872930359187,
          0.1602569895831079,
          -0.2598894317484706,
          0.5195867695858054,
          1.227003049790499,
          0.7748469660368112,
          0.788555464931521,
          0.19382462182550098,
          -0.9773509794734583,
          0.13162883343608456,
          -0.05087119261040653,
          -0.6836470938835728,
          1.2615016113759634,
          -2.0827809387584812,
          -0.4666234410833225,
          -1.104840281934689
         ],
         "xaxis": "x8",
         "y": [
          -1.3658007014664313,
          -0.6350333815305984,
          -0.9225023455677859,
          -0.6236056824865273,
          -0.18356722515055598,
          -0.8282112839224751,
          -0.22599933977613648,
          -0.08427485525071632,
          -0.04947484313961995,
          0.8508207630027762,
          0.018825217556514274,
          0.08608633867607307,
          -0.9244306868787607,
          0.5485609902447441,
          1.177795597249583,
          -0.10932772012243774,
          -0.6650659901184788,
          -1.130925902347371,
          1.5504806364069426,
          -0.6935904582249032,
          1.4797097592255881,
          -0.4861265117217737,
          -0.06723767178783559,
          -1.070318252028669,
          0.19010870364430227,
          1.0944945696223813,
          0.9398514074931446,
          0.9270579274216835,
          1.7420449912679339,
          -1.7737531831587297,
          0.9748891216747543,
          0.028938685164870852,
          -0.5976961395226522,
          -0.35759118356467046,
          0.6362630122762118,
          -1.6652776675816219,
          0.046058986375401345,
          0.4223155973887687,
          -1.0240020155140628,
          1.757371706965391,
          -0.23212477117625419,
          -0.5253472403215348,
          1.545594814224598,
          0.20286626452325346,
          0.9505040704125001,
          0.2836453901331043,
          0.28185143876966146,
          0.47621993897237586,
          1.6908071967334568,
          -1.6194067333772713,
          -0.6523141481185137,
          0.32419451714924846,
          -0.6437146750787236,
          -0.5613024570103383,
          0.15659926612601785,
          1.216161214738801,
          1.4669291446392254,
          0.013413375094520001,
          0.6772940970325642,
          0.0011619705075164054,
          0.4983121764774387,
          0.5178283879895301,
          0.5111314025770597,
          -0.15103715454482886,
          -0.9993029513443423,
          1.7558076345328892,
          1.309351374593043,
          -0.7444034365155567,
          -0.10722007531162517,
          -0.11448009559783312,
          3.9990147561777287,
          0.2502565660393181,
          0.22495725342868372,
          -1.126490949731758,
          -0.7515807915122932,
          1.5185709325212653,
          0.6100340654423348,
          1.0186660650065034,
          0.5133949902762628,
          0.7207257255626729,
          0.5547838573778077,
          0.18709779037151372,
          -0.4187249372207891,
          0.4067555297536765,
          0.25733156690145603,
          -0.9765654247627013,
          -1.153711505883254,
          -0.08209547748935996,
          0.27169309371179057,
          0.1921783078755945,
          -0.41618004621276505,
          0.7461979831496948,
          -1.459595403754854,
          -1.1153918522124082,
          -0.09367478466593762,
          -1.11258801156455,
          0.42426910929003386,
          -0.3534061605676554,
          0.11272144129587136,
          1.1115790414692162
         ],
         "yaxis": "y8"
        },
        {
         "line": {
          "color": "rgba(128, 128, 128, 1.0)",
          "dash": "solid",
          "shape": "linear",
          "width": 1.3
         },
         "marker": {
          "size": 2,
          "symbol": "circle"
         },
         "mode": "markers",
         "name": "C",
         "text": "",
         "type": "scatter",
         "x": [
          0.4625705346860569,
          -0.39776559619778035,
          0.45134849134936006,
          -0.13586989136117616,
          0.8666046795885229,
          0.6915422091449416,
          0.2879465812261424,
          0.8634873175971317,
          1.0636136020541438,
          1.0253235577750899,
          -0.31709420285086765,
          0.8118393443542882,
          1.2729161314443458,
          -0.04749879992679883,
          1.6212382555696152,
          0.7432177254591762,
          -0.7540751447799475,
          -1.1785769272722304,
          0.5554718080127589,
          0.9645479280032871,
          0.8649041685720121,
          -0.5549189890831625,
          -0.6218986150027163,
          -0.7194602403736984,
          -1.802095186977993,
          -0.26678732623986573,
          2.7238387138412192,
          0.615634491260396,
          0.007579856052334232,
          1.1290262523400951,
          1.587017275445863,
          -0.9189023976589287,
          1.4725054513406621,
          -0.48301228688987907,
          -1.3304701145449986,
          1.245831392521345,
          -1.0983440758617014,
          1.180857997707036,
          0.5440386879638087,
          0.5677057464677294,
          -0.788205121339689,
          -0.3199941722674541,
          -1.2771991364799633,
          -0.743349078501879,
          -1.1417746291284483,
          -0.5475290985702707,
          -3.2223848725883575,
          -0.2510964618123027,
          -1.7800437914056828,
          0.6437766633383795,
          -0.5237843931033407,
          -0.6820156552307822,
          1.8181209386254333,
          0.43912021962870396,
          -0.5779841176830209,
          -0.49567500878627896,
          1.5736513015848792,
          -0.4849414708447617,
          -0.030582237332559874,
          -0.7159901187440891,
          0.3815770903437842,
          -0.4643215828999029,
          1.0224124071713991,
          -0.30473964077199983,
          0.5854244150705185,
          -0.8103124473453914,
          0.819934226238514,
          -1.8347336449792389,
          -0.4460340648319405,
          1.6022942645681513,
          0.2227037950171565,
          1.9715057168447414,
          0.030545883394759044,
          1.5746046212676983,
          0.6798817967772102,
          0.2054790119107006,
          0.27995172153214837,
          -1.2564946179625986,
          -1.4388162435408303,
          0.6978362478661515,
          -0.6871087225198645,
          0.03376446352296217,
          -0.07695646388334659,
          1.1057890388523681,
          -1.4005037932977615,
          -1.514307743583307,
          -1.0950729859328534,
          -0.09349612285966388,
          -2.0742756957159862,
          -0.6539147900050394,
          2.7493473960748545,
          0.9275692397287629,
          0.32009980593724974,
          0.6253393120995153,
          0.6897118991535294,
          -1.5343373827748692,
          0.6488067241950675,
          0.09499686984715128,
          0.7803587474326844,
          0.1024905534892975
         ],
         "xaxis": "x9",
         "y": [
          0.7976196639882999,
          0.5922242217557884,
          -0.5936558211354087,
          0.022889737562143964,
          -0.7367680014627671,
          1.455148237383089,
          -0.5603073766995768,
          -0.531457442213716,
          0.21612006273025253,
          -1.153928568100353,
          0.708915148731652,
          0.029122448527130168,
          -0.6297290422602668,
          -0.44383790732796613,
          1.3549183788923063,
          0.028530730010453784,
          1.4637991978375617,
          -0.9305632016645159,
          -0.20318553410806436,
          -0.37467046279084404,
          1.0109341991978813,
          -0.22405969354645341,
          0.3775979209944355,
          0.6819208943361197,
          0.21948686657547883,
          -0.8855312572802637,
          -1.2244651171204826,
          -0.6557842259775335,
          -1.2579946796424992,
          0.9255850502597677,
          0.256485696172891,
          0.3494234975024311,
          0.1612472287334242,
          -0.9385426920911395,
          0.09196273439151567,
          -0.056286623826050486,
          0.7112903619693386,
          0.6032100502594897,
          -0.0887452817572577,
          -0.1320521337148512,
          0.2977115970722861,
          -0.767727628403958,
          -1.7029435048088566,
          0.6029430120359184,
          0.722073112513006,
          0.4049464271158967,
          -0.6135234963403671,
          0.8883742843519561,
          0.6479646825765413,
          -0.9657130542158291,
          -0.8009242190004513,
          -1.2760479494411372,
          0.68148628681611,
          1.3298205147939715,
          -1.381416310098818,
          0.7866499268731464,
          -0.5424973166046481,
          0.06792592331081872,
          0.47204222316489075,
          -1.0770132793599556,
          -0.790160054910979,
          -0.9809606230685514,
          1.0039853077621204,
          -0.2672453111573401,
          1.2506689282154047,
          -0.4068011543582442,
          -0.7212725757206991,
          -0.5914654695141591,
          2.192279526986468,
          -1.3960956489970582,
          -0.7274259900966882,
          1.3132737931552732,
          -2.716463887848451,
          -0.9816790460261686,
          -1.3808497577907082,
          0.5796566161954262,
          0.6779723444576947,
          0.3301595076564153,
          -0.6875972660930066,
          -0.6315770476071847,
          -0.32890335277128885,
          1.7016557265423022,
          -1.1048930803856305,
          1.1464717236422435,
          0.8738336341324523,
          -0.26056748248510014,
          -0.5858677601300266,
          0.08289842846605516,
          0.0476306260013642,
          0.14509360396470272,
          0.6372599962828331,
          0.47983314760275164,
          -1.195633253690203,
          0.3344303114781469,
          -1.5598436317677304,
          -1.9170658786972896,
          -1.5841367337859373,
          -0.29802227813188487,
          1.2229853472529493,
          1.1867495337171539
         ],
         "yaxis": "y9"
        },
        {
         "line": {
          "color": "rgba(128, 128, 128, 1.0)",
          "dash": "solid",
          "shape": "linear",
          "width": 1.3
         },
         "marker": {
          "size": 2,
          "symbol": "circle"
         },
         "mode": "markers",
         "name": "C",
         "text": "",
         "type": "scatter",
         "x": [
          -1.3658007014664313,
          -0.6350333815305984,
          -0.9225023455677859,
          -0.6236056824865273,
          -0.18356722515055598,
          -0.8282112839224751,
          -0.22599933977613648,
          -0.08427485525071632,
          -0.04947484313961995,
          0.8508207630027762,
          0.018825217556514274,
          0.08608633867607307,
          -0.9244306868787607,
          0.5485609902447441,
          1.177795597249583,
          -0.10932772012243774,
          -0.6650659901184788,
          -1.130925902347371,
          1.5504806364069426,
          -0.6935904582249032,
          1.4797097592255881,
          -0.4861265117217737,
          -0.06723767178783559,
          -1.070318252028669,
          0.19010870364430227,
          1.0944945696223813,
          0.9398514074931446,
          0.9270579274216835,
          1.7420449912679339,
          -1.7737531831587297,
          0.9748891216747543,
          0.028938685164870852,
          -0.5976961395226522,
          -0.35759118356467046,
          0.6362630122762118,
          -1.6652776675816219,
          0.046058986375401345,
          0.4223155973887687,
          -1.0240020155140628,
          1.757371706965391,
          -0.23212477117625419,
          -0.5253472403215348,
          1.545594814224598,
          0.20286626452325346,
          0.9505040704125001,
          0.2836453901331043,
          0.28185143876966146,
          0.47621993897237586,
          1.6908071967334568,
          -1.6194067333772713,
          -0.6523141481185137,
          0.32419451714924846,
          -0.6437146750787236,
          -0.5613024570103383,
          0.15659926612601785,
          1.216161214738801,
          1.4669291446392254,
          0.013413375094520001,
          0.6772940970325642,
          0.0011619705075164054,
          0.4983121764774387,
          0.5178283879895301,
          0.5111314025770597,
          -0.15103715454482886,
          -0.9993029513443423,
          1.7558076345328892,
          1.309351374593043,
          -0.7444034365155567,
          -0.10722007531162517,
          -0.11448009559783312,
          3.9990147561777287,
          0.2502565660393181,
          0.22495725342868372,
          -1.126490949731758,
          -0.7515807915122932,
          1.5185709325212653,
          0.6100340654423348,
          1.0186660650065034,
          0.5133949902762628,
          0.7207257255626729,
          0.5547838573778077,
          0.18709779037151372,
          -0.4187249372207891,
          0.4067555297536765,
          0.25733156690145603,
          -0.9765654247627013,
          -1.153711505883254,
          -0.08209547748935996,
          0.27169309371179057,
          0.1921783078755945,
          -0.41618004621276505,
          0.7461979831496948,
          -1.459595403754854,
          -1.1153918522124082,
          -0.09367478466593762,
          -1.11258801156455,
          0.42426910929003386,
          -0.3534061605676554,
          0.11272144129587136,
          1.1115790414692162
         ],
         "xaxis": "x10",
         "y": [
          0.7976196639882999,
          0.5922242217557884,
          -0.5936558211354087,
          0.022889737562143964,
          -0.7367680014627671,
          1.455148237383089,
          -0.5603073766995768,
          -0.531457442213716,
          0.21612006273025253,
          -1.153928568100353,
          0.708915148731652,
          0.029122448527130168,
          -0.6297290422602668,
          -0.44383790732796613,
          1.3549183788923063,
          0.028530730010453784,
          1.4637991978375617,
          -0.9305632016645159,
          -0.20318553410806436,
          -0.37467046279084404,
          1.0109341991978813,
          -0.22405969354645341,
          0.3775979209944355,
          0.6819208943361197,
          0.21948686657547883,
          -0.8855312572802637,
          -1.2244651171204826,
          -0.6557842259775335,
          -1.2579946796424992,
          0.9255850502597677,
          0.256485696172891,
          0.3494234975024311,
          0.1612472287334242,
          -0.9385426920911395,
          0.09196273439151567,
          -0.056286623826050486,
          0.7112903619693386,
          0.6032100502594897,
          -0.0887452817572577,
          -0.1320521337148512,
          0.2977115970722861,
          -0.767727628403958,
          -1.7029435048088566,
          0.6029430120359184,
          0.722073112513006,
          0.4049464271158967,
          -0.6135234963403671,
          0.8883742843519561,
          0.6479646825765413,
          -0.9657130542158291,
          -0.8009242190004513,
          -1.2760479494411372,
          0.68148628681611,
          1.3298205147939715,
          -1.381416310098818,
          0.7866499268731464,
          -0.5424973166046481,
          0.06792592331081872,
          0.47204222316489075,
          -1.0770132793599556,
          -0.790160054910979,
          -0.9809606230685514,
          1.0039853077621204,
          -0.2672453111573401,
          1.2506689282154047,
          -0.4068011543582442,
          -0.7212725757206991,
          -0.5914654695141591,
          2.192279526986468,
          -1.3960956489970582,
          -0.7274259900966882,
          1.3132737931552732,
          -2.716463887848451,
          -0.9816790460261686,
          -1.3808497577907082,
          0.5796566161954262,
          0.6779723444576947,
          0.3301595076564153,
          -0.6875972660930066,
          -0.6315770476071847,
          -0.32890335277128885,
          1.7016557265423022,
          -1.1048930803856305,
          1.1464717236422435,
          0.8738336341324523,
          -0.26056748248510014,
          -0.5858677601300266,
          0.08289842846605516,
          0.0476306260013642,
          0.14509360396470272,
          0.6372599962828331,
          0.47983314760275164,
          -1.195633253690203,
          0.3344303114781469,
          -1.5598436317677304,
          -1.9170658786972896,
          -1.5841367337859373,
          -0.29802227813188487,
          1.2229853472529493,
          1.1867495337171539
         ],
         "yaxis": "y10"
        },
        {
         "histfunc": "count",
         "histnorm": "",
         "marker": {
          "color": "rgba(50, 171, 96, 1.0)",
          "line": {
           "color": "#4D5663",
           "width": 1.3
          }
         },
         "name": "C",
         "nbinsx": 10,
         "opacity": 0.8,
         "orientation": "v",
         "type": "histogram",
         "x": [
          0.7976196639882999,
          0.5922242217557884,
          -0.5936558211354087,
          0.022889737562143964,
          -0.7367680014627671,
          1.455148237383089,
          -0.5603073766995768,
          -0.531457442213716,
          0.21612006273025253,
          -1.153928568100353,
          0.708915148731652,
          0.029122448527130168,
          -0.6297290422602668,
          -0.44383790732796613,
          1.3549183788923063,
          0.028530730010453784,
          1.4637991978375617,
          -0.9305632016645159,
          -0.20318553410806436,
          -0.37467046279084404,
          1.0109341991978813,
          -0.22405969354645341,
          0.3775979209944355,
          0.6819208943361197,
          0.21948686657547883,
          -0.8855312572802637,
          -1.2244651171204826,
          -0.6557842259775335,
          -1.2579946796424992,
          0.9255850502597677,
          0.256485696172891,
          0.3494234975024311,
          0.1612472287334242,
          -0.9385426920911395,
          0.09196273439151567,
          -0.056286623826050486,
          0.7112903619693386,
          0.6032100502594897,
          -0.0887452817572577,
          -0.1320521337148512,
          0.2977115970722861,
          -0.767727628403958,
          -1.7029435048088566,
          0.6029430120359184,
          0.722073112513006,
          0.4049464271158967,
          -0.6135234963403671,
          0.8883742843519561,
          0.6479646825765413,
          -0.9657130542158291,
          -0.8009242190004513,
          -1.2760479494411372,
          0.68148628681611,
          1.3298205147939715,
          -1.381416310098818,
          0.7866499268731464,
          -0.5424973166046481,
          0.06792592331081872,
          0.47204222316489075,
          -1.0770132793599556,
          -0.790160054910979,
          -0.9809606230685514,
          1.0039853077621204,
          -0.2672453111573401,
          1.2506689282154047,
          -0.4068011543582442,
          -0.7212725757206991,
          -0.5914654695141591,
          2.192279526986468,
          -1.3960956489970582,
          -0.7274259900966882,
          1.3132737931552732,
          -2.716463887848451,
          -0.9816790460261686,
          -1.3808497577907082,
          0.5796566161954262,
          0.6779723444576947,
          0.3301595076564153,
          -0.6875972660930066,
          -0.6315770476071847,
          -0.32890335277128885,
          1.7016557265423022,
          -1.1048930803856305,
          1.1464717236422435,
          0.8738336341324523,
          -0.26056748248510014,
          -0.5858677601300266,
          0.08289842846605516,
          0.0476306260013642,
          0.14509360396470272,
          0.6372599962828331,
          0.47983314760275164,
          -1.195633253690203,
          0.3344303114781469,
          -1.5598436317677304,
          -1.9170658786972896,
          -1.5841367337859373,
          -0.29802227813188487,
          1.2229853472529493,
          1.1867495337171539
         ],
         "xaxis": "x11",
         "yaxis": "y11"
        },
        {
         "line": {
          "color": "rgba(128, 128, 128, 1.0)",
          "dash": "solid",
          "shape": "linear",
          "width": 1.3
         },
         "marker": {
          "size": 2,
          "symbol": "circle"
         },
         "mode": "markers",
         "name": "C",
         "text": "",
         "type": "scatter",
         "x": [
          -0.01676273611883974,
          0.5803397636454248,
          -0.9914843496197014,
          2.079745266463118,
          0.09963289509793408,
          -1.5264767886339399,
          0.25144063077020046,
          0.5382700150202437,
          0.5255935445808945,
          2.1887319477382334,
          1.191552890004344,
          0.05349052125411241,
          0.5389078524411036,
          0.19087252828352078,
          -0.17470028756202827,
          -0.20933866317549638,
          -1.052678514499253,
          0.46789616080267776,
          1.1819098666298038,
          0.626122580752721,
          -0.33520185378191714,
          2.0467136265434305,
          0.19579408072465526,
          -0.09480369920507094,
          -1.4269257099352066,
          -0.2964332649358186,
          -0.1392813845087163,
          -0.272803639926009,
          0.6243147047456785,
          -1.1261389387994891,
          -0.5465163531790631,
          1.7020899291410607,
          0.1501383075361051,
          -0.4654903327374615,
          0.23595451979155638,
          1.2990981382104203,
          -1.251703316412179,
          -1.2109825729348684,
          0.06225080156632386,
          0.6622658123027308,
          -1.2384676961821592,
          0.281090348543609,
          -0.6920321346224054,
          -2.5051876833877236,
          0.9636314800694326,
          0.6734277974849716,
          1.9326372315187947,
          -1.1181224766885862,
          0.5536150600893577,
          -0.051233917309116576,
          -0.773507722797698,
          -1.9274774770775742,
          -0.5516587969256265,
          0.09042729345977363,
          0.017826107784951917,
          0.4178025369145226,
          0.45313375511709386,
          -0.12684533253761418,
          -1.2834545255555267,
          0.3837475308460146,
          -1.4836467753018732,
          1.7051405527036516,
          0.7874467272773418,
          -0.7849933389433503,
          0.44695587969064193,
          -1.3104080445756885,
          -0.3550595445515954,
          -1.3771707809159526,
          1.829783307047512,
          0.6150651255298384,
          0.3940454001110733,
          1.0822486569924945,
          0.6728778107784291,
          -0.32382155085456243,
          -0.5721840099504375,
          1.5759153220979334,
          -0.03602872455399964,
          0.10874158875401785,
          1.2151723212826315,
          0.054673478300902835,
          0.353376955400931,
          -1.287926992821108,
          1.1814070704408872,
          -0.11440511307712886,
          -0.8480872930359187,
          0.1602569895831079,
          -0.2598894317484706,
          0.5195867695858054,
          1.227003049790499,
          0.7748469660368112,
          0.788555464931521,
          0.19382462182550098,
          -0.9773509794734583,
          0.13162883343608456,
          -0.05087119261040653,
          -0.6836470938835728,
          1.2615016113759634,
          -2.0827809387584812,
          -0.4666234410833225,
          -1.104840281934689
         ],
         "xaxis": "x12",
         "y": [
          0.7976196639882999,
          0.5922242217557884,
          -0.5936558211354087,
          0.022889737562143964,
          -0.7367680014627671,
          1.455148237383089,
          -0.5603073766995768,
          -0.531457442213716,
          0.21612006273025253,
          -1.153928568100353,
          0.708915148731652,
          0.029122448527130168,
          -0.6297290422602668,
          -0.44383790732796613,
          1.3549183788923063,
          0.028530730010453784,
          1.4637991978375617,
          -0.9305632016645159,
          -0.20318553410806436,
          -0.37467046279084404,
          1.0109341991978813,
          -0.22405969354645341,
          0.3775979209944355,
          0.6819208943361197,
          0.21948686657547883,
          -0.8855312572802637,
          -1.2244651171204826,
          -0.6557842259775335,
          -1.2579946796424992,
          0.9255850502597677,
          0.256485696172891,
          0.3494234975024311,
          0.1612472287334242,
          -0.9385426920911395,
          0.09196273439151567,
          -0.056286623826050486,
          0.7112903619693386,
          0.6032100502594897,
          -0.0887452817572577,
          -0.1320521337148512,
          0.2977115970722861,
          -0.767727628403958,
          -1.7029435048088566,
          0.6029430120359184,
          0.722073112513006,
          0.4049464271158967,
          -0.6135234963403671,
          0.8883742843519561,
          0.6479646825765413,
          -0.9657130542158291,
          -0.8009242190004513,
          -1.2760479494411372,
          0.68148628681611,
          1.3298205147939715,
          -1.381416310098818,
          0.7866499268731464,
          -0.5424973166046481,
          0.06792592331081872,
          0.47204222316489075,
          -1.0770132793599556,
          -0.790160054910979,
          -0.9809606230685514,
          1.0039853077621204,
          -0.2672453111573401,
          1.2506689282154047,
          -0.4068011543582442,
          -0.7212725757206991,
          -0.5914654695141591,
          2.192279526986468,
          -1.3960956489970582,
          -0.7274259900966882,
          1.3132737931552732,
          -2.716463887848451,
          -0.9816790460261686,
          -1.3808497577907082,
          0.5796566161954262,
          0.6779723444576947,
          0.3301595076564153,
          -0.6875972660930066,
          -0.6315770476071847,
          -0.32890335277128885,
          1.7016557265423022,
          -1.1048930803856305,
          1.1464717236422435,
          0.8738336341324523,
          -0.26056748248510014,
          -0.5858677601300266,
          0.08289842846605516,
          0.0476306260013642,
          0.14509360396470272,
          0.6372599962828331,
          0.47983314760275164,
          -1.195633253690203,
          0.3344303114781469,
          -1.5598436317677304,
          -1.9170658786972896,
          -1.5841367337859373,
          -0.29802227813188487,
          1.2229853472529493,
          1.1867495337171539
         ],
         "yaxis": "y12"
        },
        {
         "line": {
          "color": "rgba(128, 128, 128, 1.0)",
          "dash": "solid",
          "shape": "linear",
          "width": 1.3
         },
         "marker": {
          "size": 2,
          "symbol": "circle"
         },
         "mode": "markers",
         "name": "D",
         "text": "",
         "type": "scatter",
         "x": [
          0.4625705346860569,
          -0.39776559619778035,
          0.45134849134936006,
          -0.13586989136117616,
          0.8666046795885229,
          0.6915422091449416,
          0.2879465812261424,
          0.8634873175971317,
          1.0636136020541438,
          1.0253235577750899,
          -0.31709420285086765,
          0.8118393443542882,
          1.2729161314443458,
          -0.04749879992679883,
          1.6212382555696152,
          0.7432177254591762,
          -0.7540751447799475,
          -1.1785769272722304,
          0.5554718080127589,
          0.9645479280032871,
          0.8649041685720121,
          -0.5549189890831625,
          -0.6218986150027163,
          -0.7194602403736984,
          -1.802095186977993,
          -0.26678732623986573,
          2.7238387138412192,
          0.615634491260396,
          0.007579856052334232,
          1.1290262523400951,
          1.587017275445863,
          -0.9189023976589287,
          1.4725054513406621,
          -0.48301228688987907,
          -1.3304701145449986,
          1.245831392521345,
          -1.0983440758617014,
          1.180857997707036,
          0.5440386879638087,
          0.5677057464677294,
          -0.788205121339689,
          -0.3199941722674541,
          -1.2771991364799633,
          -0.743349078501879,
          -1.1417746291284483,
          -0.5475290985702707,
          -3.2223848725883575,
          -0.2510964618123027,
          -1.7800437914056828,
          0.6437766633383795,
          -0.5237843931033407,
          -0.6820156552307822,
          1.8181209386254333,
          0.43912021962870396,
          -0.5779841176830209,
          -0.49567500878627896,
          1.5736513015848792,
          -0.4849414708447617,
          -0.030582237332559874,
          -0.7159901187440891,
          0.3815770903437842,
          -0.4643215828999029,
          1.0224124071713991,
          -0.30473964077199983,
          0.5854244150705185,
          -0.8103124473453914,
          0.819934226238514,
          -1.8347336449792389,
          -0.4460340648319405,
          1.6022942645681513,
          0.2227037950171565,
          1.9715057168447414,
          0.030545883394759044,
          1.5746046212676983,
          0.6798817967772102,
          0.2054790119107006,
          0.27995172153214837,
          -1.2564946179625986,
          -1.4388162435408303,
          0.6978362478661515,
          -0.6871087225198645,
          0.03376446352296217,
          -0.07695646388334659,
          1.1057890388523681,
          -1.4005037932977615,
          -1.514307743583307,
          -1.0950729859328534,
          -0.09349612285966388,
          -2.0742756957159862,
          -0.6539147900050394,
          2.7493473960748545,
          0.9275692397287629,
          0.32009980593724974,
          0.6253393120995153,
          0.6897118991535294,
          -1.5343373827748692,
          0.6488067241950675,
          0.09499686984715128,
          0.7803587474326844,
          0.1024905534892975
         ],
         "xaxis": "x13",
         "y": [
          -0.01676273611883974,
          0.5803397636454248,
          -0.9914843496197014,
          2.079745266463118,
          0.09963289509793408,
          -1.5264767886339399,
          0.25144063077020046,
          0.5382700150202437,
          0.5255935445808945,
          2.1887319477382334,
          1.191552890004344,
          0.05349052125411241,
          0.5389078524411036,
          0.19087252828352078,
          -0.17470028756202827,
          -0.20933866317549638,
          -1.052678514499253,
          0.46789616080267776,
          1.1819098666298038,
          0.626122580752721,
          -0.33520185378191714,
          2.0467136265434305,
          0.19579408072465526,
          -0.09480369920507094,
          -1.4269257099352066,
          -0.2964332649358186,
          -0.1392813845087163,
          -0.272803639926009,
          0.6243147047456785,
          -1.1261389387994891,
          -0.5465163531790631,
          1.7020899291410607,
          0.1501383075361051,
          -0.4654903327374615,
          0.23595451979155638,
          1.2990981382104203,
          -1.251703316412179,
          -1.2109825729348684,
          0.06225080156632386,
          0.6622658123027308,
          -1.2384676961821592,
          0.281090348543609,
          -0.6920321346224054,
          -2.5051876833877236,
          0.9636314800694326,
          0.6734277974849716,
          1.9326372315187947,
          -1.1181224766885862,
          0.5536150600893577,
          -0.051233917309116576,
          -0.773507722797698,
          -1.9274774770775742,
          -0.5516587969256265,
          0.09042729345977363,
          0.017826107784951917,
          0.4178025369145226,
          0.45313375511709386,
          -0.12684533253761418,
          -1.2834545255555267,
          0.3837475308460146,
          -1.4836467753018732,
          1.7051405527036516,
          0.7874467272773418,
          -0.7849933389433503,
          0.44695587969064193,
          -1.3104080445756885,
          -0.3550595445515954,
          -1.3771707809159526,
          1.829783307047512,
          0.6150651255298384,
          0.3940454001110733,
          1.0822486569924945,
          0.6728778107784291,
          -0.32382155085456243,
          -0.5721840099504375,
          1.5759153220979334,
          -0.03602872455399964,
          0.10874158875401785,
          1.2151723212826315,
          0.054673478300902835,
          0.353376955400931,
          -1.287926992821108,
          1.1814070704408872,
          -0.11440511307712886,
          -0.8480872930359187,
          0.1602569895831079,
          -0.2598894317484706,
          0.5195867695858054,
          1.227003049790499,
          0.7748469660368112,
          0.788555464931521,
          0.19382462182550098,
          -0.9773509794734583,
          0.13162883343608456,
          -0.05087119261040653,
          -0.6836470938835728,
          1.2615016113759634,
          -2.0827809387584812,
          -0.4666234410833225,
          -1.104840281934689
         ],
         "yaxis": "y13"
        },
        {
         "line": {
          "color": "rgba(128, 128, 128, 1.0)",
          "dash": "solid",
          "shape": "linear",
          "width": 1.3
         },
         "marker": {
          "size": 2,
          "symbol": "circle"
         },
         "mode": "markers",
         "name": "D",
         "text": "",
         "type": "scatter",
         "x": [
          -1.3658007014664313,
          -0.6350333815305984,
          -0.9225023455677859,
          -0.6236056824865273,
          -0.18356722515055598,
          -0.8282112839224751,
          -0.22599933977613648,
          -0.08427485525071632,
          -0.04947484313961995,
          0.8508207630027762,
          0.018825217556514274,
          0.08608633867607307,
          -0.9244306868787607,
          0.5485609902447441,
          1.177795597249583,
          -0.10932772012243774,
          -0.6650659901184788,
          -1.130925902347371,
          1.5504806364069426,
          -0.6935904582249032,
          1.4797097592255881,
          -0.4861265117217737,
          -0.06723767178783559,
          -1.070318252028669,
          0.19010870364430227,
          1.0944945696223813,
          0.9398514074931446,
          0.9270579274216835,
          1.7420449912679339,
          -1.7737531831587297,
          0.9748891216747543,
          0.028938685164870852,
          -0.5976961395226522,
          -0.35759118356467046,
          0.6362630122762118,
          -1.6652776675816219,
          0.046058986375401345,
          0.4223155973887687,
          -1.0240020155140628,
          1.757371706965391,
          -0.23212477117625419,
          -0.5253472403215348,
          1.545594814224598,
          0.20286626452325346,
          0.9505040704125001,
          0.2836453901331043,
          0.28185143876966146,
          0.47621993897237586,
          1.6908071967334568,
          -1.6194067333772713,
          -0.6523141481185137,
          0.32419451714924846,
          -0.6437146750787236,
          -0.5613024570103383,
          0.15659926612601785,
          1.216161214738801,
          1.4669291446392254,
          0.013413375094520001,
          0.6772940970325642,
          0.0011619705075164054,
          0.4983121764774387,
          0.5178283879895301,
          0.5111314025770597,
          -0.15103715454482886,
          -0.9993029513443423,
          1.7558076345328892,
          1.309351374593043,
          -0.7444034365155567,
          -0.10722007531162517,
          -0.11448009559783312,
          3.9990147561777287,
          0.2502565660393181,
          0.22495725342868372,
          -1.126490949731758,
          -0.7515807915122932,
          1.5185709325212653,
          0.6100340654423348,
          1.0186660650065034,
          0.5133949902762628,
          0.7207257255626729,
          0.5547838573778077,
          0.18709779037151372,
          -0.4187249372207891,
          0.4067555297536765,
          0.25733156690145603,
          -0.9765654247627013,
          -1.153711505883254,
          -0.08209547748935996,
          0.27169309371179057,
          0.1921783078755945,
          -0.41618004621276505,
          0.7461979831496948,
          -1.459595403754854,
          -1.1153918522124082,
          -0.09367478466593762,
          -1.11258801156455,
          0.42426910929003386,
          -0.3534061605676554,
          0.11272144129587136,
          1.1115790414692162
         ],
         "xaxis": "x14",
         "y": [
          -0.01676273611883974,
          0.5803397636454248,
          -0.9914843496197014,
          2.079745266463118,
          0.09963289509793408,
          -1.5264767886339399,
          0.25144063077020046,
          0.5382700150202437,
          0.5255935445808945,
          2.1887319477382334,
          1.191552890004344,
          0.05349052125411241,
          0.5389078524411036,
          0.19087252828352078,
          -0.17470028756202827,
          -0.20933866317549638,
          -1.052678514499253,
          0.46789616080267776,
          1.1819098666298038,
          0.626122580752721,
          -0.33520185378191714,
          2.0467136265434305,
          0.19579408072465526,
          -0.09480369920507094,
          -1.4269257099352066,
          -0.2964332649358186,
          -0.1392813845087163,
          -0.272803639926009,
          0.6243147047456785,
          -1.1261389387994891,
          -0.5465163531790631,
          1.7020899291410607,
          0.1501383075361051,
          -0.4654903327374615,
          0.23595451979155638,
          1.2990981382104203,
          -1.251703316412179,
          -1.2109825729348684,
          0.06225080156632386,
          0.6622658123027308,
          -1.2384676961821592,
          0.281090348543609,
          -0.6920321346224054,
          -2.5051876833877236,
          0.9636314800694326,
          0.6734277974849716,
          1.9326372315187947,
          -1.1181224766885862,
          0.5536150600893577,
          -0.051233917309116576,
          -0.773507722797698,
          -1.9274774770775742,
          -0.5516587969256265,
          0.09042729345977363,
          0.017826107784951917,
          0.4178025369145226,
          0.45313375511709386,
          -0.12684533253761418,
          -1.2834545255555267,
          0.3837475308460146,
          -1.4836467753018732,
          1.7051405527036516,
          0.7874467272773418,
          -0.7849933389433503,
          0.44695587969064193,
          -1.3104080445756885,
          -0.3550595445515954,
          -1.3771707809159526,
          1.829783307047512,
          0.6150651255298384,
          0.3940454001110733,
          1.0822486569924945,
          0.6728778107784291,
          -0.32382155085456243,
          -0.5721840099504375,
          1.5759153220979334,
          -0.03602872455399964,
          0.10874158875401785,
          1.2151723212826315,
          0.054673478300902835,
          0.353376955400931,
          -1.287926992821108,
          1.1814070704408872,
          -0.11440511307712886,
          -0.8480872930359187,
          0.1602569895831079,
          -0.2598894317484706,
          0.5195867695858054,
          1.227003049790499,
          0.7748469660368112,
          0.788555464931521,
          0.19382462182550098,
          -0.9773509794734583,
          0.13162883343608456,
          -0.05087119261040653,
          -0.6836470938835728,
          1.2615016113759634,
          -2.0827809387584812,
          -0.4666234410833225,
          -1.104840281934689
         ],
         "yaxis": "y14"
        },
        {
         "line": {
          "color": "rgba(128, 128, 128, 1.0)",
          "dash": "solid",
          "shape": "linear",
          "width": 1.3
         },
         "marker": {
          "size": 2,
          "symbol": "circle"
         },
         "mode": "markers",
         "name": "D",
         "text": "",
         "type": "scatter",
         "x": [
          0.7976196639882999,
          0.5922242217557884,
          -0.5936558211354087,
          0.022889737562143964,
          -0.7367680014627671,
          1.455148237383089,
          -0.5603073766995768,
          -0.531457442213716,
          0.21612006273025253,
          -1.153928568100353,
          0.708915148731652,
          0.029122448527130168,
          -0.6297290422602668,
          -0.44383790732796613,
          1.3549183788923063,
          0.028530730010453784,
          1.4637991978375617,
          -0.9305632016645159,
          -0.20318553410806436,
          -0.37467046279084404,
          1.0109341991978813,
          -0.22405969354645341,
          0.3775979209944355,
          0.6819208943361197,
          0.21948686657547883,
          -0.8855312572802637,
          -1.2244651171204826,
          -0.6557842259775335,
          -1.2579946796424992,
          0.9255850502597677,
          0.256485696172891,
          0.3494234975024311,
          0.1612472287334242,
          -0.9385426920911395,
          0.09196273439151567,
          -0.056286623826050486,
          0.7112903619693386,
          0.6032100502594897,
          -0.0887452817572577,
          -0.1320521337148512,
          0.2977115970722861,
          -0.767727628403958,
          -1.7029435048088566,
          0.6029430120359184,
          0.722073112513006,
          0.4049464271158967,
          -0.6135234963403671,
          0.8883742843519561,
          0.6479646825765413,
          -0.9657130542158291,
          -0.8009242190004513,
          -1.2760479494411372,
          0.68148628681611,
          1.3298205147939715,
          -1.381416310098818,
          0.7866499268731464,
          -0.5424973166046481,
          0.06792592331081872,
          0.47204222316489075,
          -1.0770132793599556,
          -0.790160054910979,
          -0.9809606230685514,
          1.0039853077621204,
          -0.2672453111573401,
          1.2506689282154047,
          -0.4068011543582442,
          -0.7212725757206991,
          -0.5914654695141591,
          2.192279526986468,
          -1.3960956489970582,
          -0.7274259900966882,
          1.3132737931552732,
          -2.716463887848451,
          -0.9816790460261686,
          -1.3808497577907082,
          0.5796566161954262,
          0.6779723444576947,
          0.3301595076564153,
          -0.6875972660930066,
          -0.6315770476071847,
          -0.32890335277128885,
          1.7016557265423022,
          -1.1048930803856305,
          1.1464717236422435,
          0.8738336341324523,
          -0.26056748248510014,
          -0.5858677601300266,
          0.08289842846605516,
          0.0476306260013642,
          0.14509360396470272,
          0.6372599962828331,
          0.47983314760275164,
          -1.195633253690203,
          0.3344303114781469,
          -1.5598436317677304,
          -1.9170658786972896,
          -1.5841367337859373,
          -0.29802227813188487,
          1.2229853472529493,
          1.1867495337171539
         ],
         "xaxis": "x15",
         "y": [
          -0.01676273611883974,
          0.5803397636454248,
          -0.9914843496197014,
          2.079745266463118,
          0.09963289509793408,
          -1.5264767886339399,
          0.25144063077020046,
          0.5382700150202437,
          0.5255935445808945,
          2.1887319477382334,
          1.191552890004344,
          0.05349052125411241,
          0.5389078524411036,
          0.19087252828352078,
          -0.17470028756202827,
          -0.20933866317549638,
          -1.052678514499253,
          0.46789616080267776,
          1.1819098666298038,
          0.626122580752721,
          -0.33520185378191714,
          2.0467136265434305,
          0.19579408072465526,
          -0.09480369920507094,
          -1.4269257099352066,
          -0.2964332649358186,
          -0.1392813845087163,
          -0.272803639926009,
          0.6243147047456785,
          -1.1261389387994891,
          -0.5465163531790631,
          1.7020899291410607,
          0.1501383075361051,
          -0.4654903327374615,
          0.23595451979155638,
          1.2990981382104203,
          -1.251703316412179,
          -1.2109825729348684,
          0.06225080156632386,
          0.6622658123027308,
          -1.2384676961821592,
          0.281090348543609,
          -0.6920321346224054,
          -2.5051876833877236,
          0.9636314800694326,
          0.6734277974849716,
          1.9326372315187947,
          -1.1181224766885862,
          0.5536150600893577,
          -0.051233917309116576,
          -0.773507722797698,
          -1.9274774770775742,
          -0.5516587969256265,
          0.09042729345977363,
          0.017826107784951917,
          0.4178025369145226,
          0.45313375511709386,
          -0.12684533253761418,
          -1.2834545255555267,
          0.3837475308460146,
          -1.4836467753018732,
          1.7051405527036516,
          0.7874467272773418,
          -0.7849933389433503,
          0.44695587969064193,
          -1.3104080445756885,
          -0.3550595445515954,
          -1.3771707809159526,
          1.829783307047512,
          0.6150651255298384,
          0.3940454001110733,
          1.0822486569924945,
          0.6728778107784291,
          -0.32382155085456243,
          -0.5721840099504375,
          1.5759153220979334,
          -0.03602872455399964,
          0.10874158875401785,
          1.2151723212826315,
          0.054673478300902835,
          0.353376955400931,
          -1.287926992821108,
          1.1814070704408872,
          -0.11440511307712886,
          -0.8480872930359187,
          0.1602569895831079,
          -0.2598894317484706,
          0.5195867695858054,
          1.227003049790499,
          0.7748469660368112,
          0.788555464931521,
          0.19382462182550098,
          -0.9773509794734583,
          0.13162883343608456,
          -0.05087119261040653,
          -0.6836470938835728,
          1.2615016113759634,
          -2.0827809387584812,
          -0.4666234410833225,
          -1.104840281934689
         ],
         "yaxis": "y15"
        },
        {
         "histfunc": "count",
         "histnorm": "",
         "marker": {
          "color": "rgba(128, 0, 128, 1.0)",
          "line": {
           "color": "#4D5663",
           "width": 1.3
          }
         },
         "name": "D",
         "nbinsx": 10,
         "opacity": 0.8,
         "orientation": "v",
         "type": "histogram",
         "x": [
          -0.01676273611883974,
          0.5803397636454248,
          -0.9914843496197014,
          2.079745266463118,
          0.09963289509793408,
          -1.5264767886339399,
          0.25144063077020046,
          0.5382700150202437,
          0.5255935445808945,
          2.1887319477382334,
          1.191552890004344,
          0.05349052125411241,
          0.5389078524411036,
          0.19087252828352078,
          -0.17470028756202827,
          -0.20933866317549638,
          -1.052678514499253,
          0.46789616080267776,
          1.1819098666298038,
          0.626122580752721,
          -0.33520185378191714,
          2.0467136265434305,
          0.19579408072465526,
          -0.09480369920507094,
          -1.4269257099352066,
          -0.2964332649358186,
          -0.1392813845087163,
          -0.272803639926009,
          0.6243147047456785,
          -1.1261389387994891,
          -0.5465163531790631,
          1.7020899291410607,
          0.1501383075361051,
          -0.4654903327374615,
          0.23595451979155638,
          1.2990981382104203,
          -1.251703316412179,
          -1.2109825729348684,
          0.06225080156632386,
          0.6622658123027308,
          -1.2384676961821592,
          0.281090348543609,
          -0.6920321346224054,
          -2.5051876833877236,
          0.9636314800694326,
          0.6734277974849716,
          1.9326372315187947,
          -1.1181224766885862,
          0.5536150600893577,
          -0.051233917309116576,
          -0.773507722797698,
          -1.9274774770775742,
          -0.5516587969256265,
          0.09042729345977363,
          0.017826107784951917,
          0.4178025369145226,
          0.45313375511709386,
          -0.12684533253761418,
          -1.2834545255555267,
          0.3837475308460146,
          -1.4836467753018732,
          1.7051405527036516,
          0.7874467272773418,
          -0.7849933389433503,
          0.44695587969064193,
          -1.3104080445756885,
          -0.3550595445515954,
          -1.3771707809159526,
          1.829783307047512,
          0.6150651255298384,
          0.3940454001110733,
          1.0822486569924945,
          0.6728778107784291,
          -0.32382155085456243,
          -0.5721840099504375,
          1.5759153220979334,
          -0.03602872455399964,
          0.10874158875401785,
          1.2151723212826315,
          0.054673478300902835,
          0.353376955400931,
          -1.287926992821108,
          1.1814070704408872,
          -0.11440511307712886,
          -0.8480872930359187,
          0.1602569895831079,
          -0.2598894317484706,
          0.5195867695858054,
          1.227003049790499,
          0.7748469660368112,
          0.788555464931521,
          0.19382462182550098,
          -0.9773509794734583,
          0.13162883343608456,
          -0.05087119261040653,
          -0.6836470938835728,
          1.2615016113759634,
          -2.0827809387584812,
          -0.4666234410833225,
          -1.104840281934689
         ],
         "xaxis": "x16",
         "yaxis": "y16"
        }
       ],
       "layout": {
        "bargap": 0.02,
        "legend": {
         "bgcolor": "#F5F6F9",
         "font": {
          "color": "#4D5663"
         }
        },
        "paper_bgcolor": "#F5F6F9",
        "plot_bgcolor": "#F5F6F9",
        "showlegend": false,
        "template": {
         "data": {
          "bar": [
           {
            "error_x": {
             "color": "#2a3f5f"
            },
            "error_y": {
             "color": "#2a3f5f"
            },
            "marker": {
             "line": {
              "color": "#E5ECF6",
              "width": 0.5
             },
             "pattern": {
              "fillmode": "overlay",
              "size": 10,
              "solidity": 0.2
             }
            },
            "type": "bar"
           }
          ],
          "barpolar": [
           {
            "marker": {
             "line": {
              "color": "#E5ECF6",
              "width": 0.5
             },
             "pattern": {
              "fillmode": "overlay",
              "size": 10,
              "solidity": 0.2
             }
            },
            "type": "barpolar"
           }
          ],
          "carpet": [
           {
            "aaxis": {
             "endlinecolor": "#2a3f5f",
             "gridcolor": "white",
             "linecolor": "white",
             "minorgridcolor": "white",
             "startlinecolor": "#2a3f5f"
            },
            "baxis": {
             "endlinecolor": "#2a3f5f",
             "gridcolor": "white",
             "linecolor": "white",
             "minorgridcolor": "white",
             "startlinecolor": "#2a3f5f"
            },
            "type": "carpet"
           }
          ],
          "choropleth": [
           {
            "colorbar": {
             "outlinewidth": 0,
             "ticks": ""
            },
            "type": "choropleth"
           }
          ],
          "contour": [
           {
            "colorbar": {
             "outlinewidth": 0,
             "ticks": ""
            },
            "colorscale": [
             [
              0,
              "#0d0887"
             ],
             [
              0.1111111111111111,
              "#46039f"
             ],
             [
              0.2222222222222222,
              "#7201a8"
             ],
             [
              0.3333333333333333,
              "#9c179e"
             ],
             [
              0.4444444444444444,
              "#bd3786"
             ],
             [
              0.5555555555555556,
              "#d8576b"
             ],
             [
              0.6666666666666666,
              "#ed7953"
             ],
             [
              0.7777777777777778,
              "#fb9f3a"
             ],
             [
              0.8888888888888888,
              "#fdca26"
             ],
             [
              1,
              "#f0f921"
             ]
            ],
            "type": "contour"
           }
          ],
          "contourcarpet": [
           {
            "colorbar": {
             "outlinewidth": 0,
             "ticks": ""
            },
            "type": "contourcarpet"
           }
          ],
          "heatmap": [
           {
            "colorbar": {
             "outlinewidth": 0,
             "ticks": ""
            },
            "colorscale": [
             [
              0,
              "#0d0887"
             ],
             [
              0.1111111111111111,
              "#46039f"
             ],
             [
              0.2222222222222222,
              "#7201a8"
             ],
             [
              0.3333333333333333,
              "#9c179e"
             ],
             [
              0.4444444444444444,
              "#bd3786"
             ],
             [
              0.5555555555555556,
              "#d8576b"
             ],
             [
              0.6666666666666666,
              "#ed7953"
             ],
             [
              0.7777777777777778,
              "#fb9f3a"
             ],
             [
              0.8888888888888888,
              "#fdca26"
             ],
             [
              1,
              "#f0f921"
             ]
            ],
            "type": "heatmap"
           }
          ],
          "heatmapgl": [
           {
            "colorbar": {
             "outlinewidth": 0,
             "ticks": ""
            },
            "colorscale": [
             [
              0,
              "#0d0887"
             ],
             [
              0.1111111111111111,
              "#46039f"
             ],
             [
              0.2222222222222222,
              "#7201a8"
             ],
             [
              0.3333333333333333,
              "#9c179e"
             ],
             [
              0.4444444444444444,
              "#bd3786"
             ],
             [
              0.5555555555555556,
              "#d8576b"
             ],
             [
              0.6666666666666666,
              "#ed7953"
             ],
             [
              0.7777777777777778,
              "#fb9f3a"
             ],
             [
              0.8888888888888888,
              "#fdca26"
             ],
             [
              1,
              "#f0f921"
             ]
            ],
            "type": "heatmapgl"
           }
          ],
          "histogram": [
           {
            "marker": {
             "pattern": {
              "fillmode": "overlay",
              "size": 10,
              "solidity": 0.2
             }
            },
            "type": "histogram"
           }
          ],
          "histogram2d": [
           {
            "colorbar": {
             "outlinewidth": 0,
             "ticks": ""
            },
            "colorscale": [
             [
              0,
              "#0d0887"
             ],
             [
              0.1111111111111111,
              "#46039f"
             ],
             [
              0.2222222222222222,
              "#7201a8"
             ],
             [
              0.3333333333333333,
              "#9c179e"
             ],
             [
              0.4444444444444444,
              "#bd3786"
             ],
             [
              0.5555555555555556,
              "#d8576b"
             ],
             [
              0.6666666666666666,
              "#ed7953"
             ],
             [
              0.7777777777777778,
              "#fb9f3a"
             ],
             [
              0.8888888888888888,
              "#fdca26"
             ],
             [
              1,
              "#f0f921"
             ]
            ],
            "type": "histogram2d"
           }
          ],
          "histogram2dcontour": [
           {
            "colorbar": {
             "outlinewidth": 0,
             "ticks": ""
            },
            "colorscale": [
             [
              0,
              "#0d0887"
             ],
             [
              0.1111111111111111,
              "#46039f"
             ],
             [
              0.2222222222222222,
              "#7201a8"
             ],
             [
              0.3333333333333333,
              "#9c179e"
             ],
             [
              0.4444444444444444,
              "#bd3786"
             ],
             [
              0.5555555555555556,
              "#d8576b"
             ],
             [
              0.6666666666666666,
              "#ed7953"
             ],
             [
              0.7777777777777778,
              "#fb9f3a"
             ],
             [
              0.8888888888888888,
              "#fdca26"
             ],
             [
              1,
              "#f0f921"
             ]
            ],
            "type": "histogram2dcontour"
           }
          ],
          "mesh3d": [
           {
            "colorbar": {
             "outlinewidth": 0,
             "ticks": ""
            },
            "type": "mesh3d"
           }
          ],
          "parcoords": [
           {
            "line": {
             "colorbar": {
              "outlinewidth": 0,
              "ticks": ""
             }
            },
            "type": "parcoords"
           }
          ],
          "pie": [
           {
            "automargin": true,
            "type": "pie"
           }
          ],
          "scatter": [
           {
            "fillpattern": {
             "fillmode": "overlay",
             "size": 10,
             "solidity": 0.2
            },
            "type": "scatter"
           }
          ],
          "scatter3d": [
           {
            "line": {
             "colorbar": {
              "outlinewidth": 0,
              "ticks": ""
             }
            },
            "marker": {
             "colorbar": {
              "outlinewidth": 0,
              "ticks": ""
             }
            },
            "type": "scatter3d"
           }
          ],
          "scattercarpet": [
           {
            "marker": {
             "colorbar": {
              "outlinewidth": 0,
              "ticks": ""
             }
            },
            "type": "scattercarpet"
           }
          ],
          "scattergeo": [
           {
            "marker": {
             "colorbar": {
              "outlinewidth": 0,
              "ticks": ""
             }
            },
            "type": "scattergeo"
           }
          ],
          "scattergl": [
           {
            "marker": {
             "colorbar": {
              "outlinewidth": 0,
              "ticks": ""
             }
            },
            "type": "scattergl"
           }
          ],
          "scattermapbox": [
           {
            "marker": {
             "colorbar": {
              "outlinewidth": 0,
              "ticks": ""
             }
            },
            "type": "scattermapbox"
           }
          ],
          "scatterpolar": [
           {
            "marker": {
             "colorbar": {
              "outlinewidth": 0,
              "ticks": ""
             }
            },
            "type": "scatterpolar"
           }
          ],
          "scatterpolargl": [
           {
            "marker": {
             "colorbar": {
              "outlinewidth": 0,
              "ticks": ""
             }
            },
            "type": "scatterpolargl"
           }
          ],
          "scatterternary": [
           {
            "marker": {
             "colorbar": {
              "outlinewidth": 0,
              "ticks": ""
             }
            },
            "type": "scatterternary"
           }
          ],
          "surface": [
           {
            "colorbar": {
             "outlinewidth": 0,
             "ticks": ""
            },
            "colorscale": [
             [
              0,
              "#0d0887"
             ],
             [
              0.1111111111111111,
              "#46039f"
             ],
             [
              0.2222222222222222,
              "#7201a8"
             ],
             [
              0.3333333333333333,
              "#9c179e"
             ],
             [
              0.4444444444444444,
              "#bd3786"
             ],
             [
              0.5555555555555556,
              "#d8576b"
             ],
             [
              0.6666666666666666,
              "#ed7953"
             ],
             [
              0.7777777777777778,
              "#fb9f3a"
             ],
             [
              0.8888888888888888,
              "#fdca26"
             ],
             [
              1,
              "#f0f921"
             ]
            ],
            "type": "surface"
           }
          ],
          "table": [
           {
            "cells": {
             "fill": {
              "color": "#EBF0F8"
             },
             "line": {
              "color": "white"
             }
            },
            "header": {
             "fill": {
              "color": "#C8D4E3"
             },
             "line": {
              "color": "white"
             }
            },
            "type": "table"
           }
          ]
         },
         "layout": {
          "annotationdefaults": {
           "arrowcolor": "#2a3f5f",
           "arrowhead": 0,
           "arrowwidth": 1
          },
          "autotypenumbers": "strict",
          "coloraxis": {
           "colorbar": {
            "outlinewidth": 0,
            "ticks": ""
           }
          },
          "colorscale": {
           "diverging": [
            [
             0,
             "#8e0152"
            ],
            [
             0.1,
             "#c51b7d"
            ],
            [
             0.2,
             "#de77ae"
            ],
            [
             0.3,
             "#f1b6da"
            ],
            [
             0.4,
             "#fde0ef"
            ],
            [
             0.5,
             "#f7f7f7"
            ],
            [
             0.6,
             "#e6f5d0"
            ],
            [
             0.7,
             "#b8e186"
            ],
            [
             0.8,
             "#7fbc41"
            ],
            [
             0.9,
             "#4d9221"
            ],
            [
             1,
             "#276419"
            ]
           ],
           "sequential": [
            [
             0,
             "#0d0887"
            ],
            [
             0.1111111111111111,
             "#46039f"
            ],
            [
             0.2222222222222222,
             "#7201a8"
            ],
            [
             0.3333333333333333,
             "#9c179e"
            ],
            [
             0.4444444444444444,
             "#bd3786"
            ],
            [
             0.5555555555555556,
             "#d8576b"
            ],
            [
             0.6666666666666666,
             "#ed7953"
            ],
            [
             0.7777777777777778,
             "#fb9f3a"
            ],
            [
             0.8888888888888888,
             "#fdca26"
            ],
            [
             1,
             "#f0f921"
            ]
           ],
           "sequentialminus": [
            [
             0,
             "#0d0887"
            ],
            [
             0.1111111111111111,
             "#46039f"
            ],
            [
             0.2222222222222222,
             "#7201a8"
            ],
            [
             0.3333333333333333,
             "#9c179e"
            ],
            [
             0.4444444444444444,
             "#bd3786"
            ],
            [
             0.5555555555555556,
             "#d8576b"
            ],
            [
             0.6666666666666666,
             "#ed7953"
            ],
            [
             0.7777777777777778,
             "#fb9f3a"
            ],
            [
             0.8888888888888888,
             "#fdca26"
            ],
            [
             1,
             "#f0f921"
            ]
           ]
          },
          "colorway": [
           "#636efa",
           "#EF553B",
           "#00cc96",
           "#ab63fa",
           "#FFA15A",
           "#19d3f3",
           "#FF6692",
           "#B6E880",
           "#FF97FF",
           "#FECB52"
          ],
          "font": {
           "color": "#2a3f5f"
          },
          "geo": {
           "bgcolor": "white",
           "lakecolor": "white",
           "landcolor": "#E5ECF6",
           "showlakes": true,
           "showland": true,
           "subunitcolor": "white"
          },
          "hoverlabel": {
           "align": "left"
          },
          "hovermode": "closest",
          "mapbox": {
           "style": "light"
          },
          "paper_bgcolor": "white",
          "plot_bgcolor": "#E5ECF6",
          "polar": {
           "angularaxis": {
            "gridcolor": "white",
            "linecolor": "white",
            "ticks": ""
           },
           "bgcolor": "#E5ECF6",
           "radialaxis": {
            "gridcolor": "white",
            "linecolor": "white",
            "ticks": ""
           }
          },
          "scene": {
           "xaxis": {
            "backgroundcolor": "#E5ECF6",
            "gridcolor": "white",
            "gridwidth": 2,
            "linecolor": "white",
            "showbackground": true,
            "ticks": "",
            "zerolinecolor": "white"
           },
           "yaxis": {
            "backgroundcolor": "#E5ECF6",
            "gridcolor": "white",
            "gridwidth": 2,
            "linecolor": "white",
            "showbackground": true,
            "ticks": "",
            "zerolinecolor": "white"
           },
           "zaxis": {
            "backgroundcolor": "#E5ECF6",
            "gridcolor": "white",
            "gridwidth": 2,
            "linecolor": "white",
            "showbackground": true,
            "ticks": "",
            "zerolinecolor": "white"
           }
          },
          "shapedefaults": {
           "line": {
            "color": "#2a3f5f"
           }
          },
          "ternary": {
           "aaxis": {
            "gridcolor": "white",
            "linecolor": "white",
            "ticks": ""
           },
           "baxis": {
            "gridcolor": "white",
            "linecolor": "white",
            "ticks": ""
           },
           "bgcolor": "#E5ECF6",
           "caxis": {
            "gridcolor": "white",
            "linecolor": "white",
            "ticks": ""
           }
          },
          "title": {
           "x": 0.05
          },
          "xaxis": {
           "automargin": true,
           "gridcolor": "white",
           "linecolor": "white",
           "ticks": "",
           "title": {
            "standoff": 15
           },
           "zerolinecolor": "white",
           "zerolinewidth": 2
          },
          "yaxis": {
           "automargin": true,
           "gridcolor": "white",
           "linecolor": "white",
           "ticks": "",
           "title": {
            "standoff": 15
           },
           "zerolinecolor": "white",
           "zerolinewidth": 2
          }
         }
        },
        "title": {
         "font": {
          "color": "#4D5663"
         }
        },
        "xaxis": {
         "anchor": "y",
         "domain": [
          0,
          0.2125
         ],
         "gridcolor": "#E1E5ED",
         "showgrid": false,
         "tickfont": {
          "color": "#4D5663"
         },
         "title": {
          "font": {
           "color": "#4D5663"
          },
          "text": ""
         },
         "zerolinecolor": "#E1E5ED"
        },
        "xaxis10": {
         "anchor": "y10",
         "domain": [
          0.2625,
          0.475
         ],
         "gridcolor": "#E1E5ED",
         "showgrid": false,
         "tickfont": {
          "color": "#4D5663"
         },
         "title": {
          "font": {
           "color": "#4D5663"
          },
          "text": ""
         },
         "zerolinecolor": "#E1E5ED"
        },
        "xaxis11": {
         "anchor": "y11",
         "domain": [
          0.525,
          0.7375
         ],
         "gridcolor": "#E1E5ED",
         "showgrid": false,
         "tickfont": {
          "color": "#4D5663"
         },
         "title": {
          "font": {
           "color": "#4D5663"
          },
          "text": ""
         },
         "zerolinecolor": "#E1E5ED"
        },
        "xaxis12": {
         "anchor": "y12",
         "domain": [
          0.7875,
          1
         ],
         "gridcolor": "#E1E5ED",
         "showgrid": false,
         "tickfont": {
          "color": "#4D5663"
         },
         "title": {
          "font": {
           "color": "#4D5663"
          },
          "text": ""
         },
         "zerolinecolor": "#E1E5ED"
        },
        "xaxis13": {
         "anchor": "y13",
         "domain": [
          0,
          0.2125
         ],
         "gridcolor": "#E1E5ED",
         "showgrid": false,
         "tickfont": {
          "color": "#4D5663"
         },
         "title": {
          "font": {
           "color": "#4D5663"
          },
          "text": ""
         },
         "zerolinecolor": "#E1E5ED"
        },
        "xaxis14": {
         "anchor": "y14",
         "domain": [
          0.2625,
          0.475
         ],
         "gridcolor": "#E1E5ED",
         "showgrid": false,
         "tickfont": {
          "color": "#4D5663"
         },
         "title": {
          "font": {
           "color": "#4D5663"
          },
          "text": ""
         },
         "zerolinecolor": "#E1E5ED"
        },
        "xaxis15": {
         "anchor": "y15",
         "domain": [
          0.525,
          0.7375
         ],
         "gridcolor": "#E1E5ED",
         "showgrid": false,
         "tickfont": {
          "color": "#4D5663"
         },
         "title": {
          "font": {
           "color": "#4D5663"
          },
          "text": ""
         },
         "zerolinecolor": "#E1E5ED"
        },
        "xaxis16": {
         "anchor": "y16",
         "domain": [
          0.7875,
          1
         ],
         "gridcolor": "#E1E5ED",
         "showgrid": false,
         "tickfont": {
          "color": "#4D5663"
         },
         "title": {
          "font": {
           "color": "#4D5663"
          },
          "text": ""
         },
         "zerolinecolor": "#E1E5ED"
        },
        "xaxis2": {
         "anchor": "y2",
         "domain": [
          0.2625,
          0.475
         ],
         "gridcolor": "#E1E5ED",
         "showgrid": false,
         "tickfont": {
          "color": "#4D5663"
         },
         "title": {
          "font": {
           "color": "#4D5663"
          },
          "text": ""
         },
         "zerolinecolor": "#E1E5ED"
        },
        "xaxis3": {
         "anchor": "y3",
         "domain": [
          0.525,
          0.7375
         ],
         "gridcolor": "#E1E5ED",
         "showgrid": false,
         "tickfont": {
          "color": "#4D5663"
         },
         "title": {
          "font": {
           "color": "#4D5663"
          },
          "text": ""
         },
         "zerolinecolor": "#E1E5ED"
        },
        "xaxis4": {
         "anchor": "y4",
         "domain": [
          0.7875,
          1
         ],
         "gridcolor": "#E1E5ED",
         "showgrid": false,
         "tickfont": {
          "color": "#4D5663"
         },
         "title": {
          "font": {
           "color": "#4D5663"
          },
          "text": ""
         },
         "zerolinecolor": "#E1E5ED"
        },
        "xaxis5": {
         "anchor": "y5",
         "domain": [
          0,
          0.2125
         ],
         "gridcolor": "#E1E5ED",
         "showgrid": false,
         "tickfont": {
          "color": "#4D5663"
         },
         "title": {
          "font": {
           "color": "#4D5663"
          },
          "text": ""
         },
         "zerolinecolor": "#E1E5ED"
        },
        "xaxis6": {
         "anchor": "y6",
         "domain": [
          0.2625,
          0.475
         ],
         "gridcolor": "#E1E5ED",
         "showgrid": false,
         "tickfont": {
          "color": "#4D5663"
         },
         "title": {
          "font": {
           "color": "#4D5663"
          },
          "text": ""
         },
         "zerolinecolor": "#E1E5ED"
        },
        "xaxis7": {
         "anchor": "y7",
         "domain": [
          0.525,
          0.7375
         ],
         "gridcolor": "#E1E5ED",
         "showgrid": false,
         "tickfont": {
          "color": "#4D5663"
         },
         "title": {
          "font": {
           "color": "#4D5663"
          },
          "text": ""
         },
         "zerolinecolor": "#E1E5ED"
        },
        "xaxis8": {
         "anchor": "y8",
         "domain": [
          0.7875,
          1
         ],
         "gridcolor": "#E1E5ED",
         "showgrid": false,
         "tickfont": {
          "color": "#4D5663"
         },
         "title": {
          "font": {
           "color": "#4D5663"
          },
          "text": ""
         },
         "zerolinecolor": "#E1E5ED"
        },
        "xaxis9": {
         "anchor": "y9",
         "domain": [
          0,
          0.2125
         ],
         "gridcolor": "#E1E5ED",
         "showgrid": false,
         "tickfont": {
          "color": "#4D5663"
         },
         "title": {
          "font": {
           "color": "#4D5663"
          },
          "text": ""
         },
         "zerolinecolor": "#E1E5ED"
        },
        "yaxis": {
         "anchor": "x",
         "domain": [
          0.8025,
          1
         ],
         "gridcolor": "#E1E5ED",
         "showgrid": false,
         "tickfont": {
          "color": "#4D5663"
         },
         "title": {
          "font": {
           "color": "#4D5663"
          },
          "text": ""
         },
         "zerolinecolor": "#E1E5ED"
        },
        "yaxis10": {
         "anchor": "x10",
         "domain": [
          0.2675,
          0.465
         ],
         "gridcolor": "#E1E5ED",
         "showgrid": false,
         "tickfont": {
          "color": "#4D5663"
         },
         "title": {
          "font": {
           "color": "#4D5663"
          },
          "text": ""
         },
         "zerolinecolor": "#E1E5ED"
        },
        "yaxis11": {
         "anchor": "x11",
         "domain": [
          0.2675,
          0.465
         ],
         "gridcolor": "#E1E5ED",
         "showgrid": false,
         "tickfont": {
          "color": "#4D5663"
         },
         "title": {
          "font": {
           "color": "#4D5663"
          },
          "text": ""
         },
         "zerolinecolor": "#E1E5ED"
        },
        "yaxis12": {
         "anchor": "x12",
         "domain": [
          0.2675,
          0.465
         ],
         "gridcolor": "#E1E5ED",
         "showgrid": false,
         "tickfont": {
          "color": "#4D5663"
         },
         "title": {
          "font": {
           "color": "#4D5663"
          },
          "text": ""
         },
         "zerolinecolor": "#E1E5ED"
        },
        "yaxis13": {
         "anchor": "x13",
         "domain": [
          0,
          0.1975
         ],
         "gridcolor": "#E1E5ED",
         "showgrid": false,
         "tickfont": {
          "color": "#4D5663"
         },
         "title": {
          "font": {
           "color": "#4D5663"
          },
          "text": ""
         },
         "zerolinecolor": "#E1E5ED"
        },
        "yaxis14": {
         "anchor": "x14",
         "domain": [
          0,
          0.1975
         ],
         "gridcolor": "#E1E5ED",
         "showgrid": false,
         "tickfont": {
          "color": "#4D5663"
         },
         "title": {
          "font": {
           "color": "#4D5663"
          },
          "text": ""
         },
         "zerolinecolor": "#E1E5ED"
        },
        "yaxis15": {
         "anchor": "x15",
         "domain": [
          0,
          0.1975
         ],
         "gridcolor": "#E1E5ED",
         "showgrid": false,
         "tickfont": {
          "color": "#4D5663"
         },
         "title": {
          "font": {
           "color": "#4D5663"
          },
          "text": ""
         },
         "zerolinecolor": "#E1E5ED"
        },
        "yaxis16": {
         "anchor": "x16",
         "domain": [
          0,
          0.1975
         ],
         "gridcolor": "#E1E5ED",
         "showgrid": false,
         "tickfont": {
          "color": "#4D5663"
         },
         "title": {
          "font": {
           "color": "#4D5663"
          },
          "text": ""
         },
         "zerolinecolor": "#E1E5ED"
        },
        "yaxis2": {
         "anchor": "x2",
         "domain": [
          0.8025,
          1
         ],
         "gridcolor": "#E1E5ED",
         "showgrid": false,
         "tickfont": {
          "color": "#4D5663"
         },
         "title": {
          "font": {
           "color": "#4D5663"
          },
          "text": ""
         },
         "zerolinecolor": "#E1E5ED"
        },
        "yaxis3": {
         "anchor": "x3",
         "domain": [
          0.8025,
          1
         ],
         "gridcolor": "#E1E5ED",
         "showgrid": false,
         "tickfont": {
          "color": "#4D5663"
         },
         "title": {
          "font": {
           "color": "#4D5663"
          },
          "text": ""
         },
         "zerolinecolor": "#E1E5ED"
        },
        "yaxis4": {
         "anchor": "x4",
         "domain": [
          0.8025,
          1
         ],
         "gridcolor": "#E1E5ED",
         "showgrid": false,
         "tickfont": {
          "color": "#4D5663"
         },
         "title": {
          "font": {
           "color": "#4D5663"
          },
          "text": ""
         },
         "zerolinecolor": "#E1E5ED"
        },
        "yaxis5": {
         "anchor": "x5",
         "domain": [
          0.535,
          0.7325
         ],
         "gridcolor": "#E1E5ED",
         "showgrid": false,
         "tickfont": {
          "color": "#4D5663"
         },
         "title": {
          "font": {
           "color": "#4D5663"
          },
          "text": ""
         },
         "zerolinecolor": "#E1E5ED"
        },
        "yaxis6": {
         "anchor": "x6",
         "domain": [
          0.535,
          0.7325
         ],
         "gridcolor": "#E1E5ED",
         "showgrid": false,
         "tickfont": {
          "color": "#4D5663"
         },
         "title": {
          "font": {
           "color": "#4D5663"
          },
          "text": ""
         },
         "zerolinecolor": "#E1E5ED"
        },
        "yaxis7": {
         "anchor": "x7",
         "domain": [
          0.535,
          0.7325
         ],
         "gridcolor": "#E1E5ED",
         "showgrid": false,
         "tickfont": {
          "color": "#4D5663"
         },
         "title": {
          "font": {
           "color": "#4D5663"
          },
          "text": ""
         },
         "zerolinecolor": "#E1E5ED"
        },
        "yaxis8": {
         "anchor": "x8",
         "domain": [
          0.535,
          0.7325
         ],
         "gridcolor": "#E1E5ED",
         "showgrid": false,
         "tickfont": {
          "color": "#4D5663"
         },
         "title": {
          "font": {
           "color": "#4D5663"
          },
          "text": ""
         },
         "zerolinecolor": "#E1E5ED"
        },
        "yaxis9": {
         "anchor": "x9",
         "domain": [
          0.2675,
          0.465
         ],
         "gridcolor": "#E1E5ED",
         "showgrid": false,
         "tickfont": {
          "color": "#4D5663"
         },
         "title": {
          "font": {
           "color": "#4D5663"
          },
          "text": ""
         },
         "zerolinecolor": "#E1E5ED"
        }
       }
      },
      "text/html": [
       "<div>                            <div id=\"80867203-1805-40c8-a28b-f79a2826c05a\" class=\"plotly-graph-div\" style=\"height:525px; width:100%;\"></div>            <script type=\"text/javascript\">                require([\"plotly\"], function(Plotly) {                    window.PLOTLYENV=window.PLOTLYENV || {};\n",
       "                    window.PLOTLYENV.BASE_URL='https://plot.ly';                                    if (document.getElementById(\"80867203-1805-40c8-a28b-f79a2826c05a\")) {                    Plotly.newPlot(                        \"80867203-1805-40c8-a28b-f79a2826c05a\",                        [{\"histfunc\":\"count\",\"histnorm\":\"\",\"marker\":{\"color\":\"rgba(255, 153, 51, 1.0)\",\"line\":{\"color\":\"#4D5663\",\"width\":1.3}},\"name\":\"A\",\"nbinsx\":10,\"opacity\":0.8,\"orientation\":\"v\",\"x\":[0.4625705346860569,-0.39776559619778035,0.45134849134936006,-0.13586989136117616,0.8666046795885229,0.6915422091449416,0.2879465812261424,0.8634873175971317,1.0636136020541438,1.0253235577750899,-0.31709420285086765,0.8118393443542882,1.2729161314443458,-0.04749879992679883,1.6212382555696152,0.7432177254591762,-0.7540751447799475,-1.1785769272722304,0.5554718080127589,0.9645479280032871,0.8649041685720121,-0.5549189890831625,-0.6218986150027163,-0.7194602403736984,-1.802095186977993,-0.26678732623986573,2.7238387138412192,0.615634491260396,0.007579856052334232,1.1290262523400951,1.587017275445863,-0.9189023976589287,1.4725054513406621,-0.48301228688987907,-1.3304701145449986,1.245831392521345,-1.0983440758617014,1.180857997707036,0.5440386879638087,0.5677057464677294,-0.788205121339689,-0.3199941722674541,-1.2771991364799633,-0.743349078501879,-1.1417746291284483,-0.5475290985702707,-3.2223848725883575,-0.2510964618123027,-1.7800437914056828,0.6437766633383795,-0.5237843931033407,-0.6820156552307822,1.8181209386254333,0.43912021962870396,-0.5779841176830209,-0.49567500878627896,1.5736513015848792,-0.4849414708447617,-0.030582237332559874,-0.7159901187440891,0.3815770903437842,-0.4643215828999029,1.0224124071713991,-0.30473964077199983,0.5854244150705185,-0.8103124473453914,0.819934226238514,-1.8347336449792389,-0.4460340648319405,1.6022942645681513,0.2227037950171565,1.9715057168447414,0.030545883394759044,1.5746046212676983,0.6798817967772102,0.2054790119107006,0.27995172153214837,-1.2564946179625986,-1.4388162435408303,0.6978362478661515,-0.6871087225198645,0.03376446352296217,-0.07695646388334659,1.1057890388523681,-1.4005037932977615,-1.514307743583307,-1.0950729859328534,-0.09349612285966388,-2.0742756957159862,-0.6539147900050394,2.7493473960748545,0.9275692397287629,0.32009980593724974,0.6253393120995153,0.6897118991535294,-1.5343373827748692,0.6488067241950675,0.09499686984715128,0.7803587474326844,0.1024905534892975],\"xaxis\":\"x\",\"yaxis\":\"y\",\"type\":\"histogram\"},{\"line\":{\"color\":\"rgba(128, 128, 128, 1.0)\",\"dash\":\"solid\",\"shape\":\"linear\",\"width\":1.3},\"marker\":{\"size\":2,\"symbol\":\"circle\"},\"mode\":\"markers\",\"name\":\"A\",\"text\":\"\",\"x\":[-1.3658007014664313,-0.6350333815305984,-0.9225023455677859,-0.6236056824865273,-0.18356722515055598,-0.8282112839224751,-0.22599933977613648,-0.08427485525071632,-0.04947484313961995,0.8508207630027762,0.018825217556514274,0.08608633867607307,-0.9244306868787607,0.5485609902447441,1.177795597249583,-0.10932772012243774,-0.6650659901184788,-1.130925902347371,1.5504806364069426,-0.6935904582249032,1.4797097592255881,-0.4861265117217737,-0.06723767178783559,-1.070318252028669,0.19010870364430227,1.0944945696223813,0.9398514074931446,0.9270579274216835,1.7420449912679339,-1.7737531831587297,0.9748891216747543,0.028938685164870852,-0.5976961395226522,-0.35759118356467046,0.6362630122762118,-1.6652776675816219,0.046058986375401345,0.4223155973887687,-1.0240020155140628,1.757371706965391,-0.23212477117625419,-0.5253472403215348,1.545594814224598,0.20286626452325346,0.9505040704125001,0.2836453901331043,0.28185143876966146,0.47621993897237586,1.6908071967334568,-1.6194067333772713,-0.6523141481185137,0.32419451714924846,-0.6437146750787236,-0.5613024570103383,0.15659926612601785,1.216161214738801,1.4669291446392254,0.013413375094520001,0.6772940970325642,0.0011619705075164054,0.4983121764774387,0.5178283879895301,0.5111314025770597,-0.15103715454482886,-0.9993029513443423,1.7558076345328892,1.309351374593043,-0.7444034365155567,-0.10722007531162517,-0.11448009559783312,3.9990147561777287,0.2502565660393181,0.22495725342868372,-1.126490949731758,-0.7515807915122932,1.5185709325212653,0.6100340654423348,1.0186660650065034,0.5133949902762628,0.7207257255626729,0.5547838573778077,0.18709779037151372,-0.4187249372207891,0.4067555297536765,0.25733156690145603,-0.9765654247627013,-1.153711505883254,-0.08209547748935996,0.27169309371179057,0.1921783078755945,-0.41618004621276505,0.7461979831496948,-1.459595403754854,-1.1153918522124082,-0.09367478466593762,-1.11258801156455,0.42426910929003386,-0.3534061605676554,0.11272144129587136,1.1115790414692162],\"xaxis\":\"x2\",\"y\":[0.4625705346860569,-0.39776559619778035,0.45134849134936006,-0.13586989136117616,0.8666046795885229,0.6915422091449416,0.2879465812261424,0.8634873175971317,1.0636136020541438,1.0253235577750899,-0.31709420285086765,0.8118393443542882,1.2729161314443458,-0.04749879992679883,1.6212382555696152,0.7432177254591762,-0.7540751447799475,-1.1785769272722304,0.5554718080127589,0.9645479280032871,0.8649041685720121,-0.5549189890831625,-0.6218986150027163,-0.7194602403736984,-1.802095186977993,-0.26678732623986573,2.7238387138412192,0.615634491260396,0.007579856052334232,1.1290262523400951,1.587017275445863,-0.9189023976589287,1.4725054513406621,-0.48301228688987907,-1.3304701145449986,1.245831392521345,-1.0983440758617014,1.180857997707036,0.5440386879638087,0.5677057464677294,-0.788205121339689,-0.3199941722674541,-1.2771991364799633,-0.743349078501879,-1.1417746291284483,-0.5475290985702707,-3.2223848725883575,-0.2510964618123027,-1.7800437914056828,0.6437766633383795,-0.5237843931033407,-0.6820156552307822,1.8181209386254333,0.43912021962870396,-0.5779841176830209,-0.49567500878627896,1.5736513015848792,-0.4849414708447617,-0.030582237332559874,-0.7159901187440891,0.3815770903437842,-0.4643215828999029,1.0224124071713991,-0.30473964077199983,0.5854244150705185,-0.8103124473453914,0.819934226238514,-1.8347336449792389,-0.4460340648319405,1.6022942645681513,0.2227037950171565,1.9715057168447414,0.030545883394759044,1.5746046212676983,0.6798817967772102,0.2054790119107006,0.27995172153214837,-1.2564946179625986,-1.4388162435408303,0.6978362478661515,-0.6871087225198645,0.03376446352296217,-0.07695646388334659,1.1057890388523681,-1.4005037932977615,-1.514307743583307,-1.0950729859328534,-0.09349612285966388,-2.0742756957159862,-0.6539147900050394,2.7493473960748545,0.9275692397287629,0.32009980593724974,0.6253393120995153,0.6897118991535294,-1.5343373827748692,0.6488067241950675,0.09499686984715128,0.7803587474326844,0.1024905534892975],\"yaxis\":\"y2\",\"type\":\"scatter\"},{\"line\":{\"color\":\"rgba(128, 128, 128, 1.0)\",\"dash\":\"solid\",\"shape\":\"linear\",\"width\":1.3},\"marker\":{\"size\":2,\"symbol\":\"circle\"},\"mode\":\"markers\",\"name\":\"A\",\"text\":\"\",\"x\":[0.7976196639882999,0.5922242217557884,-0.5936558211354087,0.022889737562143964,-0.7367680014627671,1.455148237383089,-0.5603073766995768,-0.531457442213716,0.21612006273025253,-1.153928568100353,0.708915148731652,0.029122448527130168,-0.6297290422602668,-0.44383790732796613,1.3549183788923063,0.028530730010453784,1.4637991978375617,-0.9305632016645159,-0.20318553410806436,-0.37467046279084404,1.0109341991978813,-0.22405969354645341,0.3775979209944355,0.6819208943361197,0.21948686657547883,-0.8855312572802637,-1.2244651171204826,-0.6557842259775335,-1.2579946796424992,0.9255850502597677,0.256485696172891,0.3494234975024311,0.1612472287334242,-0.9385426920911395,0.09196273439151567,-0.056286623826050486,0.7112903619693386,0.6032100502594897,-0.0887452817572577,-0.1320521337148512,0.2977115970722861,-0.767727628403958,-1.7029435048088566,0.6029430120359184,0.722073112513006,0.4049464271158967,-0.6135234963403671,0.8883742843519561,0.6479646825765413,-0.9657130542158291,-0.8009242190004513,-1.2760479494411372,0.68148628681611,1.3298205147939715,-1.381416310098818,0.7866499268731464,-0.5424973166046481,0.06792592331081872,0.47204222316489075,-1.0770132793599556,-0.790160054910979,-0.9809606230685514,1.0039853077621204,-0.2672453111573401,1.2506689282154047,-0.4068011543582442,-0.7212725757206991,-0.5914654695141591,2.192279526986468,-1.3960956489970582,-0.7274259900966882,1.3132737931552732,-2.716463887848451,-0.9816790460261686,-1.3808497577907082,0.5796566161954262,0.6779723444576947,0.3301595076564153,-0.6875972660930066,-0.6315770476071847,-0.32890335277128885,1.7016557265423022,-1.1048930803856305,1.1464717236422435,0.8738336341324523,-0.26056748248510014,-0.5858677601300266,0.08289842846605516,0.0476306260013642,0.14509360396470272,0.6372599962828331,0.47983314760275164,-1.195633253690203,0.3344303114781469,-1.5598436317677304,-1.9170658786972896,-1.5841367337859373,-0.29802227813188487,1.2229853472529493,1.1867495337171539],\"xaxis\":\"x3\",\"y\":[0.4625705346860569,-0.39776559619778035,0.45134849134936006,-0.13586989136117616,0.8666046795885229,0.6915422091449416,0.2879465812261424,0.8634873175971317,1.0636136020541438,1.0253235577750899,-0.31709420285086765,0.8118393443542882,1.2729161314443458,-0.04749879992679883,1.6212382555696152,0.7432177254591762,-0.7540751447799475,-1.1785769272722304,0.5554718080127589,0.9645479280032871,0.8649041685720121,-0.5549189890831625,-0.6218986150027163,-0.7194602403736984,-1.802095186977993,-0.26678732623986573,2.7238387138412192,0.615634491260396,0.007579856052334232,1.1290262523400951,1.587017275445863,-0.9189023976589287,1.4725054513406621,-0.48301228688987907,-1.3304701145449986,1.245831392521345,-1.0983440758617014,1.180857997707036,0.5440386879638087,0.5677057464677294,-0.788205121339689,-0.3199941722674541,-1.2771991364799633,-0.743349078501879,-1.1417746291284483,-0.5475290985702707,-3.2223848725883575,-0.2510964618123027,-1.7800437914056828,0.6437766633383795,-0.5237843931033407,-0.6820156552307822,1.8181209386254333,0.43912021962870396,-0.5779841176830209,-0.49567500878627896,1.5736513015848792,-0.4849414708447617,-0.030582237332559874,-0.7159901187440891,0.3815770903437842,-0.4643215828999029,1.0224124071713991,-0.30473964077199983,0.5854244150705185,-0.8103124473453914,0.819934226238514,-1.8347336449792389,-0.4460340648319405,1.6022942645681513,0.2227037950171565,1.9715057168447414,0.030545883394759044,1.5746046212676983,0.6798817967772102,0.2054790119107006,0.27995172153214837,-1.2564946179625986,-1.4388162435408303,0.6978362478661515,-0.6871087225198645,0.03376446352296217,-0.07695646388334659,1.1057890388523681,-1.4005037932977615,-1.514307743583307,-1.0950729859328534,-0.09349612285966388,-2.0742756957159862,-0.6539147900050394,2.7493473960748545,0.9275692397287629,0.32009980593724974,0.6253393120995153,0.6897118991535294,-1.5343373827748692,0.6488067241950675,0.09499686984715128,0.7803587474326844,0.1024905534892975],\"yaxis\":\"y3\",\"type\":\"scatter\"},{\"line\":{\"color\":\"rgba(128, 128, 128, 1.0)\",\"dash\":\"solid\",\"shape\":\"linear\",\"width\":1.3},\"marker\":{\"size\":2,\"symbol\":\"circle\"},\"mode\":\"markers\",\"name\":\"A\",\"text\":\"\",\"x\":[-0.01676273611883974,0.5803397636454248,-0.9914843496197014,2.079745266463118,0.09963289509793408,-1.5264767886339399,0.25144063077020046,0.5382700150202437,0.5255935445808945,2.1887319477382334,1.191552890004344,0.05349052125411241,0.5389078524411036,0.19087252828352078,-0.17470028756202827,-0.20933866317549638,-1.052678514499253,0.46789616080267776,1.1819098666298038,0.626122580752721,-0.33520185378191714,2.0467136265434305,0.19579408072465526,-0.09480369920507094,-1.4269257099352066,-0.2964332649358186,-0.1392813845087163,-0.272803639926009,0.6243147047456785,-1.1261389387994891,-0.5465163531790631,1.7020899291410607,0.1501383075361051,-0.4654903327374615,0.23595451979155638,1.2990981382104203,-1.251703316412179,-1.2109825729348684,0.06225080156632386,0.6622658123027308,-1.2384676961821592,0.281090348543609,-0.6920321346224054,-2.5051876833877236,0.9636314800694326,0.6734277974849716,1.9326372315187947,-1.1181224766885862,0.5536150600893577,-0.051233917309116576,-0.773507722797698,-1.9274774770775742,-0.5516587969256265,0.09042729345977363,0.017826107784951917,0.4178025369145226,0.45313375511709386,-0.12684533253761418,-1.2834545255555267,0.3837475308460146,-1.4836467753018732,1.7051405527036516,0.7874467272773418,-0.7849933389433503,0.44695587969064193,-1.3104080445756885,-0.3550595445515954,-1.3771707809159526,1.829783307047512,0.6150651255298384,0.3940454001110733,1.0822486569924945,0.6728778107784291,-0.32382155085456243,-0.5721840099504375,1.5759153220979334,-0.03602872455399964,0.10874158875401785,1.2151723212826315,0.054673478300902835,0.353376955400931,-1.287926992821108,1.1814070704408872,-0.11440511307712886,-0.8480872930359187,0.1602569895831079,-0.2598894317484706,0.5195867695858054,1.227003049790499,0.7748469660368112,0.788555464931521,0.19382462182550098,-0.9773509794734583,0.13162883343608456,-0.05087119261040653,-0.6836470938835728,1.2615016113759634,-2.0827809387584812,-0.4666234410833225,-1.104840281934689],\"xaxis\":\"x4\",\"y\":[0.4625705346860569,-0.39776559619778035,0.45134849134936006,-0.13586989136117616,0.8666046795885229,0.6915422091449416,0.2879465812261424,0.8634873175971317,1.0636136020541438,1.0253235577750899,-0.31709420285086765,0.8118393443542882,1.2729161314443458,-0.04749879992679883,1.6212382555696152,0.7432177254591762,-0.7540751447799475,-1.1785769272722304,0.5554718080127589,0.9645479280032871,0.8649041685720121,-0.5549189890831625,-0.6218986150027163,-0.7194602403736984,-1.802095186977993,-0.26678732623986573,2.7238387138412192,0.615634491260396,0.007579856052334232,1.1290262523400951,1.587017275445863,-0.9189023976589287,1.4725054513406621,-0.48301228688987907,-1.3304701145449986,1.245831392521345,-1.0983440758617014,1.180857997707036,0.5440386879638087,0.5677057464677294,-0.788205121339689,-0.3199941722674541,-1.2771991364799633,-0.743349078501879,-1.1417746291284483,-0.5475290985702707,-3.2223848725883575,-0.2510964618123027,-1.7800437914056828,0.6437766633383795,-0.5237843931033407,-0.6820156552307822,1.8181209386254333,0.43912021962870396,-0.5779841176830209,-0.49567500878627896,1.5736513015848792,-0.4849414708447617,-0.030582237332559874,-0.7159901187440891,0.3815770903437842,-0.4643215828999029,1.0224124071713991,-0.30473964077199983,0.5854244150705185,-0.8103124473453914,0.819934226238514,-1.8347336449792389,-0.4460340648319405,1.6022942645681513,0.2227037950171565,1.9715057168447414,0.030545883394759044,1.5746046212676983,0.6798817967772102,0.2054790119107006,0.27995172153214837,-1.2564946179625986,-1.4388162435408303,0.6978362478661515,-0.6871087225198645,0.03376446352296217,-0.07695646388334659,1.1057890388523681,-1.4005037932977615,-1.514307743583307,-1.0950729859328534,-0.09349612285966388,-2.0742756957159862,-0.6539147900050394,2.7493473960748545,0.9275692397287629,0.32009980593724974,0.6253393120995153,0.6897118991535294,-1.5343373827748692,0.6488067241950675,0.09499686984715128,0.7803587474326844,0.1024905534892975],\"yaxis\":\"y4\",\"type\":\"scatter\"},{\"line\":{\"color\":\"rgba(128, 128, 128, 1.0)\",\"dash\":\"solid\",\"shape\":\"linear\",\"width\":1.3},\"marker\":{\"size\":2,\"symbol\":\"circle\"},\"mode\":\"markers\",\"name\":\"B\",\"text\":\"\",\"x\":[0.4625705346860569,-0.39776559619778035,0.45134849134936006,-0.13586989136117616,0.8666046795885229,0.6915422091449416,0.2879465812261424,0.8634873175971317,1.0636136020541438,1.0253235577750899,-0.31709420285086765,0.8118393443542882,1.2729161314443458,-0.04749879992679883,1.6212382555696152,0.7432177254591762,-0.7540751447799475,-1.1785769272722304,0.5554718080127589,0.9645479280032871,0.8649041685720121,-0.5549189890831625,-0.6218986150027163,-0.7194602403736984,-1.802095186977993,-0.26678732623986573,2.7238387138412192,0.615634491260396,0.007579856052334232,1.1290262523400951,1.587017275445863,-0.9189023976589287,1.4725054513406621,-0.48301228688987907,-1.3304701145449986,1.245831392521345,-1.0983440758617014,1.180857997707036,0.5440386879638087,0.5677057464677294,-0.788205121339689,-0.3199941722674541,-1.2771991364799633,-0.743349078501879,-1.1417746291284483,-0.5475290985702707,-3.2223848725883575,-0.2510964618123027,-1.7800437914056828,0.6437766633383795,-0.5237843931033407,-0.6820156552307822,1.8181209386254333,0.43912021962870396,-0.5779841176830209,-0.49567500878627896,1.5736513015848792,-0.4849414708447617,-0.030582237332559874,-0.7159901187440891,0.3815770903437842,-0.4643215828999029,1.0224124071713991,-0.30473964077199983,0.5854244150705185,-0.8103124473453914,0.819934226238514,-1.8347336449792389,-0.4460340648319405,1.6022942645681513,0.2227037950171565,1.9715057168447414,0.030545883394759044,1.5746046212676983,0.6798817967772102,0.2054790119107006,0.27995172153214837,-1.2564946179625986,-1.4388162435408303,0.6978362478661515,-0.6871087225198645,0.03376446352296217,-0.07695646388334659,1.1057890388523681,-1.4005037932977615,-1.514307743583307,-1.0950729859328534,-0.09349612285966388,-2.0742756957159862,-0.6539147900050394,2.7493473960748545,0.9275692397287629,0.32009980593724974,0.6253393120995153,0.6897118991535294,-1.5343373827748692,0.6488067241950675,0.09499686984715128,0.7803587474326844,0.1024905534892975],\"xaxis\":\"x5\",\"y\":[-1.3658007014664313,-0.6350333815305984,-0.9225023455677859,-0.6236056824865273,-0.18356722515055598,-0.8282112839224751,-0.22599933977613648,-0.08427485525071632,-0.04947484313961995,0.8508207630027762,0.018825217556514274,0.08608633867607307,-0.9244306868787607,0.5485609902447441,1.177795597249583,-0.10932772012243774,-0.6650659901184788,-1.130925902347371,1.5504806364069426,-0.6935904582249032,1.4797097592255881,-0.4861265117217737,-0.06723767178783559,-1.070318252028669,0.19010870364430227,1.0944945696223813,0.9398514074931446,0.9270579274216835,1.7420449912679339,-1.7737531831587297,0.9748891216747543,0.028938685164870852,-0.5976961395226522,-0.35759118356467046,0.6362630122762118,-1.6652776675816219,0.046058986375401345,0.4223155973887687,-1.0240020155140628,1.757371706965391,-0.23212477117625419,-0.5253472403215348,1.545594814224598,0.20286626452325346,0.9505040704125001,0.2836453901331043,0.28185143876966146,0.47621993897237586,1.6908071967334568,-1.6194067333772713,-0.6523141481185137,0.32419451714924846,-0.6437146750787236,-0.5613024570103383,0.15659926612601785,1.216161214738801,1.4669291446392254,0.013413375094520001,0.6772940970325642,0.0011619705075164054,0.4983121764774387,0.5178283879895301,0.5111314025770597,-0.15103715454482886,-0.9993029513443423,1.7558076345328892,1.309351374593043,-0.7444034365155567,-0.10722007531162517,-0.11448009559783312,3.9990147561777287,0.2502565660393181,0.22495725342868372,-1.126490949731758,-0.7515807915122932,1.5185709325212653,0.6100340654423348,1.0186660650065034,0.5133949902762628,0.7207257255626729,0.5547838573778077,0.18709779037151372,-0.4187249372207891,0.4067555297536765,0.25733156690145603,-0.9765654247627013,-1.153711505883254,-0.08209547748935996,0.27169309371179057,0.1921783078755945,-0.41618004621276505,0.7461979831496948,-1.459595403754854,-1.1153918522124082,-0.09367478466593762,-1.11258801156455,0.42426910929003386,-0.3534061605676554,0.11272144129587136,1.1115790414692162],\"yaxis\":\"y5\",\"type\":\"scatter\"},{\"histfunc\":\"count\",\"histnorm\":\"\",\"marker\":{\"color\":\"rgba(55, 128, 191, 1.0)\",\"line\":{\"color\":\"#4D5663\",\"width\":1.3}},\"name\":\"B\",\"nbinsx\":10,\"opacity\":0.8,\"orientation\":\"v\",\"x\":[-1.3658007014664313,-0.6350333815305984,-0.9225023455677859,-0.6236056824865273,-0.18356722515055598,-0.8282112839224751,-0.22599933977613648,-0.08427485525071632,-0.04947484313961995,0.8508207630027762,0.018825217556514274,0.08608633867607307,-0.9244306868787607,0.5485609902447441,1.177795597249583,-0.10932772012243774,-0.6650659901184788,-1.130925902347371,1.5504806364069426,-0.6935904582249032,1.4797097592255881,-0.4861265117217737,-0.06723767178783559,-1.070318252028669,0.19010870364430227,1.0944945696223813,0.9398514074931446,0.9270579274216835,1.7420449912679339,-1.7737531831587297,0.9748891216747543,0.028938685164870852,-0.5976961395226522,-0.35759118356467046,0.6362630122762118,-1.6652776675816219,0.046058986375401345,0.4223155973887687,-1.0240020155140628,1.757371706965391,-0.23212477117625419,-0.5253472403215348,1.545594814224598,0.20286626452325346,0.9505040704125001,0.2836453901331043,0.28185143876966146,0.47621993897237586,1.6908071967334568,-1.6194067333772713,-0.6523141481185137,0.32419451714924846,-0.6437146750787236,-0.5613024570103383,0.15659926612601785,1.216161214738801,1.4669291446392254,0.013413375094520001,0.6772940970325642,0.0011619705075164054,0.4983121764774387,0.5178283879895301,0.5111314025770597,-0.15103715454482886,-0.9993029513443423,1.7558076345328892,1.309351374593043,-0.7444034365155567,-0.10722007531162517,-0.11448009559783312,3.9990147561777287,0.2502565660393181,0.22495725342868372,-1.126490949731758,-0.7515807915122932,1.5185709325212653,0.6100340654423348,1.0186660650065034,0.5133949902762628,0.7207257255626729,0.5547838573778077,0.18709779037151372,-0.4187249372207891,0.4067555297536765,0.25733156690145603,-0.9765654247627013,-1.153711505883254,-0.08209547748935996,0.27169309371179057,0.1921783078755945,-0.41618004621276505,0.7461979831496948,-1.459595403754854,-1.1153918522124082,-0.09367478466593762,-1.11258801156455,0.42426910929003386,-0.3534061605676554,0.11272144129587136,1.1115790414692162],\"xaxis\":\"x6\",\"yaxis\":\"y6\",\"type\":\"histogram\"},{\"line\":{\"color\":\"rgba(128, 128, 128, 1.0)\",\"dash\":\"solid\",\"shape\":\"linear\",\"width\":1.3},\"marker\":{\"size\":2,\"symbol\":\"circle\"},\"mode\":\"markers\",\"name\":\"B\",\"text\":\"\",\"x\":[0.7976196639882999,0.5922242217557884,-0.5936558211354087,0.022889737562143964,-0.7367680014627671,1.455148237383089,-0.5603073766995768,-0.531457442213716,0.21612006273025253,-1.153928568100353,0.708915148731652,0.029122448527130168,-0.6297290422602668,-0.44383790732796613,1.3549183788923063,0.028530730010453784,1.4637991978375617,-0.9305632016645159,-0.20318553410806436,-0.37467046279084404,1.0109341991978813,-0.22405969354645341,0.3775979209944355,0.6819208943361197,0.21948686657547883,-0.8855312572802637,-1.2244651171204826,-0.6557842259775335,-1.2579946796424992,0.9255850502597677,0.256485696172891,0.3494234975024311,0.1612472287334242,-0.9385426920911395,0.09196273439151567,-0.056286623826050486,0.7112903619693386,0.6032100502594897,-0.0887452817572577,-0.1320521337148512,0.2977115970722861,-0.767727628403958,-1.7029435048088566,0.6029430120359184,0.722073112513006,0.4049464271158967,-0.6135234963403671,0.8883742843519561,0.6479646825765413,-0.9657130542158291,-0.8009242190004513,-1.2760479494411372,0.68148628681611,1.3298205147939715,-1.381416310098818,0.7866499268731464,-0.5424973166046481,0.06792592331081872,0.47204222316489075,-1.0770132793599556,-0.790160054910979,-0.9809606230685514,1.0039853077621204,-0.2672453111573401,1.2506689282154047,-0.4068011543582442,-0.7212725757206991,-0.5914654695141591,2.192279526986468,-1.3960956489970582,-0.7274259900966882,1.3132737931552732,-2.716463887848451,-0.9816790460261686,-1.3808497577907082,0.5796566161954262,0.6779723444576947,0.3301595076564153,-0.6875972660930066,-0.6315770476071847,-0.32890335277128885,1.7016557265423022,-1.1048930803856305,1.1464717236422435,0.8738336341324523,-0.26056748248510014,-0.5858677601300266,0.08289842846605516,0.0476306260013642,0.14509360396470272,0.6372599962828331,0.47983314760275164,-1.195633253690203,0.3344303114781469,-1.5598436317677304,-1.9170658786972896,-1.5841367337859373,-0.29802227813188487,1.2229853472529493,1.1867495337171539],\"xaxis\":\"x7\",\"y\":[-1.3658007014664313,-0.6350333815305984,-0.9225023455677859,-0.6236056824865273,-0.18356722515055598,-0.8282112839224751,-0.22599933977613648,-0.08427485525071632,-0.04947484313961995,0.8508207630027762,0.018825217556514274,0.08608633867607307,-0.9244306868787607,0.5485609902447441,1.177795597249583,-0.10932772012243774,-0.6650659901184788,-1.130925902347371,1.5504806364069426,-0.6935904582249032,1.4797097592255881,-0.4861265117217737,-0.06723767178783559,-1.070318252028669,0.19010870364430227,1.0944945696223813,0.9398514074931446,0.9270579274216835,1.7420449912679339,-1.7737531831587297,0.9748891216747543,0.028938685164870852,-0.5976961395226522,-0.35759118356467046,0.6362630122762118,-1.6652776675816219,0.046058986375401345,0.4223155973887687,-1.0240020155140628,1.757371706965391,-0.23212477117625419,-0.5253472403215348,1.545594814224598,0.20286626452325346,0.9505040704125001,0.2836453901331043,0.28185143876966146,0.47621993897237586,1.6908071967334568,-1.6194067333772713,-0.6523141481185137,0.32419451714924846,-0.6437146750787236,-0.5613024570103383,0.15659926612601785,1.216161214738801,1.4669291446392254,0.013413375094520001,0.6772940970325642,0.0011619705075164054,0.4983121764774387,0.5178283879895301,0.5111314025770597,-0.15103715454482886,-0.9993029513443423,1.7558076345328892,1.309351374593043,-0.7444034365155567,-0.10722007531162517,-0.11448009559783312,3.9990147561777287,0.2502565660393181,0.22495725342868372,-1.126490949731758,-0.7515807915122932,1.5185709325212653,0.6100340654423348,1.0186660650065034,0.5133949902762628,0.7207257255626729,0.5547838573778077,0.18709779037151372,-0.4187249372207891,0.4067555297536765,0.25733156690145603,-0.9765654247627013,-1.153711505883254,-0.08209547748935996,0.27169309371179057,0.1921783078755945,-0.41618004621276505,0.7461979831496948,-1.459595403754854,-1.1153918522124082,-0.09367478466593762,-1.11258801156455,0.42426910929003386,-0.3534061605676554,0.11272144129587136,1.1115790414692162],\"yaxis\":\"y7\",\"type\":\"scatter\"},{\"line\":{\"color\":\"rgba(128, 128, 128, 1.0)\",\"dash\":\"solid\",\"shape\":\"linear\",\"width\":1.3},\"marker\":{\"size\":2,\"symbol\":\"circle\"},\"mode\":\"markers\",\"name\":\"B\",\"text\":\"\",\"x\":[-0.01676273611883974,0.5803397636454248,-0.9914843496197014,2.079745266463118,0.09963289509793408,-1.5264767886339399,0.25144063077020046,0.5382700150202437,0.5255935445808945,2.1887319477382334,1.191552890004344,0.05349052125411241,0.5389078524411036,0.19087252828352078,-0.17470028756202827,-0.20933866317549638,-1.052678514499253,0.46789616080267776,1.1819098666298038,0.626122580752721,-0.33520185378191714,2.0467136265434305,0.19579408072465526,-0.09480369920507094,-1.4269257099352066,-0.2964332649358186,-0.1392813845087163,-0.272803639926009,0.6243147047456785,-1.1261389387994891,-0.5465163531790631,1.7020899291410607,0.1501383075361051,-0.4654903327374615,0.23595451979155638,1.2990981382104203,-1.251703316412179,-1.2109825729348684,0.06225080156632386,0.6622658123027308,-1.2384676961821592,0.281090348543609,-0.6920321346224054,-2.5051876833877236,0.9636314800694326,0.6734277974849716,1.9326372315187947,-1.1181224766885862,0.5536150600893577,-0.051233917309116576,-0.773507722797698,-1.9274774770775742,-0.5516587969256265,0.09042729345977363,0.017826107784951917,0.4178025369145226,0.45313375511709386,-0.12684533253761418,-1.2834545255555267,0.3837475308460146,-1.4836467753018732,1.7051405527036516,0.7874467272773418,-0.7849933389433503,0.44695587969064193,-1.3104080445756885,-0.3550595445515954,-1.3771707809159526,1.829783307047512,0.6150651255298384,0.3940454001110733,1.0822486569924945,0.6728778107784291,-0.32382155085456243,-0.5721840099504375,1.5759153220979334,-0.03602872455399964,0.10874158875401785,1.2151723212826315,0.054673478300902835,0.353376955400931,-1.287926992821108,1.1814070704408872,-0.11440511307712886,-0.8480872930359187,0.1602569895831079,-0.2598894317484706,0.5195867695858054,1.227003049790499,0.7748469660368112,0.788555464931521,0.19382462182550098,-0.9773509794734583,0.13162883343608456,-0.05087119261040653,-0.6836470938835728,1.2615016113759634,-2.0827809387584812,-0.4666234410833225,-1.104840281934689],\"xaxis\":\"x8\",\"y\":[-1.3658007014664313,-0.6350333815305984,-0.9225023455677859,-0.6236056824865273,-0.18356722515055598,-0.8282112839224751,-0.22599933977613648,-0.08427485525071632,-0.04947484313961995,0.8508207630027762,0.018825217556514274,0.08608633867607307,-0.9244306868787607,0.5485609902447441,1.177795597249583,-0.10932772012243774,-0.6650659901184788,-1.130925902347371,1.5504806364069426,-0.6935904582249032,1.4797097592255881,-0.4861265117217737,-0.06723767178783559,-1.070318252028669,0.19010870364430227,1.0944945696223813,0.9398514074931446,0.9270579274216835,1.7420449912679339,-1.7737531831587297,0.9748891216747543,0.028938685164870852,-0.5976961395226522,-0.35759118356467046,0.6362630122762118,-1.6652776675816219,0.046058986375401345,0.4223155973887687,-1.0240020155140628,1.757371706965391,-0.23212477117625419,-0.5253472403215348,1.545594814224598,0.20286626452325346,0.9505040704125001,0.2836453901331043,0.28185143876966146,0.47621993897237586,1.6908071967334568,-1.6194067333772713,-0.6523141481185137,0.32419451714924846,-0.6437146750787236,-0.5613024570103383,0.15659926612601785,1.216161214738801,1.4669291446392254,0.013413375094520001,0.6772940970325642,0.0011619705075164054,0.4983121764774387,0.5178283879895301,0.5111314025770597,-0.15103715454482886,-0.9993029513443423,1.7558076345328892,1.309351374593043,-0.7444034365155567,-0.10722007531162517,-0.11448009559783312,3.9990147561777287,0.2502565660393181,0.22495725342868372,-1.126490949731758,-0.7515807915122932,1.5185709325212653,0.6100340654423348,1.0186660650065034,0.5133949902762628,0.7207257255626729,0.5547838573778077,0.18709779037151372,-0.4187249372207891,0.4067555297536765,0.25733156690145603,-0.9765654247627013,-1.153711505883254,-0.08209547748935996,0.27169309371179057,0.1921783078755945,-0.41618004621276505,0.7461979831496948,-1.459595403754854,-1.1153918522124082,-0.09367478466593762,-1.11258801156455,0.42426910929003386,-0.3534061605676554,0.11272144129587136,1.1115790414692162],\"yaxis\":\"y8\",\"type\":\"scatter\"},{\"line\":{\"color\":\"rgba(128, 128, 128, 1.0)\",\"dash\":\"solid\",\"shape\":\"linear\",\"width\":1.3},\"marker\":{\"size\":2,\"symbol\":\"circle\"},\"mode\":\"markers\",\"name\":\"C\",\"text\":\"\",\"x\":[0.4625705346860569,-0.39776559619778035,0.45134849134936006,-0.13586989136117616,0.8666046795885229,0.6915422091449416,0.2879465812261424,0.8634873175971317,1.0636136020541438,1.0253235577750899,-0.31709420285086765,0.8118393443542882,1.2729161314443458,-0.04749879992679883,1.6212382555696152,0.7432177254591762,-0.7540751447799475,-1.1785769272722304,0.5554718080127589,0.9645479280032871,0.8649041685720121,-0.5549189890831625,-0.6218986150027163,-0.7194602403736984,-1.802095186977993,-0.26678732623986573,2.7238387138412192,0.615634491260396,0.007579856052334232,1.1290262523400951,1.587017275445863,-0.9189023976589287,1.4725054513406621,-0.48301228688987907,-1.3304701145449986,1.245831392521345,-1.0983440758617014,1.180857997707036,0.5440386879638087,0.5677057464677294,-0.788205121339689,-0.3199941722674541,-1.2771991364799633,-0.743349078501879,-1.1417746291284483,-0.5475290985702707,-3.2223848725883575,-0.2510964618123027,-1.7800437914056828,0.6437766633383795,-0.5237843931033407,-0.6820156552307822,1.8181209386254333,0.43912021962870396,-0.5779841176830209,-0.49567500878627896,1.5736513015848792,-0.4849414708447617,-0.030582237332559874,-0.7159901187440891,0.3815770903437842,-0.4643215828999029,1.0224124071713991,-0.30473964077199983,0.5854244150705185,-0.8103124473453914,0.819934226238514,-1.8347336449792389,-0.4460340648319405,1.6022942645681513,0.2227037950171565,1.9715057168447414,0.030545883394759044,1.5746046212676983,0.6798817967772102,0.2054790119107006,0.27995172153214837,-1.2564946179625986,-1.4388162435408303,0.6978362478661515,-0.6871087225198645,0.03376446352296217,-0.07695646388334659,1.1057890388523681,-1.4005037932977615,-1.514307743583307,-1.0950729859328534,-0.09349612285966388,-2.0742756957159862,-0.6539147900050394,2.7493473960748545,0.9275692397287629,0.32009980593724974,0.6253393120995153,0.6897118991535294,-1.5343373827748692,0.6488067241950675,0.09499686984715128,0.7803587474326844,0.1024905534892975],\"xaxis\":\"x9\",\"y\":[0.7976196639882999,0.5922242217557884,-0.5936558211354087,0.022889737562143964,-0.7367680014627671,1.455148237383089,-0.5603073766995768,-0.531457442213716,0.21612006273025253,-1.153928568100353,0.708915148731652,0.029122448527130168,-0.6297290422602668,-0.44383790732796613,1.3549183788923063,0.028530730010453784,1.4637991978375617,-0.9305632016645159,-0.20318553410806436,-0.37467046279084404,1.0109341991978813,-0.22405969354645341,0.3775979209944355,0.6819208943361197,0.21948686657547883,-0.8855312572802637,-1.2244651171204826,-0.6557842259775335,-1.2579946796424992,0.9255850502597677,0.256485696172891,0.3494234975024311,0.1612472287334242,-0.9385426920911395,0.09196273439151567,-0.056286623826050486,0.7112903619693386,0.6032100502594897,-0.0887452817572577,-0.1320521337148512,0.2977115970722861,-0.767727628403958,-1.7029435048088566,0.6029430120359184,0.722073112513006,0.4049464271158967,-0.6135234963403671,0.8883742843519561,0.6479646825765413,-0.9657130542158291,-0.8009242190004513,-1.2760479494411372,0.68148628681611,1.3298205147939715,-1.381416310098818,0.7866499268731464,-0.5424973166046481,0.06792592331081872,0.47204222316489075,-1.0770132793599556,-0.790160054910979,-0.9809606230685514,1.0039853077621204,-0.2672453111573401,1.2506689282154047,-0.4068011543582442,-0.7212725757206991,-0.5914654695141591,2.192279526986468,-1.3960956489970582,-0.7274259900966882,1.3132737931552732,-2.716463887848451,-0.9816790460261686,-1.3808497577907082,0.5796566161954262,0.6779723444576947,0.3301595076564153,-0.6875972660930066,-0.6315770476071847,-0.32890335277128885,1.7016557265423022,-1.1048930803856305,1.1464717236422435,0.8738336341324523,-0.26056748248510014,-0.5858677601300266,0.08289842846605516,0.0476306260013642,0.14509360396470272,0.6372599962828331,0.47983314760275164,-1.195633253690203,0.3344303114781469,-1.5598436317677304,-1.9170658786972896,-1.5841367337859373,-0.29802227813188487,1.2229853472529493,1.1867495337171539],\"yaxis\":\"y9\",\"type\":\"scatter\"},{\"line\":{\"color\":\"rgba(128, 128, 128, 1.0)\",\"dash\":\"solid\",\"shape\":\"linear\",\"width\":1.3},\"marker\":{\"size\":2,\"symbol\":\"circle\"},\"mode\":\"markers\",\"name\":\"C\",\"text\":\"\",\"x\":[-1.3658007014664313,-0.6350333815305984,-0.9225023455677859,-0.6236056824865273,-0.18356722515055598,-0.8282112839224751,-0.22599933977613648,-0.08427485525071632,-0.04947484313961995,0.8508207630027762,0.018825217556514274,0.08608633867607307,-0.9244306868787607,0.5485609902447441,1.177795597249583,-0.10932772012243774,-0.6650659901184788,-1.130925902347371,1.5504806364069426,-0.6935904582249032,1.4797097592255881,-0.4861265117217737,-0.06723767178783559,-1.070318252028669,0.19010870364430227,1.0944945696223813,0.9398514074931446,0.9270579274216835,1.7420449912679339,-1.7737531831587297,0.9748891216747543,0.028938685164870852,-0.5976961395226522,-0.35759118356467046,0.6362630122762118,-1.6652776675816219,0.046058986375401345,0.4223155973887687,-1.0240020155140628,1.757371706965391,-0.23212477117625419,-0.5253472403215348,1.545594814224598,0.20286626452325346,0.9505040704125001,0.2836453901331043,0.28185143876966146,0.47621993897237586,1.6908071967334568,-1.6194067333772713,-0.6523141481185137,0.32419451714924846,-0.6437146750787236,-0.5613024570103383,0.15659926612601785,1.216161214738801,1.4669291446392254,0.013413375094520001,0.6772940970325642,0.0011619705075164054,0.4983121764774387,0.5178283879895301,0.5111314025770597,-0.15103715454482886,-0.9993029513443423,1.7558076345328892,1.309351374593043,-0.7444034365155567,-0.10722007531162517,-0.11448009559783312,3.9990147561777287,0.2502565660393181,0.22495725342868372,-1.126490949731758,-0.7515807915122932,1.5185709325212653,0.6100340654423348,1.0186660650065034,0.5133949902762628,0.7207257255626729,0.5547838573778077,0.18709779037151372,-0.4187249372207891,0.4067555297536765,0.25733156690145603,-0.9765654247627013,-1.153711505883254,-0.08209547748935996,0.27169309371179057,0.1921783078755945,-0.41618004621276505,0.7461979831496948,-1.459595403754854,-1.1153918522124082,-0.09367478466593762,-1.11258801156455,0.42426910929003386,-0.3534061605676554,0.11272144129587136,1.1115790414692162],\"xaxis\":\"x10\",\"y\":[0.7976196639882999,0.5922242217557884,-0.5936558211354087,0.022889737562143964,-0.7367680014627671,1.455148237383089,-0.5603073766995768,-0.531457442213716,0.21612006273025253,-1.153928568100353,0.708915148731652,0.029122448527130168,-0.6297290422602668,-0.44383790732796613,1.3549183788923063,0.028530730010453784,1.4637991978375617,-0.9305632016645159,-0.20318553410806436,-0.37467046279084404,1.0109341991978813,-0.22405969354645341,0.3775979209944355,0.6819208943361197,0.21948686657547883,-0.8855312572802637,-1.2244651171204826,-0.6557842259775335,-1.2579946796424992,0.9255850502597677,0.256485696172891,0.3494234975024311,0.1612472287334242,-0.9385426920911395,0.09196273439151567,-0.056286623826050486,0.7112903619693386,0.6032100502594897,-0.0887452817572577,-0.1320521337148512,0.2977115970722861,-0.767727628403958,-1.7029435048088566,0.6029430120359184,0.722073112513006,0.4049464271158967,-0.6135234963403671,0.8883742843519561,0.6479646825765413,-0.9657130542158291,-0.8009242190004513,-1.2760479494411372,0.68148628681611,1.3298205147939715,-1.381416310098818,0.7866499268731464,-0.5424973166046481,0.06792592331081872,0.47204222316489075,-1.0770132793599556,-0.790160054910979,-0.9809606230685514,1.0039853077621204,-0.2672453111573401,1.2506689282154047,-0.4068011543582442,-0.7212725757206991,-0.5914654695141591,2.192279526986468,-1.3960956489970582,-0.7274259900966882,1.3132737931552732,-2.716463887848451,-0.9816790460261686,-1.3808497577907082,0.5796566161954262,0.6779723444576947,0.3301595076564153,-0.6875972660930066,-0.6315770476071847,-0.32890335277128885,1.7016557265423022,-1.1048930803856305,1.1464717236422435,0.8738336341324523,-0.26056748248510014,-0.5858677601300266,0.08289842846605516,0.0476306260013642,0.14509360396470272,0.6372599962828331,0.47983314760275164,-1.195633253690203,0.3344303114781469,-1.5598436317677304,-1.9170658786972896,-1.5841367337859373,-0.29802227813188487,1.2229853472529493,1.1867495337171539],\"yaxis\":\"y10\",\"type\":\"scatter\"},{\"histfunc\":\"count\",\"histnorm\":\"\",\"marker\":{\"color\":\"rgba(50, 171, 96, 1.0)\",\"line\":{\"color\":\"#4D5663\",\"width\":1.3}},\"name\":\"C\",\"nbinsx\":10,\"opacity\":0.8,\"orientation\":\"v\",\"x\":[0.7976196639882999,0.5922242217557884,-0.5936558211354087,0.022889737562143964,-0.7367680014627671,1.455148237383089,-0.5603073766995768,-0.531457442213716,0.21612006273025253,-1.153928568100353,0.708915148731652,0.029122448527130168,-0.6297290422602668,-0.44383790732796613,1.3549183788923063,0.028530730010453784,1.4637991978375617,-0.9305632016645159,-0.20318553410806436,-0.37467046279084404,1.0109341991978813,-0.22405969354645341,0.3775979209944355,0.6819208943361197,0.21948686657547883,-0.8855312572802637,-1.2244651171204826,-0.6557842259775335,-1.2579946796424992,0.9255850502597677,0.256485696172891,0.3494234975024311,0.1612472287334242,-0.9385426920911395,0.09196273439151567,-0.056286623826050486,0.7112903619693386,0.6032100502594897,-0.0887452817572577,-0.1320521337148512,0.2977115970722861,-0.767727628403958,-1.7029435048088566,0.6029430120359184,0.722073112513006,0.4049464271158967,-0.6135234963403671,0.8883742843519561,0.6479646825765413,-0.9657130542158291,-0.8009242190004513,-1.2760479494411372,0.68148628681611,1.3298205147939715,-1.381416310098818,0.7866499268731464,-0.5424973166046481,0.06792592331081872,0.47204222316489075,-1.0770132793599556,-0.790160054910979,-0.9809606230685514,1.0039853077621204,-0.2672453111573401,1.2506689282154047,-0.4068011543582442,-0.7212725757206991,-0.5914654695141591,2.192279526986468,-1.3960956489970582,-0.7274259900966882,1.3132737931552732,-2.716463887848451,-0.9816790460261686,-1.3808497577907082,0.5796566161954262,0.6779723444576947,0.3301595076564153,-0.6875972660930066,-0.6315770476071847,-0.32890335277128885,1.7016557265423022,-1.1048930803856305,1.1464717236422435,0.8738336341324523,-0.26056748248510014,-0.5858677601300266,0.08289842846605516,0.0476306260013642,0.14509360396470272,0.6372599962828331,0.47983314760275164,-1.195633253690203,0.3344303114781469,-1.5598436317677304,-1.9170658786972896,-1.5841367337859373,-0.29802227813188487,1.2229853472529493,1.1867495337171539],\"xaxis\":\"x11\",\"yaxis\":\"y11\",\"type\":\"histogram\"},{\"line\":{\"color\":\"rgba(128, 128, 128, 1.0)\",\"dash\":\"solid\",\"shape\":\"linear\",\"width\":1.3},\"marker\":{\"size\":2,\"symbol\":\"circle\"},\"mode\":\"markers\",\"name\":\"C\",\"text\":\"\",\"x\":[-0.01676273611883974,0.5803397636454248,-0.9914843496197014,2.079745266463118,0.09963289509793408,-1.5264767886339399,0.25144063077020046,0.5382700150202437,0.5255935445808945,2.1887319477382334,1.191552890004344,0.05349052125411241,0.5389078524411036,0.19087252828352078,-0.17470028756202827,-0.20933866317549638,-1.052678514499253,0.46789616080267776,1.1819098666298038,0.626122580752721,-0.33520185378191714,2.0467136265434305,0.19579408072465526,-0.09480369920507094,-1.4269257099352066,-0.2964332649358186,-0.1392813845087163,-0.272803639926009,0.6243147047456785,-1.1261389387994891,-0.5465163531790631,1.7020899291410607,0.1501383075361051,-0.4654903327374615,0.23595451979155638,1.2990981382104203,-1.251703316412179,-1.2109825729348684,0.06225080156632386,0.6622658123027308,-1.2384676961821592,0.281090348543609,-0.6920321346224054,-2.5051876833877236,0.9636314800694326,0.6734277974849716,1.9326372315187947,-1.1181224766885862,0.5536150600893577,-0.051233917309116576,-0.773507722797698,-1.9274774770775742,-0.5516587969256265,0.09042729345977363,0.017826107784951917,0.4178025369145226,0.45313375511709386,-0.12684533253761418,-1.2834545255555267,0.3837475308460146,-1.4836467753018732,1.7051405527036516,0.7874467272773418,-0.7849933389433503,0.44695587969064193,-1.3104080445756885,-0.3550595445515954,-1.3771707809159526,1.829783307047512,0.6150651255298384,0.3940454001110733,1.0822486569924945,0.6728778107784291,-0.32382155085456243,-0.5721840099504375,1.5759153220979334,-0.03602872455399964,0.10874158875401785,1.2151723212826315,0.054673478300902835,0.353376955400931,-1.287926992821108,1.1814070704408872,-0.11440511307712886,-0.8480872930359187,0.1602569895831079,-0.2598894317484706,0.5195867695858054,1.227003049790499,0.7748469660368112,0.788555464931521,0.19382462182550098,-0.9773509794734583,0.13162883343608456,-0.05087119261040653,-0.6836470938835728,1.2615016113759634,-2.0827809387584812,-0.4666234410833225,-1.104840281934689],\"xaxis\":\"x12\",\"y\":[0.7976196639882999,0.5922242217557884,-0.5936558211354087,0.022889737562143964,-0.7367680014627671,1.455148237383089,-0.5603073766995768,-0.531457442213716,0.21612006273025253,-1.153928568100353,0.708915148731652,0.029122448527130168,-0.6297290422602668,-0.44383790732796613,1.3549183788923063,0.028530730010453784,1.4637991978375617,-0.9305632016645159,-0.20318553410806436,-0.37467046279084404,1.0109341991978813,-0.22405969354645341,0.3775979209944355,0.6819208943361197,0.21948686657547883,-0.8855312572802637,-1.2244651171204826,-0.6557842259775335,-1.2579946796424992,0.9255850502597677,0.256485696172891,0.3494234975024311,0.1612472287334242,-0.9385426920911395,0.09196273439151567,-0.056286623826050486,0.7112903619693386,0.6032100502594897,-0.0887452817572577,-0.1320521337148512,0.2977115970722861,-0.767727628403958,-1.7029435048088566,0.6029430120359184,0.722073112513006,0.4049464271158967,-0.6135234963403671,0.8883742843519561,0.6479646825765413,-0.9657130542158291,-0.8009242190004513,-1.2760479494411372,0.68148628681611,1.3298205147939715,-1.381416310098818,0.7866499268731464,-0.5424973166046481,0.06792592331081872,0.47204222316489075,-1.0770132793599556,-0.790160054910979,-0.9809606230685514,1.0039853077621204,-0.2672453111573401,1.2506689282154047,-0.4068011543582442,-0.7212725757206991,-0.5914654695141591,2.192279526986468,-1.3960956489970582,-0.7274259900966882,1.3132737931552732,-2.716463887848451,-0.9816790460261686,-1.3808497577907082,0.5796566161954262,0.6779723444576947,0.3301595076564153,-0.6875972660930066,-0.6315770476071847,-0.32890335277128885,1.7016557265423022,-1.1048930803856305,1.1464717236422435,0.8738336341324523,-0.26056748248510014,-0.5858677601300266,0.08289842846605516,0.0476306260013642,0.14509360396470272,0.6372599962828331,0.47983314760275164,-1.195633253690203,0.3344303114781469,-1.5598436317677304,-1.9170658786972896,-1.5841367337859373,-0.29802227813188487,1.2229853472529493,1.1867495337171539],\"yaxis\":\"y12\",\"type\":\"scatter\"},{\"line\":{\"color\":\"rgba(128, 128, 128, 1.0)\",\"dash\":\"solid\",\"shape\":\"linear\",\"width\":1.3},\"marker\":{\"size\":2,\"symbol\":\"circle\"},\"mode\":\"markers\",\"name\":\"D\",\"text\":\"\",\"x\":[0.4625705346860569,-0.39776559619778035,0.45134849134936006,-0.13586989136117616,0.8666046795885229,0.6915422091449416,0.2879465812261424,0.8634873175971317,1.0636136020541438,1.0253235577750899,-0.31709420285086765,0.8118393443542882,1.2729161314443458,-0.04749879992679883,1.6212382555696152,0.7432177254591762,-0.7540751447799475,-1.1785769272722304,0.5554718080127589,0.9645479280032871,0.8649041685720121,-0.5549189890831625,-0.6218986150027163,-0.7194602403736984,-1.802095186977993,-0.26678732623986573,2.7238387138412192,0.615634491260396,0.007579856052334232,1.1290262523400951,1.587017275445863,-0.9189023976589287,1.4725054513406621,-0.48301228688987907,-1.3304701145449986,1.245831392521345,-1.0983440758617014,1.180857997707036,0.5440386879638087,0.5677057464677294,-0.788205121339689,-0.3199941722674541,-1.2771991364799633,-0.743349078501879,-1.1417746291284483,-0.5475290985702707,-3.2223848725883575,-0.2510964618123027,-1.7800437914056828,0.6437766633383795,-0.5237843931033407,-0.6820156552307822,1.8181209386254333,0.43912021962870396,-0.5779841176830209,-0.49567500878627896,1.5736513015848792,-0.4849414708447617,-0.030582237332559874,-0.7159901187440891,0.3815770903437842,-0.4643215828999029,1.0224124071713991,-0.30473964077199983,0.5854244150705185,-0.8103124473453914,0.819934226238514,-1.8347336449792389,-0.4460340648319405,1.6022942645681513,0.2227037950171565,1.9715057168447414,0.030545883394759044,1.5746046212676983,0.6798817967772102,0.2054790119107006,0.27995172153214837,-1.2564946179625986,-1.4388162435408303,0.6978362478661515,-0.6871087225198645,0.03376446352296217,-0.07695646388334659,1.1057890388523681,-1.4005037932977615,-1.514307743583307,-1.0950729859328534,-0.09349612285966388,-2.0742756957159862,-0.6539147900050394,2.7493473960748545,0.9275692397287629,0.32009980593724974,0.6253393120995153,0.6897118991535294,-1.5343373827748692,0.6488067241950675,0.09499686984715128,0.7803587474326844,0.1024905534892975],\"xaxis\":\"x13\",\"y\":[-0.01676273611883974,0.5803397636454248,-0.9914843496197014,2.079745266463118,0.09963289509793408,-1.5264767886339399,0.25144063077020046,0.5382700150202437,0.5255935445808945,2.1887319477382334,1.191552890004344,0.05349052125411241,0.5389078524411036,0.19087252828352078,-0.17470028756202827,-0.20933866317549638,-1.052678514499253,0.46789616080267776,1.1819098666298038,0.626122580752721,-0.33520185378191714,2.0467136265434305,0.19579408072465526,-0.09480369920507094,-1.4269257099352066,-0.2964332649358186,-0.1392813845087163,-0.272803639926009,0.6243147047456785,-1.1261389387994891,-0.5465163531790631,1.7020899291410607,0.1501383075361051,-0.4654903327374615,0.23595451979155638,1.2990981382104203,-1.251703316412179,-1.2109825729348684,0.06225080156632386,0.6622658123027308,-1.2384676961821592,0.281090348543609,-0.6920321346224054,-2.5051876833877236,0.9636314800694326,0.6734277974849716,1.9326372315187947,-1.1181224766885862,0.5536150600893577,-0.051233917309116576,-0.773507722797698,-1.9274774770775742,-0.5516587969256265,0.09042729345977363,0.017826107784951917,0.4178025369145226,0.45313375511709386,-0.12684533253761418,-1.2834545255555267,0.3837475308460146,-1.4836467753018732,1.7051405527036516,0.7874467272773418,-0.7849933389433503,0.44695587969064193,-1.3104080445756885,-0.3550595445515954,-1.3771707809159526,1.829783307047512,0.6150651255298384,0.3940454001110733,1.0822486569924945,0.6728778107784291,-0.32382155085456243,-0.5721840099504375,1.5759153220979334,-0.03602872455399964,0.10874158875401785,1.2151723212826315,0.054673478300902835,0.353376955400931,-1.287926992821108,1.1814070704408872,-0.11440511307712886,-0.8480872930359187,0.1602569895831079,-0.2598894317484706,0.5195867695858054,1.227003049790499,0.7748469660368112,0.788555464931521,0.19382462182550098,-0.9773509794734583,0.13162883343608456,-0.05087119261040653,-0.6836470938835728,1.2615016113759634,-2.0827809387584812,-0.4666234410833225,-1.104840281934689],\"yaxis\":\"y13\",\"type\":\"scatter\"},{\"line\":{\"color\":\"rgba(128, 128, 128, 1.0)\",\"dash\":\"solid\",\"shape\":\"linear\",\"width\":1.3},\"marker\":{\"size\":2,\"symbol\":\"circle\"},\"mode\":\"markers\",\"name\":\"D\",\"text\":\"\",\"x\":[-1.3658007014664313,-0.6350333815305984,-0.9225023455677859,-0.6236056824865273,-0.18356722515055598,-0.8282112839224751,-0.22599933977613648,-0.08427485525071632,-0.04947484313961995,0.8508207630027762,0.018825217556514274,0.08608633867607307,-0.9244306868787607,0.5485609902447441,1.177795597249583,-0.10932772012243774,-0.6650659901184788,-1.130925902347371,1.5504806364069426,-0.6935904582249032,1.4797097592255881,-0.4861265117217737,-0.06723767178783559,-1.070318252028669,0.19010870364430227,1.0944945696223813,0.9398514074931446,0.9270579274216835,1.7420449912679339,-1.7737531831587297,0.9748891216747543,0.028938685164870852,-0.5976961395226522,-0.35759118356467046,0.6362630122762118,-1.6652776675816219,0.046058986375401345,0.4223155973887687,-1.0240020155140628,1.757371706965391,-0.23212477117625419,-0.5253472403215348,1.545594814224598,0.20286626452325346,0.9505040704125001,0.2836453901331043,0.28185143876966146,0.47621993897237586,1.6908071967334568,-1.6194067333772713,-0.6523141481185137,0.32419451714924846,-0.6437146750787236,-0.5613024570103383,0.15659926612601785,1.216161214738801,1.4669291446392254,0.013413375094520001,0.6772940970325642,0.0011619705075164054,0.4983121764774387,0.5178283879895301,0.5111314025770597,-0.15103715454482886,-0.9993029513443423,1.7558076345328892,1.309351374593043,-0.7444034365155567,-0.10722007531162517,-0.11448009559783312,3.9990147561777287,0.2502565660393181,0.22495725342868372,-1.126490949731758,-0.7515807915122932,1.5185709325212653,0.6100340654423348,1.0186660650065034,0.5133949902762628,0.7207257255626729,0.5547838573778077,0.18709779037151372,-0.4187249372207891,0.4067555297536765,0.25733156690145603,-0.9765654247627013,-1.153711505883254,-0.08209547748935996,0.27169309371179057,0.1921783078755945,-0.41618004621276505,0.7461979831496948,-1.459595403754854,-1.1153918522124082,-0.09367478466593762,-1.11258801156455,0.42426910929003386,-0.3534061605676554,0.11272144129587136,1.1115790414692162],\"xaxis\":\"x14\",\"y\":[-0.01676273611883974,0.5803397636454248,-0.9914843496197014,2.079745266463118,0.09963289509793408,-1.5264767886339399,0.25144063077020046,0.5382700150202437,0.5255935445808945,2.1887319477382334,1.191552890004344,0.05349052125411241,0.5389078524411036,0.19087252828352078,-0.17470028756202827,-0.20933866317549638,-1.052678514499253,0.46789616080267776,1.1819098666298038,0.626122580752721,-0.33520185378191714,2.0467136265434305,0.19579408072465526,-0.09480369920507094,-1.4269257099352066,-0.2964332649358186,-0.1392813845087163,-0.272803639926009,0.6243147047456785,-1.1261389387994891,-0.5465163531790631,1.7020899291410607,0.1501383075361051,-0.4654903327374615,0.23595451979155638,1.2990981382104203,-1.251703316412179,-1.2109825729348684,0.06225080156632386,0.6622658123027308,-1.2384676961821592,0.281090348543609,-0.6920321346224054,-2.5051876833877236,0.9636314800694326,0.6734277974849716,1.9326372315187947,-1.1181224766885862,0.5536150600893577,-0.051233917309116576,-0.773507722797698,-1.9274774770775742,-0.5516587969256265,0.09042729345977363,0.017826107784951917,0.4178025369145226,0.45313375511709386,-0.12684533253761418,-1.2834545255555267,0.3837475308460146,-1.4836467753018732,1.7051405527036516,0.7874467272773418,-0.7849933389433503,0.44695587969064193,-1.3104080445756885,-0.3550595445515954,-1.3771707809159526,1.829783307047512,0.6150651255298384,0.3940454001110733,1.0822486569924945,0.6728778107784291,-0.32382155085456243,-0.5721840099504375,1.5759153220979334,-0.03602872455399964,0.10874158875401785,1.2151723212826315,0.054673478300902835,0.353376955400931,-1.287926992821108,1.1814070704408872,-0.11440511307712886,-0.8480872930359187,0.1602569895831079,-0.2598894317484706,0.5195867695858054,1.227003049790499,0.7748469660368112,0.788555464931521,0.19382462182550098,-0.9773509794734583,0.13162883343608456,-0.05087119261040653,-0.6836470938835728,1.2615016113759634,-2.0827809387584812,-0.4666234410833225,-1.104840281934689],\"yaxis\":\"y14\",\"type\":\"scatter\"},{\"line\":{\"color\":\"rgba(128, 128, 128, 1.0)\",\"dash\":\"solid\",\"shape\":\"linear\",\"width\":1.3},\"marker\":{\"size\":2,\"symbol\":\"circle\"},\"mode\":\"markers\",\"name\":\"D\",\"text\":\"\",\"x\":[0.7976196639882999,0.5922242217557884,-0.5936558211354087,0.022889737562143964,-0.7367680014627671,1.455148237383089,-0.5603073766995768,-0.531457442213716,0.21612006273025253,-1.153928568100353,0.708915148731652,0.029122448527130168,-0.6297290422602668,-0.44383790732796613,1.3549183788923063,0.028530730010453784,1.4637991978375617,-0.9305632016645159,-0.20318553410806436,-0.37467046279084404,1.0109341991978813,-0.22405969354645341,0.3775979209944355,0.6819208943361197,0.21948686657547883,-0.8855312572802637,-1.2244651171204826,-0.6557842259775335,-1.2579946796424992,0.9255850502597677,0.256485696172891,0.3494234975024311,0.1612472287334242,-0.9385426920911395,0.09196273439151567,-0.056286623826050486,0.7112903619693386,0.6032100502594897,-0.0887452817572577,-0.1320521337148512,0.2977115970722861,-0.767727628403958,-1.7029435048088566,0.6029430120359184,0.722073112513006,0.4049464271158967,-0.6135234963403671,0.8883742843519561,0.6479646825765413,-0.9657130542158291,-0.8009242190004513,-1.2760479494411372,0.68148628681611,1.3298205147939715,-1.381416310098818,0.7866499268731464,-0.5424973166046481,0.06792592331081872,0.47204222316489075,-1.0770132793599556,-0.790160054910979,-0.9809606230685514,1.0039853077621204,-0.2672453111573401,1.2506689282154047,-0.4068011543582442,-0.7212725757206991,-0.5914654695141591,2.192279526986468,-1.3960956489970582,-0.7274259900966882,1.3132737931552732,-2.716463887848451,-0.9816790460261686,-1.3808497577907082,0.5796566161954262,0.6779723444576947,0.3301595076564153,-0.6875972660930066,-0.6315770476071847,-0.32890335277128885,1.7016557265423022,-1.1048930803856305,1.1464717236422435,0.8738336341324523,-0.26056748248510014,-0.5858677601300266,0.08289842846605516,0.0476306260013642,0.14509360396470272,0.6372599962828331,0.47983314760275164,-1.195633253690203,0.3344303114781469,-1.5598436317677304,-1.9170658786972896,-1.5841367337859373,-0.29802227813188487,1.2229853472529493,1.1867495337171539],\"xaxis\":\"x15\",\"y\":[-0.01676273611883974,0.5803397636454248,-0.9914843496197014,2.079745266463118,0.09963289509793408,-1.5264767886339399,0.25144063077020046,0.5382700150202437,0.5255935445808945,2.1887319477382334,1.191552890004344,0.05349052125411241,0.5389078524411036,0.19087252828352078,-0.17470028756202827,-0.20933866317549638,-1.052678514499253,0.46789616080267776,1.1819098666298038,0.626122580752721,-0.33520185378191714,2.0467136265434305,0.19579408072465526,-0.09480369920507094,-1.4269257099352066,-0.2964332649358186,-0.1392813845087163,-0.272803639926009,0.6243147047456785,-1.1261389387994891,-0.5465163531790631,1.7020899291410607,0.1501383075361051,-0.4654903327374615,0.23595451979155638,1.2990981382104203,-1.251703316412179,-1.2109825729348684,0.06225080156632386,0.6622658123027308,-1.2384676961821592,0.281090348543609,-0.6920321346224054,-2.5051876833877236,0.9636314800694326,0.6734277974849716,1.9326372315187947,-1.1181224766885862,0.5536150600893577,-0.051233917309116576,-0.773507722797698,-1.9274774770775742,-0.5516587969256265,0.09042729345977363,0.017826107784951917,0.4178025369145226,0.45313375511709386,-0.12684533253761418,-1.2834545255555267,0.3837475308460146,-1.4836467753018732,1.7051405527036516,0.7874467272773418,-0.7849933389433503,0.44695587969064193,-1.3104080445756885,-0.3550595445515954,-1.3771707809159526,1.829783307047512,0.6150651255298384,0.3940454001110733,1.0822486569924945,0.6728778107784291,-0.32382155085456243,-0.5721840099504375,1.5759153220979334,-0.03602872455399964,0.10874158875401785,1.2151723212826315,0.054673478300902835,0.353376955400931,-1.287926992821108,1.1814070704408872,-0.11440511307712886,-0.8480872930359187,0.1602569895831079,-0.2598894317484706,0.5195867695858054,1.227003049790499,0.7748469660368112,0.788555464931521,0.19382462182550098,-0.9773509794734583,0.13162883343608456,-0.05087119261040653,-0.6836470938835728,1.2615016113759634,-2.0827809387584812,-0.4666234410833225,-1.104840281934689],\"yaxis\":\"y15\",\"type\":\"scatter\"},{\"histfunc\":\"count\",\"histnorm\":\"\",\"marker\":{\"color\":\"rgba(128, 0, 128, 1.0)\",\"line\":{\"color\":\"#4D5663\",\"width\":1.3}},\"name\":\"D\",\"nbinsx\":10,\"opacity\":0.8,\"orientation\":\"v\",\"x\":[-0.01676273611883974,0.5803397636454248,-0.9914843496197014,2.079745266463118,0.09963289509793408,-1.5264767886339399,0.25144063077020046,0.5382700150202437,0.5255935445808945,2.1887319477382334,1.191552890004344,0.05349052125411241,0.5389078524411036,0.19087252828352078,-0.17470028756202827,-0.20933866317549638,-1.052678514499253,0.46789616080267776,1.1819098666298038,0.626122580752721,-0.33520185378191714,2.0467136265434305,0.19579408072465526,-0.09480369920507094,-1.4269257099352066,-0.2964332649358186,-0.1392813845087163,-0.272803639926009,0.6243147047456785,-1.1261389387994891,-0.5465163531790631,1.7020899291410607,0.1501383075361051,-0.4654903327374615,0.23595451979155638,1.2990981382104203,-1.251703316412179,-1.2109825729348684,0.06225080156632386,0.6622658123027308,-1.2384676961821592,0.281090348543609,-0.6920321346224054,-2.5051876833877236,0.9636314800694326,0.6734277974849716,1.9326372315187947,-1.1181224766885862,0.5536150600893577,-0.051233917309116576,-0.773507722797698,-1.9274774770775742,-0.5516587969256265,0.09042729345977363,0.017826107784951917,0.4178025369145226,0.45313375511709386,-0.12684533253761418,-1.2834545255555267,0.3837475308460146,-1.4836467753018732,1.7051405527036516,0.7874467272773418,-0.7849933389433503,0.44695587969064193,-1.3104080445756885,-0.3550595445515954,-1.3771707809159526,1.829783307047512,0.6150651255298384,0.3940454001110733,1.0822486569924945,0.6728778107784291,-0.32382155085456243,-0.5721840099504375,1.5759153220979334,-0.03602872455399964,0.10874158875401785,1.2151723212826315,0.054673478300902835,0.353376955400931,-1.287926992821108,1.1814070704408872,-0.11440511307712886,-0.8480872930359187,0.1602569895831079,-0.2598894317484706,0.5195867695858054,1.227003049790499,0.7748469660368112,0.788555464931521,0.19382462182550098,-0.9773509794734583,0.13162883343608456,-0.05087119261040653,-0.6836470938835728,1.2615016113759634,-2.0827809387584812,-0.4666234410833225,-1.104840281934689],\"xaxis\":\"x16\",\"yaxis\":\"y16\",\"type\":\"histogram\"}],                        {\"bargap\":0.02,\"legend\":{\"bgcolor\":\"#F5F6F9\",\"font\":{\"color\":\"#4D5663\"}},\"paper_bgcolor\":\"#F5F6F9\",\"plot_bgcolor\":\"#F5F6F9\",\"showlegend\":false,\"template\":{\"data\":{\"barpolar\":[{\"marker\":{\"line\":{\"color\":\"#E5ECF6\",\"width\":0.5},\"pattern\":{\"fillmode\":\"overlay\",\"size\":10,\"solidity\":0.2}},\"type\":\"barpolar\"}],\"bar\":[{\"error_x\":{\"color\":\"#2a3f5f\"},\"error_y\":{\"color\":\"#2a3f5f\"},\"marker\":{\"line\":{\"color\":\"#E5ECF6\",\"width\":0.5},\"pattern\":{\"fillmode\":\"overlay\",\"size\":10,\"solidity\":0.2}},\"type\":\"bar\"}],\"carpet\":[{\"aaxis\":{\"endlinecolor\":\"#2a3f5f\",\"gridcolor\":\"white\",\"linecolor\":\"white\",\"minorgridcolor\":\"white\",\"startlinecolor\":\"#2a3f5f\"},\"baxis\":{\"endlinecolor\":\"#2a3f5f\",\"gridcolor\":\"white\",\"linecolor\":\"white\",\"minorgridcolor\":\"white\",\"startlinecolor\":\"#2a3f5f\"},\"type\":\"carpet\"}],\"choropleth\":[{\"colorbar\":{\"outlinewidth\":0,\"ticks\":\"\"},\"type\":\"choropleth\"}],\"contourcarpet\":[{\"colorbar\":{\"outlinewidth\":0,\"ticks\":\"\"},\"type\":\"contourcarpet\"}],\"contour\":[{\"colorbar\":{\"outlinewidth\":0,\"ticks\":\"\"},\"colorscale\":[[0.0,\"#0d0887\"],[0.1111111111111111,\"#46039f\"],[0.2222222222222222,\"#7201a8\"],[0.3333333333333333,\"#9c179e\"],[0.4444444444444444,\"#bd3786\"],[0.5555555555555556,\"#d8576b\"],[0.6666666666666666,\"#ed7953\"],[0.7777777777777778,\"#fb9f3a\"],[0.8888888888888888,\"#fdca26\"],[1.0,\"#f0f921\"]],\"type\":\"contour\"}],\"heatmapgl\":[{\"colorbar\":{\"outlinewidth\":0,\"ticks\":\"\"},\"colorscale\":[[0.0,\"#0d0887\"],[0.1111111111111111,\"#46039f\"],[0.2222222222222222,\"#7201a8\"],[0.3333333333333333,\"#9c179e\"],[0.4444444444444444,\"#bd3786\"],[0.5555555555555556,\"#d8576b\"],[0.6666666666666666,\"#ed7953\"],[0.7777777777777778,\"#fb9f3a\"],[0.8888888888888888,\"#fdca26\"],[1.0,\"#f0f921\"]],\"type\":\"heatmapgl\"}],\"heatmap\":[{\"colorbar\":{\"outlinewidth\":0,\"ticks\":\"\"},\"colorscale\":[[0.0,\"#0d0887\"],[0.1111111111111111,\"#46039f\"],[0.2222222222222222,\"#7201a8\"],[0.3333333333333333,\"#9c179e\"],[0.4444444444444444,\"#bd3786\"],[0.5555555555555556,\"#d8576b\"],[0.6666666666666666,\"#ed7953\"],[0.7777777777777778,\"#fb9f3a\"],[0.8888888888888888,\"#fdca26\"],[1.0,\"#f0f921\"]],\"type\":\"heatmap\"}],\"histogram2dcontour\":[{\"colorbar\":{\"outlinewidth\":0,\"ticks\":\"\"},\"colorscale\":[[0.0,\"#0d0887\"],[0.1111111111111111,\"#46039f\"],[0.2222222222222222,\"#7201a8\"],[0.3333333333333333,\"#9c179e\"],[0.4444444444444444,\"#bd3786\"],[0.5555555555555556,\"#d8576b\"],[0.6666666666666666,\"#ed7953\"],[0.7777777777777778,\"#fb9f3a\"],[0.8888888888888888,\"#fdca26\"],[1.0,\"#f0f921\"]],\"type\":\"histogram2dcontour\"}],\"histogram2d\":[{\"colorbar\":{\"outlinewidth\":0,\"ticks\":\"\"},\"colorscale\":[[0.0,\"#0d0887\"],[0.1111111111111111,\"#46039f\"],[0.2222222222222222,\"#7201a8\"],[0.3333333333333333,\"#9c179e\"],[0.4444444444444444,\"#bd3786\"],[0.5555555555555556,\"#d8576b\"],[0.6666666666666666,\"#ed7953\"],[0.7777777777777778,\"#fb9f3a\"],[0.8888888888888888,\"#fdca26\"],[1.0,\"#f0f921\"]],\"type\":\"histogram2d\"}],\"histogram\":[{\"marker\":{\"pattern\":{\"fillmode\":\"overlay\",\"size\":10,\"solidity\":0.2}},\"type\":\"histogram\"}],\"mesh3d\":[{\"colorbar\":{\"outlinewidth\":0,\"ticks\":\"\"},\"type\":\"mesh3d\"}],\"parcoords\":[{\"line\":{\"colorbar\":{\"outlinewidth\":0,\"ticks\":\"\"}},\"type\":\"parcoords\"}],\"pie\":[{\"automargin\":true,\"type\":\"pie\"}],\"scatter3d\":[{\"line\":{\"colorbar\":{\"outlinewidth\":0,\"ticks\":\"\"}},\"marker\":{\"colorbar\":{\"outlinewidth\":0,\"ticks\":\"\"}},\"type\":\"scatter3d\"}],\"scattercarpet\":[{\"marker\":{\"colorbar\":{\"outlinewidth\":0,\"ticks\":\"\"}},\"type\":\"scattercarpet\"}],\"scattergeo\":[{\"marker\":{\"colorbar\":{\"outlinewidth\":0,\"ticks\":\"\"}},\"type\":\"scattergeo\"}],\"scattergl\":[{\"marker\":{\"colorbar\":{\"outlinewidth\":0,\"ticks\":\"\"}},\"type\":\"scattergl\"}],\"scattermapbox\":[{\"marker\":{\"colorbar\":{\"outlinewidth\":0,\"ticks\":\"\"}},\"type\":\"scattermapbox\"}],\"scatterpolargl\":[{\"marker\":{\"colorbar\":{\"outlinewidth\":0,\"ticks\":\"\"}},\"type\":\"scatterpolargl\"}],\"scatterpolar\":[{\"marker\":{\"colorbar\":{\"outlinewidth\":0,\"ticks\":\"\"}},\"type\":\"scatterpolar\"}],\"scatter\":[{\"fillpattern\":{\"fillmode\":\"overlay\",\"size\":10,\"solidity\":0.2},\"type\":\"scatter\"}],\"scatterternary\":[{\"marker\":{\"colorbar\":{\"outlinewidth\":0,\"ticks\":\"\"}},\"type\":\"scatterternary\"}],\"surface\":[{\"colorbar\":{\"outlinewidth\":0,\"ticks\":\"\"},\"colorscale\":[[0.0,\"#0d0887\"],[0.1111111111111111,\"#46039f\"],[0.2222222222222222,\"#7201a8\"],[0.3333333333333333,\"#9c179e\"],[0.4444444444444444,\"#bd3786\"],[0.5555555555555556,\"#d8576b\"],[0.6666666666666666,\"#ed7953\"],[0.7777777777777778,\"#fb9f3a\"],[0.8888888888888888,\"#fdca26\"],[1.0,\"#f0f921\"]],\"type\":\"surface\"}],\"table\":[{\"cells\":{\"fill\":{\"color\":\"#EBF0F8\"},\"line\":{\"color\":\"white\"}},\"header\":{\"fill\":{\"color\":\"#C8D4E3\"},\"line\":{\"color\":\"white\"}},\"type\":\"table\"}]},\"layout\":{\"annotationdefaults\":{\"arrowcolor\":\"#2a3f5f\",\"arrowhead\":0,\"arrowwidth\":1},\"autotypenumbers\":\"strict\",\"coloraxis\":{\"colorbar\":{\"outlinewidth\":0,\"ticks\":\"\"}},\"colorscale\":{\"diverging\":[[0,\"#8e0152\"],[0.1,\"#c51b7d\"],[0.2,\"#de77ae\"],[0.3,\"#f1b6da\"],[0.4,\"#fde0ef\"],[0.5,\"#f7f7f7\"],[0.6,\"#e6f5d0\"],[0.7,\"#b8e186\"],[0.8,\"#7fbc41\"],[0.9,\"#4d9221\"],[1,\"#276419\"]],\"sequential\":[[0.0,\"#0d0887\"],[0.1111111111111111,\"#46039f\"],[0.2222222222222222,\"#7201a8\"],[0.3333333333333333,\"#9c179e\"],[0.4444444444444444,\"#bd3786\"],[0.5555555555555556,\"#d8576b\"],[0.6666666666666666,\"#ed7953\"],[0.7777777777777778,\"#fb9f3a\"],[0.8888888888888888,\"#fdca26\"],[1.0,\"#f0f921\"]],\"sequentialminus\":[[0.0,\"#0d0887\"],[0.1111111111111111,\"#46039f\"],[0.2222222222222222,\"#7201a8\"],[0.3333333333333333,\"#9c179e\"],[0.4444444444444444,\"#bd3786\"],[0.5555555555555556,\"#d8576b\"],[0.6666666666666666,\"#ed7953\"],[0.7777777777777778,\"#fb9f3a\"],[0.8888888888888888,\"#fdca26\"],[1.0,\"#f0f921\"]]},\"colorway\":[\"#636efa\",\"#EF553B\",\"#00cc96\",\"#ab63fa\",\"#FFA15A\",\"#19d3f3\",\"#FF6692\",\"#B6E880\",\"#FF97FF\",\"#FECB52\"],\"font\":{\"color\":\"#2a3f5f\"},\"geo\":{\"bgcolor\":\"white\",\"lakecolor\":\"white\",\"landcolor\":\"#E5ECF6\",\"showlakes\":true,\"showland\":true,\"subunitcolor\":\"white\"},\"hoverlabel\":{\"align\":\"left\"},\"hovermode\":\"closest\",\"mapbox\":{\"style\":\"light\"},\"paper_bgcolor\":\"white\",\"plot_bgcolor\":\"#E5ECF6\",\"polar\":{\"angularaxis\":{\"gridcolor\":\"white\",\"linecolor\":\"white\",\"ticks\":\"\"},\"bgcolor\":\"#E5ECF6\",\"radialaxis\":{\"gridcolor\":\"white\",\"linecolor\":\"white\",\"ticks\":\"\"}},\"scene\":{\"xaxis\":{\"backgroundcolor\":\"#E5ECF6\",\"gridcolor\":\"white\",\"gridwidth\":2,\"linecolor\":\"white\",\"showbackground\":true,\"ticks\":\"\",\"zerolinecolor\":\"white\"},\"yaxis\":{\"backgroundcolor\":\"#E5ECF6\",\"gridcolor\":\"white\",\"gridwidth\":2,\"linecolor\":\"white\",\"showbackground\":true,\"ticks\":\"\",\"zerolinecolor\":\"white\"},\"zaxis\":{\"backgroundcolor\":\"#E5ECF6\",\"gridcolor\":\"white\",\"gridwidth\":2,\"linecolor\":\"white\",\"showbackground\":true,\"ticks\":\"\",\"zerolinecolor\":\"white\"}},\"shapedefaults\":{\"line\":{\"color\":\"#2a3f5f\"}},\"ternary\":{\"aaxis\":{\"gridcolor\":\"white\",\"linecolor\":\"white\",\"ticks\":\"\"},\"baxis\":{\"gridcolor\":\"white\",\"linecolor\":\"white\",\"ticks\":\"\"},\"bgcolor\":\"#E5ECF6\",\"caxis\":{\"gridcolor\":\"white\",\"linecolor\":\"white\",\"ticks\":\"\"}},\"title\":{\"x\":0.05},\"xaxis\":{\"automargin\":true,\"gridcolor\":\"white\",\"linecolor\":\"white\",\"ticks\":\"\",\"title\":{\"standoff\":15},\"zerolinecolor\":\"white\",\"zerolinewidth\":2},\"yaxis\":{\"automargin\":true,\"gridcolor\":\"white\",\"linecolor\":\"white\",\"ticks\":\"\",\"title\":{\"standoff\":15},\"zerolinecolor\":\"white\",\"zerolinewidth\":2}}},\"title\":{\"font\":{\"color\":\"#4D5663\"}},\"xaxis\":{\"anchor\":\"y\",\"domain\":[0.0,0.2125],\"gridcolor\":\"#E1E5ED\",\"showgrid\":false,\"tickfont\":{\"color\":\"#4D5663\"},\"title\":{\"font\":{\"color\":\"#4D5663\"},\"text\":\"\"},\"zerolinecolor\":\"#E1E5ED\"},\"yaxis\":{\"anchor\":\"x\",\"domain\":[0.8025,1.0],\"gridcolor\":\"#E1E5ED\",\"showgrid\":false,\"tickfont\":{\"color\":\"#4D5663\"},\"title\":{\"font\":{\"color\":\"#4D5663\"},\"text\":\"\"},\"zerolinecolor\":\"#E1E5ED\"},\"xaxis2\":{\"anchor\":\"y2\",\"domain\":[0.2625,0.475],\"gridcolor\":\"#E1E5ED\",\"showgrid\":false,\"tickfont\":{\"color\":\"#4D5663\"},\"title\":{\"font\":{\"color\":\"#4D5663\"},\"text\":\"\"},\"zerolinecolor\":\"#E1E5ED\"},\"yaxis2\":{\"anchor\":\"x2\",\"domain\":[0.8025,1.0],\"gridcolor\":\"#E1E5ED\",\"showgrid\":false,\"tickfont\":{\"color\":\"#4D5663\"},\"title\":{\"font\":{\"color\":\"#4D5663\"},\"text\":\"\"},\"zerolinecolor\":\"#E1E5ED\"},\"xaxis3\":{\"anchor\":\"y3\",\"domain\":[0.525,0.7375],\"gridcolor\":\"#E1E5ED\",\"showgrid\":false,\"tickfont\":{\"color\":\"#4D5663\"},\"title\":{\"font\":{\"color\":\"#4D5663\"},\"text\":\"\"},\"zerolinecolor\":\"#E1E5ED\"},\"yaxis3\":{\"anchor\":\"x3\",\"domain\":[0.8025,1.0],\"gridcolor\":\"#E1E5ED\",\"showgrid\":false,\"tickfont\":{\"color\":\"#4D5663\"},\"title\":{\"font\":{\"color\":\"#4D5663\"},\"text\":\"\"},\"zerolinecolor\":\"#E1E5ED\"},\"xaxis4\":{\"anchor\":\"y4\",\"domain\":[0.7875,1.0],\"gridcolor\":\"#E1E5ED\",\"showgrid\":false,\"tickfont\":{\"color\":\"#4D5663\"},\"title\":{\"font\":{\"color\":\"#4D5663\"},\"text\":\"\"},\"zerolinecolor\":\"#E1E5ED\"},\"yaxis4\":{\"anchor\":\"x4\",\"domain\":[0.8025,1.0],\"gridcolor\":\"#E1E5ED\",\"showgrid\":false,\"tickfont\":{\"color\":\"#4D5663\"},\"title\":{\"font\":{\"color\":\"#4D5663\"},\"text\":\"\"},\"zerolinecolor\":\"#E1E5ED\"},\"xaxis5\":{\"anchor\":\"y5\",\"domain\":[0.0,0.2125],\"gridcolor\":\"#E1E5ED\",\"showgrid\":false,\"tickfont\":{\"color\":\"#4D5663\"},\"title\":{\"font\":{\"color\":\"#4D5663\"},\"text\":\"\"},\"zerolinecolor\":\"#E1E5ED\"},\"yaxis5\":{\"anchor\":\"x5\",\"domain\":[0.535,0.7325],\"gridcolor\":\"#E1E5ED\",\"showgrid\":false,\"tickfont\":{\"color\":\"#4D5663\"},\"title\":{\"font\":{\"color\":\"#4D5663\"},\"text\":\"\"},\"zerolinecolor\":\"#E1E5ED\"},\"xaxis6\":{\"anchor\":\"y6\",\"domain\":[0.2625,0.475],\"gridcolor\":\"#E1E5ED\",\"showgrid\":false,\"tickfont\":{\"color\":\"#4D5663\"},\"title\":{\"font\":{\"color\":\"#4D5663\"},\"text\":\"\"},\"zerolinecolor\":\"#E1E5ED\"},\"yaxis6\":{\"anchor\":\"x6\",\"domain\":[0.535,0.7325],\"gridcolor\":\"#E1E5ED\",\"showgrid\":false,\"tickfont\":{\"color\":\"#4D5663\"},\"title\":{\"font\":{\"color\":\"#4D5663\"},\"text\":\"\"},\"zerolinecolor\":\"#E1E5ED\"},\"xaxis7\":{\"anchor\":\"y7\",\"domain\":[0.525,0.7375],\"gridcolor\":\"#E1E5ED\",\"showgrid\":false,\"tickfont\":{\"color\":\"#4D5663\"},\"title\":{\"font\":{\"color\":\"#4D5663\"},\"text\":\"\"},\"zerolinecolor\":\"#E1E5ED\"},\"yaxis7\":{\"anchor\":\"x7\",\"domain\":[0.535,0.7325],\"gridcolor\":\"#E1E5ED\",\"showgrid\":false,\"tickfont\":{\"color\":\"#4D5663\"},\"title\":{\"font\":{\"color\":\"#4D5663\"},\"text\":\"\"},\"zerolinecolor\":\"#E1E5ED\"},\"xaxis8\":{\"anchor\":\"y8\",\"domain\":[0.7875,1.0],\"gridcolor\":\"#E1E5ED\",\"showgrid\":false,\"tickfont\":{\"color\":\"#4D5663\"},\"title\":{\"font\":{\"color\":\"#4D5663\"},\"text\":\"\"},\"zerolinecolor\":\"#E1E5ED\"},\"yaxis8\":{\"anchor\":\"x8\",\"domain\":[0.535,0.7325],\"gridcolor\":\"#E1E5ED\",\"showgrid\":false,\"tickfont\":{\"color\":\"#4D5663\"},\"title\":{\"font\":{\"color\":\"#4D5663\"},\"text\":\"\"},\"zerolinecolor\":\"#E1E5ED\"},\"xaxis9\":{\"anchor\":\"y9\",\"domain\":[0.0,0.2125],\"gridcolor\":\"#E1E5ED\",\"showgrid\":false,\"tickfont\":{\"color\":\"#4D5663\"},\"title\":{\"font\":{\"color\":\"#4D5663\"},\"text\":\"\"},\"zerolinecolor\":\"#E1E5ED\"},\"yaxis9\":{\"anchor\":\"x9\",\"domain\":[0.2675,0.465],\"gridcolor\":\"#E1E5ED\",\"showgrid\":false,\"tickfont\":{\"color\":\"#4D5663\"},\"title\":{\"font\":{\"color\":\"#4D5663\"},\"text\":\"\"},\"zerolinecolor\":\"#E1E5ED\"},\"xaxis10\":{\"anchor\":\"y10\",\"domain\":[0.2625,0.475],\"gridcolor\":\"#E1E5ED\",\"showgrid\":false,\"tickfont\":{\"color\":\"#4D5663\"},\"title\":{\"font\":{\"color\":\"#4D5663\"},\"text\":\"\"},\"zerolinecolor\":\"#E1E5ED\"},\"yaxis10\":{\"anchor\":\"x10\",\"domain\":[0.2675,0.465],\"gridcolor\":\"#E1E5ED\",\"showgrid\":false,\"tickfont\":{\"color\":\"#4D5663\"},\"title\":{\"font\":{\"color\":\"#4D5663\"},\"text\":\"\"},\"zerolinecolor\":\"#E1E5ED\"},\"xaxis11\":{\"anchor\":\"y11\",\"domain\":[0.525,0.7375],\"gridcolor\":\"#E1E5ED\",\"showgrid\":false,\"tickfont\":{\"color\":\"#4D5663\"},\"title\":{\"font\":{\"color\":\"#4D5663\"},\"text\":\"\"},\"zerolinecolor\":\"#E1E5ED\"},\"yaxis11\":{\"anchor\":\"x11\",\"domain\":[0.2675,0.465],\"gridcolor\":\"#E1E5ED\",\"showgrid\":false,\"tickfont\":{\"color\":\"#4D5663\"},\"title\":{\"font\":{\"color\":\"#4D5663\"},\"text\":\"\"},\"zerolinecolor\":\"#E1E5ED\"},\"xaxis12\":{\"anchor\":\"y12\",\"domain\":[0.7875,1.0],\"gridcolor\":\"#E1E5ED\",\"showgrid\":false,\"tickfont\":{\"color\":\"#4D5663\"},\"title\":{\"font\":{\"color\":\"#4D5663\"},\"text\":\"\"},\"zerolinecolor\":\"#E1E5ED\"},\"yaxis12\":{\"anchor\":\"x12\",\"domain\":[0.2675,0.465],\"gridcolor\":\"#E1E5ED\",\"showgrid\":false,\"tickfont\":{\"color\":\"#4D5663\"},\"title\":{\"font\":{\"color\":\"#4D5663\"},\"text\":\"\"},\"zerolinecolor\":\"#E1E5ED\"},\"xaxis13\":{\"anchor\":\"y13\",\"domain\":[0.0,0.2125],\"gridcolor\":\"#E1E5ED\",\"showgrid\":false,\"tickfont\":{\"color\":\"#4D5663\"},\"title\":{\"font\":{\"color\":\"#4D5663\"},\"text\":\"\"},\"zerolinecolor\":\"#E1E5ED\"},\"yaxis13\":{\"anchor\":\"x13\",\"domain\":[0.0,0.1975],\"gridcolor\":\"#E1E5ED\",\"showgrid\":false,\"tickfont\":{\"color\":\"#4D5663\"},\"title\":{\"font\":{\"color\":\"#4D5663\"},\"text\":\"\"},\"zerolinecolor\":\"#E1E5ED\"},\"xaxis14\":{\"anchor\":\"y14\",\"domain\":[0.2625,0.475],\"gridcolor\":\"#E1E5ED\",\"showgrid\":false,\"tickfont\":{\"color\":\"#4D5663\"},\"title\":{\"font\":{\"color\":\"#4D5663\"},\"text\":\"\"},\"zerolinecolor\":\"#E1E5ED\"},\"yaxis14\":{\"anchor\":\"x14\",\"domain\":[0.0,0.1975],\"gridcolor\":\"#E1E5ED\",\"showgrid\":false,\"tickfont\":{\"color\":\"#4D5663\"},\"title\":{\"font\":{\"color\":\"#4D5663\"},\"text\":\"\"},\"zerolinecolor\":\"#E1E5ED\"},\"xaxis15\":{\"anchor\":\"y15\",\"domain\":[0.525,0.7375],\"gridcolor\":\"#E1E5ED\",\"showgrid\":false,\"tickfont\":{\"color\":\"#4D5663\"},\"title\":{\"font\":{\"color\":\"#4D5663\"},\"text\":\"\"},\"zerolinecolor\":\"#E1E5ED\"},\"yaxis15\":{\"anchor\":\"x15\",\"domain\":[0.0,0.1975],\"gridcolor\":\"#E1E5ED\",\"showgrid\":false,\"tickfont\":{\"color\":\"#4D5663\"},\"title\":{\"font\":{\"color\":\"#4D5663\"},\"text\":\"\"},\"zerolinecolor\":\"#E1E5ED\"},\"xaxis16\":{\"anchor\":\"y16\",\"domain\":[0.7875,1.0],\"gridcolor\":\"#E1E5ED\",\"showgrid\":false,\"tickfont\":{\"color\":\"#4D5663\"},\"title\":{\"font\":{\"color\":\"#4D5663\"},\"text\":\"\"},\"zerolinecolor\":\"#E1E5ED\"},\"yaxis16\":{\"anchor\":\"x16\",\"domain\":[0.0,0.1975],\"gridcolor\":\"#E1E5ED\",\"showgrid\":false,\"tickfont\":{\"color\":\"#4D5663\"},\"title\":{\"font\":{\"color\":\"#4D5663\"},\"text\":\"\"},\"zerolinecolor\":\"#E1E5ED\"}},                        {\"showLink\": true, \"linkText\": \"Export to plot.ly\", \"plotlyServerURL\": \"https://plot.ly\", \"responsive\": true}                    ).then(function(){\n",
       "                            \n",
       "var gd = document.getElementById('80867203-1805-40c8-a28b-f79a2826c05a');\n",
       "var x = new MutationObserver(function (mutations, observer) {{\n",
       "        var display = window.getComputedStyle(gd).display;\n",
       "        if (!display || display === 'none') {{\n",
       "            console.log([gd, 'removed!']);\n",
       "            Plotly.purge(gd);\n",
       "            observer.disconnect();\n",
       "        }}\n",
       "}});\n",
       "\n",
       "// Listen for the removal of the full notebook cells\n",
       "var notebookContainer = gd.closest('#notebook-container');\n",
       "if (notebookContainer) {{\n",
       "    x.observe(notebookContainer, {childList: true});\n",
       "}}\n",
       "\n",
       "// Listen for the clearing of the current output cell\n",
       "var outputEl = gd.closest('.output');\n",
       "if (outputEl) {{\n",
       "    x.observe(outputEl, {childList: true});\n",
       "}}\n",
       "\n",
       "                        })                };                });            </script>        </div>"
      ]
     },
     "metadata": {},
     "output_type": "display_data"
    }
   ],
   "source": [
    "df.scatter_matrix()"
   ]
  },
  {
   "cell_type": "markdown",
   "metadata": {
    "collapsed": true
   },
   "source": [
    "# Great Job!"
   ]
  }
 ],
 "metadata": {
  "kernelspec": {
   "display_name": "Python 3",
   "language": "python",
   "name": "python3"
  },
  "language_info": {
   "codemirror_mode": {
    "name": "ipython",
    "version": 3
   },
   "file_extension": ".py",
   "mimetype": "text/x-python",
   "name": "python",
   "nbconvert_exporter": "python",
   "pygments_lexer": "ipython3",
   "version": "3.10.4"
  },
  "vscode": {
   "interpreter": {
    "hash": "369f2c481f4da34e4445cda3fffd2e751bd1c4d706f27375911949ba6bb62e1c"
   }
  }
 },
 "nbformat": 4,
 "nbformat_minor": 0
}
